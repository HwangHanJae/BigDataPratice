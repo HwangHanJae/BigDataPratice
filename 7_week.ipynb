{
  "nbformat": 4,
  "nbformat_minor": 0,
  "metadata": {
    "colab": {
      "name": "7_week.ipynb",
      "provenance": [],
      "collapsed_sections": [],
      "authorship_tag": "ABX9TyMbVAAQOM3f/jP65eVkncnH",
      "include_colab_link": true
    },
    "kernelspec": {
      "name": "python3",
      "display_name": "Python 3"
    },
    "language_info": {
      "name": "python"
    }
  },
  "cells": [
    {
      "cell_type": "markdown",
      "metadata": {
        "id": "view-in-github",
        "colab_type": "text"
      },
      "source": [
        "<a href=\"https://colab.research.google.com/github/HwangHanJae/BigDataPratice/blob/main/7_week.ipynb\" target=\"_parent\"><img src=\"https://colab.research.google.com/assets/colab-badge.svg\" alt=\"Open In Colab\"/></a>"
      ]
    },
    {
      "cell_type": "markdown",
      "metadata": {
        "id": "Y1j-k4p5XdsE"
      },
      "source": [
        "#작업형1\n"
      ]
    },
    {
      "cell_type": "markdown",
      "metadata": {
        "id": "zrMaW6bHXlFE"
      },
      "source": [
        "데이터 출처 :https://www.kaggle.com/prathamtripathi/drug-classification(참고, 데이터 수정)\n",
        "\n",
        "데이터 설명 : 투약하는 약을 분류\n",
        "\n",
        "Data url :https://raw.githubusercontent.com/Datamanim/datarepo/main/drug/train.csv"
      ]
    },
    {
      "cell_type": "markdown",
      "metadata": {
        "id": "P_5ULxaVXjMo"
      },
      "source": [
        "##Q1. 남성들의 연령대별 (10살씩 구분 0 ~ 9세 10 ~ 19세 ...) Na_to_K값의 평균값을 구해서 데이터 프레임으로 표현하여라\n"
      ]
    },
    {
      "cell_type": "code",
      "metadata": {
        "colab": {
          "base_uri": "https://localhost:8080/",
          "height": 300
        },
        "id": "QEsP1oDVW_bM",
        "outputId": "bab7b1fd-2fcd-4d38-ec47-699bcd0e8d34"
      },
      "source": [
        "import pandas as pd\n",
        "\n",
        "df = pd.read_csv(\"https://raw.githubusercontent.com/Datamanim/datarepo/main/drug/train.csv\")\n",
        "\n",
        "#남성로 구분\n",
        "\n",
        "df = df.loc[df[\"Sex\"] == \"M\"]\n",
        "\n",
        "#남성들을 10살씩 구분(0~9, 10~ 19세)\n",
        "#Age 컬럼의 타입 변경\n",
        "import numpy as np\n",
        "\n",
        "\n",
        "\n",
        "df.loc[(df[\"Age\"] >= 0) & (df[\"Age\"] <= 9) ,\"Age\"] =0\n",
        "df.loc[(df[\"Age\"] >= 10) & (df[\"Age\"] <= 19) ,\"Age\"] =1\n",
        "df.loc[(df[\"Age\"] >= 20) & (df[\"Age\"] <= 29) ,\"Age\"] =2\n",
        "df.loc[(df[\"Age\"] >= 30) & (df[\"Age\"] <= 39) ,\"Age\"] =3\n",
        "df.loc[(df[\"Age\"] >= 40) & (df[\"Age\"] <= 49) ,\"Age\"] =4\n",
        "df.loc[(df[\"Age\"] >= 50) & (df[\"Age\"] <= 59) ,\"Age\"] =5\n",
        "df.loc[(df[\"Age\"] >= 60) & (df[\"Age\"] <= 69) ,\"Age\"] =6\n",
        "df.loc[(df[\"Age\"] >= 70) & (df[\"Age\"] <= 79) ,\"Age\"] =7\n",
        "\n",
        "df.loc[df[\"Age\"] == 0, \"Age\"] =\"0~9세\" \n",
        "df.loc[df[\"Age\"] == 1, \"Age\"] =\"10~19세\"\n",
        "df.loc[df[\"Age\"] == 2, \"Age\"] =\"20~29세\"\n",
        "df.loc[df[\"Age\"] == 3, \"Age\"] =\"30~39세\"\n",
        "df.loc[df[\"Age\"] == 4, \"Age\"] =\"40~49세\"\n",
        "df.loc[df[\"Age\"] == 5, \"Age\"] =\"50~59세\"\n",
        "df.loc[df[\"Age\"] == 6, \"Age\"] =\"60~69세\"\n",
        "df.loc[df[\"Age\"] == 7, \"Age\"] =\"70~79세\"\n",
        "\n",
        "pd.DataFrame(df.groupby(\"Age\")[\"Na_to_K\"].mean())"
      ],
      "execution_count": 37,
      "outputs": [
        {
          "output_type": "execute_result",
          "data": {
            "text/html": [
              "<div>\n",
              "<style scoped>\n",
              "    .dataframe tbody tr th:only-of-type {\n",
              "        vertical-align: middle;\n",
              "    }\n",
              "\n",
              "    .dataframe tbody tr th {\n",
              "        vertical-align: top;\n",
              "    }\n",
              "\n",
              "    .dataframe thead th {\n",
              "        text-align: right;\n",
              "    }\n",
              "</style>\n",
              "<table border=\"1\" class=\"dataframe\">\n",
              "  <thead>\n",
              "    <tr style=\"text-align: right;\">\n",
              "      <th></th>\n",
              "      <th>Na_to_K</th>\n",
              "    </tr>\n",
              "    <tr>\n",
              "      <th>Age</th>\n",
              "      <th></th>\n",
              "    </tr>\n",
              "  </thead>\n",
              "  <tbody>\n",
              "    <tr>\n",
              "      <th>10~19세</th>\n",
              "      <td>13.627000</td>\n",
              "    </tr>\n",
              "    <tr>\n",
              "      <th>20~29세</th>\n",
              "      <td>18.260769</td>\n",
              "    </tr>\n",
              "    <tr>\n",
              "      <th>30~39세</th>\n",
              "      <td>15.244143</td>\n",
              "    </tr>\n",
              "    <tr>\n",
              "      <th>40~49세</th>\n",
              "      <td>13.897273</td>\n",
              "    </tr>\n",
              "    <tr>\n",
              "      <th>50~59세</th>\n",
              "      <td>14.811273</td>\n",
              "    </tr>\n",
              "    <tr>\n",
              "      <th>60~69세</th>\n",
              "      <td>14.284308</td>\n",
              "    </tr>\n",
              "    <tr>\n",
              "      <th>70~79세</th>\n",
              "      <td>11.363857</td>\n",
              "    </tr>\n",
              "  </tbody>\n",
              "</table>\n",
              "</div>"
            ],
            "text/plain": [
              "          Na_to_K\n",
              "Age              \n",
              "10~19세  13.627000\n",
              "20~29세  18.260769\n",
              "30~39세  15.244143\n",
              "40~49세  13.897273\n",
              "50~59세  14.811273\n",
              "60~69세  14.284308\n",
              "70~79세  11.363857"
            ]
          },
          "metadata": {},
          "execution_count": 37
        }
      ]
    },
    {
      "cell_type": "code",
      "metadata": {
        "colab": {
          "base_uri": "https://localhost:8080/",
          "height": 404
        },
        "id": "kzd79qHGaJQI",
        "outputId": "2318dd57-719c-499c-a31a-198525cff120"
      },
      "source": [
        "#Answer\n",
        "df = pd.read_csv(\"https://raw.githubusercontent.com/Datamanim/datarepo/main/drug/train.csv\")\n",
        "\n",
        "pre = df.loc[df[\"Sex\"] == \"M\"]\n",
        "#// 연산자는 나누기 연산 후 소수점 이하의 수를 버리고, 정수 부분의 수만 구함\n",
        "pre[\"Age2\"] = pre[\"Age\"]//10*10\n",
        "\n",
        "pd.DataFrame(pre.groupby(\"Age2\").mean()[\"Na_to_K\"])"
      ],
      "execution_count": 50,
      "outputs": [
        {
          "output_type": "stream",
          "name": "stderr",
          "text": [
            "/usr/local/lib/python3.7/dist-packages/ipykernel_launcher.py:6: SettingWithCopyWarning: \n",
            "A value is trying to be set on a copy of a slice from a DataFrame.\n",
            "Try using .loc[row_indexer,col_indexer] = value instead\n",
            "\n",
            "See the caveats in the documentation: https://pandas.pydata.org/pandas-docs/stable/user_guide/indexing.html#returning-a-view-versus-a-copy\n",
            "  \n"
          ]
        },
        {
          "output_type": "execute_result",
          "data": {
            "text/html": [
              "<div>\n",
              "<style scoped>\n",
              "    .dataframe tbody tr th:only-of-type {\n",
              "        vertical-align: middle;\n",
              "    }\n",
              "\n",
              "    .dataframe tbody tr th {\n",
              "        vertical-align: top;\n",
              "    }\n",
              "\n",
              "    .dataframe thead th {\n",
              "        text-align: right;\n",
              "    }\n",
              "</style>\n",
              "<table border=\"1\" class=\"dataframe\">\n",
              "  <thead>\n",
              "    <tr style=\"text-align: right;\">\n",
              "      <th></th>\n",
              "      <th>Na_to_K</th>\n",
              "    </tr>\n",
              "    <tr>\n",
              "      <th>Age2</th>\n",
              "      <th></th>\n",
              "    </tr>\n",
              "  </thead>\n",
              "  <tbody>\n",
              "    <tr>\n",
              "      <th>10</th>\n",
              "      <td>13.627000</td>\n",
              "    </tr>\n",
              "    <tr>\n",
              "      <th>20</th>\n",
              "      <td>18.260769</td>\n",
              "    </tr>\n",
              "    <tr>\n",
              "      <th>30</th>\n",
              "      <td>15.244143</td>\n",
              "    </tr>\n",
              "    <tr>\n",
              "      <th>40</th>\n",
              "      <td>13.897273</td>\n",
              "    </tr>\n",
              "    <tr>\n",
              "      <th>50</th>\n",
              "      <td>14.811273</td>\n",
              "    </tr>\n",
              "    <tr>\n",
              "      <th>60</th>\n",
              "      <td>14.284308</td>\n",
              "    </tr>\n",
              "    <tr>\n",
              "      <th>70</th>\n",
              "      <td>11.363857</td>\n",
              "    </tr>\n",
              "  </tbody>\n",
              "</table>\n",
              "</div>"
            ],
            "text/plain": [
              "        Na_to_K\n",
              "Age2           \n",
              "10    13.627000\n",
              "20    18.260769\n",
              "30    15.244143\n",
              "40    13.897273\n",
              "50    14.811273\n",
              "60    14.284308\n",
              "70    11.363857"
            ]
          },
          "metadata": {},
          "execution_count": 50
        }
      ]
    },
    {
      "cell_type": "markdown",
      "metadata": {
        "id": "no0GCBRbdYXu"
      },
      "source": [
        "#작업형2"
      ]
    },
    {
      "cell_type": "markdown",
      "metadata": {
        "id": "C9NHHHFRdZbn"
      },
      "source": [
        "데이터 출처 :https://www.kaggle.com/prathamtripathi/drug-classification(참고, 데이터 수정)\n",
        "\n",
        "데이터 설명 : 투약하는 약을 분류\n",
        "\n",
        "​평가지표 : accuracy\n",
        "\n",
        "trainData url : https://raw.githubusercontent.com/Datamanim/datarepo/main/drug/train.csv\n",
        "\n",
        "testData url : https://raw.githubusercontent.com/Datamanim/datarepo/main/drug/test.csv"
      ]
    },
    {
      "cell_type": "code",
      "metadata": {
        "id": "kbnMwPzGdfeK"
      },
      "source": [
        ""
      ],
      "execution_count": null,
      "outputs": []
    }
  ]
}