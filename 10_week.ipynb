{
  "nbformat": 4,
  "nbformat_minor": 0,
  "metadata": {
    "colab": {
      "name": "10_week.ipynb",
      "provenance": [],
      "collapsed_sections": [],
      "authorship_tag": "ABX9TyPoUZf9cM0ZwY23JZoA1VDc",
      "include_colab_link": true
    },
    "kernelspec": {
      "name": "python3",
      "display_name": "Python 3"
    },
    "language_info": {
      "name": "python"
    }
  },
  "cells": [
    {
      "cell_type": "markdown",
      "metadata": {
        "id": "view-in-github",
        "colab_type": "text"
      },
      "source": [
        "<a href=\"https://colab.research.google.com/github/HwangHanJae/BigDataPratice/blob/main/10_week.ipynb\" target=\"_parent\"><img src=\"https://colab.research.google.com/assets/colab-badge.svg\" alt=\"Open In Colab\"/></a>"
      ]
    },
    {
      "cell_type": "markdown",
      "metadata": {
        "id": "BDt4hb7ZbY_m"
      },
      "source": [
        "#작업형1"
      ]
    },
    {
      "cell_type": "markdown",
      "metadata": {
        "id": "5cPrrPqQbalk"
      },
      "source": [
        "데이터 출처 :https://www.kaggle.com/rsrishav/youtube-trending-video-dataset?select=KR_youtube_trending_data.csv\n",
        "\n",
        "(참고, 데이터 수정)\n",
        "\n",
        "데이터 설명 : 유튜브 데일리 인기동영상 (한국)\n",
        "\n",
        "​\n",
        "\n",
        "dataurl =https://raw.githubusercontent.com/Datamanim/datarepo/main/youtube/youtube.csv"
      ]
    },
    {
      "cell_type": "code",
      "metadata": {
        "id": "fyt1sAVkjze2"
      },
      "source": [
        "#라이브러리 로드\n",
        "import pandas as pd\n",
        "import numpy as np\n",
        "\n",
        "#데이터 로드\n",
        "df = pd.read_csv(\"https://raw.githubusercontent.com/Datamanim/datarepo/main/youtube/youtube.csv\")"
      ],
      "execution_count": 2,
      "outputs": []
    },
    {
      "cell_type": "markdown",
      "metadata": {
        "id": "qxf3a4TTbd-R"
      },
      "source": [
        "##Q1.  인기동영상 제작횟수가 많은 채널 상위 10개명을 출력하라 (날짜기준, 중복포함)\n"
      ]
    },
    {
      "cell_type": "code",
      "metadata": {
        "colab": {
          "base_uri": "https://localhost:8080/"
        },
        "id": "h2eqxEqub_tk",
        "outputId": "7359f1c1-fa70-4e9a-cd75-9605ff7be5e6"
      },
      "source": [
        "df.groupby(\"channelTitle\").size().sort_values(ascending=False).head(10)"
      ],
      "execution_count": 14,
      "outputs": [
        {
          "output_type": "execute_result",
          "data": {
            "text/plain": [
              "channelTitle\n",
              "짤툰                       372\n",
              "파뿌리                      318\n",
              "SPOTV                    318\n",
              "런닝맨 - 스브스 공식 채널          313\n",
              "엠뚜루마뚜루 : MBC 공식 종합 채널    293\n",
              "장삐쭈                      283\n",
              "BANGTANTV                275\n",
              "채널 십오야                   274\n",
              "이과장                      258\n",
              "총몇명                      255\n",
              "dtype: int64"
            ]
          },
          "metadata": {},
          "execution_count": 14
        }
      ]
    },
    {
      "cell_type": "code",
      "metadata": {
        "colab": {
          "base_uri": "https://localhost:8080/"
        },
        "id": "GdZpuEp9lGge",
        "outputId": "9c022627-5ca5-4e30-9027-d9a70133378c"
      },
      "source": [
        "#Answer\n",
        "\n",
        "df.loc[df[\"channelTitle\"].isin(df[\"channelTitle\"].value_counts().head(10).index)][\"channelTitle\"].unique()"
      ],
      "execution_count": 22,
      "outputs": [
        {
          "output_type": "execute_result",
          "data": {
            "text/plain": [
              "array(['장삐쭈', '총몇명', '파뿌리', '짤툰', '런닝맨 - 스브스 공식 채널',\n",
              "       '엠뚜루마뚜루 : MBC 공식 종합 채널', 'SPOTV', '채널 십오야', '이과장', 'BANGTANTV'],\n",
              "      dtype=object)"
            ]
          },
          "metadata": {},
          "execution_count": 22
        }
      ]
    },
    {
      "cell_type": "markdown",
      "metadata": {
        "id": "H_3lW_28bXHl"
      },
      "source": [
        "##Q2. 논란으로 인기동영상이 된 케이스를 확인하고 싶다. dislikes수가 like 수보다 높은 동영상을 제작한 채널을 모두 출력하라"
      ]
    },
    {
      "cell_type": "code",
      "metadata": {
        "colab": {
          "base_uri": "https://localhost:8080/"
        },
        "id": "ZHL4w4clluc8",
        "outputId": "7eb20d7d-7ad9-47ec-ef64-45a4835a4885"
      },
      "source": [
        "print(df.loc[df[\"dislikes\"]>df[\"likes\"],\"channelTitle\"].unique())"
      ],
      "execution_count": 27,
      "outputs": [
        {
          "output_type": "stream",
          "name": "stdout",
          "text": [
            "['핫도그TV' 'ASMR 애정TV' '하얀트리HayanTree' '양팡 YangPang' '철구형 (CHULTUBE)'\n",
            " '왜냐맨하우스' '(MUTUBE)와꾸대장봉준' '오메킴TV' '육지담' 'MapleStory_KR'\n",
            " 'ROAD FIGHTING CHAMPIONSHIP' '사나이 김기훈' '나혼자산다 STUDIO' 'Gen.G esports']\n"
          ]
        }
      ]
    },
    {
      "cell_type": "code",
      "metadata": {
        "colab": {
          "base_uri": "https://localhost:8080/"
        },
        "id": "o0tx8a8OmAst",
        "outputId": "aebfe78d-729d-42be-92bf-4f051a4aa623"
      },
      "source": [
        "#Answer\n",
        "print(list(df.loc[df[\"likes\"] < df[\"dislikes\"]][\"channelTitle\"].unique()))"
      ],
      "execution_count": 31,
      "outputs": [
        {
          "output_type": "stream",
          "name": "stdout",
          "text": [
            "['핫도그TV', 'ASMR 애정TV', '하얀트리HayanTree', '양팡 YangPang', '철구형 (CHULTUBE)', '왜냐맨하우스', '(MUTUBE)와꾸대장봉준', '오메킴TV', '육지담', 'MapleStory_KR', 'ROAD FIGHTING CHAMPIONSHIP', '사나이 김기훈', '나혼자산다 STUDIO', 'Gen.G esports']\n"
          ]
        }
      ]
    },
    {
      "cell_type": "markdown",
      "metadata": {
        "id": "2VQakwzgbgen"
      },
      "source": [
        "##Q3. 채널명을 바꾼 케이스가 있는지 확인하고 싶다. channelId의 경우 고유값이므로 이를 통해 채널명을 한번이라도 바꾼 채널의 갯수를 구하여라\n"
      ]
    },
    {
      "cell_type": "code",
      "metadata": {
        "colab": {
          "base_uri": "https://localhost:8080/"
        },
        "id": "zjO93dJjmUGi",
        "outputId": "0e31d6c2-cf58-4fed-8b5f-a685f458ca29"
      },
      "source": [
        "#Answer\n",
        "#.drop_duplicates()는 unique한 1개의 key만 남기고 나머지 중복 제거\n",
        "change = df[[\"channelTitle\",\"channelId\"]].drop_duplicates()[\"channelId\"].value_counts()\n",
        "\n",
        "target = change[change>1]\n",
        "\n",
        "print(len(target))"
      ],
      "execution_count": 49,
      "outputs": [
        {
          "output_type": "stream",
          "name": "stdout",
          "text": [
            "71\n"
          ]
        }
      ]
    },
    {
      "cell_type": "markdown",
      "metadata": {
        "id": "cO_2kwEebgwS"
      },
      "source": [
        "##Q4. 일요일에  인기있었던 영상들중 가장많은 영상 종류(categoryId)는 무엇인가?"
      ]
    },
    {
      "cell_type": "code",
      "metadata": {
        "colab": {
          "base_uri": "https://localhost:8080/"
        },
        "id": "x2Vxg-SHqdhc",
        "outputId": "d760d144-8b7e-4836-e0ab-9ae8d186f4bb"
      },
      "source": [
        "temp = df\n",
        "\n",
        "temp[\"trending_date2\"] = pd.to_datetime(temp[\"trending_date2\"])\n",
        "\n",
        "temp.loc[temp[\"trending_date2\"].dt.day_name() == \"Sunday\"].groupby(\"categoryId\").size().sort_values(ascending=False).index[0]\n",
        "\n",
        "#24"
      ],
      "execution_count": 130,
      "outputs": [
        {
          "output_type": "execute_result",
          "data": {
            "text/plain": [
              "24"
            ]
          },
          "metadata": {},
          "execution_count": 130
        }
      ]
    },
    {
      "cell_type": "code",
      "metadata": {
        "colab": {
          "base_uri": "https://localhost:8080/"
        },
        "id": "uHud1_-ZsbwS",
        "outputId": "aec7b64b-d423-441a-8232-aae175d5a866"
      },
      "source": [
        "#Answer\n",
        "temp = df\n",
        "\n",
        "temp[\"trending_date2\"] = pd.to_datetime(temp[\"trending_date2\"])\n",
        "temp.loc[df['trending_date2'].dt.day_name() =='Sunday'].categoryId.value_counts().index[0]\n",
        "\n",
        "\n"
      ],
      "execution_count": 131,
      "outputs": [
        {
          "output_type": "execute_result",
          "data": {
            "text/plain": [
              "24"
            ]
          },
          "metadata": {},
          "execution_count": 131
        }
      ]
    },
    {
      "cell_type": "markdown",
      "metadata": {
        "id": "Kv3VPH2hbg7K"
      },
      "source": [
        "##Q5. 각 요일별 인기 영상들의 categoryId는 각각 몇개 씩인지 하나의 데이터 프레임으로 표현하라\n"
      ]
    },
    {
      "cell_type": "code",
      "metadata": {
        "colab": {
          "base_uri": "https://localhost:8080/",
          "height": 300
        },
        "id": "qwa0gKGFSvAE",
        "outputId": "d618c0a7-abf1-42ba-bec5-cf712ef354f3"
      },
      "source": [
        "temp = df\n",
        "\n",
        "temp[\"day_name\"] = pd.to_datetime(temp[\"trending_date2\"]).dt.day_name()\n",
        "\n",
        "temp.groupby([\"day_name\",\"categoryId\"]).size().unstack()"
      ],
      "execution_count": 17,
      "outputs": [
        {
          "output_type": "execute_result",
          "data": {
            "text/html": [
              "<div>\n",
              "<style scoped>\n",
              "    .dataframe tbody tr th:only-of-type {\n",
              "        vertical-align: middle;\n",
              "    }\n",
              "\n",
              "    .dataframe tbody tr th {\n",
              "        vertical-align: top;\n",
              "    }\n",
              "\n",
              "    .dataframe thead th {\n",
              "        text-align: right;\n",
              "    }\n",
              "</style>\n",
              "<table border=\"1\" class=\"dataframe\">\n",
              "  <thead>\n",
              "    <tr style=\"text-align: right;\">\n",
              "      <th>categoryId</th>\n",
              "      <th>1</th>\n",
              "      <th>2</th>\n",
              "      <th>10</th>\n",
              "      <th>15</th>\n",
              "      <th>17</th>\n",
              "      <th>19</th>\n",
              "      <th>20</th>\n",
              "      <th>22</th>\n",
              "      <th>23</th>\n",
              "      <th>24</th>\n",
              "      <th>25</th>\n",
              "      <th>26</th>\n",
              "      <th>27</th>\n",
              "      <th>28</th>\n",
              "      <th>29</th>\n",
              "    </tr>\n",
              "    <tr>\n",
              "      <th>day_name</th>\n",
              "      <th></th>\n",
              "      <th></th>\n",
              "      <th></th>\n",
              "      <th></th>\n",
              "      <th></th>\n",
              "      <th></th>\n",
              "      <th></th>\n",
              "      <th></th>\n",
              "      <th></th>\n",
              "      <th></th>\n",
              "      <th></th>\n",
              "      <th></th>\n",
              "      <th></th>\n",
              "      <th></th>\n",
              "      <th></th>\n",
              "    </tr>\n",
              "  </thead>\n",
              "  <tbody>\n",
              "    <tr>\n",
              "      <th>Friday</th>\n",
              "      <td>243</td>\n",
              "      <td>120</td>\n",
              "      <td>833</td>\n",
              "      <td>187</td>\n",
              "      <td>633</td>\n",
              "      <td>90</td>\n",
              "      <td>283</td>\n",
              "      <td>1288</td>\n",
              "      <td>568</td>\n",
              "      <td>2976</td>\n",
              "      <td>444</td>\n",
              "      <td>369</td>\n",
              "      <td>183</td>\n",
              "      <td>171</td>\n",
              "      <td>12</td>\n",
              "    </tr>\n",
              "    <tr>\n",
              "      <th>Monday</th>\n",
              "      <td>263</td>\n",
              "      <td>105</td>\n",
              "      <td>837</td>\n",
              "      <td>215</td>\n",
              "      <td>668</td>\n",
              "      <td>92</td>\n",
              "      <td>298</td>\n",
              "      <td>1373</td>\n",
              "      <td>594</td>\n",
              "      <td>3148</td>\n",
              "      <td>453</td>\n",
              "      <td>378</td>\n",
              "      <td>205</td>\n",
              "      <td>160</td>\n",
              "      <td>10</td>\n",
              "    </tr>\n",
              "    <tr>\n",
              "      <th>Saturday</th>\n",
              "      <td>255</td>\n",
              "      <td>119</td>\n",
              "      <td>776</td>\n",
              "      <td>198</td>\n",
              "      <td>592</td>\n",
              "      <td>87</td>\n",
              "      <td>296</td>\n",
              "      <td>1289</td>\n",
              "      <td>570</td>\n",
              "      <td>3066</td>\n",
              "      <td>422</td>\n",
              "      <td>364</td>\n",
              "      <td>183</td>\n",
              "      <td>173</td>\n",
              "      <td>10</td>\n",
              "    </tr>\n",
              "    <tr>\n",
              "      <th>Sunday</th>\n",
              "      <td>274</td>\n",
              "      <td>99</td>\n",
              "      <td>830</td>\n",
              "      <td>217</td>\n",
              "      <td>636</td>\n",
              "      <td>91</td>\n",
              "      <td>289</td>\n",
              "      <td>1337</td>\n",
              "      <td>556</td>\n",
              "      <td>3096</td>\n",
              "      <td>437</td>\n",
              "      <td>363</td>\n",
              "      <td>199</td>\n",
              "      <td>167</td>\n",
              "      <td>9</td>\n",
              "    </tr>\n",
              "    <tr>\n",
              "      <th>Thursday</th>\n",
              "      <td>246</td>\n",
              "      <td>128</td>\n",
              "      <td>890</td>\n",
              "      <td>207</td>\n",
              "      <td>682</td>\n",
              "      <td>92</td>\n",
              "      <td>282</td>\n",
              "      <td>1341</td>\n",
              "      <td>560</td>\n",
              "      <td>2954</td>\n",
              "      <td>470</td>\n",
              "      <td>375</td>\n",
              "      <td>194</td>\n",
              "      <td>166</td>\n",
              "      <td>13</td>\n",
              "    </tr>\n",
              "    <tr>\n",
              "      <th>Tuesday</th>\n",
              "      <td>257</td>\n",
              "      <td>119</td>\n",
              "      <td>894</td>\n",
              "      <td>208</td>\n",
              "      <td>708</td>\n",
              "      <td>89</td>\n",
              "      <td>285</td>\n",
              "      <td>1375</td>\n",
              "      <td>569</td>\n",
              "      <td>3084</td>\n",
              "      <td>452</td>\n",
              "      <td>394</td>\n",
              "      <td>194</td>\n",
              "      <td>161</td>\n",
              "      <td>11</td>\n",
              "    </tr>\n",
              "    <tr>\n",
              "      <th>Wednesday</th>\n",
              "      <td>234</td>\n",
              "      <td>129</td>\n",
              "      <td>917</td>\n",
              "      <td>207</td>\n",
              "      <td>706</td>\n",
              "      <td>85</td>\n",
              "      <td>291</td>\n",
              "      <td>1333</td>\n",
              "      <td>566</td>\n",
              "      <td>3090</td>\n",
              "      <td>468</td>\n",
              "      <td>385</td>\n",
              "      <td>212</td>\n",
              "      <td>165</td>\n",
              "      <td>12</td>\n",
              "    </tr>\n",
              "  </tbody>\n",
              "</table>\n",
              "</div>"
            ],
            "text/plain": [
              "categoryId   1    2    10   15   17  19   20  ...   23    24   25   26   27   28  29\n",
              "day_name                                      ...                                   \n",
              "Friday      243  120  833  187  633  90  283  ...  568  2976  444  369  183  171  12\n",
              "Monday      263  105  837  215  668  92  298  ...  594  3148  453  378  205  160  10\n",
              "Saturday    255  119  776  198  592  87  296  ...  570  3066  422  364  183  173  10\n",
              "Sunday      274   99  830  217  636  91  289  ...  556  3096  437  363  199  167   9\n",
              "Thursday    246  128  890  207  682  92  282  ...  560  2954  470  375  194  166  13\n",
              "Tuesday     257  119  894  208  708  89  285  ...  569  3084  452  394  194  161  11\n",
              "Wednesday   234  129  917  207  706  85  291  ...  566  3090  468  385  212  165  12\n",
              "\n",
              "[7 rows x 15 columns]"
            ]
          },
          "metadata": {},
          "execution_count": 17
        }
      ]
    },
    {
      "cell_type": "code",
      "metadata": {
        "colab": {
          "base_uri": "https://localhost:8080/",
          "height": 582
        },
        "id": "-RmeHyqZTuSy",
        "outputId": "2d8600be-a4f4-41b9-dee3-0dc75b77b2f7"
      },
      "source": [
        "#Answer\n",
        "\n",
        "\n",
        "\n",
        "group = df.groupby([pd.to_datetime(df[\"trending_date2\"]).dt.day_name(),\"categoryId\"],as_index=False).size()\n",
        "\n",
        "group.pivot(index='categoryId',columns='trending_date2')"
      ],
      "execution_count": 27,
      "outputs": [
        {
          "output_type": "execute_result",
          "data": {
            "text/html": [
              "<div>\n",
              "<style scoped>\n",
              "    .dataframe tbody tr th:only-of-type {\n",
              "        vertical-align: middle;\n",
              "    }\n",
              "\n",
              "    .dataframe tbody tr th {\n",
              "        vertical-align: top;\n",
              "    }\n",
              "\n",
              "    .dataframe thead tr th {\n",
              "        text-align: left;\n",
              "    }\n",
              "\n",
              "    .dataframe thead tr:last-of-type th {\n",
              "        text-align: right;\n",
              "    }\n",
              "</style>\n",
              "<table border=\"1\" class=\"dataframe\">\n",
              "  <thead>\n",
              "    <tr>\n",
              "      <th></th>\n",
              "      <th colspan=\"7\" halign=\"left\">size</th>\n",
              "    </tr>\n",
              "    <tr>\n",
              "      <th>trending_date2</th>\n",
              "      <th>Friday</th>\n",
              "      <th>Monday</th>\n",
              "      <th>Saturday</th>\n",
              "      <th>Sunday</th>\n",
              "      <th>Thursday</th>\n",
              "      <th>Tuesday</th>\n",
              "      <th>Wednesday</th>\n",
              "    </tr>\n",
              "    <tr>\n",
              "      <th>categoryId</th>\n",
              "      <th></th>\n",
              "      <th></th>\n",
              "      <th></th>\n",
              "      <th></th>\n",
              "      <th></th>\n",
              "      <th></th>\n",
              "      <th></th>\n",
              "    </tr>\n",
              "  </thead>\n",
              "  <tbody>\n",
              "    <tr>\n",
              "      <th>1</th>\n",
              "      <td>243</td>\n",
              "      <td>263</td>\n",
              "      <td>255</td>\n",
              "      <td>274</td>\n",
              "      <td>246</td>\n",
              "      <td>257</td>\n",
              "      <td>234</td>\n",
              "    </tr>\n",
              "    <tr>\n",
              "      <th>2</th>\n",
              "      <td>120</td>\n",
              "      <td>105</td>\n",
              "      <td>119</td>\n",
              "      <td>99</td>\n",
              "      <td>128</td>\n",
              "      <td>119</td>\n",
              "      <td>129</td>\n",
              "    </tr>\n",
              "    <tr>\n",
              "      <th>10</th>\n",
              "      <td>833</td>\n",
              "      <td>837</td>\n",
              "      <td>776</td>\n",
              "      <td>830</td>\n",
              "      <td>890</td>\n",
              "      <td>894</td>\n",
              "      <td>917</td>\n",
              "    </tr>\n",
              "    <tr>\n",
              "      <th>15</th>\n",
              "      <td>187</td>\n",
              "      <td>215</td>\n",
              "      <td>198</td>\n",
              "      <td>217</td>\n",
              "      <td>207</td>\n",
              "      <td>208</td>\n",
              "      <td>207</td>\n",
              "    </tr>\n",
              "    <tr>\n",
              "      <th>17</th>\n",
              "      <td>633</td>\n",
              "      <td>668</td>\n",
              "      <td>592</td>\n",
              "      <td>636</td>\n",
              "      <td>682</td>\n",
              "      <td>708</td>\n",
              "      <td>706</td>\n",
              "    </tr>\n",
              "    <tr>\n",
              "      <th>19</th>\n",
              "      <td>90</td>\n",
              "      <td>92</td>\n",
              "      <td>87</td>\n",
              "      <td>91</td>\n",
              "      <td>92</td>\n",
              "      <td>89</td>\n",
              "      <td>85</td>\n",
              "    </tr>\n",
              "    <tr>\n",
              "      <th>20</th>\n",
              "      <td>283</td>\n",
              "      <td>298</td>\n",
              "      <td>296</td>\n",
              "      <td>289</td>\n",
              "      <td>282</td>\n",
              "      <td>285</td>\n",
              "      <td>291</td>\n",
              "    </tr>\n",
              "    <tr>\n",
              "      <th>22</th>\n",
              "      <td>1288</td>\n",
              "      <td>1373</td>\n",
              "      <td>1289</td>\n",
              "      <td>1337</td>\n",
              "      <td>1341</td>\n",
              "      <td>1375</td>\n",
              "      <td>1333</td>\n",
              "    </tr>\n",
              "    <tr>\n",
              "      <th>23</th>\n",
              "      <td>568</td>\n",
              "      <td>594</td>\n",
              "      <td>570</td>\n",
              "      <td>556</td>\n",
              "      <td>560</td>\n",
              "      <td>569</td>\n",
              "      <td>566</td>\n",
              "    </tr>\n",
              "    <tr>\n",
              "      <th>24</th>\n",
              "      <td>2976</td>\n",
              "      <td>3148</td>\n",
              "      <td>3066</td>\n",
              "      <td>3096</td>\n",
              "      <td>2954</td>\n",
              "      <td>3084</td>\n",
              "      <td>3090</td>\n",
              "    </tr>\n",
              "    <tr>\n",
              "      <th>25</th>\n",
              "      <td>444</td>\n",
              "      <td>453</td>\n",
              "      <td>422</td>\n",
              "      <td>437</td>\n",
              "      <td>470</td>\n",
              "      <td>452</td>\n",
              "      <td>468</td>\n",
              "    </tr>\n",
              "    <tr>\n",
              "      <th>26</th>\n",
              "      <td>369</td>\n",
              "      <td>378</td>\n",
              "      <td>364</td>\n",
              "      <td>363</td>\n",
              "      <td>375</td>\n",
              "      <td>394</td>\n",
              "      <td>385</td>\n",
              "    </tr>\n",
              "    <tr>\n",
              "      <th>27</th>\n",
              "      <td>183</td>\n",
              "      <td>205</td>\n",
              "      <td>183</td>\n",
              "      <td>199</td>\n",
              "      <td>194</td>\n",
              "      <td>194</td>\n",
              "      <td>212</td>\n",
              "    </tr>\n",
              "    <tr>\n",
              "      <th>28</th>\n",
              "      <td>171</td>\n",
              "      <td>160</td>\n",
              "      <td>173</td>\n",
              "      <td>167</td>\n",
              "      <td>166</td>\n",
              "      <td>161</td>\n",
              "      <td>165</td>\n",
              "    </tr>\n",
              "    <tr>\n",
              "      <th>29</th>\n",
              "      <td>12</td>\n",
              "      <td>10</td>\n",
              "      <td>10</td>\n",
              "      <td>9</td>\n",
              "      <td>13</td>\n",
              "      <td>11</td>\n",
              "      <td>12</td>\n",
              "    </tr>\n",
              "  </tbody>\n",
              "</table>\n",
              "</div>"
            ],
            "text/plain": [
              "                 size                                                  \n",
              "trending_date2 Friday Monday Saturday Sunday Thursday Tuesday Wednesday\n",
              "categoryId                                                             \n",
              "1                 243    263      255    274      246     257       234\n",
              "2                 120    105      119     99      128     119       129\n",
              "10                833    837      776    830      890     894       917\n",
              "15                187    215      198    217      207     208       207\n",
              "17                633    668      592    636      682     708       706\n",
              "19                 90     92       87     91       92      89        85\n",
              "20                283    298      296    289      282     285       291\n",
              "22               1288   1373     1289   1337     1341    1375      1333\n",
              "23                568    594      570    556      560     569       566\n",
              "24               2976   3148     3066   3096     2954    3084      3090\n",
              "25                444    453      422    437      470     452       468\n",
              "26                369    378      364    363      375     394       385\n",
              "27                183    205      183    199      194     194       212\n",
              "28                171    160      173    167      166     161       165\n",
              "29                 12     10       10      9       13      11        12"
            ]
          },
          "metadata": {},
          "execution_count": 27
        }
      ]
    },
    {
      "cell_type": "markdown",
      "metadata": {
        "id": "375CsoQ-bhG9"
      },
      "source": [
        "##Q6. 댓글의 수로 (comment_count) 영상 반응에 대한 판단을 할 수 있다.viewcount대비 댓글수가 가장 높은 영상을 확인하라 (view_count값이 0인 경우는 제외한다)"
      ]
    },
    {
      "cell_type": "code",
      "metadata": {
        "colab": {
          "base_uri": "https://localhost:8080/",
          "height": 36
        },
        "id": "1youySbvUhbM",
        "outputId": "d130eda9-1574-46bb-aca0-d59b89019182"
      },
      "source": [
        "#Answer\n",
        "temp = df.loc[df[\"view_count\"] != 0]\n",
        "\n",
        "most = (temp[\"comment_count\"] / temp[\"view_count\"]).dropna().sort_values().index[-1]\n",
        "\n",
        "df.iloc[most][\"title\"]"
      ],
      "execution_count": 65,
      "outputs": [
        {
          "output_type": "execute_result",
          "data": {
            "application/vnd.google.colaboratory.intrinsic+json": {
              "type": "string"
            },
            "text/plain": [
              "'60분 동안 댓글이 달리지 않으면, 영상이 삭제됩니다. (챌린지)'"
            ]
          },
          "metadata": {},
          "execution_count": 65
        }
      ]
    },
    {
      "cell_type": "markdown",
      "metadata": {
        "id": "1bN97nTkbhmG"
      },
      "source": [
        "##Q7. 댓글의 수로 (comment_count) 영상 반응에 대한 판단을 할 수 있다. viewcount대비 댓글수가 가장 낮은 영상을 확인하라 (view_counts, ratio값이 0인경우는 제외한다.)\n"
      ]
    },
    {
      "cell_type": "code",
      "metadata": {
        "colab": {
          "base_uri": "https://localhost:8080/",
          "height": 36
        },
        "id": "Jc3wpKHOWljI",
        "outputId": "802adc10-1201-4c4a-e03f-ea7669e8e57c"
      },
      "source": [
        "temp = df.loc[(df[\"view_count\"] != 0) & ((df[\"comment_count\"] / df[\"view_count\"]) != 0)]\n",
        "\n",
        "result = (temp[\"comment_count\"] / temp[\"view_count\"]).sort_values(ascending=False).index[-1]\n",
        "\n",
        "df.iloc[result].title"
      ],
      "execution_count": 78,
      "outputs": [
        {
          "output_type": "execute_result",
          "data": {
            "application/vnd.google.colaboratory.intrinsic+json": {
              "type": "string"
            },
            "text/plain": [
              "'Join the BTS #PermissiontoDance Challenge only on YouTube #Shorts'"
            ]
          },
          "metadata": {},
          "execution_count": 78
        }
      ]
    },
    {
      "cell_type": "code",
      "metadata": {
        "colab": {
          "base_uri": "https://localhost:8080/",
          "height": 36
        },
        "id": "YvjcAvqRZJQy",
        "outputId": "182c483d-46a3-4876-9b88-51b4047e315e"
      },
      "source": [
        "#Answer\n",
        "target = df.loc[df[\"view_count\"] != 0]\n",
        "ratio = (target[\"comment_count\"] /target[\"view_count\"]).dropna().sort_values()\n",
        "\n",
        "index = ratio[ratio != 0].index[0]\n",
        "\n",
        "df.iloc[index][\"title\"]"
      ],
      "execution_count": 84,
      "outputs": [
        {
          "output_type": "execute_result",
          "data": {
            "application/vnd.google.colaboratory.intrinsic+json": {
              "type": "string"
            },
            "text/plain": [
              "'Join the BTS #PermissiontoDance Challenge only on YouTube #Shorts'"
            ]
          },
          "metadata": {},
          "execution_count": 84
        }
      ]
    },
    {
      "cell_type": "markdown",
      "metadata": {
        "id": "UxnVBv9Mb4AN"
      },
      "source": [
        "##Q8. like 대비 dislike의 수가 가장 적은 영상은 무엇인가? (like, dislike 값이 0인경우는 제외한다)"
      ]
    },
    {
      "cell_type": "code",
      "metadata": {
        "colab": {
          "base_uri": "https://localhost:8080/",
          "height": 36
        },
        "id": "h0g4CVakZhgz",
        "outputId": "9f2be626-e4ea-4967-d57b-b00a4807ca77"
      },
      "source": [
        "temp = df.loc[(df[\"likes\"] != 0) & (df[\"dislikes\"] != 0)]\n",
        "\n",
        "idx = (temp[\"dislikes\"] / temp[\"likes\"]).sort_values().index[0]\n",
        "\n",
        "df.iloc[idx][\"title\"]"
      ],
      "execution_count": 93,
      "outputs": [
        {
          "output_type": "execute_result",
          "data": {
            "application/vnd.google.colaboratory.intrinsic+json": {
              "type": "string"
            },
            "text/plain": [
              "'[줌터뷰] *최초공개* 사부작즈🐰🐶의 비공식 이름은 아이라인즈? 꿀조합 티키타카 가득한 NCT 127 도영&정우의 줌터뷰'"
            ]
          },
          "metadata": {},
          "execution_count": 93
        }
      ]
    },
    {
      "cell_type": "markdown",
      "metadata": {
        "id": "ZRUORH5Hb52H"
      },
      "source": [
        "##Q9. 가장많은 트렌드 영상을 제작한 채널의 이름은 무엇인가? (날짜기준, 중복포함)"
      ]
    },
    {
      "cell_type": "code",
      "metadata": {
        "colab": {
          "base_uri": "https://localhost:8080/",
          "height": 36
        },
        "id": "Gqe4bKjTaPYH",
        "outputId": "1bdaaa9a-88d8-49d5-83f8-b42258fc4589"
      },
      "source": [
        "df[\"channelTitle\"].value_counts().sort_values(ascending= False).index[0]"
      ],
      "execution_count": 104,
      "outputs": [
        {
          "output_type": "execute_result",
          "data": {
            "application/vnd.google.colaboratory.intrinsic+json": {
              "type": "string"
            },
            "text/plain": [
              "'짤툰'"
            ]
          },
          "metadata": {},
          "execution_count": 104
        }
      ]
    },
    {
      "cell_type": "code",
      "metadata": {
        "colab": {
          "base_uri": "https://localhost:8080/",
          "height": 36
        },
        "id": "5Azm8CVyav1C",
        "outputId": "fd10fb1b-999e-4a24-904f-aef43d36239b"
      },
      "source": [
        "#Answer\n",
        "\n",
        "df.loc[(df[\"channelId\"] == df[\"channelId\"].value_counts().index[0])][\"channelTitle\"].unique()[0]"
      ],
      "execution_count": 110,
      "outputs": [
        {
          "output_type": "execute_result",
          "data": {
            "application/vnd.google.colaboratory.intrinsic+json": {
              "type": "string"
            },
            "text/plain": [
              "'짤툰'"
            ]
          },
          "metadata": {},
          "execution_count": 110
        }
      ]
    },
    {
      "cell_type": "markdown",
      "metadata": {
        "id": "-v7PXxeKb8kA"
      },
      "source": [
        "##Q10. 20회(20일)이상 인기동영상 리스트에 포함된 동영상의 숫자는?"
      ]
    },
    {
      "cell_type": "code",
      "metadata": {
        "colab": {
          "base_uri": "https://localhost:8080/"
        },
        "id": "yVj71AV1bGUA",
        "outputId": "eb9fbe38-e5f5-401a-cf44-2f1efe88f9fd"
      },
      "source": [
        "titles = list(df[\"title\"].unique())\n",
        "\n",
        "result = []\n",
        "for title in titles:\n",
        "  if df.loc[df[\"title\"] == title, \"title\"].count() >= 20:\n",
        "    result.append(title)\n",
        "\n",
        "len(result)"
      ],
      "execution_count": 153,
      "outputs": [
        {
          "output_type": "execute_result",
          "data": {
            "text/plain": [
              "41"
            ]
          },
          "metadata": {},
          "execution_count": 153
        }
      ]
    },
    {
      "cell_type": "code",
      "metadata": {
        "colab": {
          "base_uri": "https://localhost:8080/"
        },
        "id": "QybUCqWjdMFx",
        "outputId": "6b228100-f43d-4210-989c-3b98ae8db242"
      },
      "source": [
        "#Answer\n",
        "\n",
        "(df[[\"title\",\"channelId\"]].value_counts() >= 20).sum()"
      ],
      "execution_count": 178,
      "outputs": [
        {
          "output_type": "execute_result",
          "data": {
            "text/plain": [
              "40"
            ]
          },
          "metadata": {},
          "execution_count": 178
        }
      ]
    }
  ]
}