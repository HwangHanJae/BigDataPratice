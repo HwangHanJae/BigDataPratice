{
  "nbformat": 4,
  "nbformat_minor": 0,
  "metadata": {
    "colab": {
      "name": "PCA_tutorial.ipynb",
      "provenance": [],
      "collapsed_sections": [],
      "authorship_tag": "ABX9TyPVjewsQUxFsb3VMgm5kbOv",
      "include_colab_link": true
    },
    "kernelspec": {
      "name": "python3",
      "display_name": "Python 3"
    },
    "language_info": {
      "name": "python"
    }
  },
  "cells": [
    {
      "cell_type": "markdown",
      "metadata": {
        "id": "view-in-github",
        "colab_type": "text"
      },
      "source": [
        "<a href=\"https://colab.research.google.com/github/HwangHanJae/BigDataPratice/blob/main/PCA_tutorial.ipynb\" target=\"_parent\"><img src=\"https://colab.research.google.com/assets/colab-badge.svg\" alt=\"Open In Colab\"/></a>"
      ]
    },
    {
      "cell_type": "markdown",
      "metadata": {
        "id": "EF2SWtoaJbEE"
      },
      "source": [
        "출처 : https://m.blog.naver.com/tjdrud1323/221720259834"
      ]
    },
    {
      "cell_type": "code",
      "metadata": {
        "colab": {
          "base_uri": "https://localhost:8080/",
          "height": 206
        },
        "id": "DYbFd9HNJUG2",
        "outputId": "19483fe5-4674-4856-8d5c-537f3511c088"
      },
      "source": [
        "#데이터 불러오기(iris)\n",
        "\n",
        "url = \"https://archive.ics.uci.edu/ml/machine-learning-databases/iris/iris.data\"\n",
        "\n",
        "import pandas as pd\n",
        "\n",
        "df = pd.read_csv(url, names=['sepal length','sepal width','petal length','petal width','target'])\n",
        "\n",
        "df.head()"
      ],
      "execution_count": 2,
      "outputs": [
        {
          "output_type": "execute_result",
          "data": {
            "text/html": [
              "<div>\n",
              "<style scoped>\n",
              "    .dataframe tbody tr th:only-of-type {\n",
              "        vertical-align: middle;\n",
              "    }\n",
              "\n",
              "    .dataframe tbody tr th {\n",
              "        vertical-align: top;\n",
              "    }\n",
              "\n",
              "    .dataframe thead th {\n",
              "        text-align: right;\n",
              "    }\n",
              "</style>\n",
              "<table border=\"1\" class=\"dataframe\">\n",
              "  <thead>\n",
              "    <tr style=\"text-align: right;\">\n",
              "      <th></th>\n",
              "      <th>sepal length</th>\n",
              "      <th>sepal width</th>\n",
              "      <th>petal length</th>\n",
              "      <th>petal width</th>\n",
              "      <th>target</th>\n",
              "    </tr>\n",
              "  </thead>\n",
              "  <tbody>\n",
              "    <tr>\n",
              "      <th>0</th>\n",
              "      <td>5.1</td>\n",
              "      <td>3.5</td>\n",
              "      <td>1.4</td>\n",
              "      <td>0.2</td>\n",
              "      <td>Iris-setosa</td>\n",
              "    </tr>\n",
              "    <tr>\n",
              "      <th>1</th>\n",
              "      <td>4.9</td>\n",
              "      <td>3.0</td>\n",
              "      <td>1.4</td>\n",
              "      <td>0.2</td>\n",
              "      <td>Iris-setosa</td>\n",
              "    </tr>\n",
              "    <tr>\n",
              "      <th>2</th>\n",
              "      <td>4.7</td>\n",
              "      <td>3.2</td>\n",
              "      <td>1.3</td>\n",
              "      <td>0.2</td>\n",
              "      <td>Iris-setosa</td>\n",
              "    </tr>\n",
              "    <tr>\n",
              "      <th>3</th>\n",
              "      <td>4.6</td>\n",
              "      <td>3.1</td>\n",
              "      <td>1.5</td>\n",
              "      <td>0.2</td>\n",
              "      <td>Iris-setosa</td>\n",
              "    </tr>\n",
              "    <tr>\n",
              "      <th>4</th>\n",
              "      <td>5.0</td>\n",
              "      <td>3.6</td>\n",
              "      <td>1.4</td>\n",
              "      <td>0.2</td>\n",
              "      <td>Iris-setosa</td>\n",
              "    </tr>\n",
              "  </tbody>\n",
              "</table>\n",
              "</div>"
            ],
            "text/plain": [
              "   sepal length  sepal width  petal length  petal width       target\n",
              "0           5.1          3.5           1.4          0.2  Iris-setosa\n",
              "1           4.9          3.0           1.4          0.2  Iris-setosa\n",
              "2           4.7          3.2           1.3          0.2  Iris-setosa\n",
              "3           4.6          3.1           1.5          0.2  Iris-setosa\n",
              "4           5.0          3.6           1.4          0.2  Iris-setosa"
            ]
          },
          "metadata": {},
          "execution_count": 2
        }
      ]
    },
    {
      "cell_type": "code",
      "metadata": {
        "colab": {
          "base_uri": "https://localhost:8080/",
          "height": 206
        },
        "id": "KnhbaBvDKE5v",
        "outputId": "455b1e92-3ec9-4659-8889-415715df4b90"
      },
      "source": [
        "#데이터 표준화\n",
        "#pca를 하기 전에 데이터 스케일링을 하는 이유는\n",
        "#데이터의 스케일에 따라 주성분의 설명 가능한 분산량이 달라질 수 있기 때문이다. \n",
        "from sklearn.preprocessing import StandardScaler\n",
        "features = ['sepal length', 'sepal width', 'petal length', 'petal width']\n",
        "scaler = StandardScaler()\n",
        "#타겟데이터 분리\n",
        "X = df.drop(\"target\", axis=1)\n",
        "y= df[\"target\"]\n",
        "\n",
        "X = scaler.fit_transform(X)\n",
        "X = pd.DataFrame(X, columns= features)\n",
        "\n",
        "X.head()"
      ],
      "execution_count": 4,
      "outputs": [
        {
          "output_type": "execute_result",
          "data": {
            "text/html": [
              "<div>\n",
              "<style scoped>\n",
              "    .dataframe tbody tr th:only-of-type {\n",
              "        vertical-align: middle;\n",
              "    }\n",
              "\n",
              "    .dataframe tbody tr th {\n",
              "        vertical-align: top;\n",
              "    }\n",
              "\n",
              "    .dataframe thead th {\n",
              "        text-align: right;\n",
              "    }\n",
              "</style>\n",
              "<table border=\"1\" class=\"dataframe\">\n",
              "  <thead>\n",
              "    <tr style=\"text-align: right;\">\n",
              "      <th></th>\n",
              "      <th>sepal length</th>\n",
              "      <th>sepal width</th>\n",
              "      <th>petal length</th>\n",
              "      <th>petal width</th>\n",
              "    </tr>\n",
              "  </thead>\n",
              "  <tbody>\n",
              "    <tr>\n",
              "      <th>0</th>\n",
              "      <td>-0.900681</td>\n",
              "      <td>1.032057</td>\n",
              "      <td>-1.341272</td>\n",
              "      <td>-1.312977</td>\n",
              "    </tr>\n",
              "    <tr>\n",
              "      <th>1</th>\n",
              "      <td>-1.143017</td>\n",
              "      <td>-0.124958</td>\n",
              "      <td>-1.341272</td>\n",
              "      <td>-1.312977</td>\n",
              "    </tr>\n",
              "    <tr>\n",
              "      <th>2</th>\n",
              "      <td>-1.385353</td>\n",
              "      <td>0.337848</td>\n",
              "      <td>-1.398138</td>\n",
              "      <td>-1.312977</td>\n",
              "    </tr>\n",
              "    <tr>\n",
              "      <th>3</th>\n",
              "      <td>-1.506521</td>\n",
              "      <td>0.106445</td>\n",
              "      <td>-1.284407</td>\n",
              "      <td>-1.312977</td>\n",
              "    </tr>\n",
              "    <tr>\n",
              "      <th>4</th>\n",
              "      <td>-1.021849</td>\n",
              "      <td>1.263460</td>\n",
              "      <td>-1.341272</td>\n",
              "      <td>-1.312977</td>\n",
              "    </tr>\n",
              "  </tbody>\n",
              "</table>\n",
              "</div>"
            ],
            "text/plain": [
              "   sepal length  sepal width  petal length  petal width\n",
              "0     -0.900681     1.032057     -1.341272    -1.312977\n",
              "1     -1.143017    -0.124958     -1.341272    -1.312977\n",
              "2     -1.385353     0.337848     -1.398138    -1.312977\n",
              "3     -1.506521     0.106445     -1.284407    -1.312977\n",
              "4     -1.021849     1.263460     -1.341272    -1.312977"
            ]
          },
          "metadata": {},
          "execution_count": 4
        }
      ]
    },
    {
      "cell_type": "code",
      "metadata": {
        "colab": {
          "base_uri": "https://localhost:8080/",
          "height": 206
        },
        "id": "2yA2zHuGK4_Z",
        "outputId": "5111e972-4230-4bda-fd35-b0e16de5ffa2"
      },
      "source": [
        "#PCA 실행\n",
        "from sklearn.decomposition import PCA\n",
        "#주성분은 2개로 지정\n",
        "#퍼센트로 지정할 수 있음\n",
        "components = 2\n",
        "pca = PCA(n_components= components)\n",
        "printcipal_components = pca.fit_transform(X)\n",
        "\n",
        "printcipal_components = pd.DataFrame(printcipal_components,columns=[\"component1\", \"component2\"])\n",
        "printcipal_components.head()"
      ],
      "execution_count": 23,
      "outputs": [
        {
          "output_type": "execute_result",
          "data": {
            "text/html": [
              "<div>\n",
              "<style scoped>\n",
              "    .dataframe tbody tr th:only-of-type {\n",
              "        vertical-align: middle;\n",
              "    }\n",
              "\n",
              "    .dataframe tbody tr th {\n",
              "        vertical-align: top;\n",
              "    }\n",
              "\n",
              "    .dataframe thead th {\n",
              "        text-align: right;\n",
              "    }\n",
              "</style>\n",
              "<table border=\"1\" class=\"dataframe\">\n",
              "  <thead>\n",
              "    <tr style=\"text-align: right;\">\n",
              "      <th></th>\n",
              "      <th>component1</th>\n",
              "      <th>component2</th>\n",
              "    </tr>\n",
              "  </thead>\n",
              "  <tbody>\n",
              "    <tr>\n",
              "      <th>0</th>\n",
              "      <td>-2.264542</td>\n",
              "      <td>0.505704</td>\n",
              "    </tr>\n",
              "    <tr>\n",
              "      <th>1</th>\n",
              "      <td>-2.086426</td>\n",
              "      <td>-0.655405</td>\n",
              "    </tr>\n",
              "    <tr>\n",
              "      <th>2</th>\n",
              "      <td>-2.367950</td>\n",
              "      <td>-0.318477</td>\n",
              "    </tr>\n",
              "    <tr>\n",
              "      <th>3</th>\n",
              "      <td>-2.304197</td>\n",
              "      <td>-0.575368</td>\n",
              "    </tr>\n",
              "    <tr>\n",
              "      <th>4</th>\n",
              "      <td>-2.388777</td>\n",
              "      <td>0.674767</td>\n",
              "    </tr>\n",
              "  </tbody>\n",
              "</table>\n",
              "</div>"
            ],
            "text/plain": [
              "   component1  component2\n",
              "0   -2.264542    0.505704\n",
              "1   -2.086426   -0.655405\n",
              "2   -2.367950   -0.318477\n",
              "3   -2.304197   -0.575368\n",
              "4   -2.388777    0.674767"
            ]
          },
          "metadata": {},
          "execution_count": 23
        }
      ]
    },
    {
      "cell_type": "code",
      "metadata": {
        "colab": {
          "base_uri": "https://localhost:8080/"
        },
        "id": "_Psms1iVLPBt",
        "outputId": "241f3e80-cb65-4676-8127-ee932df028ff"
      },
      "source": [
        "#내가 설정한 주성분의 갯수가 전체데이터의 분산을 얼마만큼 설명하는지 확인\n",
        "import numpy as np\n",
        "print(\"각각의 주성분은 전체데이터의 분산을\")\n",
        "print(pca.explained_variance_ratio_)\n",
        "print(\"값으로 설명함 \")\n",
        "\n",
        "print()\n",
        "print(\"두개의 주성분이 설명하는 분산은 총\")\n",
        "print(pca.explained_variance_ratio_.sum())\n",
        "print(\"값으로 설명함\")"
      ],
      "execution_count": 37,
      "outputs": [
        {
          "output_type": "stream",
          "name": "stdout",
          "text": [
            "각각의 주성분은 전체데이터의 분산을\n",
            "[0.72770452 0.23030523]\n",
            "값으로 설명함 \n",
            "\n",
            "두개의 주성분이 설명하는 분산은 총\n",
            "0.9580097536148197\n",
            "값으로 설명함\n"
          ]
        }
      ]
    },
    {
      "cell_type": "code",
      "metadata": {
        "colab": {
          "base_uri": "https://localhost:8080/"
        },
        "id": "voqDhBv8MtEQ",
        "outputId": "4656a4aa-464e-4836-e07e-8f5aea5b3b3d"
      },
      "source": [
        "print(\"만약 주성분을 3개로 설정하였다면\")\n",
        "from sklearn.decomposition import PCA\n",
        "#주성분은 3개로 지정\n",
        "#퍼센트로 지정할 수 있음\n",
        "components = 3\n",
        "pca_temp = PCA(n_components= components)\n",
        "printcipal_components = pca_temp.fit_transform(X)\n",
        "\n",
        "print(\"각각의 주성분은 전체데이터의 분산을\")\n",
        "print(pca_temp.explained_variance_ratio_)\n",
        "print(\"값으로 설명함 \")\n",
        "\n",
        "print()\n",
        "print(\"세개의 주성분이 설명하는 분산은 총\")\n",
        "print(pca_temp.explained_variance_ratio_.sum())\n",
        "print(\"값으로 설명함\")\n",
        "\n",
        "print(\"3개의 주성분으로 설정할 경우 세번째 주성분은 전체 데이터의 0.03정도 밖에 설명하지못함\")"
      ],
      "execution_count": 40,
      "outputs": [
        {
          "output_type": "stream",
          "name": "stdout",
          "text": [
            "만약 주성분을 3개로 설정하였다면\n",
            "각각의 주성분은 전체데이터의 분산을\n",
            "[0.72770452 0.23030523 0.03683832]\n",
            "값으로 설명함 \n",
            "\n",
            "세개의 주성분이 설명하는 분산은 총\n",
            "0.9948480731910936\n",
            "값으로 설명함\n",
            "3개의 주성분으로 설정할 경우 세번째 주성분은 전체 데이터의 0.03정도 밖에 설명하지못함\n"
          ]
        }
      ]
    }
  ]
}