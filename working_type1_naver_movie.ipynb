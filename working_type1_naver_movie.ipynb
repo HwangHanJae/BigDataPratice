{
  "nbformat": 4,
  "nbformat_minor": 0,
  "metadata": {
    "colab": {
      "name": "working_type1_naver_movie.ipynb",
      "provenance": [],
      "collapsed_sections": [],
      "authorship_tag": "ABX9TyM5AtJTGEp/ZwFox6a5CbUG",
      "include_colab_link": true
    },
    "kernelspec": {
      "name": "python3",
      "display_name": "Python 3"
    },
    "language_info": {
      "name": "python"
    }
  },
  "cells": [
    {
      "cell_type": "markdown",
      "metadata": {
        "id": "view-in-github",
        "colab_type": "text"
      },
      "source": [
        "<a href=\"https://colab.research.google.com/github/HwangHanJae/BigDataPratice/blob/main/working_type1_naver_movie.ipynb\" target=\"_parent\"><img src=\"https://colab.research.google.com/assets/colab-badge.svg\" alt=\"Open In Colab\"/></a>"
      ]
    },
    {
      "cell_type": "code",
      "metadata": {
        "id": "yk-t1oMzi7Vs"
      },
      "source": [
        "import requests\n",
        "from bs4 import BeautifulSoup as bs"
      ],
      "execution_count": 2,
      "outputs": []
    },
    {
      "cell_type": "code",
      "metadata": {
        "id": "WYce-9UUkLeq"
      },
      "source": [
        "url = 'https://movie.naver.com/movie/sdb/rank/rmovie.nhn?sel=cur&date=20210503'"
      ],
      "execution_count": 3,
      "outputs": []
    },
    {
      "cell_type": "markdown",
      "metadata": {
        "id": "Btc73GhQkTdZ"
      },
      "source": [
        "###Question 1\n",
        "\n",
        "###네이버 영화 평점 순위의 랭킹사이트의 데이터를 requests를 이용하여 가져오고 parsing 하여 soup 변수에 저장하라"
      ]
    },
    {
      "cell_type": "code",
      "metadata": {
        "colab": {
          "base_uri": "https://localhost:8080/"
        },
        "id": "k6GW88YhkV6t",
        "outputId": "03c5268e-a2ee-44ef-edb1-7a81c71f3608"
      },
      "source": [
        "data = requests.get(url)\n",
        "soup = bs(data.text)\n",
        "\n",
        "soup.head()"
      ],
      "execution_count": 7,
      "outputs": [
        {
          "output_type": "execute_result",
          "data": {
            "text/plain": [
              "[<meta content=\"text/html; charset=utf-8\" http-equiv=\"Content-Type\"/>,\n",
              " <meta content=\"IE=edge\" http-equiv=\"X-UA-Compatible\"/>,\n",
              " <meta content=\"http://imgmovie.naver.com/today/naverme/naverme_profile.jpg\" property=\"me2:image\"/>,\n",
              " <meta content=\"네이버영화 \" property=\"me2:post_tag\"/>,\n",
              " <meta content=\"네이버영화\" property=\"me2:category1\"/>,\n",
              " <meta content=\"\" property=\"me2:category2\"/>,\n",
              " <meta content=\"랭킹 : 네이버 영화\" property=\"og:title\"/>,\n",
              " <meta content=\"영화, 영화인, 예매, 박스오피스 랭킹 정보 제공\" property=\"og:description\"/>,\n",
              " <meta content=\"article\" property=\"og:type\"/>,\n",
              " <meta content=\"https://movie.naver.com/movie/sdb/rank/rmovie.naver?sel=cur&amp;date=20210503\" property=\"og:url\"/>,\n",
              " <meta content=\"http://static.naver.net/m/movie/icons/OG_270_270.png\" property=\"og:image\"/>,\n",
              " <meta content=\"http://imgmovie.naver.com/today/naverme/naverme_profile.jpg\" property=\"og:article:thumbnailUrl\"/>,\n",
              " <meta content=\"네이버 영화\" property=\"og:article:author\"/>,\n",
              " <meta content=\"https://movie.naver.com/\" property=\"og:article:author:url\"/>,\n",
              " <link href=\"https://ssl.pstatic.net/static/m/movie/icons/naver_movie_favicon.ico\" rel=\"shortcut icon\" type=\"image/x-icon\"/>,\n",
              " <title>랭킹 : 네이버 영화</title>,\n",
              " <link href=\"/common/css/movie_tablet.css?20211125100609\" rel=\"stylesheet\" type=\"text/css\"/>,\n",
              " <link href=\"/common/css/common.css?20211125100609\" rel=\"stylesheet\" type=\"text/css\"/>,\n",
              " <link href=\"/common/css/layout.css?20211125100609\" rel=\"stylesheet\" type=\"text/css\"/>,\n",
              " <link href=\"/common/css/old_default.css?20211125100609\" rel=\"stylesheet\" type=\"text/css\"/>,\n",
              " <link href=\"/common/css/old_layout.css?20211125100609\" rel=\"stylesheet\" type=\"text/css\"/>,\n",
              " <link href=\"/common/css/old_common.css?20211125100609\" rel=\"stylesheet\" type=\"text/css\"/>,\n",
              " <link href=\"/common/css/old_super_db.css?20211125100609\" rel=\"stylesheet\" type=\"text/css\"/>,\n",
              " <script src=\"/common/js/default-min.js\" type=\"text/javascript\"></script>]"
            ]
          },
          "metadata": {},
          "execution_count": 7
        }
      ]
    },
    {
      "cell_type": "markdown",
      "metadata": {
        "id": "7o_AVifykooD"
      },
      "source": [
        "###Question 2\n",
        "\n",
        "###메타정보에 관한 모든 파싱값을 meta 변수에 저장하라"
      ]
    },
    {
      "cell_type": "code",
      "metadata": {
        "colab": {
          "base_uri": "https://localhost:8080/"
        },
        "id": "-UVdy_Tukq3C",
        "outputId": "35638137-bef1-4311-afce-61bafd971b63"
      },
      "source": [
        "meta = soup.find_all(\"meta\")\n",
        "meta"
      ],
      "execution_count": 9,
      "outputs": [
        {
          "output_type": "execute_result",
          "data": {
            "text/plain": [
              "[<meta content=\"text/html; charset=utf-8\" http-equiv=\"Content-Type\"/>,\n",
              " <meta content=\"IE=edge\" http-equiv=\"X-UA-Compatible\"/>,\n",
              " <meta content=\"http://imgmovie.naver.com/today/naverme/naverme_profile.jpg\" property=\"me2:image\"/>,\n",
              " <meta content=\"네이버영화 \" property=\"me2:post_tag\"/>,\n",
              " <meta content=\"네이버영화\" property=\"me2:category1\"/>,\n",
              " <meta content=\"\" property=\"me2:category2\"/>,\n",
              " <meta content=\"랭킹 : 네이버 영화\" property=\"og:title\"/>,\n",
              " <meta content=\"영화, 영화인, 예매, 박스오피스 랭킹 정보 제공\" property=\"og:description\"/>,\n",
              " <meta content=\"article\" property=\"og:type\"/>,\n",
              " <meta content=\"https://movie.naver.com/movie/sdb/rank/rmovie.naver?sel=cur&amp;date=20210503\" property=\"og:url\"/>,\n",
              " <meta content=\"http://static.naver.net/m/movie/icons/OG_270_270.png\" property=\"og:image\"/>,\n",
              " <meta content=\"http://imgmovie.naver.com/today/naverme/naverme_profile.jpg\" property=\"og:article:thumbnailUrl\"/>,\n",
              " <meta content=\"네이버 영화\" property=\"og:article:author\"/>,\n",
              " <meta content=\"https://movie.naver.com/\" property=\"og:article:author:url\"/>]"
            ]
          },
          "metadata": {},
          "execution_count": 9
        }
      ]
    },
    {
      "cell_type": "markdown",
      "metadata": {
        "id": "pyFbcMGykyeW"
      },
      "source": [
        "###Question 3\n",
        "\n",
        "###랭킹테이블의 모든파싱데이터를 가져와서 lstRanking 변수에 저장하라 class=list_ranking"
      ]
    },
    {
      "cell_type": "code",
      "metadata": {
        "colab": {
          "base_uri": "https://localhost:8080/"
        },
        "id": "JX0861ekkbbO",
        "outputId": "d8e3e678-3cfe-4baf-9e9f-542aa58d9bcf"
      },
      "source": [
        "lstRanking = soup.find(class_='list_ranking')\n",
        "lstRanking.find(class_=\"blind\")"
      ],
      "execution_count": 16,
      "outputs": [
        {
          "output_type": "execute_result",
          "data": {
            "text/plain": [
              "<caption class=\"blind\">랭킹 테이블</caption>"
            ]
          },
          "metadata": {},
          "execution_count": 16
        }
      ]
    },
    {
      "cell_type": "markdown",
      "metadata": {
        "id": "gdh4JAr9lNtr"
      },
      "source": [
        "###Question 4\n",
        "\n",
        "###lstRanking에서 모든 영화의 순위, 이름, 평점, 영화정보링크를 가져와서 데이터프레임을 만들고 movieTable 변수에 저장하라"
      ]
    },
    {
      "cell_type": "code",
      "metadata": {
        "colab": {
          "base_uri": "https://localhost:8080/",
          "height": 206
        },
        "id": "kyp5Qw5glaG5",
        "outputId": "1c41ac5f-b0bd-46e4-f5ff-8be57a226856"
      },
      "source": [
        "#이름\n",
        "title = [x.text.strip() for x in lstRanking.find_all(\"div\", class_='tit5')]\n",
        "#평점\n",
        "point = [x.text for x in lstRanking.find_all(\"td\", class_=\"point\")]\n",
        "#순위\n",
        "rank = range(1, len(point)+1)\n",
        "#영화정보링크\n",
        "link = [\"https://movie.naver.com\" + x.a.get(\"href\") for x in lstRanking.find_all('div', class_='tit5')]\n",
        "\n",
        "columns = {\"rank\" : rank,\n",
        "           \"title\" : title,\n",
        "           \"point\" : point,\n",
        "           \"link\" : link}\n",
        "movieTable = pd.DataFrame(columns)\n",
        "movieTable.head()"
      ],
      "execution_count": 49,
      "outputs": [
        {
          "output_type": "execute_result",
          "data": {
            "text/html": [
              "<div>\n",
              "<style scoped>\n",
              "    .dataframe tbody tr th:only-of-type {\n",
              "        vertical-align: middle;\n",
              "    }\n",
              "\n",
              "    .dataframe tbody tr th {\n",
              "        vertical-align: top;\n",
              "    }\n",
              "\n",
              "    .dataframe thead th {\n",
              "        text-align: right;\n",
              "    }\n",
              "</style>\n",
              "<table border=\"1\" class=\"dataframe\">\n",
              "  <thead>\n",
              "    <tr style=\"text-align: right;\">\n",
              "      <th></th>\n",
              "      <th>rank</th>\n",
              "      <th>title</th>\n",
              "      <th>point</th>\n",
              "      <th>link</th>\n",
              "    </tr>\n",
              "  </thead>\n",
              "  <tbody>\n",
              "    <tr>\n",
              "      <th>0</th>\n",
              "      <td>1</td>\n",
              "      <td>레옹</td>\n",
              "      <td>9.37</td>\n",
              "      <td>https://movie.naver.com/movie/bi/mi/basic.nave...</td>\n",
              "    </tr>\n",
              "    <tr>\n",
              "      <th>1</th>\n",
              "      <td>2</td>\n",
              "      <td>다시 태어나도 우리</td>\n",
              "      <td>9.35</td>\n",
              "      <td>https://movie.naver.com/movie/bi/mi/basic.nave...</td>\n",
              "    </tr>\n",
              "    <tr>\n",
              "      <th>2</th>\n",
              "      <td>3</td>\n",
              "      <td>피아니스트</td>\n",
              "      <td>9.33</td>\n",
              "      <td>https://movie.naver.com/movie/bi/mi/basic.nave...</td>\n",
              "    </tr>\n",
              "    <tr>\n",
              "      <th>3</th>\n",
              "      <td>4</td>\n",
              "      <td>미안해요, 리키</td>\n",
              "      <td>9.32</td>\n",
              "      <td>https://movie.naver.com/movie/bi/mi/basic.nave...</td>\n",
              "    </tr>\n",
              "    <tr>\n",
              "      <th>4</th>\n",
              "      <td>5</td>\n",
              "      <td>부활: 그 증거</td>\n",
              "      <td>9.31</td>\n",
              "      <td>https://movie.naver.com/movie/bi/mi/basic.nave...</td>\n",
              "    </tr>\n",
              "  </tbody>\n",
              "</table>\n",
              "</div>"
            ],
            "text/plain": [
              "   rank       title point                                               link\n",
              "0     1          레옹  9.37  https://movie.naver.com/movie/bi/mi/basic.nave...\n",
              "1     2  다시 태어나도 우리  9.35  https://movie.naver.com/movie/bi/mi/basic.nave...\n",
              "2     3       피아니스트  9.33  https://movie.naver.com/movie/bi/mi/basic.nave...\n",
              "3     4    미안해요, 리키  9.32  https://movie.naver.com/movie/bi/mi/basic.nave...\n",
              "4     5    부활: 그 증거  9.31  https://movie.naver.com/movie/bi/mi/basic.nave..."
            ]
          },
          "metadata": {},
          "execution_count": 49
        }
      ]
    },
    {
      "cell_type": "markdown",
      "metadata": {
        "id": "nctXqKIonedT"
      },
      "source": [
        "###Question 5\n",
        "\n",
        "###movieTable에 date 컬럼을 추가하여 2021-05-03 을 입력하라"
      ]
    },
    {
      "cell_type": "code",
      "metadata": {
        "colab": {
          "base_uri": "https://localhost:8080/",
          "height": 206
        },
        "id": "MJ2dxel2k6V-",
        "outputId": "fe8e5dd7-00cd-478c-eda4-efba835467d9"
      },
      "source": [
        "movieTable[\"date\"] = pd.to_datetime(\"2021-05-03\")\n",
        "\n",
        "movieTable.head()"
      ],
      "execution_count": 51,
      "outputs": [
        {
          "output_type": "execute_result",
          "data": {
            "text/html": [
              "<div>\n",
              "<style scoped>\n",
              "    .dataframe tbody tr th:only-of-type {\n",
              "        vertical-align: middle;\n",
              "    }\n",
              "\n",
              "    .dataframe tbody tr th {\n",
              "        vertical-align: top;\n",
              "    }\n",
              "\n",
              "    .dataframe thead th {\n",
              "        text-align: right;\n",
              "    }\n",
              "</style>\n",
              "<table border=\"1\" class=\"dataframe\">\n",
              "  <thead>\n",
              "    <tr style=\"text-align: right;\">\n",
              "      <th></th>\n",
              "      <th>rank</th>\n",
              "      <th>title</th>\n",
              "      <th>point</th>\n",
              "      <th>link</th>\n",
              "      <th>date</th>\n",
              "    </tr>\n",
              "  </thead>\n",
              "  <tbody>\n",
              "    <tr>\n",
              "      <th>0</th>\n",
              "      <td>1</td>\n",
              "      <td>레옹</td>\n",
              "      <td>9.37</td>\n",
              "      <td>https://movie.naver.com/movie/bi/mi/basic.nave...</td>\n",
              "      <td>2021-05-03</td>\n",
              "    </tr>\n",
              "    <tr>\n",
              "      <th>1</th>\n",
              "      <td>2</td>\n",
              "      <td>다시 태어나도 우리</td>\n",
              "      <td>9.35</td>\n",
              "      <td>https://movie.naver.com/movie/bi/mi/basic.nave...</td>\n",
              "      <td>2021-05-03</td>\n",
              "    </tr>\n",
              "    <tr>\n",
              "      <th>2</th>\n",
              "      <td>3</td>\n",
              "      <td>피아니스트</td>\n",
              "      <td>9.33</td>\n",
              "      <td>https://movie.naver.com/movie/bi/mi/basic.nave...</td>\n",
              "      <td>2021-05-03</td>\n",
              "    </tr>\n",
              "    <tr>\n",
              "      <th>3</th>\n",
              "      <td>4</td>\n",
              "      <td>미안해요, 리키</td>\n",
              "      <td>9.32</td>\n",
              "      <td>https://movie.naver.com/movie/bi/mi/basic.nave...</td>\n",
              "      <td>2021-05-03</td>\n",
              "    </tr>\n",
              "    <tr>\n",
              "      <th>4</th>\n",
              "      <td>5</td>\n",
              "      <td>부활: 그 증거</td>\n",
              "      <td>9.31</td>\n",
              "      <td>https://movie.naver.com/movie/bi/mi/basic.nave...</td>\n",
              "      <td>2021-05-03</td>\n",
              "    </tr>\n",
              "  </tbody>\n",
              "</table>\n",
              "</div>"
            ],
            "text/plain": [
              "   rank  ...       date\n",
              "0     1  ... 2021-05-03\n",
              "1     2  ... 2021-05-03\n",
              "2     3  ... 2021-05-03\n",
              "3     4  ... 2021-05-03\n",
              "4     5  ... 2021-05-03\n",
              "\n",
              "[5 rows x 5 columns]"
            ]
          },
          "metadata": {},
          "execution_count": 51
        }
      ]
    },
    {
      "cell_type": "markdown",
      "metadata": {
        "id": "TWjpkTkan1T4"
      },
      "source": [
        "###Question 6\n",
        "\n",
        "###21년 4월 1일 부터 4월 30일까지 일자별 리스트를 생성하여 하나의 데이터 프레임(변수명 total)에 저장하라. 날짜는 date컬럼에 생성한다."
      ]
    },
    {
      "cell_type": "code",
      "metadata": {
        "id": "_w4QgxsOlYdn"
      },
      "source": [
        "def get_movieDataEachDays(day):\n",
        "\n",
        "  if day<10:\n",
        "    day = '0'+str(day)\n",
        "  else:\n",
        "    day = str(day)\n",
        "\n",
        "  base_url = 'https://movie.naver.com/movie/sdb/rank/rmovie.nhn?sel=cur&date=202104'+day\n",
        "  data = requests.get(base_url)\n",
        "  soup = bs(data.text)\n",
        "  lstRanking = soup.find(class_=\"list_ranking\")\n",
        "  #이름\n",
        "  title = [x.text.strip() for x in lstRanking.find_all(\"div\", class_='tit5')]\n",
        "  #평점\n",
        "  point = [x.text for x in lstRanking.find_all(\"td\", class_=\"point\")]\n",
        "  #순위\n",
        "  rank = range(1, len(point)+1)\n",
        "  #영화정보링크\n",
        "  link = [\"https://movie.naver.com\" + x.a.get(\"href\") for x in lstRanking.find_all('div', class_='tit5')]\n",
        "  columns = {\"rank\" : rank,\n",
        "           \"title\" : title,\n",
        "           \"point\" : point,\n",
        "           \"link\" : link}\n",
        "  movieTable = pd.DataFrame(columns)\n",
        "  movieTable[\"date\"] = pd.to_datetime(\"2021-04-\"+day)\n",
        "  return movieTable"
      ],
      "execution_count": 54,
      "outputs": []
    },
    {
      "cell_type": "code",
      "metadata": {
        "colab": {
          "base_uri": "https://localhost:8080/",
          "height": 423
        },
        "id": "5UV7d6oiospe",
        "outputId": "f80af56e-c6e6-4dd6-bc2d-ec642d0f4c91"
      },
      "source": [
        "#날짜별 데이터프레임을 생성하고 최종적으로 하나의 데이터 프레임을 생성\n",
        "dfLst = []\n",
        "\n",
        "for day in range(1,31):\n",
        "  df = get_movieDataEachDays(day)\n",
        "  dfLst.append(df)"
      ],
      "execution_count": 56,
      "outputs": [
        {
          "output_type": "execute_result",
          "data": {
            "text/html": [
              "<div>\n",
              "<style scoped>\n",
              "    .dataframe tbody tr th:only-of-type {\n",
              "        vertical-align: middle;\n",
              "    }\n",
              "\n",
              "    .dataframe tbody tr th {\n",
              "        vertical-align: top;\n",
              "    }\n",
              "\n",
              "    .dataframe thead th {\n",
              "        text-align: right;\n",
              "    }\n",
              "</style>\n",
              "<table border=\"1\" class=\"dataframe\">\n",
              "  <thead>\n",
              "    <tr style=\"text-align: right;\">\n",
              "      <th></th>\n",
              "      <th>rank</th>\n",
              "      <th>title</th>\n",
              "      <th>point</th>\n",
              "      <th>link</th>\n",
              "      <th>date</th>\n",
              "    </tr>\n",
              "  </thead>\n",
              "  <tbody>\n",
              "    <tr>\n",
              "      <th>0</th>\n",
              "      <td>1</td>\n",
              "      <td>극장판 바이올렛 에버가든</td>\n",
              "      <td>9.48</td>\n",
              "      <td>https://movie.naver.com/movie/bi/mi/basic.nave...</td>\n",
              "      <td>2021-04-01</td>\n",
              "    </tr>\n",
              "    <tr>\n",
              "      <th>1</th>\n",
              "      <td>2</td>\n",
              "      <td>가나의 혼인잔치: 언약</td>\n",
              "      <td>9.42</td>\n",
              "      <td>https://movie.naver.com/movie/bi/mi/basic.nave...</td>\n",
              "      <td>2021-04-01</td>\n",
              "    </tr>\n",
              "    <tr>\n",
              "      <th>2</th>\n",
              "      <td>3</td>\n",
              "      <td>반지의 제왕: 왕의 귀환</td>\n",
              "      <td>9.38</td>\n",
              "      <td>https://movie.naver.com/movie/bi/mi/basic.nave...</td>\n",
              "      <td>2021-04-01</td>\n",
              "    </tr>\n",
              "    <tr>\n",
              "      <th>3</th>\n",
              "      <td>4</td>\n",
              "      <td>죽은 시인의 사회</td>\n",
              "      <td>9.38</td>\n",
              "      <td>https://movie.naver.com/movie/bi/mi/basic.nave...</td>\n",
              "      <td>2021-04-01</td>\n",
              "    </tr>\n",
              "    <tr>\n",
              "      <th>4</th>\n",
              "      <td>5</td>\n",
              "      <td>반지의 제왕: 두 개의 탑</td>\n",
              "      <td>9.36</td>\n",
              "      <td>https://movie.naver.com/movie/bi/mi/basic.nave...</td>\n",
              "      <td>2021-04-01</td>\n",
              "    </tr>\n",
              "    <tr>\n",
              "      <th>...</th>\n",
              "      <td>...</td>\n",
              "      <td>...</td>\n",
              "      <td>...</td>\n",
              "      <td>...</td>\n",
              "      <td>...</td>\n",
              "    </tr>\n",
              "    <tr>\n",
              "      <th>45</th>\n",
              "      <td>46</td>\n",
              "      <td>팅커 테일러 솔저 스파이</td>\n",
              "      <td>8.21</td>\n",
              "      <td>https://movie.naver.com/movie/bi/mi/basic.nave...</td>\n",
              "      <td>2021-04-30</td>\n",
              "    </tr>\n",
              "    <tr>\n",
              "      <th>46</th>\n",
              "      <td>47</td>\n",
              "      <td>테넷</td>\n",
              "      <td>8.17</td>\n",
              "      <td>https://movie.naver.com/movie/bi/mi/basic.nave...</td>\n",
              "      <td>2021-04-30</td>\n",
              "    </tr>\n",
              "    <tr>\n",
              "      <th>47</th>\n",
              "      <td>48</td>\n",
              "      <td>문라이즈 킹덤</td>\n",
              "      <td>8.11</td>\n",
              "      <td>https://movie.naver.com/movie/bi/mi/basic.nave...</td>\n",
              "      <td>2021-04-30</td>\n",
              "    </tr>\n",
              "    <tr>\n",
              "      <th>48</th>\n",
              "      <td>49</td>\n",
              "      <td>날씨의 아이</td>\n",
              "      <td>7.95</td>\n",
              "      <td>https://movie.naver.com/movie/bi/mi/basic.nave...</td>\n",
              "      <td>2021-04-30</td>\n",
              "    </tr>\n",
              "    <tr>\n",
              "      <th>49</th>\n",
              "      <td>50</td>\n",
              "      <td>비와 당신의 이야기</td>\n",
              "      <td>7.93</td>\n",
              "      <td>https://movie.naver.com/movie/bi/mi/basic.nave...</td>\n",
              "      <td>2021-04-30</td>\n",
              "    </tr>\n",
              "  </tbody>\n",
              "</table>\n",
              "<p>1500 rows × 5 columns</p>\n",
              "</div>"
            ],
            "text/plain": [
              "    rank  ...       date\n",
              "0      1  ... 2021-04-01\n",
              "1      2  ... 2021-04-01\n",
              "2      3  ... 2021-04-01\n",
              "3      4  ... 2021-04-01\n",
              "4      5  ... 2021-04-01\n",
              "..   ...  ...        ...\n",
              "45    46  ... 2021-04-30\n",
              "46    47  ... 2021-04-30\n",
              "47    48  ... 2021-04-30\n",
              "48    49  ... 2021-04-30\n",
              "49    50  ... 2021-04-30\n",
              "\n",
              "[1500 rows x 5 columns]"
            ]
          },
          "metadata": {},
          "execution_count": 56
        }
      ]
    },
    {
      "cell_type": "code",
      "metadata": {
        "colab": {
          "base_uri": "https://localhost:8080/",
          "height": 206
        },
        "id": "hJQ1C8ruo9FP",
        "outputId": "2557f333-0040-4e57-87ef-2eea9d13835d"
      },
      "source": [
        "total = pd.concat(dfLst).reset_index(drop=True)\n",
        "total.head()"
      ],
      "execution_count": 59,
      "outputs": [
        {
          "output_type": "execute_result",
          "data": {
            "text/html": [
              "<div>\n",
              "<style scoped>\n",
              "    .dataframe tbody tr th:only-of-type {\n",
              "        vertical-align: middle;\n",
              "    }\n",
              "\n",
              "    .dataframe tbody tr th {\n",
              "        vertical-align: top;\n",
              "    }\n",
              "\n",
              "    .dataframe thead th {\n",
              "        text-align: right;\n",
              "    }\n",
              "</style>\n",
              "<table border=\"1\" class=\"dataframe\">\n",
              "  <thead>\n",
              "    <tr style=\"text-align: right;\">\n",
              "      <th></th>\n",
              "      <th>rank</th>\n",
              "      <th>title</th>\n",
              "      <th>point</th>\n",
              "      <th>link</th>\n",
              "      <th>date</th>\n",
              "    </tr>\n",
              "  </thead>\n",
              "  <tbody>\n",
              "    <tr>\n",
              "      <th>0</th>\n",
              "      <td>1</td>\n",
              "      <td>극장판 바이올렛 에버가든</td>\n",
              "      <td>9.48</td>\n",
              "      <td>https://movie.naver.com/movie/bi/mi/basic.nave...</td>\n",
              "      <td>2021-04-01</td>\n",
              "    </tr>\n",
              "    <tr>\n",
              "      <th>1</th>\n",
              "      <td>2</td>\n",
              "      <td>가나의 혼인잔치: 언약</td>\n",
              "      <td>9.42</td>\n",
              "      <td>https://movie.naver.com/movie/bi/mi/basic.nave...</td>\n",
              "      <td>2021-04-01</td>\n",
              "    </tr>\n",
              "    <tr>\n",
              "      <th>2</th>\n",
              "      <td>3</td>\n",
              "      <td>반지의 제왕: 왕의 귀환</td>\n",
              "      <td>9.38</td>\n",
              "      <td>https://movie.naver.com/movie/bi/mi/basic.nave...</td>\n",
              "      <td>2021-04-01</td>\n",
              "    </tr>\n",
              "    <tr>\n",
              "      <th>3</th>\n",
              "      <td>4</td>\n",
              "      <td>죽은 시인의 사회</td>\n",
              "      <td>9.38</td>\n",
              "      <td>https://movie.naver.com/movie/bi/mi/basic.nave...</td>\n",
              "      <td>2021-04-01</td>\n",
              "    </tr>\n",
              "    <tr>\n",
              "      <th>4</th>\n",
              "      <td>5</td>\n",
              "      <td>반지의 제왕: 두 개의 탑</td>\n",
              "      <td>9.36</td>\n",
              "      <td>https://movie.naver.com/movie/bi/mi/basic.nave...</td>\n",
              "      <td>2021-04-01</td>\n",
              "    </tr>\n",
              "  </tbody>\n",
              "</table>\n",
              "</div>"
            ],
            "text/plain": [
              "   rank  ...       date\n",
              "0     1  ... 2021-04-01\n",
              "1     2  ... 2021-04-01\n",
              "2     3  ... 2021-04-01\n",
              "3     4  ... 2021-04-01\n",
              "4     5  ... 2021-04-01\n",
              "\n",
              "[5 rows x 5 columns]"
            ]
          },
          "metadata": {},
          "execution_count": 59
        }
      ]
    },
    {
      "cell_type": "markdown",
      "metadata": {
        "id": "J_t19pVHpswL"
      },
      "source": [
        "###Question 7\n",
        "\n",
        "###total 데이터에서 일자별 3위 rank의 데이터를 rankThree 변수에 저장하라"
      ]
    },
    {
      "cell_type": "code",
      "metadata": {
        "colab": {
          "base_uri": "https://localhost:8080/",
          "height": 206
        },
        "id": "UN6TDty3pe2x",
        "outputId": "36a73fa4-00c3-4f26-8863-f14a551c9afd"
      },
      "source": [
        "rankThree = total.loc[total[\"rank\"] == 3].reset_index(drop=True)\n",
        "rankThree.head()"
      ],
      "execution_count": 62,
      "outputs": [
        {
          "output_type": "execute_result",
          "data": {
            "text/html": [
              "<div>\n",
              "<style scoped>\n",
              "    .dataframe tbody tr th:only-of-type {\n",
              "        vertical-align: middle;\n",
              "    }\n",
              "\n",
              "    .dataframe tbody tr th {\n",
              "        vertical-align: top;\n",
              "    }\n",
              "\n",
              "    .dataframe thead th {\n",
              "        text-align: right;\n",
              "    }\n",
              "</style>\n",
              "<table border=\"1\" class=\"dataframe\">\n",
              "  <thead>\n",
              "    <tr style=\"text-align: right;\">\n",
              "      <th></th>\n",
              "      <th>rank</th>\n",
              "      <th>title</th>\n",
              "      <th>point</th>\n",
              "      <th>link</th>\n",
              "      <th>date</th>\n",
              "    </tr>\n",
              "  </thead>\n",
              "  <tbody>\n",
              "    <tr>\n",
              "      <th>0</th>\n",
              "      <td>3</td>\n",
              "      <td>반지의 제왕: 왕의 귀환</td>\n",
              "      <td>9.38</td>\n",
              "      <td>https://movie.naver.com/movie/bi/mi/basic.nave...</td>\n",
              "      <td>2021-04-01</td>\n",
              "    </tr>\n",
              "    <tr>\n",
              "      <th>1</th>\n",
              "      <td>3</td>\n",
              "      <td>소년시절의 너</td>\n",
              "      <td>9.39</td>\n",
              "      <td>https://movie.naver.com/movie/bi/mi/basic.nave...</td>\n",
              "      <td>2021-04-02</td>\n",
              "    </tr>\n",
              "    <tr>\n",
              "      <th>2</th>\n",
              "      <td>3</td>\n",
              "      <td>소년시절의 너</td>\n",
              "      <td>9.39</td>\n",
              "      <td>https://movie.naver.com/movie/bi/mi/basic.nave...</td>\n",
              "      <td>2021-04-03</td>\n",
              "    </tr>\n",
              "    <tr>\n",
              "      <th>3</th>\n",
              "      <td>3</td>\n",
              "      <td>소년시절의 너</td>\n",
              "      <td>9.39</td>\n",
              "      <td>https://movie.naver.com/movie/bi/mi/basic.nave...</td>\n",
              "      <td>2021-04-04</td>\n",
              "    </tr>\n",
              "    <tr>\n",
              "      <th>4</th>\n",
              "      <td>3</td>\n",
              "      <td>반지의 제왕: 왕의 귀환</td>\n",
              "      <td>9.38</td>\n",
              "      <td>https://movie.naver.com/movie/bi/mi/basic.nave...</td>\n",
              "      <td>2021-04-05</td>\n",
              "    </tr>\n",
              "  </tbody>\n",
              "</table>\n",
              "</div>"
            ],
            "text/plain": [
              "   rank  ...       date\n",
              "0     3  ... 2021-04-01\n",
              "1     3  ... 2021-04-02\n",
              "2     3  ... 2021-04-03\n",
              "3     3  ... 2021-04-04\n",
              "4     3  ... 2021-04-05\n",
              "\n",
              "[5 rows x 5 columns]"
            ]
          },
          "metadata": {},
          "execution_count": 62
        }
      ]
    },
    {
      "cell_type": "markdown",
      "metadata": {
        "id": "JKTaDNzcqFJl"
      },
      "source": [
        "###Question 8\n",
        "\n",
        "###해당기간동안 랭킹 1위 영화들의 그 횟수를 구하여라"
      ]
    },
    {
      "cell_type": "code",
      "metadata": {
        "colab": {
          "base_uri": "https://localhost:8080/",
          "height": 175
        },
        "id": "x0tiOvr3p6r9",
        "outputId": "84af0243-989b-4984-99d6-6de0fc4ba6ab"
      },
      "source": [
        "total.loc[total[\"rank\"] == 1].groupby([\"title\"]).sum()"
      ],
      "execution_count": 65,
      "outputs": [
        {
          "output_type": "execute_result",
          "data": {
            "text/html": [
              "<div>\n",
              "<style scoped>\n",
              "    .dataframe tbody tr th:only-of-type {\n",
              "        vertical-align: middle;\n",
              "    }\n",
              "\n",
              "    .dataframe tbody tr th {\n",
              "        vertical-align: top;\n",
              "    }\n",
              "\n",
              "    .dataframe thead th {\n",
              "        text-align: right;\n",
              "    }\n",
              "</style>\n",
              "<table border=\"1\" class=\"dataframe\">\n",
              "  <thead>\n",
              "    <tr style=\"text-align: right;\">\n",
              "      <th></th>\n",
              "      <th>rank</th>\n",
              "    </tr>\n",
              "    <tr>\n",
              "      <th>title</th>\n",
              "      <th></th>\n",
              "    </tr>\n",
              "  </thead>\n",
              "  <tbody>\n",
              "    <tr>\n",
              "      <th>극장판 바이올렛 에버가든</th>\n",
              "      <td>22</td>\n",
              "    </tr>\n",
              "    <tr>\n",
              "      <th>레옹</th>\n",
              "      <td>2</td>\n",
              "    </tr>\n",
              "    <tr>\n",
              "      <th>부활: 그 증거</th>\n",
              "      <td>6</td>\n",
              "    </tr>\n",
              "  </tbody>\n",
              "</table>\n",
              "</div>"
            ],
            "text/plain": [
              "               rank\n",
              "title              \n",
              "극장판 바이올렛 에버가든    22\n",
              "레옹                2\n",
              "부활: 그 증거          6"
            ]
          },
          "metadata": {},
          "execution_count": 65
        }
      ]
    },
    {
      "cell_type": "code",
      "metadata": {
        "colab": {
          "base_uri": "https://localhost:8080/",
          "height": 143
        },
        "id": "HqWkr1jMqdlO",
        "outputId": "6a90372e-58b0-4554-c53f-77d34e3aacc5"
      },
      "source": [
        "count = total.loc[total['rank'] == 1][\"title\"].value_counts().to_frame().rename(columns={\"index\" : \"title\",\"title\":\"count\"})\n",
        "count.head()"
      ],
      "execution_count": 73,
      "outputs": [
        {
          "output_type": "execute_result",
          "data": {
            "text/html": [
              "<div>\n",
              "<style scoped>\n",
              "    .dataframe tbody tr th:only-of-type {\n",
              "        vertical-align: middle;\n",
              "    }\n",
              "\n",
              "    .dataframe tbody tr th {\n",
              "        vertical-align: top;\n",
              "    }\n",
              "\n",
              "    .dataframe thead th {\n",
              "        text-align: right;\n",
              "    }\n",
              "</style>\n",
              "<table border=\"1\" class=\"dataframe\">\n",
              "  <thead>\n",
              "    <tr style=\"text-align: right;\">\n",
              "      <th></th>\n",
              "      <th>count</th>\n",
              "    </tr>\n",
              "  </thead>\n",
              "  <tbody>\n",
              "    <tr>\n",
              "      <th>극장판 바이올렛 에버가든</th>\n",
              "      <td>22</td>\n",
              "    </tr>\n",
              "    <tr>\n",
              "      <th>부활: 그 증거</th>\n",
              "      <td>6</td>\n",
              "    </tr>\n",
              "    <tr>\n",
              "      <th>레옹</th>\n",
              "      <td>2</td>\n",
              "    </tr>\n",
              "  </tbody>\n",
              "</table>\n",
              "</div>"
            ],
            "text/plain": [
              "               count\n",
              "극장판 바이올렛 에버가든     22\n",
              "부활: 그 증거           6\n",
              "레옹                 2"
            ]
          },
          "metadata": {},
          "execution_count": 73
        }
      ]
    },
    {
      "cell_type": "markdown",
      "metadata": {
        "id": "en7W3C61qWKd"
      },
      "source": [
        "###Question 9\n",
        "\n",
        "###데이터를 재구성하여 일자별 랭킹의 영화 제목을 출력하라"
      ]
    },
    {
      "cell_type": "code",
      "metadata": {
        "colab": {
          "base_uri": "https://localhost:8080/",
          "height": 429
        },
        "id": "kUCCEHbCqJ30",
        "outputId": "4fc9445b-dfac-45b8-f6dc-57895291a818"
      },
      "source": [
        "rebulid = total.pivot(columns='date', index='rank',values='title')\n",
        "rebulid.head()"
      ],
      "execution_count": 84,
      "outputs": [
        {
          "output_type": "execute_result",
          "data": {
            "text/html": [
              "<div>\n",
              "<style scoped>\n",
              "    .dataframe tbody tr th:only-of-type {\n",
              "        vertical-align: middle;\n",
              "    }\n",
              "\n",
              "    .dataframe tbody tr th {\n",
              "        vertical-align: top;\n",
              "    }\n",
              "\n",
              "    .dataframe thead th {\n",
              "        text-align: right;\n",
              "    }\n",
              "</style>\n",
              "<table border=\"1\" class=\"dataframe\">\n",
              "  <thead>\n",
              "    <tr style=\"text-align: right;\">\n",
              "      <th>date</th>\n",
              "      <th>2021-04-01</th>\n",
              "      <th>2021-04-02</th>\n",
              "      <th>2021-04-03</th>\n",
              "      <th>2021-04-04</th>\n",
              "      <th>2021-04-05</th>\n",
              "      <th>2021-04-06</th>\n",
              "      <th>2021-04-07</th>\n",
              "      <th>2021-04-08</th>\n",
              "      <th>2021-04-09</th>\n",
              "      <th>2021-04-10</th>\n",
              "      <th>2021-04-11</th>\n",
              "      <th>2021-04-12</th>\n",
              "      <th>2021-04-13</th>\n",
              "      <th>2021-04-14</th>\n",
              "      <th>2021-04-15</th>\n",
              "      <th>2021-04-16</th>\n",
              "      <th>2021-04-17</th>\n",
              "      <th>2021-04-18</th>\n",
              "      <th>2021-04-19</th>\n",
              "      <th>2021-04-20</th>\n",
              "      <th>2021-04-21</th>\n",
              "      <th>2021-04-22</th>\n",
              "      <th>2021-04-23</th>\n",
              "      <th>2021-04-24</th>\n",
              "      <th>2021-04-25</th>\n",
              "      <th>2021-04-26</th>\n",
              "      <th>2021-04-27</th>\n",
              "      <th>2021-04-28</th>\n",
              "      <th>2021-04-29</th>\n",
              "      <th>2021-04-30</th>\n",
              "    </tr>\n",
              "    <tr>\n",
              "      <th>rank</th>\n",
              "      <th></th>\n",
              "      <th></th>\n",
              "      <th></th>\n",
              "      <th></th>\n",
              "      <th></th>\n",
              "      <th></th>\n",
              "      <th></th>\n",
              "      <th></th>\n",
              "      <th></th>\n",
              "      <th></th>\n",
              "      <th></th>\n",
              "      <th></th>\n",
              "      <th></th>\n",
              "      <th></th>\n",
              "      <th></th>\n",
              "      <th></th>\n",
              "      <th></th>\n",
              "      <th></th>\n",
              "      <th></th>\n",
              "      <th></th>\n",
              "      <th></th>\n",
              "      <th></th>\n",
              "      <th></th>\n",
              "      <th></th>\n",
              "      <th></th>\n",
              "      <th></th>\n",
              "      <th></th>\n",
              "      <th></th>\n",
              "      <th></th>\n",
              "      <th></th>\n",
              "    </tr>\n",
              "  </thead>\n",
              "  <tbody>\n",
              "    <tr>\n",
              "      <th>1</th>\n",
              "      <td>극장판 바이올렛 에버가든</td>\n",
              "      <td>극장판 바이올렛 에버가든</td>\n",
              "      <td>극장판 바이올렛 에버가든</td>\n",
              "      <td>극장판 바이올렛 에버가든</td>\n",
              "      <td>극장판 바이올렛 에버가든</td>\n",
              "      <td>극장판 바이올렛 에버가든</td>\n",
              "      <td>극장판 바이올렛 에버가든</td>\n",
              "      <td>극장판 바이올렛 에버가든</td>\n",
              "      <td>극장판 바이올렛 에버가든</td>\n",
              "      <td>극장판 바이올렛 에버가든</td>\n",
              "      <td>극장판 바이올렛 에버가든</td>\n",
              "      <td>극장판 바이올렛 에버가든</td>\n",
              "      <td>극장판 바이올렛 에버가든</td>\n",
              "      <td>극장판 바이올렛 에버가든</td>\n",
              "      <td>부활: 그 증거</td>\n",
              "      <td>부활: 그 증거</td>\n",
              "      <td>부활: 그 증거</td>\n",
              "      <td>부활: 그 증거</td>\n",
              "      <td>부활: 그 증거</td>\n",
              "      <td>부활: 그 증거</td>\n",
              "      <td>극장판 바이올렛 에버가든</td>\n",
              "      <td>극장판 바이올렛 에버가든</td>\n",
              "      <td>극장판 바이올렛 에버가든</td>\n",
              "      <td>극장판 바이올렛 에버가든</td>\n",
              "      <td>극장판 바이올렛 에버가든</td>\n",
              "      <td>레옹</td>\n",
              "      <td>레옹</td>\n",
              "      <td>극장판 바이올렛 에버가든</td>\n",
              "      <td>극장판 바이올렛 에버가든</td>\n",
              "      <td>극장판 바이올렛 에버가든</td>\n",
              "    </tr>\n",
              "    <tr>\n",
              "      <th>2</th>\n",
              "      <td>가나의 혼인잔치: 언약</td>\n",
              "      <td>가나의 혼인잔치: 언약</td>\n",
              "      <td>가나의 혼인잔치: 언약</td>\n",
              "      <td>가나의 혼인잔치: 언약</td>\n",
              "      <td>가나의 혼인잔치: 언약</td>\n",
              "      <td>가나의 혼인잔치: 언약</td>\n",
              "      <td>가나의 혼인잔치: 언약</td>\n",
              "      <td>가나의 혼인잔치: 언약</td>\n",
              "      <td>가나의 혼인잔치: 언약</td>\n",
              "      <td>가나의 혼인잔치: 언약</td>\n",
              "      <td>가나의 혼인잔치: 언약</td>\n",
              "      <td>가나의 혼인잔치: 언약</td>\n",
              "      <td>가나의 혼인잔치: 언약</td>\n",
              "      <td>반지의 제왕: 왕의 귀환</td>\n",
              "      <td>패왕별희 디 오리지널</td>\n",
              "      <td>패왕별희 디 오리지널</td>\n",
              "      <td>패왕별희 디 오리지널</td>\n",
              "      <td>패왕별희 디 오리지널</td>\n",
              "      <td>패왕별희 디 오리지널</td>\n",
              "      <td>패왕별희 디 오리지널</td>\n",
              "      <td>부활: 그 증거</td>\n",
              "      <td>부활: 그 증거</td>\n",
              "      <td>레옹</td>\n",
              "      <td>레옹</td>\n",
              "      <td>레옹</td>\n",
              "      <td>다시 태어나도 우리</td>\n",
              "      <td>다시 태어나도 우리</td>\n",
              "      <td>레옹</td>\n",
              "      <td>레옹</td>\n",
              "      <td>레옹</td>\n",
              "    </tr>\n",
              "    <tr>\n",
              "      <th>3</th>\n",
              "      <td>반지의 제왕: 왕의 귀환</td>\n",
              "      <td>소년시절의 너</td>\n",
              "      <td>소년시절의 너</td>\n",
              "      <td>소년시절의 너</td>\n",
              "      <td>반지의 제왕: 왕의 귀환</td>\n",
              "      <td>반지의 제왕: 왕의 귀환</td>\n",
              "      <td>반지의 제왕: 왕의 귀환</td>\n",
              "      <td>반지의 제왕: 왕의 귀환</td>\n",
              "      <td>반지의 제왕: 왕의 귀환</td>\n",
              "      <td>반지의 제왕: 왕의 귀환</td>\n",
              "      <td>반지의 제왕: 왕의 귀환</td>\n",
              "      <td>반지의 제왕: 왕의 귀환</td>\n",
              "      <td>반지의 제왕: 왕의 귀환</td>\n",
              "      <td>죽은 시인의 사회</td>\n",
              "      <td>극장판 귀멸의 칼날: 무한열차편</td>\n",
              "      <td>극장판 귀멸의 칼날: 무한열차편</td>\n",
              "      <td>극장판 귀멸의 칼날: 무한열차편</td>\n",
              "      <td>극장판 귀멸의 칼날: 무한열차편</td>\n",
              "      <td>극장판 귀멸의 칼날: 무한열차편</td>\n",
              "      <td>극장판 귀멸의 칼날: 무한열차편</td>\n",
              "      <td>패왕별희 디 오리지널</td>\n",
              "      <td>패왕별희 디 오리지널</td>\n",
              "      <td>부활: 그 증거</td>\n",
              "      <td>부활: 그 증거</td>\n",
              "      <td>부활: 그 증거</td>\n",
              "      <td>피아니스트</td>\n",
              "      <td>부활: 그 증거</td>\n",
              "      <td>다시 태어나도 우리</td>\n",
              "      <td>다시 태어나도 우리</td>\n",
              "      <td>다시 태어나도 우리</td>\n",
              "    </tr>\n",
              "    <tr>\n",
              "      <th>4</th>\n",
              "      <td>죽은 시인의 사회</td>\n",
              "      <td>반지의 제왕: 왕의 귀환</td>\n",
              "      <td>반지의 제왕: 왕의 귀환</td>\n",
              "      <td>반지의 제왕: 왕의 귀환</td>\n",
              "      <td>죽은 시인의 사회</td>\n",
              "      <td>죽은 시인의 사회</td>\n",
              "      <td>죽은 시인의 사회</td>\n",
              "      <td>죽은 시인의 사회</td>\n",
              "      <td>죽은 시인의 사회</td>\n",
              "      <td>죽은 시인의 사회</td>\n",
              "      <td>죽은 시인의 사회</td>\n",
              "      <td>죽은 시인의 사회</td>\n",
              "      <td>죽은 시인의 사회</td>\n",
              "      <td>반지의 제왕: 두 개의 탑</td>\n",
              "      <td>소울</td>\n",
              "      <td>소울</td>\n",
              "      <td>소울</td>\n",
              "      <td>소울</td>\n",
              "      <td>소울</td>\n",
              "      <td>소울</td>\n",
              "      <td>극장판 귀멸의 칼날: 무한열차편</td>\n",
              "      <td>극장판 귀멸의 칼날: 무한열차편</td>\n",
              "      <td>피아니스트</td>\n",
              "      <td>피아니스트</td>\n",
              "      <td>피아니스트</td>\n",
              "      <td>패왕별희 디 오리지널</td>\n",
              "      <td>피아니스트</td>\n",
              "      <td>부활: 그 증거</td>\n",
              "      <td>부활: 그 증거</td>\n",
              "      <td>부활: 그 증거</td>\n",
              "    </tr>\n",
              "    <tr>\n",
              "      <th>5</th>\n",
              "      <td>반지의 제왕: 두 개의 탑</td>\n",
              "      <td>죽은 시인의 사회</td>\n",
              "      <td>죽은 시인의 사회</td>\n",
              "      <td>죽은 시인의 사회</td>\n",
              "      <td>반지의 제왕: 두 개의 탑</td>\n",
              "      <td>반지의 제왕: 두 개의 탑</td>\n",
              "      <td>반지의 제왕: 두 개의 탑</td>\n",
              "      <td>반지의 제왕: 두 개의 탑</td>\n",
              "      <td>반지의 제왕: 두 개의 탑</td>\n",
              "      <td>반지의 제왕: 두 개의 탑</td>\n",
              "      <td>반지의 제왕: 두 개의 탑</td>\n",
              "      <td>반지의 제왕: 두 개의 탑</td>\n",
              "      <td>반지의 제왕: 두 개의 탑</td>\n",
              "      <td>패왕별희 디 오리지널</td>\n",
              "      <td>천녀유혼</td>\n",
              "      <td>천녀유혼</td>\n",
              "      <td>천녀유혼</td>\n",
              "      <td>천녀유혼</td>\n",
              "      <td>자산어보</td>\n",
              "      <td>자산어보</td>\n",
              "      <td>소울</td>\n",
              "      <td>소울</td>\n",
              "      <td>패왕별희 디 오리지널</td>\n",
              "      <td>패왕별희 디 오리지널</td>\n",
              "      <td>패왕별희 디 오리지널</td>\n",
              "      <td>극장판 귀멸의 칼날: 무한열차편</td>\n",
              "      <td>패왕별희 디 오리지널</td>\n",
              "      <td>피아니스트</td>\n",
              "      <td>피아니스트</td>\n",
              "      <td>피아니스트</td>\n",
              "    </tr>\n",
              "  </tbody>\n",
              "</table>\n",
              "</div>"
            ],
            "text/plain": [
              "date      2021-04-01     2021-04-02  ...     2021-04-29     2021-04-30\n",
              "rank                                 ...                              \n",
              "1      극장판 바이올렛 에버가든  극장판 바이올렛 에버가든  ...  극장판 바이올렛 에버가든  극장판 바이올렛 에버가든\n",
              "2       가나의 혼인잔치: 언약   가나의 혼인잔치: 언약  ...             레옹             레옹\n",
              "3      반지의 제왕: 왕의 귀환        소년시절의 너  ...     다시 태어나도 우리     다시 태어나도 우리\n",
              "4          죽은 시인의 사회  반지의 제왕: 왕의 귀환  ...       부활: 그 증거       부활: 그 증거\n",
              "5     반지의 제왕: 두 개의 탑      죽은 시인의 사회  ...          피아니스트          피아니스트\n",
              "\n",
              "[5 rows x 30 columns]"
            ]
          },
          "metadata": {},
          "execution_count": 84
        }
      ]
    }
  ]
}