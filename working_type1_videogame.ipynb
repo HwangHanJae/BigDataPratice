{
  "nbformat": 4,
  "nbformat_minor": 0,
  "metadata": {
    "colab": {
      "name": "working_type1_videogame.ipynb",
      "provenance": [],
      "collapsed_sections": [],
      "authorship_tag": "ABX9TyOAAdUxzep5o7LjMymeMZKf",
      "include_colab_link": true
    },
    "kernelspec": {
      "name": "python3",
      "display_name": "Python 3"
    },
    "language_info": {
      "name": "python"
    }
  },
  "cells": [
    {
      "cell_type": "markdown",
      "metadata": {
        "id": "view-in-github",
        "colab_type": "text"
      },
      "source": [
        "<a href=\"https://colab.research.google.com/github/HwangHanJae/BigDataPratice/blob/main/working_type1_videogame.ipynb\" target=\"_parent\"><img src=\"https://colab.research.google.com/assets/colab-badge.svg\" alt=\"Open In Colab\"/></a>"
      ]
    },
    {
      "cell_type": "markdown",
      "metadata": {
        "id": "dkJWSb7KC-1p"
      },
      "source": [
        "데이터 설명\n",
        "\n",
        "여러 플랫폼의 년도별 출시된 게임 데이터셋 출처 : https://mlcourse.ai/\n",
        "\n",
        "Name : 게임명\n",
        "\n",
        "Platform : 출시 플랫폼\n",
        "\n",
        "Year_of_Release : 출시년도\n",
        "\n",
        "Genre : 장르\n",
        "\n",
        "Publisher : 출시 업체\n",
        "\n",
        "{지역별}_Sales : 판매량\n",
        "\n",
        "User_Score : 유저스코어 (tbd : 측정 안됨)\n",
        "\n",
        "Developer : 개발 업체\n",
        "\n",
        "Rating : 이동등급()\n",
        "\n",
        "dataUrl =’https://raw.githubusercontent.com/Datamanim/video/master/video_games_sale.csv’"
      ]
    },
    {
      "cell_type": "markdown",
      "metadata": {
        "id": "aanFWYfAD4_f"
      },
      "source": [
        "###Question 1\n",
        "\n",
        "###데이터 Url을 이용하여 df변수에 데이터를 로드하라"
      ]
    },
    {
      "cell_type": "code",
      "metadata": {
        "colab": {
          "base_uri": "https://localhost:8080/",
          "height": 400
        },
        "id": "g16lzR_GD64n",
        "outputId": "223c0ad1-c3db-416a-90ee-25f4209c1b8a"
      },
      "source": [
        "import pandas as pd\n",
        "\n",
        "df = pd.read_csv('https://raw.githubusercontent.com/Datamanim/video/master/video_games_sale.csv')\n",
        "\n",
        "df.head()"
      ],
      "execution_count": 3,
      "outputs": [
        {
          "output_type": "execute_result",
          "data": {
            "text/html": [
              "<div>\n",
              "<style scoped>\n",
              "    .dataframe tbody tr th:only-of-type {\n",
              "        vertical-align: middle;\n",
              "    }\n",
              "\n",
              "    .dataframe tbody tr th {\n",
              "        vertical-align: top;\n",
              "    }\n",
              "\n",
              "    .dataframe thead th {\n",
              "        text-align: right;\n",
              "    }\n",
              "</style>\n",
              "<table border=\"1\" class=\"dataframe\">\n",
              "  <thead>\n",
              "    <tr style=\"text-align: right;\">\n",
              "      <th></th>\n",
              "      <th>Unnamed: 0</th>\n",
              "      <th>Name</th>\n",
              "      <th>Platform</th>\n",
              "      <th>Year_of_Release</th>\n",
              "      <th>Genre</th>\n",
              "      <th>Publisher</th>\n",
              "      <th>NA_Sales</th>\n",
              "      <th>EU_Sales</th>\n",
              "      <th>JP_Sales</th>\n",
              "      <th>Other_Sales</th>\n",
              "      <th>Global_Sales</th>\n",
              "      <th>Critic_Score</th>\n",
              "      <th>Critic_Count</th>\n",
              "      <th>User_Score</th>\n",
              "      <th>User_Count</th>\n",
              "      <th>Developer</th>\n",
              "      <th>Rating</th>\n",
              "      <th>Year_of_ten</th>\n",
              "    </tr>\n",
              "  </thead>\n",
              "  <tbody>\n",
              "    <tr>\n",
              "      <th>0</th>\n",
              "      <td>0</td>\n",
              "      <td>Wii Sports</td>\n",
              "      <td>Wii</td>\n",
              "      <td>2006.0</td>\n",
              "      <td>Sports</td>\n",
              "      <td>Nintendo</td>\n",
              "      <td>41.36</td>\n",
              "      <td>28.96</td>\n",
              "      <td>3.77</td>\n",
              "      <td>8.45</td>\n",
              "      <td>82.53</td>\n",
              "      <td>76.0</td>\n",
              "      <td>51.0</td>\n",
              "      <td>8.0</td>\n",
              "      <td>322.0</td>\n",
              "      <td>Nintendo</td>\n",
              "      <td>E</td>\n",
              "      <td>2000.0</td>\n",
              "    </tr>\n",
              "    <tr>\n",
              "      <th>1</th>\n",
              "      <td>1</td>\n",
              "      <td>Mario Kart Wii</td>\n",
              "      <td>Wii</td>\n",
              "      <td>2008.0</td>\n",
              "      <td>Racing</td>\n",
              "      <td>Nintendo</td>\n",
              "      <td>15.68</td>\n",
              "      <td>12.76</td>\n",
              "      <td>3.79</td>\n",
              "      <td>3.29</td>\n",
              "      <td>35.52</td>\n",
              "      <td>82.0</td>\n",
              "      <td>73.0</td>\n",
              "      <td>8.3</td>\n",
              "      <td>709.0</td>\n",
              "      <td>Nintendo</td>\n",
              "      <td>E</td>\n",
              "      <td>2000.0</td>\n",
              "    </tr>\n",
              "    <tr>\n",
              "      <th>2</th>\n",
              "      <td>2</td>\n",
              "      <td>Wii Sports Resort</td>\n",
              "      <td>Wii</td>\n",
              "      <td>2009.0</td>\n",
              "      <td>Sports</td>\n",
              "      <td>Nintendo</td>\n",
              "      <td>15.61</td>\n",
              "      <td>10.93</td>\n",
              "      <td>3.28</td>\n",
              "      <td>2.95</td>\n",
              "      <td>32.77</td>\n",
              "      <td>80.0</td>\n",
              "      <td>73.0</td>\n",
              "      <td>8.0</td>\n",
              "      <td>192.0</td>\n",
              "      <td>Nintendo</td>\n",
              "      <td>E</td>\n",
              "      <td>2000.0</td>\n",
              "    </tr>\n",
              "    <tr>\n",
              "      <th>3</th>\n",
              "      <td>3</td>\n",
              "      <td>New Super Mario Bros.</td>\n",
              "      <td>DS</td>\n",
              "      <td>2006.0</td>\n",
              "      <td>Platform</td>\n",
              "      <td>Nintendo</td>\n",
              "      <td>11.28</td>\n",
              "      <td>9.14</td>\n",
              "      <td>6.50</td>\n",
              "      <td>2.88</td>\n",
              "      <td>29.80</td>\n",
              "      <td>89.0</td>\n",
              "      <td>65.0</td>\n",
              "      <td>8.5</td>\n",
              "      <td>431.0</td>\n",
              "      <td>Nintendo</td>\n",
              "      <td>E</td>\n",
              "      <td>2000.0</td>\n",
              "    </tr>\n",
              "    <tr>\n",
              "      <th>4</th>\n",
              "      <td>4</td>\n",
              "      <td>Wii Play</td>\n",
              "      <td>Wii</td>\n",
              "      <td>2006.0</td>\n",
              "      <td>Misc</td>\n",
              "      <td>Nintendo</td>\n",
              "      <td>13.96</td>\n",
              "      <td>9.18</td>\n",
              "      <td>2.93</td>\n",
              "      <td>2.84</td>\n",
              "      <td>28.92</td>\n",
              "      <td>58.0</td>\n",
              "      <td>41.0</td>\n",
              "      <td>6.6</td>\n",
              "      <td>129.0</td>\n",
              "      <td>Nintendo</td>\n",
              "      <td>E</td>\n",
              "      <td>2000.0</td>\n",
              "    </tr>\n",
              "  </tbody>\n",
              "</table>\n",
              "</div>"
            ],
            "text/plain": [
              "   Unnamed: 0                   Name Platform  ...  Developer Rating Year_of_ten\n",
              "0           0             Wii Sports      Wii  ...   Nintendo      E      2000.0\n",
              "1           1         Mario Kart Wii      Wii  ...   Nintendo      E      2000.0\n",
              "2           2      Wii Sports Resort      Wii  ...   Nintendo      E      2000.0\n",
              "3           3  New Super Mario Bros.       DS  ...   Nintendo      E      2000.0\n",
              "4           4               Wii Play      Wii  ...   Nintendo      E      2000.0\n",
              "\n",
              "[5 rows x 18 columns]"
            ]
          },
          "metadata": {},
          "execution_count": 3
        }
      ]
    },
    {
      "cell_type": "markdown",
      "metadata": {
        "id": "gt8KLO8WD47O"
      },
      "source": [
        "###Question 1\n",
        "\n",
        "###video_games_sales 데이터셋(video_games_sales.csv)의 출시년도(Year_of_Release) 컬럼을 10년단위(ex 1990~1999 : 1990)로 변환하여 새로운 컬럼(year_of_ten)에 추가하고 게임이 가장 많이 출시된 년도(10년단위)와 가장 적게 출시된 년도(10년단위)를 각각 구하여라."
      ]
    },
    {
      "cell_type": "code",
      "metadata": {
        "colab": {
          "base_uri": "https://localhost:8080/"
        },
        "id": "8tgw1QcJBuA3",
        "outputId": "7a8211fb-6b06-4eef-e2a3-f2e9b4df2b9f"
      },
      "source": [
        "df[\"year_of_ten\"] = df[\"Year_of_Release\"].apply(lambda x : (x // 10) * 10)\n",
        "\n",
        "max = df[\"year_of_ten\"].value_counts().index[0]\n",
        "min = df[\"year_of_ten\"].value_counts().index[-1]\n",
        "print(\"게임이 가장 많이 출시된 년도\",max)\n",
        "print(\"게임이 가장 적게 출시된 년도\",min)"
      ],
      "execution_count": 33,
      "outputs": [
        {
          "output_type": "stream",
          "name": "stdout",
          "text": [
            "게임이 가장 많이 출시된 년도 2000.0\n",
            "게임이 가장 적게 출시된 년도 1980.0\n"
          ]
        }
      ]
    },
    {
      "cell_type": "markdown",
      "metadata": {
        "id": "qcYUnEdMFHTy"
      },
      "source": [
        "###Question 2\n",
        "\n",
        "###플레이스테이션 플랫폼 시리즈(PS,PS2,PS3,PS4,PSV)중 장르가 Action로 발매된 게임의 총 수는?"
      ]
    },
    {
      "cell_type": "code",
      "metadata": {
        "colab": {
          "base_uri": "https://localhost:8080/"
        },
        "id": "WOqRdVOLEd0J",
        "outputId": "ca0e0e43-3b64-4808-da05-00e57d47f642"
      },
      "source": [
        "lst = [\"PS\",\"PS2\",\"PS3\",\"PS4\",\"PSV\"]\n",
        "\n",
        "result = len(df.loc[(df[\"Platform\"].isin(lst)) & (df[\"Genre\"] == \"Action\")])\n",
        "\n",
        "result"
      ],
      "execution_count": 51,
      "outputs": [
        {
          "output_type": "execute_result",
          "data": {
            "text/plain": [
              "616"
            ]
          },
          "metadata": {},
          "execution_count": 51
        }
      ]
    },
    {
      "cell_type": "markdown",
      "metadata": {
        "id": "AJcxmUt1KJ0M"
      },
      "source": [
        "###Question 2\n",
        "\n",
        "###게임이 400개 이상 출시된 플랫폼들을 추출하여 각 플랫폼의 User_Score 평균값을 구하여 데이터프레임을 만들고 값을 내림차순으로 정리하여 출력하라"
      ]
    },
    {
      "cell_type": "code",
      "metadata": {
        "colab": {
          "base_uri": "https://localhost:8080/",
          "height": 300
        },
        "id": "zQLyxqUyFI3r",
        "outputId": "606aaf7d-4403-4e22-e12b-b3e569e8618c"
      },
      "source": [
        "#게임이 400개 이상 출시된 플랫폼 추출\n",
        "idx = df[\"Platform\"].value_counts()[df[\"Platform\"].value_counts()>=400].index\n",
        "\n",
        "result = df.loc[df[\"Platform\"].isin(idx)].groupby([\"Platform\"])[\"User_Score\"].mean().sort_values(ascending=False).to_frame()\n",
        "\n",
        "result"
      ],
      "execution_count": 91,
      "outputs": [
        {
          "output_type": "execute_result",
          "data": {
            "text/html": [
              "<div>\n",
              "<style scoped>\n",
              "    .dataframe tbody tr th:only-of-type {\n",
              "        vertical-align: middle;\n",
              "    }\n",
              "\n",
              "    .dataframe tbody tr th {\n",
              "        vertical-align: top;\n",
              "    }\n",
              "\n",
              "    .dataframe thead th {\n",
              "        text-align: right;\n",
              "    }\n",
              "</style>\n",
              "<table border=\"1\" class=\"dataframe\">\n",
              "  <thead>\n",
              "    <tr style=\"text-align: right;\">\n",
              "      <th></th>\n",
              "      <th>User_Score</th>\n",
              "    </tr>\n",
              "    <tr>\n",
              "      <th>Platform</th>\n",
              "      <th></th>\n",
              "    </tr>\n",
              "  </thead>\n",
              "  <tbody>\n",
              "    <tr>\n",
              "      <th>PS2</th>\n",
              "      <td>7.664386</td>\n",
              "    </tr>\n",
              "    <tr>\n",
              "      <th>XB</th>\n",
              "      <td>7.540708</td>\n",
              "    </tr>\n",
              "    <tr>\n",
              "      <th>PC</th>\n",
              "      <td>7.060369</td>\n",
              "    </tr>\n",
              "    <tr>\n",
              "      <th>DS</th>\n",
              "      <td>7.047198</td>\n",
              "    </tr>\n",
              "    <tr>\n",
              "      <th>Wii</th>\n",
              "      <td>6.903758</td>\n",
              "    </tr>\n",
              "    <tr>\n",
              "      <th>PS3</th>\n",
              "      <td>6.782705</td>\n",
              "    </tr>\n",
              "    <tr>\n",
              "      <th>X360</th>\n",
              "      <td>6.780769</td>\n",
              "    </tr>\n",
              "  </tbody>\n",
              "</table>\n",
              "</div>"
            ],
            "text/plain": [
              "          User_Score\n",
              "Platform            \n",
              "PS2         7.664386\n",
              "XB          7.540708\n",
              "PC          7.060369\n",
              "DS          7.047198\n",
              "Wii         6.903758\n",
              "PS3         6.782705\n",
              "X360        6.780769"
            ]
          },
          "metadata": {},
          "execution_count": 91
        }
      ]
    },
    {
      "cell_type": "markdown",
      "metadata": {
        "id": "qtnshcUKKRAz"
      },
      "source": [
        "###Question 3\n",
        "\n",
        "###게임 이름에 Mario가 들어가는 게임을 3회 개발한 개발자(Developer컬럼)을 구하여라"
      ]
    },
    {
      "cell_type": "code",
      "metadata": {
        "colab": {
          "base_uri": "https://localhost:8080/"
        },
        "id": "YolOWUtuPAXE",
        "outputId": "3bc2cba2-dd4f-4992-9a4f-df84dd0918f0"
      },
      "source": [
        "developer"
      ],
      "execution_count": 124,
      "outputs": [
        {
          "output_type": "execute_result",
          "data": {
            "text/plain": [
              "Index(['Marvelous AQL', 'Success', 'Nadeo', 'Experience Inc.',\n",
              "       'Melbourne House', 'Media Molecule', '4A Games', 'Anchor',\n",
              "       'Swordfish Studios', 'id Software, Raven Software',\n",
              "       ...\n",
              "       'WideScreen Games', 'Psyonix', 'Bungie Software', '8ing/Raizing',\n",
              "       'GenePool', 'Hudson Entertainment', 'SCE Studio Cambridge',\n",
              "       'Infinity Ward, Sledgehammer Games', 'Deep Silver Dambuster Studios',\n",
              "       'UDS'],\n",
              "      dtype='object', length=134)"
            ]
          },
          "metadata": {},
          "execution_count": 124
        }
      ]
    },
    {
      "cell_type": "code",
      "metadata": {
        "colab": {
          "base_uri": "https://localhost:8080/"
        },
        "id": "jCS2nmOFNbxu",
        "outputId": "1624cae1-a3b5-4bc3-b6cd-0747ed6b16cc"
      },
      "source": [
        "target = df.loc[df[\"Name\"].str.contains(\"Mario\")][\"Developer\"].value_counts()\n",
        "\n",
        "result = list(target[target==3].index)\n",
        "result"
      ],
      "execution_count": 134,
      "outputs": [
        {
          "output_type": "execute_result",
          "data": {
            "text/plain": [
              "['Nintendo, Nintendo Software Technology', 'Nintendo, Nd Cube']"
            ]
          },
          "metadata": {},
          "execution_count": 134
        }
      ]
    },
    {
      "cell_type": "markdown",
      "metadata": {
        "id": "OLmykzokPqbT"
      },
      "source": [
        "###Question 4\n",
        "\n",
        "###PS2 플랫폼으로 출시된 게임들의 User_Score의 첨도를 구하여라"
      ]
    },
    {
      "cell_type": "code",
      "metadata": {
        "colab": {
          "base_uri": "https://localhost:8080/"
        },
        "id": "2uXVBC6rNcg9",
        "outputId": "5988072f-9dea-4d9b-b51d-749c8cc6174c"
      },
      "source": [
        "target = df.loc[df[\"Platform\"] == \"PS2\"][\"User_Score\"]\n",
        "\n",
        "import scipy.stats as stats\n",
        "\n",
        "result = stats.kurtosis(target)\n",
        "\n",
        "result\n",
        "\n",
        "#kurtosis(첨도)\n",
        "#target.kurtosis()"
      ],
      "execution_count": 145,
      "outputs": [
        {
          "output_type": "execute_result",
          "data": {
            "text/plain": [
              "2.4920035946875965"
            ]
          },
          "metadata": {},
          "execution_count": 145
        }
      ]
    },
    {
      "cell_type": "markdown",
      "metadata": {
        "id": "i3TeWFpMQaf1"
      },
      "source": [
        "###Question 5\n",
        "\n",
        "###각 게임별 NA_Sales,EU_Sales,JP_Sales,Other_Sales 값의 합은 Global_Sales와 동일해야한다. 소숫점 2자리 이하의 생략으로 둘의 값의 다른경우가 존재하는데, 이러한 케이스가 몇개 있는지 확인하라"
      ]
    },
    {
      "cell_type": "code",
      "metadata": {
        "colab": {
          "base_uri": "https://localhost:8080/"
        },
        "id": "InaR5qqXPs1Y",
        "outputId": "28d1b673-b13f-4ad0-ab24-980d1b60219d"
      },
      "source": [
        "import numpy as np\n",
        "\n",
        "df[\"new_Global_Sales\"] = df[\"NA_Sales\"] + df[\"EU_Sales\"]+df[\"JP_Sales\"]+df[\"Other_Sales\"]\n",
        "\n",
        "result = (df[\"Global_Sales\"] != df[\"new_Global_Sales\"]).sum()\n",
        "\n",
        "result"
      ],
      "execution_count": 159,
      "outputs": [
        {
          "output_type": "execute_result",
          "data": {
            "text/plain": [
              "3636"
            ]
          },
          "metadata": {},
          "execution_count": 159
        }
      ]
    },
    {
      "cell_type": "code",
      "metadata": {
        "colab": {
          "base_uri": "https://localhost:8080/"
        },
        "id": "l_BuGr1-RiOC",
        "outputId": "25bb7898-3fdb-4a0d-9b10-64d60b5b2e7a"
      },
      "source": [
        "#Answer\n",
        "(df[[\"NA_Sales\",\"EU_Sales\",\"JP_Sales\",\"Other_Sales\"]].sum(axis=1) != df[\"Global_Sales\"]).sum()"
      ],
      "execution_count": 162,
      "outputs": [
        {
          "output_type": "execute_result",
          "data": {
            "text/plain": [
              "3636"
            ]
          },
          "metadata": {},
          "execution_count": 162
        }
      ]
    },
    {
      "cell_type": "markdown",
      "metadata": {
        "id": "0wazrYdzQ9fv"
      },
      "source": [
        "###Question 6\n",
        "\n",
        "###User_Count컬럼의 값이 120 이상인 게임들 중에서 User_Score의 값이 9.0이상인 게임의 수를 구하여라"
      ]
    },
    {
      "cell_type": "code",
      "metadata": {
        "id": "HEdh_bXER2ww",
        "colab": {
          "base_uri": "https://localhost:8080/"
        },
        "outputId": "60242b55-dfbe-4926-804f-e4f2e5031b11"
      },
      "source": [
        "#User_Count컬럼의 값이 120이상인 게임\n",
        "result = len(df.loc[(df[\"User_Count\"] >= 120) & (df[\"User_Score\"] >= 9.0)])\n",
        "\n",
        "result\n"
      ],
      "execution_count": 167,
      "outputs": [
        {
          "output_type": "execute_result",
          "data": {
            "text/plain": [
              "86"
            ]
          },
          "metadata": {},
          "execution_count": 167
        }
      ]
    },
    {
      "cell_type": "markdown",
      "metadata": {
        "id": "Yw4CUyaxSPes"
      },
      "source": [
        "###Question 7\n",
        "\n",
        "###Global_Sales컬럼의 값들을 robust스케일을 진행하고 40이상인 데이터 수를 구하여라"
      ]
    },
    {
      "cell_type": "code",
      "metadata": {
        "colab": {
          "base_uri": "https://localhost:8080/"
        },
        "id": "ormYFQEWR-Ql",
        "outputId": "dd41ff55-55d8-4c69-f3aa-ec03ced283f5"
      },
      "source": [
        "#robustScale\n",
        "\n",
        "from sklearn.preprocessing import RobustScaler\n",
        "\n",
        "scaler = RobustScaler()\n",
        "\n",
        "target = scaler.fit_transform(np.array(df[\"Global_Sales\"]).reshape(-1,1))\n",
        "\n",
        "result = len(pd.DataFrame(target[target>=40]))\n",
        "\n",
        "result\n",
        "# from sklearn.preprocessing import RobustScaler\n",
        "# scaler = RobustScaler()\n",
        "# target = scaler.fit_transform(X=pd.DataFrame(df[\"Global_Sales\"]), y='Global_Sales')\n",
        "# result = len(pd.DataFrame(target[target>=40]))\n",
        "# result"
      ],
      "execution_count": 206,
      "outputs": [
        {
          "output_type": "execute_result",
          "data": {
            "text/plain": [
              "6"
            ]
          },
          "metadata": {},
          "execution_count": 206
        }
      ]
    }
  ]
}