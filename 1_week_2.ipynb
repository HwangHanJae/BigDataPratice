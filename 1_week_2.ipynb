{
  "nbformat": 4,
  "nbformat_minor": 0,
  "metadata": {
    "colab": {
      "name": "1_week_2.ipynb",
      "provenance": [],
      "collapsed_sections": [],
      "authorship_tag": "ABX9TyMGm+/N7hxi7n+Vfcty0wLR",
      "include_colab_link": true
    },
    "kernelspec": {
      "name": "python3",
      "display_name": "Python 3"
    },
    "language_info": {
      "name": "python"
    }
  },
  "cells": [
    {
      "cell_type": "markdown",
      "metadata": {
        "id": "view-in-github",
        "colab_type": "text"
      },
      "source": [
        "<a href=\"https://colab.research.google.com/github/HwangHanJae/BigDataPratice/blob/main/1_week_2.ipynb\" target=\"_parent\"><img src=\"https://colab.research.google.com/assets/colab-badge.svg\" alt=\"Open In Colab\"/></a>"
      ]
    },
    {
      "cell_type": "markdown",
      "metadata": {
        "id": "eYJr-WkACdfZ"
      },
      "source": [
        "# 작업형1"
      ]
    },
    {
      "cell_type": "markdown",
      "metadata": {
        "id": "8hqQsRDUCPpB"
      },
      "source": [
        "데이터 출처 : https://www.kaggle.com/shubh0799/churn-modelling 에서 변형\n",
        "\n",
        "데이터 설명 :  고객의 신상정보 데이터를 통한 회사 서비스 이탈 예측 (종속변수 : Exited)\n",
        "\n",
        "Data url : https://raw.githubusercontent.com/Datamanim/datarepo/main/churn/train.csv\n"
      ]
    },
    {
      "cell_type": "markdown",
      "metadata": {
        "id": "2w9m-PaZCbJH"
      },
      "source": [
        "##Q1.  남성 이탈(Exited)이 가장 많은 국가(Geography)는 어디이고 이탈 인원은 몇명인가?\n"
      ]
    },
    {
      "cell_type": "code",
      "metadata": {
        "colab": {
          "base_uri": "https://localhost:8080/"
        },
        "id": "_gHnMvDICWuk",
        "outputId": "075286d6-70c5-4bec-c7f0-a7a8051f03e3"
      },
      "source": [
        "import pandas as pd\n",
        "df = pd.read_csv(\"https://raw.githubusercontent.com/Datamanim/datarepo/main/churn/train.csv\")\n",
        "\n",
        "#남성 이탈(Exited)가 가장 많은 국가\n",
        "#먼저 남성으로 분류\n",
        "df_male = df.loc[df['Gender'] == \"Male\"]\n",
        "#groupby 함수를 사용하여 Geography별로 묶고 각 항목을 더하고 Exited로 내림차순으로 정렬후 Exited 컬럼만 추출\n",
        "df_male_group = df_male.groupby([\"Geography\"]).sum().sort_values([\"Exited\"], ascending=False)[\"Exited\"]\n",
        "\n",
        "print(df_male_group)\n",
        "print()\n",
        "print(\"Geography : Germany\")\n",
        "print(\"인원 : 287\")"
      ],
      "execution_count": null,
      "outputs": [
        {
          "output_type": "stream",
          "name": "stdout",
          "text": [
            "Geography\n",
            "Germany    287\n",
            "France     285\n",
            "Spain      137\n",
            "Name: Exited, dtype: int64\n",
            "\n",
            "Geography : Germany\n",
            "인원 : 287\n"
          ]
        }
      ]
    },
    {
      "cell_type": "markdown",
      "metadata": {
        "id": "bfAmINI1GrRo"
      },
      "source": [
        "## Q2. 카드를 소유(HasCrCard ==1)하고 있으면서 활성멤버(IsActiveMember ==1) 인 고객들의 평균나이는? \n"
      ]
    },
    {
      "cell_type": "code",
      "metadata": {
        "colab": {
          "base_uri": "https://localhost:8080/"
        },
        "id": "MSnz_1ytDm0B",
        "outputId": "ee8db2df-ff3e-45f7-b150-a0619a8a8e09"
      },
      "source": [
        "import pandas as pd\n",
        "df = pd.read_csv(\"https://raw.githubusercontent.com/Datamanim/datarepo/main/churn/train.csv\")\n",
        "\n",
        "df.loc[(df['HasCrCard'] == 1) & (df['IsActiveMember'] == 1), \"Age\"].mean()"
      ],
      "execution_count": null,
      "outputs": [
        {
          "output_type": "execute_result",
          "data": {
            "text/plain": [
              "39.61019283746556"
            ]
          },
          "metadata": {},
          "execution_count": 76
        }
      ]
    },
    {
      "cell_type": "markdown",
      "metadata": {
        "id": "kIW_YWTwHTSZ"
      },
      "source": [
        "##Balance 값이 중간값 이상을 가지는 고객들의 CreditScore의 표준편차를 구하여라\n"
      ]
    },
    {
      "cell_type": "code",
      "metadata": {
        "colab": {
          "base_uri": "https://localhost:8080/"
        },
        "id": "51emSBrjG8AD",
        "outputId": "5e301fff-fcfa-4446-a40c-c8e90507974a"
      },
      "source": [
        "import pandas as pd\n",
        "df = pd.read_csv(\"https://raw.githubusercontent.com/Datamanim/datarepo/main/churn/train.csv\")\n",
        "\n",
        "\n",
        "print(df.columns)\n",
        "print()\n",
        "#Balance 컬럼의 중간값 구하기\n",
        "balance_median = df[\"Balance\"].median()\n",
        "print(df.loc[df[\"Balance\"] >= balance_median, \"CreditScore\"].std())"
      ],
      "execution_count": null,
      "outputs": [
        {
          "output_type": "stream",
          "name": "stdout",
          "text": [
            "Index(['RowNumber', 'CustomerId', 'Surname', 'CreditScore', 'Geography',\n",
            "       'Gender', 'Age', 'Tenure', 'Balance', 'NumOfProducts', 'HasCrCard',\n",
            "       'IsActiveMember', 'EstimatedSalary', 'Exited'],\n",
            "      dtype='object')\n",
            "\n",
            "97.29451567120783\n"
          ]
        }
      ]
    },
    {
      "cell_type": "markdown",
      "metadata": {
        "id": "UzSkS_6fHdbb"
      },
      "source": [
        "#작업형2"
      ]
    },
    {
      "cell_type": "markdown",
      "metadata": {
        "id": "R3lRvLQ2IQM7"
      },
      "source": [
        "데이터 출처 : https://archive.ics.uci.edu/ml/datasets/Breast%20Cancer%20Wisconsin%20(Diagnostic)에서 변형\n",
        "\n",
        "데이터 설명 :  유방암 발생여부 예측 (종속변수 diagnosis : B(양성)  , M(악성) )\n",
        "\n",
        "문제타입 : 분류유형\n",
        "\n",
        "평가지표 : f1-score\n",
        "\n",
        "trainData url : https://raw.githubusercontent.com/Datamanim/datarepo/main/cancer/train.csv\n",
        "\n",
        "testData url : https://raw.githubusercontent.com/Datamanim/datarepo/main/cancer/test.csv\n",
        "\n",
        "subData url : https://raw.githubusercontent.com/Datamanim/datarepo/main/cancer/submission.csv"
      ]
    },
    {
      "cell_type": "markdown",
      "metadata": {
        "id": "U4FWyMsZNGmd"
      },
      "source": [
        "##Baseline"
      ]
    },
    {
      "cell_type": "code",
      "metadata": {
        "colab": {
          "base_uri": "https://localhost:8080/"
        },
        "id": "wFNRrhexNIg3",
        "outputId": "9a360f16-8e2e-41d5-de30-ee9ad8db7ff5"
      },
      "source": [
        "trainData = \"https://raw.githubusercontent.com/Datamanim/datarepo/main/cancer/train.csv\"\n",
        "testData = \"https://raw.githubusercontent.com/Datamanim/datarepo/main/cancer/test.csv\"\n",
        "subData = \"https://raw.githubusercontent.com/Datamanim/datarepo/main/cancer/submission.csv\"\n",
        "\n",
        "#데이터로드\n",
        "import pandas as pd\n",
        "\n",
        "train = pd.read_csv(trainData)\n",
        "test = pd.read_csv(testData)\n",
        "sub = pd.read_csv(subData)\n",
        "\n",
        "#라벨인코더와 랜덤포레스트 분류기\n",
        "from sklearn.preprocessing import LabelEncoder\n",
        "from sklearn.ensemble import RandomForestClassifier\n",
        "from sklearn.preprocessing import StandardScaler\n",
        "\n",
        "#데이터 전처리\n",
        "#모델 성능에 영향을 주지 않는 컬럼 제거\n",
        "drop_col = ['id']\n",
        "label_encoder = LabelEncoder()\n",
        "\n",
        "train = train.drop(drop_col ,axis=1)\n",
        "test = test.drop(drop_col, axis=1)\n",
        "\n",
        "encoder = LabelEncoder()\n",
        "train['diagnosis'] = encoder.fit_transform(train['diagnosis'])\n",
        "\n",
        "#훈련데이터, 타겟데이터 나누기\n",
        "X = train.drop(['diagnosis'], axis=1)\n",
        "y = train['diagnosis']\n",
        "\n",
        "#스케일링\n",
        "scaler = StandardScaler()\n",
        "X = scaler.fit_transform(X)\n",
        "\n",
        "X_train, X_test, y_train, y_test = train_test_split(X, y, test_size=0.33, random_state =42, stratify=y)\n",
        "\n",
        "#모델 학습\n",
        "\n",
        "rf = RandomForestClassifier(random_state=42)\n",
        "rf.fit(X_train, y_train)\n",
        "\n",
        "y_pred = rf.predict(X_test)\n",
        "\n",
        "#평가지표 활용\n",
        "from sklearn.metrics import f1_score\n",
        "\n",
        "print(f1_score(y_test, y_pred))\n",
        "\n",
        "\n",
        "#제출 파일을 위하여 test데이터 전처리 진행\n",
        "test = scaler.fit_transform(test)\n",
        "y_pred = rf.predict(test)\n",
        "sub['0'] = y_pred\n",
        "sub.to_csv('수험번호.csv', index=False)"
      ],
      "execution_count": null,
      "outputs": [
        {
          "output_type": "stream",
          "name": "stdout",
          "text": [
            "0.9454545454545454\n"
          ]
        }
      ]
    },
    {
      "cell_type": "code",
      "metadata": {
        "colab": {
          "base_uri": "https://localhost:8080/"
        },
        "id": "2pc9KhXBISpA",
        "outputId": "ef4c5feb-443f-45ad-f61d-a565470e3769"
      },
      "source": [
        "trainData = \"https://raw.githubusercontent.com/Datamanim/datarepo/main/cancer/train.csv\"\n",
        "testData = \"https://raw.githubusercontent.com/Datamanim/datarepo/main/cancer/test.csv\"\n",
        "subData = \"https://raw.githubusercontent.com/Datamanim/datarepo/main/cancer/submission.csv\"\n",
        "\n",
        "import pandas as pd\n",
        "\n",
        "train = pd.read_csv(trainData)\n",
        "test = pd.read_csv(testData)\n",
        "sub = pd.read_csv(subData)\n",
        "\n",
        "print(train.info())\n",
        "\n",
        "from sklearn.model_selection import train_test_split\n",
        "from sklearn.preprocessing import LabelEncoder\n",
        "from sklearn.ensemble import RandomForestClassifier\n",
        "\n",
        "\n",
        "#데이터 전처리\n",
        "#모델에 영향을 주지 않는 칼럼제거\n",
        "for df in [train, test]:\n",
        "  df = df.drop('id', axis = 1)\n",
        "\n",
        "#범주형인 데이터를 변경하기\n",
        "\n",
        "label_encoder = LabelEncoder()\n",
        "train[\"diagnosis\"] = label_encoder.fit_transform(train[\"diagnosis\"])\n",
        "\n",
        "#데이터 분리하기\n",
        "X = train.drop([\"diagnosis\"], axis=1)\n",
        "y = train[\"diagnosis\"]\n",
        "\n",
        "X_train, X_test, y_train, y_test = train_test_split(X, y, test_size = 0.33, random_state=42, stratify = y)\n",
        "\n",
        "#모델링\n",
        "rf = RandomForestClassifier(random_state=42)\n",
        "rf.fit(X_train, y_train)\n",
        "\n",
        "#평가\n",
        "from sklearn.metrics import f1_score\n",
        "y_pred = rf.predict(X_test)\n",
        "\n",
        "\n",
        "result = f1_score(y_test, y_pred)\n",
        "print(result)\n",
        "pred = rf.predict(test)\n",
        "\n",
        "sub[\"0\"] = pred\n",
        "\n",
        "#제출\n",
        "sub.to_csv(\"수험번호.csv\", index=False)"
      ],
      "execution_count": null,
      "outputs": [
        {
          "output_type": "stream",
          "name": "stdout",
          "text": [
            "<class 'pandas.core.frame.DataFrame'>\n",
            "RangeIndex: 454 entries, 0 to 453\n",
            "Data columns (total 32 columns):\n",
            " #   Column             Non-Null Count  Dtype  \n",
            "---  ------             --------------  -----  \n",
            " 0   id                 454 non-null    int64  \n",
            " 1   diagnosis          454 non-null    object \n",
            " 2   radius_mean        454 non-null    float64\n",
            " 3   texture_mean       454 non-null    float64\n",
            " 4   perimeter_mean     454 non-null    float64\n",
            " 5   area_mean          454 non-null    float64\n",
            " 6   smoothness_mean    454 non-null    float64\n",
            " 7   compactness_mean   454 non-null    float64\n",
            " 8   concavity_mean     454 non-null    float64\n",
            " 9   points_mean        454 non-null    float64\n",
            " 10  symmetry_mean      454 non-null    float64\n",
            " 11  dimension_mean     454 non-null    float64\n",
            " 12  radius_se          454 non-null    float64\n",
            " 13  texture_se         454 non-null    float64\n",
            " 14  perimeter_se       454 non-null    float64\n",
            " 15  area_se            454 non-null    float64\n",
            " 16  smoothness_se      454 non-null    float64\n",
            " 17  compactness_se     454 non-null    float64\n",
            " 18  concavity_se       454 non-null    float64\n",
            " 19  points_se          454 non-null    float64\n",
            " 20  symmetry_se        454 non-null    float64\n",
            " 21  dimension_se       454 non-null    float64\n",
            " 22  radius_worst       454 non-null    float64\n",
            " 23  texture_worst      454 non-null    float64\n",
            " 24  perimeter_worst    454 non-null    float64\n",
            " 25  area_worst         454 non-null    float64\n",
            " 26  smoothness_worst   454 non-null    float64\n",
            " 27  compactness_worst  454 non-null    float64\n",
            " 28  concavity_worst    454 non-null    float64\n",
            " 29  points_worst       454 non-null    float64\n",
            " 30  symmetry_worst     454 non-null    float64\n",
            " 31  dimension_worst    454 non-null    float64\n",
            "dtypes: float64(30), int64(1), object(1)\n",
            "memory usage: 113.6+ KB\n",
            "None\n",
            "0.9541284403669724\n"
          ]
        }
      ]
    },
    {
      "cell_type": "code",
      "metadata": {
        "id": "plF0aY08ce1u"
      },
      "source": [
        ""
      ],
      "execution_count": null,
      "outputs": []
    }
  ]
}