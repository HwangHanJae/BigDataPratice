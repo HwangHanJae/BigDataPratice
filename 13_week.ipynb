{
  "nbformat": 4,
  "nbformat_minor": 0,
  "metadata": {
    "colab": {
      "name": "13_week.ipynb",
      "provenance": [],
      "collapsed_sections": [],
      "authorship_tag": "ABX9TyOuLY/wFrTMi3S+IUd0mHmm",
      "include_colab_link": true
    },
    "kernelspec": {
      "name": "python3",
      "display_name": "Python 3"
    },
    "language_info": {
      "name": "python"
    }
  },
  "cells": [
    {
      "cell_type": "markdown",
      "metadata": {
        "id": "view-in-github",
        "colab_type": "text"
      },
      "source": [
        "<a href=\"https://colab.research.google.com/github/HwangHanJae/BigDataPratice/blob/main/13_week.ipynb\" target=\"_parent\"><img src=\"https://colab.research.google.com/assets/colab-badge.svg\" alt=\"Open In Colab\"/></a>"
      ]
    },
    {
      "cell_type": "markdown",
      "metadata": {
        "id": "qoqmvaGanHe6"
      },
      "source": [
        "#작업형1"
      ]
    },
    {
      "cell_type": "markdown",
      "metadata": {
        "id": "jwP2APMznJMs"
      },
      "source": [
        "데이터 출처 :https://www.data.go.kr/data/15051872/fileData.do(참고, 데이터 수정)\n",
        "\n",
        "데이터 설명 : 서울특별시_공공자전거 시간대별 이용정보\n",
        "\n",
        "​\n",
        "\n",
        "data url = https://raw.githubusercontent.com/Datamanim/datarepo/main/bicycle/seoul_bi.csv"
      ]
    },
    {
      "cell_type": "code",
      "metadata": {
        "colab": {
          "base_uri": "https://localhost:8080/",
          "height": 206
        },
        "id": "62muROe2-i0B",
        "outputId": "fe69202a-8d6c-411b-fe7a-125d245caec0"
      },
      "source": [
        "\n",
        "import pandas as pd\n",
        "\n",
        "df = pd.read_csv(\"https://raw.githubusercontent.com/Datamanim/datarepo/main/bicycle/seoul_bi.csv\")\n",
        "\n",
        "df.head()"
      ],
      "execution_count": null,
      "outputs": [
        {
          "output_type": "execute_result",
          "data": {
            "text/html": [
              "<div>\n",
              "<style scoped>\n",
              "    .dataframe tbody tr th:only-of-type {\n",
              "        vertical-align: middle;\n",
              "    }\n",
              "\n",
              "    .dataframe tbody tr th {\n",
              "        vertical-align: top;\n",
              "    }\n",
              "\n",
              "    .dataframe thead th {\n",
              "        text-align: right;\n",
              "    }\n",
              "</style>\n",
              "<table border=\"1\" class=\"dataframe\">\n",
              "  <thead>\n",
              "    <tr style=\"text-align: right;\">\n",
              "      <th></th>\n",
              "      <th>대여일자</th>\n",
              "      <th>대여시간</th>\n",
              "      <th>대여소번호</th>\n",
              "      <th>대여구분코드</th>\n",
              "      <th>성별</th>\n",
              "      <th>연령대코드</th>\n",
              "      <th>이용건수</th>\n",
              "      <th>운동량</th>\n",
              "      <th>탄소량</th>\n",
              "      <th>이동거리</th>\n",
              "      <th>사용시간</th>\n",
              "    </tr>\n",
              "  </thead>\n",
              "  <tbody>\n",
              "    <tr>\n",
              "      <th>0</th>\n",
              "      <td>2021-06-01</td>\n",
              "      <td>0</td>\n",
              "      <td>3541</td>\n",
              "      <td>정기권</td>\n",
              "      <td>F</td>\n",
              "      <td>~10대</td>\n",
              "      <td>1</td>\n",
              "      <td>0.00</td>\n",
              "      <td>0.00</td>\n",
              "      <td>0.00</td>\n",
              "      <td>8</td>\n",
              "    </tr>\n",
              "    <tr>\n",
              "      <th>1</th>\n",
              "      <td>2021-06-01</td>\n",
              "      <td>0</td>\n",
              "      <td>765</td>\n",
              "      <td>정기권</td>\n",
              "      <td>F</td>\n",
              "      <td>~10대</td>\n",
              "      <td>1</td>\n",
              "      <td>27.21</td>\n",
              "      <td>0.35</td>\n",
              "      <td>1526.81</td>\n",
              "      <td>19</td>\n",
              "    </tr>\n",
              "    <tr>\n",
              "      <th>2</th>\n",
              "      <td>2021-06-01</td>\n",
              "      <td>0</td>\n",
              "      <td>2637</td>\n",
              "      <td>정기권</td>\n",
              "      <td>F</td>\n",
              "      <td>~10대</td>\n",
              "      <td>1</td>\n",
              "      <td>41.40</td>\n",
              "      <td>0.37</td>\n",
              "      <td>1608.56</td>\n",
              "      <td>18</td>\n",
              "    </tr>\n",
              "    <tr>\n",
              "      <th>3</th>\n",
              "      <td>2021-06-01</td>\n",
              "      <td>0</td>\n",
              "      <td>2919</td>\n",
              "      <td>정기권</td>\n",
              "      <td>F</td>\n",
              "      <td>~10대</td>\n",
              "      <td>1</td>\n",
              "      <td>0.00</td>\n",
              "      <td>0.00</td>\n",
              "      <td>0.00</td>\n",
              "      <td>75</td>\n",
              "    </tr>\n",
              "    <tr>\n",
              "      <th>4</th>\n",
              "      <td>2021-06-01</td>\n",
              "      <td>0</td>\n",
              "      <td>549</td>\n",
              "      <td>정기권</td>\n",
              "      <td>F</td>\n",
              "      <td>~10대</td>\n",
              "      <td>1</td>\n",
              "      <td>13.04</td>\n",
              "      <td>0.17</td>\n",
              "      <td>731.55</td>\n",
              "      <td>6</td>\n",
              "    </tr>\n",
              "  </tbody>\n",
              "</table>\n",
              "</div>"
            ],
            "text/plain": [
              "         대여일자  대여시간  대여소번호 대여구분코드 성별 연령대코드  이용건수    운동량   탄소량     이동거리  사용시간\n",
              "0  2021-06-01     0   3541    정기권  F  ~10대     1   0.00  0.00     0.00     8\n",
              "1  2021-06-01     0    765    정기권  F  ~10대     1  27.21  0.35  1526.81    19\n",
              "2  2021-06-01     0   2637    정기권  F  ~10대     1  41.40  0.37  1608.56    18\n",
              "3  2021-06-01     0   2919    정기권  F  ~10대     1   0.00  0.00     0.00    75\n",
              "4  2021-06-01     0    549    정기권  F  ~10대     1  13.04  0.17   731.55     6"
            ]
          },
          "metadata": {},
          "execution_count": 5
        }
      ]
    },
    {
      "cell_type": "markdown",
      "metadata": {
        "id": "b4-sk3lPnFWy"
      },
      "source": [
        "##Q1.  대여일자별 데이터의 수를 데이터프레임으로 출력하고, \n",
        "\n",
        "##가장 많은 데이터가 있는 날짜를 출력하라\n"
      ]
    },
    {
      "cell_type": "code",
      "metadata": {
        "colab": {
          "base_uri": "https://localhost:8080/",
          "height": 36
        },
        "id": "vBVIaRm4-OAV",
        "outputId": "af3cc1a7-3301-4e28-ae68-65d18df672d0"
      },
      "source": [
        "df.groupby([\"대여일자\"]).size().sort_values(ascending=False).head(1).to_frame().index[0]"
      ],
      "execution_count": null,
      "outputs": [
        {
          "output_type": "execute_result",
          "data": {
            "application/vnd.google.colaboratory.intrinsic+json": {
              "type": "string"
            },
            "text/plain": [
              "'2021-06-04'"
            ]
          },
          "metadata": {},
          "execution_count": 20
        }
      ]
    },
    {
      "cell_type": "code",
      "metadata": {
        "colab": {
          "base_uri": "https://localhost:8080/",
          "height": 507
        },
        "id": "1cWmjl1JAbpw",
        "outputId": "eee5d034-14d1-4c26-9654-c83277359c00"
      },
      "source": [
        "#Answer\n",
        "\n",
        "result = df[\"대여일자\"].value_counts().sort_values().to_frame()\n",
        "answer = result.loc[result[\"대여일자\"] == result[\"대여일자\"].max()].index[0]\n",
        "\n",
        "display(result)\n",
        "print(answer)"
      ],
      "execution_count": null,
      "outputs": [
        {
          "output_type": "display_data",
          "data": {
            "text/html": [
              "<div>\n",
              "<style scoped>\n",
              "    .dataframe tbody tr th:only-of-type {\n",
              "        vertical-align: middle;\n",
              "    }\n",
              "\n",
              "    .dataframe tbody tr th {\n",
              "        vertical-align: top;\n",
              "    }\n",
              "\n",
              "    .dataframe thead th {\n",
              "        text-align: right;\n",
              "    }\n",
              "</style>\n",
              "<table border=\"1\" class=\"dataframe\">\n",
              "  <thead>\n",
              "    <tr style=\"text-align: right;\">\n",
              "      <th></th>\n",
              "      <th>대여일자</th>\n",
              "    </tr>\n",
              "  </thead>\n",
              "  <tbody>\n",
              "    <tr>\n",
              "      <th>2021-06-03</th>\n",
              "      <td>18985</td>\n",
              "    </tr>\n",
              "    <tr>\n",
              "      <th>2021-06-10</th>\n",
              "      <td>36992</td>\n",
              "    </tr>\n",
              "    <tr>\n",
              "      <th>2021-06-13</th>\n",
              "      <td>43131</td>\n",
              "    </tr>\n",
              "    <tr>\n",
              "      <th>2021-06-06</th>\n",
              "      <td>47787</td>\n",
              "    </tr>\n",
              "    <tr>\n",
              "      <th>2021-06-01</th>\n",
              "      <td>48081</td>\n",
              "    </tr>\n",
              "    <tr>\n",
              "      <th>2021-06-12</th>\n",
              "      <td>48569</td>\n",
              "    </tr>\n",
              "    <tr>\n",
              "      <th>2021-06-11</th>\n",
              "      <td>52089</td>\n",
              "    </tr>\n",
              "    <tr>\n",
              "      <th>2021-06-07</th>\n",
              "      <td>52623</td>\n",
              "    </tr>\n",
              "    <tr>\n",
              "      <th>2021-06-05</th>\n",
              "      <td>52730</td>\n",
              "    </tr>\n",
              "    <tr>\n",
              "      <th>2021-06-09</th>\n",
              "      <td>54507</td>\n",
              "    </tr>\n",
              "    <tr>\n",
              "      <th>2021-06-14</th>\n",
              "      <td>54945</td>\n",
              "    </tr>\n",
              "    <tr>\n",
              "      <th>2021-06-08</th>\n",
              "      <td>55623</td>\n",
              "    </tr>\n",
              "    <tr>\n",
              "      <th>2021-06-02</th>\n",
              "      <td>56100</td>\n",
              "    </tr>\n",
              "    <tr>\n",
              "      <th>2021-06-04</th>\n",
              "      <td>56788</td>\n",
              "    </tr>\n",
              "  </tbody>\n",
              "</table>\n",
              "</div>"
            ],
            "text/plain": [
              "             대여일자\n",
              "2021-06-03  18985\n",
              "2021-06-10  36992\n",
              "2021-06-13  43131\n",
              "2021-06-06  47787\n",
              "2021-06-01  48081\n",
              "2021-06-12  48569\n",
              "2021-06-11  52089\n",
              "2021-06-07  52623\n",
              "2021-06-05  52730\n",
              "2021-06-09  54507\n",
              "2021-06-14  54945\n",
              "2021-06-08  55623\n",
              "2021-06-02  56100\n",
              "2021-06-04  56788"
            ]
          },
          "metadata": {}
        },
        {
          "output_type": "stream",
          "name": "stdout",
          "text": [
            "2021-06-04\n"
          ]
        }
      ]
    },
    {
      "cell_type": "markdown",
      "metadata": {
        "id": "RNVe7Vk3nMUd"
      },
      "source": [
        "##Q2. 각 일자의 요일을 표기하고 ('Monday' ~'Sunday') 'day_name'컬럼을 추가하고\n",
        "\n",
        "##이를 이용하여 각 요일별 이용 횟수의 총합을 데이터 프레임으로 출력하라\n"
      ]
    },
    {
      "cell_type": "code",
      "metadata": {
        "colab": {
          "base_uri": "https://localhost:8080/",
          "height": 300
        },
        "id": "jno39ZFxBEOG",
        "outputId": "bf51c587-a087-4bad-f2d2-7b8575990b4f"
      },
      "source": [
        "df[\"day_name\"] = pd.to_datetime(df[\"대여일자\"]).dt.day_name()\n",
        "df.groupby([\"day_name\"]).size().sort_values(ascending=False).to_frame()"
      ],
      "execution_count": null,
      "outputs": [
        {
          "output_type": "execute_result",
          "data": {
            "text/html": [
              "<div>\n",
              "<style scoped>\n",
              "    .dataframe tbody tr th:only-of-type {\n",
              "        vertical-align: middle;\n",
              "    }\n",
              "\n",
              "    .dataframe tbody tr th {\n",
              "        vertical-align: top;\n",
              "    }\n",
              "\n",
              "    .dataframe thead th {\n",
              "        text-align: right;\n",
              "    }\n",
              "</style>\n",
              "<table border=\"1\" class=\"dataframe\">\n",
              "  <thead>\n",
              "    <tr style=\"text-align: right;\">\n",
              "      <th></th>\n",
              "      <th>0</th>\n",
              "    </tr>\n",
              "    <tr>\n",
              "      <th>day_name</th>\n",
              "      <th></th>\n",
              "    </tr>\n",
              "  </thead>\n",
              "  <tbody>\n",
              "    <tr>\n",
              "      <th>Wednesday</th>\n",
              "      <td>110607</td>\n",
              "    </tr>\n",
              "    <tr>\n",
              "      <th>Friday</th>\n",
              "      <td>108877</td>\n",
              "    </tr>\n",
              "    <tr>\n",
              "      <th>Monday</th>\n",
              "      <td>107568</td>\n",
              "    </tr>\n",
              "    <tr>\n",
              "      <th>Tuesday</th>\n",
              "      <td>103704</td>\n",
              "    </tr>\n",
              "    <tr>\n",
              "      <th>Saturday</th>\n",
              "      <td>101299</td>\n",
              "    </tr>\n",
              "    <tr>\n",
              "      <th>Sunday</th>\n",
              "      <td>90918</td>\n",
              "    </tr>\n",
              "    <tr>\n",
              "      <th>Thursday</th>\n",
              "      <td>55977</td>\n",
              "    </tr>\n",
              "  </tbody>\n",
              "</table>\n",
              "</div>"
            ],
            "text/plain": [
              "                0\n",
              "day_name         \n",
              "Wednesday  110607\n",
              "Friday     108877\n",
              "Monday     107568\n",
              "Tuesday    103704\n",
              "Saturday   101299\n",
              "Sunday      90918\n",
              "Thursday    55977"
            ]
          },
          "metadata": {},
          "execution_count": 39
        }
      ]
    },
    {
      "cell_type": "code",
      "metadata": {
        "colab": {
          "base_uri": "https://localhost:8080/",
          "height": 269
        },
        "id": "Kf_PSq0LClh1",
        "outputId": "908637e1-1eb2-43af-e737-0ef56390eef9"
      },
      "source": [
        "#Answer\n",
        "df[\"day_name\"] = pd.to_datetime(df[\"대여일자\"]).dt.day_name()\n",
        "df[\"day_name\"].value_counts().to_frame()"
      ],
      "execution_count": null,
      "outputs": [
        {
          "output_type": "execute_result",
          "data": {
            "text/html": [
              "<div>\n",
              "<style scoped>\n",
              "    .dataframe tbody tr th:only-of-type {\n",
              "        vertical-align: middle;\n",
              "    }\n",
              "\n",
              "    .dataframe tbody tr th {\n",
              "        vertical-align: top;\n",
              "    }\n",
              "\n",
              "    .dataframe thead th {\n",
              "        text-align: right;\n",
              "    }\n",
              "</style>\n",
              "<table border=\"1\" class=\"dataframe\">\n",
              "  <thead>\n",
              "    <tr style=\"text-align: right;\">\n",
              "      <th></th>\n",
              "      <th>day_name</th>\n",
              "    </tr>\n",
              "  </thead>\n",
              "  <tbody>\n",
              "    <tr>\n",
              "      <th>Wednesday</th>\n",
              "      <td>110607</td>\n",
              "    </tr>\n",
              "    <tr>\n",
              "      <th>Friday</th>\n",
              "      <td>108877</td>\n",
              "    </tr>\n",
              "    <tr>\n",
              "      <th>Monday</th>\n",
              "      <td>107568</td>\n",
              "    </tr>\n",
              "    <tr>\n",
              "      <th>Tuesday</th>\n",
              "      <td>103704</td>\n",
              "    </tr>\n",
              "    <tr>\n",
              "      <th>Saturday</th>\n",
              "      <td>101299</td>\n",
              "    </tr>\n",
              "    <tr>\n",
              "      <th>Sunday</th>\n",
              "      <td>90918</td>\n",
              "    </tr>\n",
              "    <tr>\n",
              "      <th>Thursday</th>\n",
              "      <td>55977</td>\n",
              "    </tr>\n",
              "  </tbody>\n",
              "</table>\n",
              "</div>"
            ],
            "text/plain": [
              "           day_name\n",
              "Wednesday    110607\n",
              "Friday       108877\n",
              "Monday       107568\n",
              "Tuesday      103704\n",
              "Saturday     101299\n",
              "Sunday        90918\n",
              "Thursday      55977"
            ]
          },
          "metadata": {},
          "execution_count": 41
        }
      ]
    },
    {
      "cell_type": "markdown",
      "metadata": {
        "id": "4RBi4bx-nMRd"
      },
      "source": [
        "##Q3. 각 요일별 가장 많이 이용한 대여소의 이용횟수와 대여소 번호를 데이터 프레임으로 출력하라\n"
      ]
    },
    {
      "cell_type": "code",
      "metadata": {
        "colab": {
          "base_uri": "https://localhost:8080/"
        },
        "id": "e1_q45FyDZVd",
        "outputId": "914b52bc-43f5-417b-f063-ada7fcb1c517"
      },
      "source": [
        "#각 요일별 가장 많이 이용한 대여소의 이용횟수\n",
        "result = df.groupby([\"day_name\",\"대여소번호\"]).size().to_frame(\"size\").sort_values(by=[\"day_name\",\"size\"],ascending=False).reset_index()\n",
        "\n",
        "\n",
        "answer = result.drop_duplicates(\"day_name\", keep=\"first\").reset_index(drop=True)\n",
        "print(answer)"
      ],
      "execution_count": null,
      "outputs": [
        {
          "output_type": "stream",
          "name": "stdout",
          "text": [
            "    day_name  대여소번호  size\n",
            "0  Wednesday    502   282\n",
            "1    Tuesday    502   267\n",
            "2   Thursday   2715   137\n",
            "3     Sunday    502   372\n",
            "4   Saturday    502   378\n",
            "5     Monday    502   242\n",
            "6     Friday    502   277\n"
          ]
        }
      ]
    },
    {
      "cell_type": "markdown",
      "metadata": {
        "id": "HV4ln6JYnMOH"
      },
      "source": [
        "##Q4. 나이대별 대여구분 코드의 (일일권/전체횟수) 비율을 구한 후 \n",
        "\n",
        "##가장 높은 비율을 가지는 나이대를 확인하라. 일일권의 경우 일일권 과 일일권(비회원)을 모두 포함하라"
      ]
    },
    {
      "cell_type": "code",
      "metadata": {
        "colab": {
          "base_uri": "https://localhost:8080/"
        },
        "id": "ZgcKF46vHo8S",
        "outputId": "fefe9954-7976-4d86-f1c5-64205e053297"
      },
      "source": [
        "df[\"대여구분코드\"].unique()"
      ],
      "execution_count": null,
      "outputs": [
        {
          "output_type": "execute_result",
          "data": {
            "text/plain": [
              "array(['정기권', '일일권', '단체권', '일일권(비회원)'], dtype=object)"
            ]
          },
          "metadata": {},
          "execution_count": 88
        }
      ]
    },
    {
      "cell_type": "code",
      "metadata": {
        "colab": {
          "base_uri": "https://localhost:8080/"
        },
        "id": "XQO71JSQHL5h",
        "outputId": "0a71957a-0c30-485b-fff3-edd6c71a2e2d"
      },
      "source": [
        "daily = df.loc[df[\"대여구분코드\"].isin([\"일일권\",\"일일권(비회원)\"])][\"연령대코드\"].value_counts().sort_index()\n",
        "total = df[\"연령대코드\"].value_counts().sort_index()\n",
        "answer = (daily / total).sort_values(ascending=False)\n",
        "answer"
      ],
      "execution_count": null,
      "outputs": [
        {
          "output_type": "execute_result",
          "data": {
            "text/plain": [
              "~10대    0.312525\n",
              "20대     0.239913\n",
              "30대     0.166702\n",
              "40대     0.110585\n",
              "50대     0.065414\n",
              "70대~    0.048962\n",
              "60대     0.042462\n",
              "Name: 연령대코드, dtype: float64"
            ]
          },
          "metadata": {},
          "execution_count": 111
        }
      ]
    },
    {
      "cell_type": "markdown",
      "metadata": {
        "id": "w2ISA93InMKi"
      },
      "source": [
        "##Q5. 연령대별 평균 이동거리를 구하여라"
      ]
    },
    {
      "cell_type": "code",
      "metadata": {
        "colab": {
          "base_uri": "https://localhost:8080/",
          "height": 300
        },
        "id": "DNZDTHXVI-fh",
        "outputId": "bf981790-0b83-44f1-afd3-53c7fc4ccb8e"
      },
      "source": [
        "answer = df.groupby([\"연령대코드\"])[\"이동거리\"].mean().to_frame()\n",
        "answer"
      ],
      "execution_count": null,
      "outputs": [
        {
          "output_type": "execute_result",
          "data": {
            "text/html": [
              "<div>\n",
              "<style scoped>\n",
              "    .dataframe tbody tr th:only-of-type {\n",
              "        vertical-align: middle;\n",
              "    }\n",
              "\n",
              "    .dataframe tbody tr th {\n",
              "        vertical-align: top;\n",
              "    }\n",
              "\n",
              "    .dataframe thead th {\n",
              "        text-align: right;\n",
              "    }\n",
              "</style>\n",
              "<table border=\"1\" class=\"dataframe\">\n",
              "  <thead>\n",
              "    <tr style=\"text-align: right;\">\n",
              "      <th></th>\n",
              "      <th>이동거리</th>\n",
              "    </tr>\n",
              "    <tr>\n",
              "      <th>연령대코드</th>\n",
              "      <th></th>\n",
              "    </tr>\n",
              "  </thead>\n",
              "  <tbody>\n",
              "    <tr>\n",
              "      <th>20대</th>\n",
              "      <td>3211.890552</td>\n",
              "    </tr>\n",
              "    <tr>\n",
              "      <th>30대</th>\n",
              "      <td>3341.443859</td>\n",
              "    </tr>\n",
              "    <tr>\n",
              "      <th>40대</th>\n",
              "      <td>3514.857416</td>\n",
              "    </tr>\n",
              "    <tr>\n",
              "      <th>50대</th>\n",
              "      <td>3593.668100</td>\n",
              "    </tr>\n",
              "    <tr>\n",
              "      <th>60대</th>\n",
              "      <td>3538.145737</td>\n",
              "    </tr>\n",
              "    <tr>\n",
              "      <th>70대~</th>\n",
              "      <td>3085.039641</td>\n",
              "    </tr>\n",
              "    <tr>\n",
              "      <th>~10대</th>\n",
              "      <td>2634.426279</td>\n",
              "    </tr>\n",
              "  </tbody>\n",
              "</table>\n",
              "</div>"
            ],
            "text/plain": [
              "              이동거리\n",
              "연령대코드             \n",
              "20대    3211.890552\n",
              "30대    3341.443859\n",
              "40대    3514.857416\n",
              "50대    3593.668100\n",
              "60대    3538.145737\n",
              "70대~   3085.039641\n",
              "~10대   2634.426279"
            ]
          },
          "metadata": {},
          "execution_count": 115
        }
      ]
    },
    {
      "cell_type": "markdown",
      "metadata": {
        "id": "xRLkcomknMHE"
      },
      "source": [
        "##Q6. 연령대 코드가 20대인 데이터를 추출하고, \n",
        "\n",
        "##이동거리값이 추출한 데이터의 이동거리값의 평균 이상인 데이터를 추출한다\n",
        "\n",
        "##최종 추출된 데이터를 대여일자, 대여소 번호 순서로 내림차순 정렬 후 \n",
        "\n",
        "##1행부터 200행까지의 탄소량의 평균을 소숫점 3째 자리까지 구하여라"
      ]
    },
    {
      "cell_type": "code",
      "metadata": {
        "colab": {
          "base_uri": "https://localhost:8080/"
        },
        "id": "0H7c35fiJU4e",
        "outputId": "4a64a437-d72c-4d86-89f9-478f46f52721"
      },
      "source": [
        "#연령대코드 20대 데이터 추출\n",
        "df_20 = df.loc[df[\"연령대코드\"] == \"20대\"]\n",
        "#이동거리값이 추출한 데이터의 이동거리값의 평균 이상인 데이터를 추출\n",
        "target = df_20.loc[df[\"이동거리\"] >= df_20[\"이동거리\"].mean()]\n",
        "#최종 추출된 데이터를 대여일자, 대여소 번호 순서로 내림차순 정렬 후\n",
        "target = target.sort_values(by=[\"대여일자\",\"대여소번호\"], ascending=False)\n",
        "#1행부터 200행까지의 탄소량의 평균을 소숫점 3째자리까지\n",
        "import numpy as np\n",
        "np.round(target[0:200][\"탄소량\"].astype(float).mean(),3)"
      ],
      "execution_count": null,
      "outputs": [
        {
          "output_type": "execute_result",
          "data": {
            "text/plain": [
              "1.613"
            ]
          },
          "metadata": {},
          "execution_count": 149
        }
      ]
    },
    {
      "cell_type": "code",
      "metadata": {
        "colab": {
          "base_uri": "https://localhost:8080/"
        },
        "id": "qWu-8VBqMLXz",
        "outputId": "5a0afab8-53d5-469c-830e-1f8e32828554"
      },
      "source": [
        "#Answer\n",
        "#연령대코드 20대 데이터 추출\n",
        "tw = df[df[\"연령대코드\"] == \"20대\"].reset_index(drop=True)\n",
        "#이동거리값이 추출한 데이터의 이동거리값의 평균 이상인 데이터를 추출\n",
        "tw_mean = tw[tw[\"이동거리\"] >= tw[\"이동거리\"].mean()]\n",
        "#최종 추출된 데이터를 대여일자, 대여소 번호 순서로 내림차순 정렬 후\n",
        "tw_mean[\"탄소량\"] = tw_mean[\"탄소량\"].astype(float)\n",
        "target = tw_mean.sort_values([\"대여일자\",\"대여소번호\"], ascending=False).reset_index(drop=True)\n",
        "#1행부터 200행까지의 탄소량의 평균을 소숫점 3째자리까지\n",
        "answer = round(target[0:200][\"탄소량\"].mean(),3)\n",
        "print(answer)"
      ],
      "execution_count": null,
      "outputs": [
        {
          "output_type": "stream",
          "name": "stdout",
          "text": [
            "1.613\n"
          ]
        },
        {
          "output_type": "stream",
          "name": "stderr",
          "text": [
            "/usr/local/lib/python3.7/dist-packages/ipykernel_launcher.py:7: SettingWithCopyWarning: \n",
            "A value is trying to be set on a copy of a slice from a DataFrame.\n",
            "Try using .loc[row_indexer,col_indexer] = value instead\n",
            "\n",
            "See the caveats in the documentation: https://pandas.pydata.org/pandas-docs/stable/user_guide/indexing.html#returning-a-view-versus-a-copy\n",
            "  import sys\n"
          ]
        }
      ]
    },
    {
      "cell_type": "markdown",
      "metadata": {
        "id": "MkQye5AHnMDe"
      },
      "source": [
        "##Q7. 6월 7일 ~10대의 \"이용건수\"의 중앙값은?"
      ]
    },
    {
      "cell_type": "code",
      "metadata": {
        "colab": {
          "base_uri": "https://localhost:8080/"
        },
        "id": "799QkBaDPfH1",
        "outputId": "0ce94ac2-8148-4f05-a2e3-9939dbf9824c"
      },
      "source": [
        "answer = df.loc[(pd.to_datetime(df[\"대여일자\"]) == pd.to_datetime(\"2021/06/07\")) & (df[\"연령대코드\"] == \"~10대\")][\"이용건수\"].median()\n",
        "\n",
        "print(answer)"
      ],
      "execution_count": null,
      "outputs": [
        {
          "output_type": "stream",
          "name": "stdout",
          "text": [
            "1.0\n"
          ]
        }
      ]
    },
    {
      "cell_type": "code",
      "metadata": {
        "colab": {
          "base_uri": "https://localhost:8080/"
        },
        "id": "xTLl0oFpQKrf",
        "outputId": "365fa63f-8b9d-4a84-accf-cfe8ae435c17"
      },
      "source": [
        "#Answer\n",
        "df[\"대여일자\"] = pd.to_datetime(df[\"대여일자\"])\n",
        "result = df.loc[(df[\"연령대코드\"] == \"~10대\") & (df[\"대여일자\"] == pd.to_datetime(\"2021-06-07\"))][\"이용건수\"]\n",
        "answer = result.median()\n",
        "\n",
        "print(answer)"
      ],
      "execution_count": null,
      "outputs": [
        {
          "output_type": "stream",
          "name": "stdout",
          "text": [
            "1.0\n"
          ]
        }
      ]
    },
    {
      "cell_type": "markdown",
      "metadata": {
        "id": "1z_BPUT-nMAQ"
      },
      "source": [
        "##Q8. 평일 (월~금) 출근 시간대(오전 6,7,8시)의 대여소별 \n",
        "\n",
        "##이용 횟수를 구해서 데이터 프레임 형태로 표현한 후\n",
        "\n",
        "##각 대여시간별 이용 횟수의 상위 3개 대여소와 이용횟수를 출력하라"
      ]
    },
    {
      "cell_type": "code",
      "metadata": {
        "colab": {
          "base_uri": "https://localhost:8080/"
        },
        "id": "7aiXNvpbSIwW",
        "outputId": "f1b4bc5b-6f26-4fdd-a6cf-965446f190f7"
      },
      "source": [
        "df[\"대여시간\"].unique()"
      ],
      "execution_count": null,
      "outputs": [
        {
          "output_type": "execute_result",
          "data": {
            "text/plain": [
              "array([ 0,  1,  2,  3,  4,  5,  6,  7,  8,  9, 10, 11, 12, 13, 14, 15, 16,\n",
              "       17, 18, 19, 20, 21, 22, 23])"
            ]
          },
          "metadata": {},
          "execution_count": 186
        }
      ]
    },
    {
      "cell_type": "code",
      "metadata": {
        "colab": {
          "base_uri": "https://localhost:8080/",
          "height": 363
        },
        "id": "U7Kj9NmDQ09Q",
        "outputId": "417821b8-07f5-4c5e-d12f-54180f03ae37"
      },
      "source": [
        "df[\"day_of_week\"] = df[\"대여일자\"].dt.dayofweek\n",
        "#평일(월~금) 출근 시간대(오전 6,7,8)\n",
        "target = df.loc[(df[\"day_of_week\"] < 5)  & (df[\"대여시간\"].isin([6,7,8]))]\n",
        "#대여소별 이용횟수를 구하여 데이터 프레임 형태로 표현\n",
        "result = target.groupby([\"대여시간\",\"대여소번호\"]).size().to_frame(\"이용횟수\")\n",
        "#각 대여시간별 이용횟수의 상위 3개 대여소와 이용횟수를 출력\n",
        "answer = result.sort_values([\"대여시간\",\"이용횟수\"], ascending=False).groupby([\"대여시간\"]).head(3)\n",
        "\n",
        "answer"
      ],
      "execution_count": null,
      "outputs": [
        {
          "output_type": "execute_result",
          "data": {
            "text/html": [
              "<div>\n",
              "<style scoped>\n",
              "    .dataframe tbody tr th:only-of-type {\n",
              "        vertical-align: middle;\n",
              "    }\n",
              "\n",
              "    .dataframe tbody tr th {\n",
              "        vertical-align: top;\n",
              "    }\n",
              "\n",
              "    .dataframe thead th {\n",
              "        text-align: right;\n",
              "    }\n",
              "</style>\n",
              "<table border=\"1\" class=\"dataframe\">\n",
              "  <thead>\n",
              "    <tr style=\"text-align: right;\">\n",
              "      <th></th>\n",
              "      <th></th>\n",
              "      <th>이용횟수</th>\n",
              "    </tr>\n",
              "    <tr>\n",
              "      <th>대여시간</th>\n",
              "      <th>대여소번호</th>\n",
              "      <th></th>\n",
              "    </tr>\n",
              "  </thead>\n",
              "  <tbody>\n",
              "    <tr>\n",
              "      <th rowspan=\"3\" valign=\"top\">8</th>\n",
              "      <th>2701</th>\n",
              "      <td>119</td>\n",
              "    </tr>\n",
              "    <tr>\n",
              "      <th>646</th>\n",
              "      <td>115</td>\n",
              "    </tr>\n",
              "    <tr>\n",
              "      <th>1152</th>\n",
              "      <td>92</td>\n",
              "    </tr>\n",
              "    <tr>\n",
              "      <th rowspan=\"3\" valign=\"top\">7</th>\n",
              "      <th>259</th>\n",
              "      <td>104</td>\n",
              "    </tr>\n",
              "    <tr>\n",
              "      <th>230</th>\n",
              "      <td>77</td>\n",
              "    </tr>\n",
              "    <tr>\n",
              "      <th>726</th>\n",
              "      <td>77</td>\n",
              "    </tr>\n",
              "    <tr>\n",
              "      <th rowspan=\"3\" valign=\"top\">6</th>\n",
              "      <th>2744</th>\n",
              "      <td>45</td>\n",
              "    </tr>\n",
              "    <tr>\n",
              "      <th>1125</th>\n",
              "      <td>40</td>\n",
              "    </tr>\n",
              "    <tr>\n",
              "      <th>1028</th>\n",
              "      <td>36</td>\n",
              "    </tr>\n",
              "  </tbody>\n",
              "</table>\n",
              "</div>"
            ],
            "text/plain": [
              "            이용횟수\n",
              "대여시간 대여소번호      \n",
              "8    2701    119\n",
              "     646     115\n",
              "     1152     92\n",
              "7    259     104\n",
              "     230      77\n",
              "     726      77\n",
              "6    2744     45\n",
              "     1125     40\n",
              "     1028     36"
            ]
          },
          "metadata": {},
          "execution_count": 229
        }
      ]
    },
    {
      "cell_type": "markdown",
      "metadata": {
        "id": "TXMF1-UInL7M"
      },
      "source": [
        "##Q9. 이동거리의 평균 이상의 이동거리 값을 가지는 데이터를 추출하여 \n",
        "\n",
        "##추출데이터의 이동거리의 표본표준편차 값을 구하여라"
      ]
    },
    {
      "cell_type": "code",
      "metadata": {
        "id": "Nc_NiHzhW8Hv",
        "colab": {
          "base_uri": "https://localhost:8080/"
        },
        "outputId": "15ed872d-c26a-4613-fe50-f06fb371d35c"
      },
      "source": [
        "import numpy as np\n",
        "#이동거리의 평균 이상의 이동거리 값을 가지는 데이터 추출\n",
        "target = df[df[\"이동거리\"] >= df[\"이동거리\"].mean()]\n",
        "#표준편차\n",
        "answer = target[\"이동거리\"].std()\n",
        "\n",
        "print(answer)"
      ],
      "execution_count": 244,
      "outputs": [
        {
          "output_type": "execute_result",
          "data": {
            "text/plain": [
              "5092.139707505305"
            ]
          },
          "metadata": {},
          "execution_count": 244
        }
      ]
    },
    {
      "cell_type": "markdown",
      "metadata": {
        "id": "-PsAGOGEnLiE"
      },
      "source": [
        "##Q10. 남성('M' or 'm')과 여성('F' or 'f')의 이동거리값의 평균값을 구하여라"
      ]
    },
    {
      "cell_type": "code",
      "metadata": {
        "colab": {
          "base_uri": "https://localhost:8080/",
          "height": 143
        },
        "id": "hybIcl-2bb2v",
        "outputId": "69dcc629-d431-4dda-b628-bc6424b44915"
      },
      "source": [
        "df[\"성별\"].unique()\n",
        "\n",
        "def check(x):\n",
        "  if x == \"M\" or x == \"m\":\n",
        "    return \"M\"\n",
        "  elif x == \"F\" or x == \"f\":\n",
        "    return \"F\"\n",
        "\n",
        "df[\"성별\"] = df[\"성별\"].apply(check)\n",
        "answer = df[[\"성별\",\"이동거리\"]].groupby([\"성별\"]).mean()\n",
        "answer"
      ],
      "execution_count": 256,
      "outputs": [
        {
          "output_type": "execute_result",
          "data": {
            "text/html": [
              "<div>\n",
              "<style scoped>\n",
              "    .dataframe tbody tr th:only-of-type {\n",
              "        vertical-align: middle;\n",
              "    }\n",
              "\n",
              "    .dataframe tbody tr th {\n",
              "        vertical-align: top;\n",
              "    }\n",
              "\n",
              "    .dataframe thead th {\n",
              "        text-align: right;\n",
              "    }\n",
              "</style>\n",
              "<table border=\"1\" class=\"dataframe\">\n",
              "  <thead>\n",
              "    <tr style=\"text-align: right;\">\n",
              "      <th></th>\n",
              "      <th>이동거리</th>\n",
              "    </tr>\n",
              "    <tr>\n",
              "      <th>성별</th>\n",
              "      <th></th>\n",
              "    </tr>\n",
              "  </thead>\n",
              "  <tbody>\n",
              "    <tr>\n",
              "      <th>F</th>\n",
              "      <td>3468.575025</td>\n",
              "    </tr>\n",
              "    <tr>\n",
              "      <th>M</th>\n",
              "      <td>3209.110871</td>\n",
              "    </tr>\n",
              "  </tbody>\n",
              "</table>\n",
              "</div>"
            ],
            "text/plain": [
              "           이동거리\n",
              "성별             \n",
              "F   3468.575025\n",
              "M   3209.110871"
            ]
          },
          "metadata": {},
          "execution_count": 256
        }
      ]
    }
  ]
}