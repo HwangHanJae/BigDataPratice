{
  "nbformat": 4,
  "nbformat_minor": 0,
  "metadata": {
    "colab": {
      "name": "12_week.ipynb",
      "provenance": [],
      "collapsed_sections": [],
      "authorship_tag": "ABX9TyPMtywSVdJ/YFuz9G+HZ2Gw",
      "include_colab_link": true
    },
    "kernelspec": {
      "name": "python3",
      "display_name": "Python 3"
    },
    "language_info": {
      "name": "python"
    }
  },
  "cells": [
    {
      "cell_type": "markdown",
      "metadata": {
        "id": "view-in-github",
        "colab_type": "text"
      },
      "source": [
        "<a href=\"https://colab.research.google.com/github/HwangHanJae/BigDataPratice/blob/main/12_week.ipynb\" target=\"_parent\"><img src=\"https://colab.research.google.com/assets/colab-badge.svg\" alt=\"Open In Colab\"/></a>"
      ]
    },
    {
      "cell_type": "markdown",
      "metadata": {
        "id": "QmeSp2F1JD4Z"
      },
      "source": [
        "데이터 출처 :https://www.kaggle.com/darinhawley/fifa-world-cup-goalscorers-19302018(참고, 데이터 수정)\n",
        "\n",
        "데이터 설명 : 1930 ~2018년도 월드컵 출전선수 골기록\n",
        "\n",
        "​\n",
        "\n",
        "data url = https://raw.githubusercontent.com/Datamanim/datarepo/main/worldcup/worldcupgoals.csv"
      ]
    },
    {
      "cell_type": "code",
      "metadata": {
        "id": "PL01u_QkJHJB"
      },
      "source": [
        "#라이브러리 로드\n",
        "\n",
        "import pandas as pd\n",
        "\n",
        "df = pd.read_csv(\"https://raw.githubusercontent.com/Datamanim/datarepo/main/worldcup/worldcupgoals.csv\")"
      ],
      "execution_count": 1,
      "outputs": []
    },
    {
      "cell_type": "code",
      "metadata": {
        "colab": {
          "base_uri": "https://localhost:8080/",
          "height": 206
        },
        "id": "1d1ETRSlJIJ_",
        "outputId": "862259e3-40d2-422a-872a-e36191d81c7d"
      },
      "source": [
        "df.head()"
      ],
      "execution_count": 2,
      "outputs": [
        {
          "output_type": "execute_result",
          "data": {
            "text/html": [
              "<div>\n",
              "<style scoped>\n",
              "    .dataframe tbody tr th:only-of-type {\n",
              "        vertical-align: middle;\n",
              "    }\n",
              "\n",
              "    .dataframe tbody tr th {\n",
              "        vertical-align: top;\n",
              "    }\n",
              "\n",
              "    .dataframe thead th {\n",
              "        text-align: right;\n",
              "    }\n",
              "</style>\n",
              "<table border=\"1\" class=\"dataframe\">\n",
              "  <thead>\n",
              "    <tr style=\"text-align: right;\">\n",
              "      <th></th>\n",
              "      <th>Player</th>\n",
              "      <th>Goals</th>\n",
              "      <th>Years</th>\n",
              "      <th>Country</th>\n",
              "    </tr>\n",
              "  </thead>\n",
              "  <tbody>\n",
              "    <tr>\n",
              "      <th>0</th>\n",
              "      <td>Miroslav Klose</td>\n",
              "      <td>16</td>\n",
              "      <td>2002-2006-2010-2014</td>\n",
              "      <td>Germany</td>\n",
              "    </tr>\n",
              "    <tr>\n",
              "      <th>1</th>\n",
              "      <td>Ronaldo</td>\n",
              "      <td>15</td>\n",
              "      <td>1998-2002-2006</td>\n",
              "      <td>Brazil</td>\n",
              "    </tr>\n",
              "    <tr>\n",
              "      <th>2</th>\n",
              "      <td>Gerd Muller</td>\n",
              "      <td>14</td>\n",
              "      <td>1970-1974</td>\n",
              "      <td>Germany</td>\n",
              "    </tr>\n",
              "    <tr>\n",
              "      <th>3</th>\n",
              "      <td>Just Fontaine</td>\n",
              "      <td>13</td>\n",
              "      <td>1958</td>\n",
              "      <td>France</td>\n",
              "    </tr>\n",
              "    <tr>\n",
              "      <th>4</th>\n",
              "      <td>Pele</td>\n",
              "      <td>12</td>\n",
              "      <td>1958-1962-1966-1970</td>\n",
              "      <td>Brazil</td>\n",
              "    </tr>\n",
              "  </tbody>\n",
              "</table>\n",
              "</div>"
            ],
            "text/plain": [
              "           Player  Goals                Years  Country\n",
              "0  Miroslav Klose     16  2002-2006-2010-2014  Germany\n",
              "1         Ronaldo     15       1998-2002-2006   Brazil\n",
              "2     Gerd Muller     14            1970-1974  Germany\n",
              "3   Just Fontaine     13                 1958   France\n",
              "4            Pele     12  1958-1962-1966-1970   Brazil"
            ]
          },
          "metadata": {},
          "execution_count": 2
        }
      ]
    },
    {
      "cell_type": "markdown",
      "metadata": {
        "id": "Mf_VlzUzJSFy"
      },
      "source": [
        "##Q1.  주어진 전체 기간의 각 나라별 골득점수 상위 5개 국가와 그 득점수를 데이터프레임형태로 출력하라주\n"
      ]
    },
    {
      "cell_type": "code",
      "metadata": {
        "colab": {
          "base_uri": "https://localhost:8080/",
          "height": 237
        },
        "id": "p8PvAIwvJP6p",
        "outputId": "382a70ef-a686-4746-9be5-a147a533b5eb"
      },
      "source": [
        "df.groupby(\"Country\")[\"Goals\"].sum().sort_values(ascending=False).head(5).to_frame()"
      ],
      "execution_count": 12,
      "outputs": [
        {
          "output_type": "execute_result",
          "data": {
            "text/html": [
              "<div>\n",
              "<style scoped>\n",
              "    .dataframe tbody tr th:only-of-type {\n",
              "        vertical-align: middle;\n",
              "    }\n",
              "\n",
              "    .dataframe tbody tr th {\n",
              "        vertical-align: top;\n",
              "    }\n",
              "\n",
              "    .dataframe thead th {\n",
              "        text-align: right;\n",
              "    }\n",
              "</style>\n",
              "<table border=\"1\" class=\"dataframe\">\n",
              "  <thead>\n",
              "    <tr style=\"text-align: right;\">\n",
              "      <th></th>\n",
              "      <th>Goals</th>\n",
              "    </tr>\n",
              "    <tr>\n",
              "      <th>Country</th>\n",
              "      <th></th>\n",
              "    </tr>\n",
              "  </thead>\n",
              "  <tbody>\n",
              "    <tr>\n",
              "      <th>Brazil</th>\n",
              "      <td>228</td>\n",
              "    </tr>\n",
              "    <tr>\n",
              "      <th>Germany</th>\n",
              "      <td>226</td>\n",
              "    </tr>\n",
              "    <tr>\n",
              "      <th>Argentina</th>\n",
              "      <td>135</td>\n",
              "    </tr>\n",
              "    <tr>\n",
              "      <th>Italy</th>\n",
              "      <td>123</td>\n",
              "    </tr>\n",
              "    <tr>\n",
              "      <th>France</th>\n",
              "      <td>115</td>\n",
              "    </tr>\n",
              "  </tbody>\n",
              "</table>\n",
              "</div>"
            ],
            "text/plain": [
              "           Goals\n",
              "Country         \n",
              "Brazil       228\n",
              "Germany      226\n",
              "Argentina    135\n",
              "Italy        123\n",
              "France       115"
            ]
          },
          "metadata": {},
          "execution_count": 12
        }
      ]
    },
    {
      "cell_type": "code",
      "metadata": {
        "colab": {
          "base_uri": "https://localhost:8080/"
        },
        "id": "9QTvjxKUJUHO",
        "outputId": "9354c85a-5409-4302-de13-a380888098ab"
      },
      "source": [
        "#Answer\n",
        "\n",
        "result = df.groupby(\"Country\").sum().sort_values(\"Goals\", ascending=False).head(5)\n",
        "\n",
        "print(result)"
      ],
      "execution_count": 15,
      "outputs": [
        {
          "output_type": "stream",
          "name": "stdout",
          "text": [
            "           Goals\n",
            "Country         \n",
            "Brazil       228\n",
            "Germany      226\n",
            "Argentina    135\n",
            "Italy        123\n",
            "France       115\n"
          ]
        }
      ]
    },
    {
      "cell_type": "markdown",
      "metadata": {
        "id": "XYWAkzkhJ6kr"
      },
      "source": [
        "##Q2. 주어진 전체기간동안 골득점을 한 선수가 가장 많은 나라 상위 5개 국가와 그 선수 숫자를 데이터 프레임 형식으로 출력하라"
      ]
    },
    {
      "cell_type": "code",
      "metadata": {
        "colab": {
          "base_uri": "https://localhost:8080/",
          "height": 237
        },
        "id": "1vSfo-lHKBtz",
        "outputId": "9ac3475f-5c39-45c9-ac5b-5af7fecd412f"
      },
      "source": [
        "df.groupby(\"Country\").count().sort_values(\"Player\", ascending=False)[\"Player\"].head(5).to_frame()"
      ],
      "execution_count": 20,
      "outputs": [
        {
          "output_type": "execute_result",
          "data": {
            "text/html": [
              "<div>\n",
              "<style scoped>\n",
              "    .dataframe tbody tr th:only-of-type {\n",
              "        vertical-align: middle;\n",
              "    }\n",
              "\n",
              "    .dataframe tbody tr th {\n",
              "        vertical-align: top;\n",
              "    }\n",
              "\n",
              "    .dataframe thead th {\n",
              "        text-align: right;\n",
              "    }\n",
              "</style>\n",
              "<table border=\"1\" class=\"dataframe\">\n",
              "  <thead>\n",
              "    <tr style=\"text-align: right;\">\n",
              "      <th></th>\n",
              "      <th>Player</th>\n",
              "    </tr>\n",
              "    <tr>\n",
              "      <th>Country</th>\n",
              "      <th></th>\n",
              "    </tr>\n",
              "  </thead>\n",
              "  <tbody>\n",
              "    <tr>\n",
              "      <th>Brazil</th>\n",
              "      <td>81</td>\n",
              "    </tr>\n",
              "    <tr>\n",
              "      <th>Germany</th>\n",
              "      <td>78</td>\n",
              "    </tr>\n",
              "    <tr>\n",
              "      <th>Italy</th>\n",
              "      <td>60</td>\n",
              "    </tr>\n",
              "    <tr>\n",
              "      <th>Argentina</th>\n",
              "      <td>59</td>\n",
              "    </tr>\n",
              "    <tr>\n",
              "      <th>France</th>\n",
              "      <td>58</td>\n",
              "    </tr>\n",
              "  </tbody>\n",
              "</table>\n",
              "</div>"
            ],
            "text/plain": [
              "           Player\n",
              "Country          \n",
              "Brazil         81\n",
              "Germany        78\n",
              "Italy          60\n",
              "Argentina      59\n",
              "France         58"
            ]
          },
          "metadata": {},
          "execution_count": 20
        }
      ]
    },
    {
      "cell_type": "code",
      "metadata": {
        "colab": {
          "base_uri": "https://localhost:8080/"
        },
        "id": "Q9_TDoyJKFzx",
        "outputId": "79d147a5-ecc5-4f5e-f120-a8da4b550b15"
      },
      "source": [
        "#Answer\n",
        "result = df.groupby(\"Country\").size().sort_values(ascending=False).head(5)\n",
        "\n",
        "print(result)"
      ],
      "execution_count": 22,
      "outputs": [
        {
          "output_type": "stream",
          "name": "stdout",
          "text": [
            "Country\n",
            "Brazil       81\n",
            "Germany      78\n",
            "Italy        60\n",
            "Argentina    59\n",
            "France       58\n",
            "dtype: int64\n"
          ]
        }
      ]
    },
    {
      "cell_type": "markdown",
      "metadata": {
        "id": "vRkUItxpKc4X"
      },
      "source": [
        "##Q3. Years 컬럼은 년도 -년도 형식으로 구성되어있고, 각 년도는 4자리 숫자이다. 년도 표기가 4자리 숫자로 안된 케이스가 존재한다. 해당 건은 몇건인지 출력하라\n"
      ]
    },
    {
      "cell_type": "code",
      "metadata": {
        "colab": {
          "base_uri": "https://localhost:8080/"
        },
        "id": "GGbdEcTdKkM2",
        "outputId": "db4e03e8-a437-4869-f4e1-27daec412a15"
      },
      "source": [
        "#Answer\n",
        "\n",
        "df[\"YearLst\"] = df[\"Years\"].str.split(\"-\")\n",
        "\n",
        "def checkFour(x):\n",
        "  for value in x:\n",
        "    if len(str(value)) != 4:\n",
        "      return False\n",
        "    else:\n",
        "      return True\n",
        "\n",
        "df[\"check\"] = df[\"YearLst\"].apply(checkFour)\n",
        "\n",
        "result = df.loc[df[\"check\"] == False]\n",
        "\n",
        "result[\"check\"].count()"
      ],
      "execution_count": 38,
      "outputs": [
        {
          "output_type": "execute_result",
          "data": {
            "text/plain": [
              "45"
            ]
          },
          "metadata": {},
          "execution_count": 38
        }
      ]
    },
    {
      "cell_type": "markdown",
      "metadata": {
        "id": "aHHg6GCeKk0G"
      },
      "source": [
        "##Q4. Q3에서 발생한 예외 케이스를 제외한 데이터프레임을 df2라고 정의하고 데이터의 행의 숫자를 출력하라 \n",
        "##(아래 문제부터는 df2로 풀이하겠습니다) "
      ]
    },
    {
      "cell_type": "code",
      "metadata": {
        "colab": {
          "base_uri": "https://localhost:8080/"
        },
        "id": "Ts-wO9U6LDc9",
        "outputId": "813ab260-2d0b-44ac-d841-f0f25f8d00f1"
      },
      "source": [
        "df2 = df.loc[df[\"check\"] ==True]\n",
        "\n",
        "df2.shape[0]"
      ],
      "execution_count": 41,
      "outputs": [
        {
          "output_type": "execute_result",
          "data": {
            "text/plain": [
              "1250"
            ]
          },
          "metadata": {},
          "execution_count": 41
        }
      ]
    },
    {
      "cell_type": "code",
      "metadata": {
        "colab": {
          "base_uri": "https://localhost:8080/"
        },
        "id": "xk1Dnv6wNB6A",
        "outputId": "c32c2a2c-0aba-412d-d894-1cfc3a3d8d5d"
      },
      "source": [
        "#Answer\n",
        "\n",
        "df2 = df2[df.check == True].reset_index(drop=True)\n",
        "\n",
        "print(df2.shape[0])"
      ],
      "execution_count": 45,
      "outputs": [
        {
          "output_type": "stream",
          "name": "stdout",
          "text": [
            "1250\n"
          ]
        },
        {
          "output_type": "stream",
          "name": "stderr",
          "text": [
            "/usr/local/lib/python3.7/dist-packages/ipykernel_launcher.py:3: UserWarning: Boolean Series key will be reindexed to match DataFrame index.\n",
            "  This is separate from the ipykernel package so we can avoid doing imports until\n"
          ]
        }
      ]
    },
    {
      "cell_type": "code",
      "metadata": {
        "colab": {
          "base_uri": "https://localhost:8080/"
        },
        "id": "p9OwkBehMMJe",
        "outputId": "319c221d-c598-4aa3-ccbc-68693f184820"
      },
      "source": [
        "def len_cup_check(x):\n",
        "  return len(x)\n",
        "\n",
        "\n",
        "df2[\"LenCup\"] = df2[\"YearLst\"].apply(len_cup_check)\n",
        "\n",
        "\n",
        "df2.loc[df2[\"LenCup\"] == 4,\"Player\"].count()"
      ],
      "execution_count": 47,
      "outputs": [
        {
          "output_type": "execute_result",
          "data": {
            "text/plain": [
              "16"
            ]
          },
          "metadata": {},
          "execution_count": 47
        }
      ]
    },
    {
      "cell_type": "code",
      "metadata": {
        "colab": {
          "base_uri": "https://localhost:8080/"
        },
        "id": "8pAkSucJMVNw",
        "outputId": "ca6da273-5df8-4fba-b02a-ec32b7746605"
      },
      "source": [
        "#Answer\n",
        "\n",
        "df2[\"LenCup\"] = df2[\"YearLst\"].str.len()\n",
        "\n",
        "result = df2[\"LenCup\"].value_counts()[4]\n",
        "\n",
        "result"
      ],
      "execution_count": 51,
      "outputs": [
        {
          "output_type": "execute_result",
          "data": {
            "text/plain": [
              "16"
            ]
          },
          "metadata": {},
          "execution_count": 51
        }
      ]
    },
    {
      "cell_type": "markdown",
      "metadata": {
        "id": "zG9_GRJjNtFM"
      },
      "source": [
        "##Q6. Yugoslavia 국가의 월드컵 출전횟수가 2회인 선수들의 숫자를 구하여라\n"
      ]
    },
    {
      "cell_type": "code",
      "metadata": {
        "colab": {
          "base_uri": "https://localhost:8080/"
        },
        "id": "H2RNX-AZNZpE",
        "outputId": "f9b0fbf8-22a1-4eaa-8f24-e5423e6eb59b"
      },
      "source": [
        "df2.loc[(df2[\"Country\"] == \"Yugoslavia\") & (df2[\"LenCup\"] == 2), \"Player\"].count()"
      ],
      "execution_count": 54,
      "outputs": [
        {
          "output_type": "execute_result",
          "data": {
            "text/plain": [
              "7"
            ]
          },
          "metadata": {},
          "execution_count": 54
        }
      ]
    },
    {
      "cell_type": "code",
      "metadata": {
        "colab": {
          "base_uri": "https://localhost:8080/"
        },
        "id": "Rr8FR50_Nu4v",
        "outputId": "8331b27a-10e7-4d8c-cef3-9ebb27496b12"
      },
      "source": [
        "#Answer\n",
        "\n",
        "result = len(df2[(df2.LenCup == 2) & (df2.Country == \"Yugoslavia\")])\n",
        "\n",
        "result"
      ],
      "execution_count": 56,
      "outputs": [
        {
          "output_type": "execute_result",
          "data": {
            "text/plain": [
              "7"
            ]
          },
          "metadata": {},
          "execution_count": 56
        }
      ]
    },
    {
      "cell_type": "markdown",
      "metadata": {
        "id": "5ujA-MIIOHxu"
      },
      "source": [
        "##Q7. 2002년도에 출전한 전체 선수는 몇명인가?\n"
      ]
    },
    {
      "cell_type": "code",
      "metadata": {
        "colab": {
          "base_uri": "https://localhost:8080/"
        },
        "id": "qwcaU2MEPbxO",
        "outputId": "d9fb7d33-5b78-4ce7-fc33-7796cf2ff60d"
      },
      "source": [
        ""
      ],
      "execution_count": 76,
      "outputs": [
        {
          "output_type": "execute_result",
          "data": {
            "text/plain": [
              "0       [2002, 2006, 2010, 2014]\n",
              "1             [1998, 2002, 2006]\n",
              "2                   [1970, 1974]\n",
              "3                         [1958]\n",
              "4       [1958, 1962, 1966, 1970]\n",
              "                  ...           \n",
              "1245                      [1962]\n",
              "1246                [1982, 1990]\n",
              "1247                      [1930]\n",
              "1248                      [1930]\n",
              "1249                [1954, 1958]\n",
              "Name: Years, Length: 1250, dtype: object"
            ]
          },
          "metadata": {},
          "execution_count": 76
        }
      ]
    },
    {
      "cell_type": "code",
      "metadata": {
        "id": "_G5vZQahPc1t"
      },
      "source": [
        ""
      ],
      "execution_count": null,
      "outputs": []
    },
    {
      "cell_type": "code",
      "metadata": {
        "colab": {
          "base_uri": "https://localhost:8080/"
        },
        "id": "XY2bBWplOMXg",
        "outputId": "1c839fb3-3ef9-4500-f810-48eb61e928c6"
      },
      "source": [
        "df2[\"YearLst2\"] = df2[\"Years\"].str.split(\"-\")\n",
        "\n",
        "\n",
        "def check_2002(x):\n",
        "  a = 0\n",
        "  for value in x:\n",
        "    if int(value) == 2002: \n",
        "      return 1\n",
        "\n",
        "df2[\"YearLst\"].apply(check_2002).sum()"
      ],
      "execution_count": 88,
      "outputs": [
        {
          "output_type": "execute_result",
          "data": {
            "text/plain": [
              "156.0"
            ]
          },
          "metadata": {},
          "execution_count": 88
        }
      ]
    },
    {
      "cell_type": "code",
      "metadata": {
        "colab": {
          "base_uri": "https://localhost:8080/"
        },
        "id": "sjvxO1HsOrlX",
        "outputId": "db61029b-37ca-4703-f541-0eaf4a1b0990"
      },
      "source": [
        "#Answer\n",
        "\n",
        "df2.loc[df2[\"Years\"].str.contains(\"2002\"),\"Player\"].count()"
      ],
      "execution_count": 89,
      "outputs": [
        {
          "output_type": "execute_result",
          "data": {
            "text/plain": [
              "156"
            ]
          },
          "metadata": {},
          "execution_count": 89
        }
      ]
    },
    {
      "cell_type": "markdown",
      "metadata": {
        "id": "JpeQTA45Qmrp"
      },
      "source": [
        "##Q8. 이름에 'carlos' 단어가 들어가는 선수의 숫자는 몇 명인가? (대, 소문자 구분 x)\n"
      ]
    },
    {
      "cell_type": "code",
      "metadata": {
        "colab": {
          "base_uri": "https://localhost:8080/"
        },
        "id": "TAsdnSCqQmd0",
        "outputId": "d767e273-575e-4d20-dba9-4b954b4a9c4e"
      },
      "source": [
        "df2[\"Player\"].str.lower().str.contains(\"carlos\").sum()"
      ],
      "execution_count": 94,
      "outputs": [
        {
          "output_type": "execute_result",
          "data": {
            "text/plain": [
              "13"
            ]
          },
          "metadata": {},
          "execution_count": 94
        }
      ]
    },
    {
      "cell_type": "code",
      "metadata": {
        "colab": {
          "base_uri": "https://localhost:8080/"
        },
        "id": "rHJDIfxuP2fU",
        "outputId": "7d9b89dc-9244-48c8-d64d-5f41b0484b5b"
      },
      "source": [
        "#Answer\n",
        "result =len(df2[df2.Player.str.lower().str.contains(\"carlos\")])\n",
        "\n",
        "result"
      ],
      "execution_count": 95,
      "outputs": [
        {
          "output_type": "execute_result",
          "data": {
            "text/plain": [
              "13"
            ]
          },
          "metadata": {},
          "execution_count": 95
        }
      ]
    },
    {
      "cell_type": "markdown",
      "metadata": {
        "id": "0g-s2lSQQ83H"
      },
      "source": [
        "##Q9. 월드컵 출전 횟수가 1회뿐인 선수들 중에서 가장 많은 득점을 올렸던 선수는 누구인가?"
      ]
    },
    {
      "cell_type": "code",
      "metadata": {
        "colab": {
          "base_uri": "https://localhost:8080/"
        },
        "id": "RiUA4d03Q_RW",
        "outputId": "d79fdead-3155-4f83-8947-9a08a0b6e61f"
      },
      "source": [
        "df2.loc[(df2[\"LenCup\"] == 1)].sort_values(by=\"Goals\", ascending=False)[\"Player\"].head(1)"
      ],
      "execution_count": 106,
      "outputs": [
        {
          "output_type": "execute_result",
          "data": {
            "text/plain": [
              "3    Just Fontaine\n",
              "Name: Player, dtype: object"
            ]
          },
          "metadata": {},
          "execution_count": 106
        }
      ]
    },
    {
      "cell_type": "code",
      "metadata": {
        "colab": {
          "base_uri": "https://localhost:8080/",
          "height": 36
        },
        "id": "auQFArGARAvv",
        "outputId": "41694100-521c-4669-83e1-e10f7f92e35d"
      },
      "source": [
        "#Answer\n",
        "result = df2[df2.LenCup == 1].sort_values(\"Goals\", ascending=False).Player.values[0]\n",
        "\n",
        "result"
      ],
      "execution_count": 108,
      "outputs": [
        {
          "output_type": "execute_result",
          "data": {
            "application/vnd.google.colaboratory.intrinsic+json": {
              "type": "string"
            },
            "text/plain": [
              "'Just Fontaine'"
            ]
          },
          "metadata": {},
          "execution_count": 108
        }
      ]
    },
    {
      "cell_type": "markdown",
      "metadata": {
        "id": "jSnb3mE7R3Mg"
      },
      "source": [
        "##Q10. 월드컵 출전횟수가 1회 뿐인 선수들이 가장 많은 국가는 어디인가?"
      ]
    },
    {
      "cell_type": "code",
      "metadata": {
        "colab": {
          "base_uri": "https://localhost:8080/",
          "height": 36
        },
        "id": "eiIoUJ6vRv3d",
        "outputId": "9ab5b1b1-5f93-4c27-c6a7-c83641b5c3a4"
      },
      "source": [
        "df2.loc[df2[\"LenCup\"] == 1].groupby(\"Country\").count()[\"Player\"].sort_values(ascending=False).index[0]"
      ],
      "execution_count": 121,
      "outputs": [
        {
          "output_type": "execute_result",
          "data": {
            "application/vnd.google.colaboratory.intrinsic+json": {
              "type": "string"
            },
            "text/plain": [
              "'Brazil'"
            ]
          },
          "metadata": {},
          "execution_count": 121
        }
      ]
    },
    {
      "cell_type": "code",
      "metadata": {
        "colab": {
          "base_uri": "https://localhost:8080/",
          "height": 36
        },
        "id": "JNLCS9WDR6Aq",
        "outputId": "c0283d19-e249-409e-8573-463c4206fc43"
      },
      "source": [
        "#Answer\n",
        "\n",
        "df2[df2.LenCup == 1].Country.value_counts().index[0]"
      ],
      "execution_count": 125,
      "outputs": [
        {
          "output_type": "execute_result",
          "data": {
            "application/vnd.google.colaboratory.intrinsic+json": {
              "type": "string"
            },
            "text/plain": [
              "'Brazil'"
            ]
          },
          "metadata": {},
          "execution_count": 125
        }
      ]
    },
    {
      "cell_type": "code",
      "metadata": {
        "id": "uz3BBV2VSZGB"
      },
      "source": [
        ""
      ],
      "execution_count": null,
      "outputs": []
    }
  ]
}