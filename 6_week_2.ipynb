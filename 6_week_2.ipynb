{
  "nbformat": 4,
  "nbformat_minor": 0,
  "metadata": {
    "colab": {
      "name": "6_week_2.ipynb",
      "provenance": [],
      "collapsed_sections": [],
      "authorship_tag": "ABX9TyM/k7I4FZSdjoYEKz2FSq2c",
      "include_colab_link": true
    },
    "kernelspec": {
      "name": "python3",
      "display_name": "Python 3"
    },
    "language_info": {
      "name": "python"
    }
  },
  "cells": [
    {
      "cell_type": "markdown",
      "metadata": {
        "id": "view-in-github",
        "colab_type": "text"
      },
      "source": [
        "<a href=\"https://colab.research.google.com/github/HwangHanJae/BigDataPratice/blob/main/6_week_2.ipynb\" target=\"_parent\"><img src=\"https://colab.research.google.com/assets/colab-badge.svg\" alt=\"Open In Colab\"/></a>"
      ]
    },
    {
      "cell_type": "markdown",
      "metadata": {
        "id": "DpVhrVxrgjPD"
      },
      "source": [
        "##작업형1"
      ]
    },
    {
      "cell_type": "markdown",
      "metadata": {
        "id": "U1FmoIdAeATE"
      },
      "source": [
        "데이터 출처 :https://www.kaggle.com/uciml/red-wine-quality-cortez-et-al-2009(참고, 데이터 수정)\n",
        "\n",
        "데이터 설명 : 레드 와인 퀄리티 예측문제\n",
        "\n",
        "Data url :https://raw.githubusercontent.com/Datamanim/datarepo/main/redwine/train.csv"
      ]
    },
    {
      "cell_type": "markdown",
      "metadata": {
        "id": "HZN8brqugol3"
      },
      "source": [
        "# Q1. quality 값이 3인 데이터와 8인 데이터의 각 독립변수의 표준편차 값이 가장 큰 컬럼을 구하여라"
      ]
    },
    {
      "cell_type": "code",
      "metadata": {
        "colab": {
          "base_uri": "https://localhost:8080/"
        },
        "id": "S61GmNWWgquU",
        "outputId": "2d3c8ab6-e9f5-486b-b7da-fcbf22d93375"
      },
      "source": [
        "import pandas as pd\n",
        "\n",
        "df = pd.read_csv(\"https://raw.githubusercontent.com/Datamanim/datarepo/main/redwine/train.csv\")\n",
        "\n",
        "quality_3 = df.loc[df[\"quality\"] == 3]\n",
        "quality_8 = df.loc[df[\"quality\"] == 8]\n",
        "\n",
        "print(quality_3.std().sort_values(ascending= False).index[0])\n",
        "\n",
        "print(quality_8.std().sort_values(ascending= False).index[0])"
      ],
      "execution_count": 15,
      "outputs": [
        {
          "output_type": "stream",
          "name": "stdout",
          "text": [
            "total sulfur dioxide\n",
            "total sulfur dioxide\n"
          ]
        }
      ]
    },
    {
      "cell_type": "code",
      "metadata": {
        "colab": {
          "base_uri": "https://localhost:8080/",
          "height": 36
        },
        "id": "f3mLw068gyHg",
        "outputId": "ba54c8eb-8166-4a21-f355-a125118558e2"
      },
      "source": [
        "#Answer\n",
        "(df.loc[df[\"quality\"] == 8].std()- df.loc[df[\"quality\"]== 3].std()).sort_values().index[-1]"
      ],
      "execution_count": 20,
      "outputs": [
        {
          "output_type": "execute_result",
          "data": {
            "application/vnd.google.colaboratory.intrinsic+json": {
              "type": "string"
            },
            "text/plain": [
              "'total sulfur dioxide'"
            ]
          },
          "metadata": {},
          "execution_count": 20
        }
      ]
    },
    {
      "cell_type": "markdown",
      "metadata": {
        "id": "gXx3ROBliArD"
      },
      "source": [
        "#작업형2"
      ]
    },
    {
      "cell_type": "markdown",
      "metadata": {
        "id": "tjP4osJUinFr"
      },
      "source": [
        "데이터 출처 :https://www.kaggle.com/uciml/red-wine-quality-cortez-et-al-2009(참고, 데이터 수정)\n",
        "\n",
        "데이터 설명 : 레드 와인 퀄리티 예측문제\n",
        "\n",
        "​평가지표 : r2 score\n",
        "\n",
        "trainData url : https://raw.githubusercontent.com/Datamanim/datarepo/main/redwine/train.csv\n",
        "\n",
        "testData url : https://raw.githubusercontent.com/Datamanim/datarepo/main/redwine/test.csv"
      ]
    },
    {
      "cell_type": "code",
      "metadata": {
        "colab": {
          "base_uri": "https://localhost:8080/",
          "height": 423
        },
        "id": "_Gts5HgbipJY",
        "outputId": "89552869-073f-4231-c909-aedeb330ecec"
      },
      "source": [
        "trainData = \"https://raw.githubusercontent.com/Datamanim/datarepo/main/redwine/train.csv\"\n",
        "testData = \"https://raw.githubusercontent.com/Datamanim/datarepo/main/redwine/test.csv\"\n",
        "\n",
        "import pandas as pd\n",
        "\n",
        "train = pd.read_csv(trainData)\n",
        "test = pd.read_csv(testData)\n",
        "\n",
        "train"
      ],
      "execution_count": 21,
      "outputs": [
        {
          "output_type": "execute_result",
          "data": {
            "text/html": [
              "<div>\n",
              "<style scoped>\n",
              "    .dataframe tbody tr th:only-of-type {\n",
              "        vertical-align: middle;\n",
              "    }\n",
              "\n",
              "    .dataframe tbody tr th {\n",
              "        vertical-align: top;\n",
              "    }\n",
              "\n",
              "    .dataframe thead th {\n",
              "        text-align: right;\n",
              "    }\n",
              "</style>\n",
              "<table border=\"1\" class=\"dataframe\">\n",
              "  <thead>\n",
              "    <tr style=\"text-align: right;\">\n",
              "      <th></th>\n",
              "      <th>fixed acidity</th>\n",
              "      <th>volatile acidity</th>\n",
              "      <th>citric acid</th>\n",
              "      <th>residual sugar</th>\n",
              "      <th>chlorides</th>\n",
              "      <th>free sulfur dioxide</th>\n",
              "      <th>total sulfur dioxide</th>\n",
              "      <th>density</th>\n",
              "      <th>pH</th>\n",
              "      <th>sulphates</th>\n",
              "      <th>alcohol</th>\n",
              "      <th>quality</th>\n",
              "    </tr>\n",
              "  </thead>\n",
              "  <tbody>\n",
              "    <tr>\n",
              "      <th>0</th>\n",
              "      <td>5.0</td>\n",
              "      <td>0.38</td>\n",
              "      <td>0.01</td>\n",
              "      <td>1.6</td>\n",
              "      <td>0.048</td>\n",
              "      <td>26.0</td>\n",
              "      <td>60.0</td>\n",
              "      <td>0.99084</td>\n",
              "      <td>3.70</td>\n",
              "      <td>0.75</td>\n",
              "      <td>14.0</td>\n",
              "      <td>6</td>\n",
              "    </tr>\n",
              "    <tr>\n",
              "      <th>1</th>\n",
              "      <td>5.0</td>\n",
              "      <td>0.42</td>\n",
              "      <td>0.24</td>\n",
              "      <td>2.0</td>\n",
              "      <td>0.060</td>\n",
              "      <td>19.0</td>\n",
              "      <td>50.0</td>\n",
              "      <td>0.99170</td>\n",
              "      <td>3.72</td>\n",
              "      <td>0.74</td>\n",
              "      <td>14.0</td>\n",
              "      <td>8</td>\n",
              "    </tr>\n",
              "    <tr>\n",
              "      <th>2</th>\n",
              "      <td>7.1</td>\n",
              "      <td>0.36</td>\n",
              "      <td>0.30</td>\n",
              "      <td>1.6</td>\n",
              "      <td>0.080</td>\n",
              "      <td>35.0</td>\n",
              "      <td>70.0</td>\n",
              "      <td>0.99693</td>\n",
              "      <td>3.44</td>\n",
              "      <td>0.50</td>\n",
              "      <td>9.4</td>\n",
              "      <td>5</td>\n",
              "    </tr>\n",
              "    <tr>\n",
              "      <th>3</th>\n",
              "      <td>7.6</td>\n",
              "      <td>0.29</td>\n",
              "      <td>0.49</td>\n",
              "      <td>2.7</td>\n",
              "      <td>0.092</td>\n",
              "      <td>25.0</td>\n",
              "      <td>60.0</td>\n",
              "      <td>0.99710</td>\n",
              "      <td>3.31</td>\n",
              "      <td>0.61</td>\n",
              "      <td>10.1</td>\n",
              "      <td>6</td>\n",
              "    </tr>\n",
              "    <tr>\n",
              "      <th>4</th>\n",
              "      <td>7.7</td>\n",
              "      <td>0.51</td>\n",
              "      <td>0.28</td>\n",
              "      <td>2.1</td>\n",
              "      <td>0.087</td>\n",
              "      <td>23.0</td>\n",
              "      <td>54.0</td>\n",
              "      <td>0.99800</td>\n",
              "      <td>3.42</td>\n",
              "      <td>0.74</td>\n",
              "      <td>9.2</td>\n",
              "      <td>5</td>\n",
              "    </tr>\n",
              "    <tr>\n",
              "      <th>...</th>\n",
              "      <td>...</td>\n",
              "      <td>...</td>\n",
              "      <td>...</td>\n",
              "      <td>...</td>\n",
              "      <td>...</td>\n",
              "      <td>...</td>\n",
              "      <td>...</td>\n",
              "      <td>...</td>\n",
              "      <td>...</td>\n",
              "      <td>...</td>\n",
              "      <td>...</td>\n",
              "      <td>...</td>\n",
              "    </tr>\n",
              "    <tr>\n",
              "      <th>1274</th>\n",
              "      <td>8.8</td>\n",
              "      <td>0.61</td>\n",
              "      <td>0.14</td>\n",
              "      <td>2.4</td>\n",
              "      <td>0.067</td>\n",
              "      <td>10.0</td>\n",
              "      <td>42.0</td>\n",
              "      <td>0.99690</td>\n",
              "      <td>3.19</td>\n",
              "      <td>0.59</td>\n",
              "      <td>9.5</td>\n",
              "      <td>5</td>\n",
              "    </tr>\n",
              "    <tr>\n",
              "      <th>1275</th>\n",
              "      <td>8.0</td>\n",
              "      <td>0.59</td>\n",
              "      <td>0.16</td>\n",
              "      <td>1.8</td>\n",
              "      <td>0.065</td>\n",
              "      <td>3.0</td>\n",
              "      <td>16.0</td>\n",
              "      <td>0.99620</td>\n",
              "      <td>3.42</td>\n",
              "      <td>0.92</td>\n",
              "      <td>10.5</td>\n",
              "      <td>7</td>\n",
              "    </tr>\n",
              "    <tr>\n",
              "      <th>1276</th>\n",
              "      <td>10.0</td>\n",
              "      <td>0.35</td>\n",
              "      <td>0.45</td>\n",
              "      <td>2.5</td>\n",
              "      <td>0.092</td>\n",
              "      <td>20.0</td>\n",
              "      <td>88.0</td>\n",
              "      <td>0.99918</td>\n",
              "      <td>3.15</td>\n",
              "      <td>0.43</td>\n",
              "      <td>9.4</td>\n",
              "      <td>5</td>\n",
              "    </tr>\n",
              "    <tr>\n",
              "      <th>1277</th>\n",
              "      <td>8.0</td>\n",
              "      <td>1.18</td>\n",
              "      <td>0.21</td>\n",
              "      <td>1.9</td>\n",
              "      <td>0.083</td>\n",
              "      <td>14.0</td>\n",
              "      <td>41.0</td>\n",
              "      <td>0.99532</td>\n",
              "      <td>3.34</td>\n",
              "      <td>0.47</td>\n",
              "      <td>10.5</td>\n",
              "      <td>5</td>\n",
              "    </tr>\n",
              "    <tr>\n",
              "      <th>1278</th>\n",
              "      <td>8.6</td>\n",
              "      <td>0.47</td>\n",
              "      <td>0.30</td>\n",
              "      <td>3.0</td>\n",
              "      <td>0.076</td>\n",
              "      <td>30.0</td>\n",
              "      <td>135.0</td>\n",
              "      <td>0.99760</td>\n",
              "      <td>3.30</td>\n",
              "      <td>0.53</td>\n",
              "      <td>9.4</td>\n",
              "      <td>5</td>\n",
              "    </tr>\n",
              "  </tbody>\n",
              "</table>\n",
              "<p>1279 rows × 12 columns</p>\n",
              "</div>"
            ],
            "text/plain": [
              "      fixed acidity  volatile acidity  citric acid  ...  sulphates  alcohol  quality\n",
              "0               5.0              0.38         0.01  ...       0.75     14.0        6\n",
              "1               5.0              0.42         0.24  ...       0.74     14.0        8\n",
              "2               7.1              0.36         0.30  ...       0.50      9.4        5\n",
              "3               7.6              0.29         0.49  ...       0.61     10.1        6\n",
              "4               7.7              0.51         0.28  ...       0.74      9.2        5\n",
              "...             ...               ...          ...  ...        ...      ...      ...\n",
              "1274            8.8              0.61         0.14  ...       0.59      9.5        5\n",
              "1275            8.0              0.59         0.16  ...       0.92     10.5        7\n",
              "1276           10.0              0.35         0.45  ...       0.43      9.4        5\n",
              "1277            8.0              1.18         0.21  ...       0.47     10.5        5\n",
              "1278            8.6              0.47         0.30  ...       0.53      9.4        5\n",
              "\n",
              "[1279 rows x 12 columns]"
            ]
          },
          "metadata": {},
          "execution_count": 21
        }
      ]
    },
    {
      "cell_type": "code",
      "metadata": {
        "colab": {
          "base_uri": "https://localhost:8080/",
          "height": 423
        },
        "id": "zy43OH-wkvXS",
        "outputId": "0f1e5f98-5d83-4d43-8579-57cf4251443d"
      },
      "source": [
        "test"
      ],
      "execution_count": 22,
      "outputs": [
        {
          "output_type": "execute_result",
          "data": {
            "text/html": [
              "<div>\n",
              "<style scoped>\n",
              "    .dataframe tbody tr th:only-of-type {\n",
              "        vertical-align: middle;\n",
              "    }\n",
              "\n",
              "    .dataframe tbody tr th {\n",
              "        vertical-align: top;\n",
              "    }\n",
              "\n",
              "    .dataframe thead th {\n",
              "        text-align: right;\n",
              "    }\n",
              "</style>\n",
              "<table border=\"1\" class=\"dataframe\">\n",
              "  <thead>\n",
              "    <tr style=\"text-align: right;\">\n",
              "      <th></th>\n",
              "      <th>fixed acidity</th>\n",
              "      <th>volatile acidity</th>\n",
              "      <th>citric acid</th>\n",
              "      <th>residual sugar</th>\n",
              "      <th>chlorides</th>\n",
              "      <th>free sulfur dioxide</th>\n",
              "      <th>total sulfur dioxide</th>\n",
              "      <th>density</th>\n",
              "      <th>pH</th>\n",
              "      <th>sulphates</th>\n",
              "      <th>alcohol</th>\n",
              "    </tr>\n",
              "  </thead>\n",
              "  <tbody>\n",
              "    <tr>\n",
              "      <th>0</th>\n",
              "      <td>9.8</td>\n",
              "      <td>0.300</td>\n",
              "      <td>0.39</td>\n",
              "      <td>1.7</td>\n",
              "      <td>0.062</td>\n",
              "      <td>3.0</td>\n",
              "      <td>9.0</td>\n",
              "      <td>0.99480</td>\n",
              "      <td>3.14</td>\n",
              "      <td>0.57</td>\n",
              "      <td>11.5</td>\n",
              "    </tr>\n",
              "    <tr>\n",
              "      <th>1</th>\n",
              "      <td>7.1</td>\n",
              "      <td>0.460</td>\n",
              "      <td>0.20</td>\n",
              "      <td>1.9</td>\n",
              "      <td>0.077</td>\n",
              "      <td>28.0</td>\n",
              "      <td>54.0</td>\n",
              "      <td>0.99560</td>\n",
              "      <td>3.37</td>\n",
              "      <td>0.64</td>\n",
              "      <td>10.4</td>\n",
              "    </tr>\n",
              "    <tr>\n",
              "      <th>2</th>\n",
              "      <td>7.1</td>\n",
              "      <td>0.460</td>\n",
              "      <td>0.20</td>\n",
              "      <td>1.9</td>\n",
              "      <td>0.077</td>\n",
              "      <td>28.0</td>\n",
              "      <td>54.0</td>\n",
              "      <td>0.99560</td>\n",
              "      <td>3.37</td>\n",
              "      <td>0.64</td>\n",
              "      <td>10.4</td>\n",
              "    </tr>\n",
              "    <tr>\n",
              "      <th>3</th>\n",
              "      <td>7.9</td>\n",
              "      <td>0.765</td>\n",
              "      <td>0.00</td>\n",
              "      <td>2.0</td>\n",
              "      <td>0.084</td>\n",
              "      <td>9.0</td>\n",
              "      <td>22.0</td>\n",
              "      <td>0.99619</td>\n",
              "      <td>3.33</td>\n",
              "      <td>0.68</td>\n",
              "      <td>10.9</td>\n",
              "    </tr>\n",
              "    <tr>\n",
              "      <th>4</th>\n",
              "      <td>8.7</td>\n",
              "      <td>0.630</td>\n",
              "      <td>0.28</td>\n",
              "      <td>2.7</td>\n",
              "      <td>0.096</td>\n",
              "      <td>17.0</td>\n",
              "      <td>69.0</td>\n",
              "      <td>0.99734</td>\n",
              "      <td>3.26</td>\n",
              "      <td>0.63</td>\n",
              "      <td>10.2</td>\n",
              "    </tr>\n",
              "    <tr>\n",
              "      <th>...</th>\n",
              "      <td>...</td>\n",
              "      <td>...</td>\n",
              "      <td>...</td>\n",
              "      <td>...</td>\n",
              "      <td>...</td>\n",
              "      <td>...</td>\n",
              "      <td>...</td>\n",
              "      <td>...</td>\n",
              "      <td>...</td>\n",
              "      <td>...</td>\n",
              "      <td>...</td>\n",
              "    </tr>\n",
              "    <tr>\n",
              "      <th>315</th>\n",
              "      <td>6.2</td>\n",
              "      <td>0.600</td>\n",
              "      <td>0.08</td>\n",
              "      <td>2.0</td>\n",
              "      <td>0.090</td>\n",
              "      <td>32.0</td>\n",
              "      <td>44.0</td>\n",
              "      <td>0.99490</td>\n",
              "      <td>3.45</td>\n",
              "      <td>0.58</td>\n",
              "      <td>10.5</td>\n",
              "    </tr>\n",
              "    <tr>\n",
              "      <th>316</th>\n",
              "      <td>5.9</td>\n",
              "      <td>0.550</td>\n",
              "      <td>0.10</td>\n",
              "      <td>2.2</td>\n",
              "      <td>0.062</td>\n",
              "      <td>39.0</td>\n",
              "      <td>51.0</td>\n",
              "      <td>0.99512</td>\n",
              "      <td>3.52</td>\n",
              "      <td>0.76</td>\n",
              "      <td>11.2</td>\n",
              "    </tr>\n",
              "    <tr>\n",
              "      <th>317</th>\n",
              "      <td>6.3</td>\n",
              "      <td>0.510</td>\n",
              "      <td>0.13</td>\n",
              "      <td>2.3</td>\n",
              "      <td>0.076</td>\n",
              "      <td>29.0</td>\n",
              "      <td>40.0</td>\n",
              "      <td>0.99574</td>\n",
              "      <td>3.42</td>\n",
              "      <td>0.75</td>\n",
              "      <td>11.0</td>\n",
              "    </tr>\n",
              "    <tr>\n",
              "      <th>318</th>\n",
              "      <td>5.9</td>\n",
              "      <td>0.645</td>\n",
              "      <td>0.12</td>\n",
              "      <td>2.0</td>\n",
              "      <td>0.075</td>\n",
              "      <td>32.0</td>\n",
              "      <td>44.0</td>\n",
              "      <td>0.99547</td>\n",
              "      <td>3.57</td>\n",
              "      <td>0.71</td>\n",
              "      <td>10.2</td>\n",
              "    </tr>\n",
              "    <tr>\n",
              "      <th>319</th>\n",
              "      <td>6.0</td>\n",
              "      <td>0.310</td>\n",
              "      <td>0.47</td>\n",
              "      <td>3.6</td>\n",
              "      <td>0.067</td>\n",
              "      <td>18.0</td>\n",
              "      <td>42.0</td>\n",
              "      <td>0.99549</td>\n",
              "      <td>3.39</td>\n",
              "      <td>0.66</td>\n",
              "      <td>11.0</td>\n",
              "    </tr>\n",
              "  </tbody>\n",
              "</table>\n",
              "<p>320 rows × 11 columns</p>\n",
              "</div>"
            ],
            "text/plain": [
              "     fixed acidity  volatile acidity  citric acid  ...    pH  sulphates  alcohol\n",
              "0              9.8             0.300         0.39  ...  3.14       0.57     11.5\n",
              "1              7.1             0.460         0.20  ...  3.37       0.64     10.4\n",
              "2              7.1             0.460         0.20  ...  3.37       0.64     10.4\n",
              "3              7.9             0.765         0.00  ...  3.33       0.68     10.9\n",
              "4              8.7             0.630         0.28  ...  3.26       0.63     10.2\n",
              "..             ...               ...          ...  ...   ...        ...      ...\n",
              "315            6.2             0.600         0.08  ...  3.45       0.58     10.5\n",
              "316            5.9             0.550         0.10  ...  3.52       0.76     11.2\n",
              "317            6.3             0.510         0.13  ...  3.42       0.75     11.0\n",
              "318            5.9             0.645         0.12  ...  3.57       0.71     10.2\n",
              "319            6.0             0.310         0.47  ...  3.39       0.66     11.0\n",
              "\n",
              "[320 rows x 11 columns]"
            ]
          },
          "metadata": {},
          "execution_count": 22
        }
      ]
    },
    {
      "cell_type": "code",
      "metadata": {
        "colab": {
          "base_uri": "https://localhost:8080/"
        },
        "id": "iyVfdvY2kvpS",
        "outputId": "3142c3c3-5621-45c5-b0c6-79332c01f52d"
      },
      "source": [
        "train.isnull().sum()"
      ],
      "execution_count": 24,
      "outputs": [
        {
          "output_type": "execute_result",
          "data": {
            "text/plain": [
              "fixed acidity           0\n",
              "volatile acidity        0\n",
              "citric acid             0\n",
              "residual sugar          0\n",
              "chlorides               0\n",
              "free sulfur dioxide     0\n",
              "total sulfur dioxide    0\n",
              "density                 0\n",
              "pH                      0\n",
              "sulphates               0\n",
              "alcohol                 0\n",
              "quality                 0\n",
              "dtype: int64"
            ]
          },
          "metadata": {},
          "execution_count": 24
        }
      ]
    },
    {
      "cell_type": "code",
      "metadata": {
        "colab": {
          "base_uri": "https://localhost:8080/"
        },
        "id": "qR5sx85zk0CD",
        "outputId": "e0413c6e-6884-4af0-fb15-d55806c18bc5"
      },
      "source": [
        "#타겟 데이터 분리\n",
        "X = train.drop(\"quality\", axis=1)\n",
        "y = train[\"quality\"]\n",
        "\n",
        "X.shape, test.shape"
      ],
      "execution_count": 25,
      "outputs": [
        {
          "output_type": "execute_result",
          "data": {
            "text/plain": [
              "((1279, 11), (320, 11))"
            ]
          },
          "metadata": {},
          "execution_count": 25
        }
      ]
    },
    {
      "cell_type": "code",
      "metadata": {
        "id": "mXRRWpTdlRon"
      },
      "source": [
        "#훈련데이터, 검증데이터 분리\n",
        "from sklearn.model_selection import train_test_split\n",
        "\n",
        "X_train, X_val, y_train, y_val = train_test_split(X,y,test_size=0.33, random_state=42)\n"
      ],
      "execution_count": 26,
      "outputs": []
    },
    {
      "cell_type": "code",
      "metadata": {
        "colab": {
          "base_uri": "https://localhost:8080/"
        },
        "id": "_3Pjaj-WliNp",
        "outputId": "7615eca8-8fad-470d-9ef8-169d23d94824"
      },
      "source": [
        "#모델링 & 평가\n",
        "from sklearn.ensemble import RandomForestRegressor\n",
        "from sklearn.tree import DecisionTreeRegressor\n",
        "from sklearn.neighbors import KNeighborsRegressor\n",
        "from xgboost import XGBRegressor\n",
        "from lightgbm import LGBMRegressor\n",
        "\n",
        "rf = RandomForestRegressor(random_state=42)\n",
        "tree = DecisionTreeRegressor(random_state=42)\n",
        "knn = KNeighborsRegressor()\n",
        "xgb = XGBRegressor(random_state=42)\n",
        "lgbm = LGBMRegressor(random_state=42)\n",
        "models = [rf,tree,knn,xgb,lgbm]\n",
        "\n",
        "from sklearn.metrics import r2_score\n",
        "\n",
        "for model in models:\n",
        "  print(model.__class__.__name__)\n",
        "  model.fit(X_train, y_train)\n",
        "  y_pred = model.predict(X_val)\n",
        "  print(r2_score(y_val, y_pred))"
      ],
      "execution_count": 30,
      "outputs": [
        {
          "output_type": "stream",
          "name": "stdout",
          "text": [
            "RandomForestRegressor\n",
            "0.4576590578936126\n",
            "DecisionTreeRegressor\n",
            "-0.02877425928056132\n",
            "KNeighborsRegressor\n",
            "0.0583935056611834\n",
            "XGBRegressor\n",
            "[06:20:49] WARNING: /workspace/src/objective/regression_obj.cu:152: reg:linear is now deprecated in favor of reg:squarederror.\n",
            "0.41373823141939425\n",
            "LGBMRegressor\n",
            "0.43494964458613083\n"
          ]
        }
      ]
    },
    {
      "cell_type": "code",
      "metadata": {
        "id": "tC3gWkEUmHF7"
      },
      "source": [
        "#제출\n",
        "import numpy as np\n",
        "\n",
        "sub = {\"quality\" : np.zeros(test.shape[0])}\n",
        "submission = pd.DataFrame(sub)\n",
        "\n",
        "submission[\"quality\"] = rf.predict(test)\n",
        "\n",
        "submission.to_csv(\"수험번호.csv\", index=False)"
      ],
      "execution_count": 32,
      "outputs": []
    }
  ]
}