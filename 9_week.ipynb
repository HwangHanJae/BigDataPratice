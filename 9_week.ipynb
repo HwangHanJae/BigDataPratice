{
  "nbformat": 4,
  "nbformat_minor": 0,
  "metadata": {
    "colab": {
      "name": "9_week.ipynb",
      "provenance": [],
      "collapsed_sections": [],
      "authorship_tag": "ABX9TyOm6sL6i66U401JQhOr2S0t",
      "include_colab_link": true
    },
    "kernelspec": {
      "name": "python3",
      "display_name": "Python 3"
    },
    "language_info": {
      "name": "python"
    }
  },
  "cells": [
    {
      "cell_type": "markdown",
      "metadata": {
        "id": "view-in-github",
        "colab_type": "text"
      },
      "source": [
        "<a href=\"https://colab.research.google.com/github/HwangHanJae/BigDataPratice/blob/main/9_week.ipynb\" target=\"_parent\"><img src=\"https://colab.research.google.com/assets/colab-badge.svg\" alt=\"Open In Colab\"/></a>"
      ]
    },
    {
      "cell_type": "markdown",
      "metadata": {
        "id": "70yX6EU0K0oa"
      },
      "source": [
        "#작업형1"
      ]
    },
    {
      "cell_type": "markdown",
      "metadata": {
        "id": "DaG70kSNK260"
      },
      "source": [
        "데이터 출처 :https://www.kaggle.com/pritsheta/diabetes-dataset(참고, 데이터 수정)\n",
        "\n",
        "데이터 설명 :  당뇨여부 판단하기\n",
        "\n",
        "Data url :https://raw.githubusercontent.com/Datamanim/datarepo/main/diabetes/train.csv"
      ]
    },
    {
      "cell_type": "markdown",
      "metadata": {
        "id": "7w1YC9UKK4Nm"
      },
      "source": [
        "##Q1. Outcome 값에 따른 각 그룹의  각 컬럼의 평균 차이를 구하여라\n"
      ]
    },
    {
      "cell_type": "code",
      "metadata": {
        "colab": {
          "base_uri": "https://localhost:8080/",
          "height": 300
        },
        "id": "bFdQCr4xKyaq",
        "outputId": "da572e32-7f9c-442e-ec5f-dece666fe0da"
      },
      "source": [
        "import pandas as pd\n",
        "df = pd.read_csv(\"https://raw.githubusercontent.com/Datamanim/datarepo/main/diabetes/train.csv\")\n",
        "\n",
        "#Outcome으로 구분\n",
        "\n",
        "(df.groupby(\"Outcome\").mean().T[1] - df.groupby(\"Outcome\").mean().T[0]).to_frame()"
      ],
      "execution_count": 10,
      "outputs": [
        {
          "output_type": "execute_result",
          "data": {
            "text/html": [
              "<div>\n",
              "<style scoped>\n",
              "    .dataframe tbody tr th:only-of-type {\n",
              "        vertical-align: middle;\n",
              "    }\n",
              "\n",
              "    .dataframe tbody tr th {\n",
              "        vertical-align: top;\n",
              "    }\n",
              "\n",
              "    .dataframe thead th {\n",
              "        text-align: right;\n",
              "    }\n",
              "</style>\n",
              "<table border=\"1\" class=\"dataframe\">\n",
              "  <thead>\n",
              "    <tr style=\"text-align: right;\">\n",
              "      <th></th>\n",
              "      <th>0</th>\n",
              "    </tr>\n",
              "  </thead>\n",
              "  <tbody>\n",
              "    <tr>\n",
              "      <th>Pregnancies</th>\n",
              "      <td>1.574159</td>\n",
              "    </tr>\n",
              "    <tr>\n",
              "      <th>Glucose</th>\n",
              "      <td>29.943995</td>\n",
              "    </tr>\n",
              "    <tr>\n",
              "      <th>BloodPressure</th>\n",
              "      <td>3.202079</td>\n",
              "    </tr>\n",
              "    <tr>\n",
              "      <th>SkinThickness</th>\n",
              "      <td>2.952033</td>\n",
              "    </tr>\n",
              "    <tr>\n",
              "      <th>Insulin</th>\n",
              "      <td>33.398645</td>\n",
              "    </tr>\n",
              "    <tr>\n",
              "      <th>BMI</th>\n",
              "      <td>4.541437</td>\n",
              "    </tr>\n",
              "    <tr>\n",
              "      <th>DiabetesPedigreeFunction</th>\n",
              "      <td>0.143646</td>\n",
              "    </tr>\n",
              "    <tr>\n",
              "      <th>Age</th>\n",
              "      <td>5.866939</td>\n",
              "    </tr>\n",
              "  </tbody>\n",
              "</table>\n",
              "</div>"
            ],
            "text/plain": [
              "                                  0\n",
              "Pregnancies                1.574159\n",
              "Glucose                   29.943995\n",
              "BloodPressure              3.202079\n",
              "SkinThickness              2.952033\n",
              "Insulin                   33.398645\n",
              "BMI                        4.541437\n",
              "DiabetesPedigreeFunction   0.143646\n",
              "Age                        5.866939"
            ]
          },
          "metadata": {},
          "execution_count": 10
        }
      ]
    },
    {
      "cell_type": "code",
      "metadata": {
        "colab": {
          "base_uri": "https://localhost:8080/"
        },
        "id": "zetCKt8TK_Gp",
        "outputId": "09713f51-dd01-43c8-d8c4-7d11773eb029"
      },
      "source": [
        "#Answer\n",
        "\n",
        "import pandas as pd\n",
        "\n",
        "df= pd.read_csv(\"https://raw.githubusercontent.com/Datamanim/datarepo/main/diabetes/train.csv\")\n",
        "\n",
        "df.groupby(\"Outcome\").mean().diff().iloc[1]"
      ],
      "execution_count": 18,
      "outputs": [
        {
          "output_type": "execute_result",
          "data": {
            "text/plain": [
              "Pregnancies                  1.574159\n",
              "Glucose                     29.943995\n",
              "BloodPressure                3.202079\n",
              "SkinThickness                2.952033\n",
              "Insulin                     33.398645\n",
              "BMI                          4.541437\n",
              "DiabetesPedigreeFunction     0.143646\n",
              "Age                          5.866939\n",
              "Name: 1, dtype: float64"
            ]
          },
          "metadata": {},
          "execution_count": 18
        }
      ]
    },
    {
      "cell_type": "markdown",
      "metadata": {
        "id": "PYOSo1stL4gj"
      },
      "source": [
        "#작업형2"
      ]
    },
    {
      "cell_type": "markdown",
      "metadata": {
        "id": "n5uL3WfFL6Rm"
      },
      "source": [
        "데이터 출처 :https://www.kaggle.com/pritsheta/diabetes-dataset(참고, 데이터 수정)\n",
        "\n",
        "데이터 설명 : 당뇨여부 판단하기\n",
        "\n",
        "​\n",
        "\n",
        "​평가지표 : f1_score\n",
        "\n",
        "trainData url : https://raw.githubusercontent.com/Datamanim/datarepo/main/diabetes/train.csv\n",
        "\n",
        "testData url : https://raw.githubusercontent.com/Datamanim/datarepo/main/diabetes/test.csv"
      ]
    },
    {
      "cell_type": "code",
      "metadata": {
        "id": "DKZ5z2q8LmLO"
      },
      "source": [
        ""
      ],
      "execution_count": null,
      "outputs": []
    }
  ]
}