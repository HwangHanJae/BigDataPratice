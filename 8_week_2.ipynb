{
  "nbformat": 4,
  "nbformat_minor": 0,
  "metadata": {
    "colab": {
      "name": "8_week_2.ipynb",
      "provenance": [],
      "collapsed_sections": [],
      "authorship_tag": "ABX9TyMp+OQHj7AoCQxMFYU/2tZy",
      "include_colab_link": true
    },
    "kernelspec": {
      "name": "python3",
      "display_name": "Python 3"
    },
    "language_info": {
      "name": "python"
    }
  },
  "cells": [
    {
      "cell_type": "markdown",
      "metadata": {
        "id": "view-in-github",
        "colab_type": "text"
      },
      "source": [
        "<a href=\"https://colab.research.google.com/github/HwangHanJae/BigDataPratice/blob/main/8_week_2.ipynb\" target=\"_parent\"><img src=\"https://colab.research.google.com/assets/colab-badge.svg\" alt=\"Open In Colab\"/></a>"
      ]
    },
    {
      "cell_type": "markdown",
      "metadata": {
        "id": "lbFsKOXUEWMg"
      },
      "source": [
        "#작업형1"
      ]
    },
    {
      "cell_type": "markdown",
      "metadata": {
        "id": "Rb1Z8Z5qEY3c"
      },
      "source": [
        "데이터 출처 :https://www.kaggle.com/mysarahmadbhat/hyundai-used-car-listing(참고, 데이터 수정)\n",
        "\n",
        "데이터 설명 : 현대 차량가격 분류문제\n",
        "\n",
        "Data url :https://raw.githubusercontent.com/Datamanim/datarepo/main/hyundai/train.csv"
      ]
    },
    {
      "cell_type": "markdown",
      "metadata": {
        "id": "f7WT2oeCEbqg"
      },
      "source": [
        "##Q1. 정보(row수)가 가장 많은 상위 3차종의 price값의 각 평균값은?"
      ]
    },
    {
      "cell_type": "code",
      "metadata": {
        "colab": {
          "base_uri": "https://localhost:8080/",
          "height": 175
        },
        "id": "qSnd7inYET41",
        "outputId": "ca95c53e-3975-43cf-aab2-31835983456f"
      },
      "source": [
        "import pandas as pd\n",
        "\n",
        "df = pd.read_csv(\"https://raw.githubusercontent.com/Datamanim/datarepo/main/hyundai/train.csv\")\n",
        "\n",
        "\n",
        "#row수가 가장 많은 상위 3차종\n",
        "df.groupby(\"model\").size().sort_values(ascending=False)\n",
        "\n",
        "# Tucson, I10, I30\n",
        "\n",
        "\n",
        "\n",
        "high_model = df.loc[(df[\"model\"] == \" Tucson\") |\n",
        "        (df[\"model\"] == \" I10\") |\n",
        "       (df[\"model\"] == \" I30\")]\n",
        "\n",
        "high_model.groupby(\"model\")[\"price\"].mean().sort_values(ascending=False).to_frame()"
      ],
      "execution_count": 42,
      "outputs": [
        {
          "output_type": "execute_result",
          "data": {
            "text/html": [
              "<div>\n",
              "<style scoped>\n",
              "    .dataframe tbody tr th:only-of-type {\n",
              "        vertical-align: middle;\n",
              "    }\n",
              "\n",
              "    .dataframe tbody tr th {\n",
              "        vertical-align: top;\n",
              "    }\n",
              "\n",
              "    .dataframe thead th {\n",
              "        text-align: right;\n",
              "    }\n",
              "</style>\n",
              "<table border=\"1\" class=\"dataframe\">\n",
              "  <thead>\n",
              "    <tr style=\"text-align: right;\">\n",
              "      <th></th>\n",
              "      <th>price</th>\n",
              "    </tr>\n",
              "    <tr>\n",
              "      <th>model</th>\n",
              "      <th></th>\n",
              "    </tr>\n",
              "  </thead>\n",
              "  <tbody>\n",
              "    <tr>\n",
              "      <th>Tucson</th>\n",
              "      <td>15805.441373</td>\n",
              "    </tr>\n",
              "    <tr>\n",
              "      <th>I30</th>\n",
              "      <td>11651.821759</td>\n",
              "    </tr>\n",
              "    <tr>\n",
              "      <th>I10</th>\n",
              "      <td>7646.137891</td>\n",
              "    </tr>\n",
              "  </tbody>\n",
              "</table>\n",
              "</div>"
            ],
            "text/plain": [
              "                price\n",
              "model                \n",
              " Tucson  15805.441373\n",
              " I30     11651.821759\n",
              " I10      7646.137891"
            ]
          },
          "metadata": {},
          "execution_count": 42
        }
      ]
    },
    {
      "cell_type": "code",
      "metadata": {
        "colab": {
          "base_uri": "https://localhost:8080/",
          "height": 175
        },
        "id": "tA3iNAIXEj-q",
        "outputId": "c9fccfa1-eee5-4efb-9989-76b45b06fdfb"
      },
      "source": [
        "#Answer\n",
        "\n",
        "import pandas as pd\n",
        "\n",
        "df = pd.read_csv(\"https://raw.githubusercontent.com/Datamanim/datarepo/main/hyundai/train.csv\")\n",
        "\n",
        "\n",
        "#df[\"model\"].value_counts().index[:3]\n",
        "\n",
        "##Index([' Tucson', ' I10', ' I30'], dtype='object')\n",
        "\n",
        "df.loc[df[\"model\"].isin(df[\"model\"].value_counts().index[:3])].groupby(\"model\")[\"price\"].mean().sort_values(ascending=False).to_frame()\n",
        "\n"
      ],
      "execution_count": 52,
      "outputs": [
        {
          "output_type": "execute_result",
          "data": {
            "text/html": [
              "<div>\n",
              "<style scoped>\n",
              "    .dataframe tbody tr th:only-of-type {\n",
              "        vertical-align: middle;\n",
              "    }\n",
              "\n",
              "    .dataframe tbody tr th {\n",
              "        vertical-align: top;\n",
              "    }\n",
              "\n",
              "    .dataframe thead th {\n",
              "        text-align: right;\n",
              "    }\n",
              "</style>\n",
              "<table border=\"1\" class=\"dataframe\">\n",
              "  <thead>\n",
              "    <tr style=\"text-align: right;\">\n",
              "      <th></th>\n",
              "      <th>price</th>\n",
              "    </tr>\n",
              "    <tr>\n",
              "      <th>model</th>\n",
              "      <th></th>\n",
              "    </tr>\n",
              "  </thead>\n",
              "  <tbody>\n",
              "    <tr>\n",
              "      <th>Tucson</th>\n",
              "      <td>15805.441373</td>\n",
              "    </tr>\n",
              "    <tr>\n",
              "      <th>I30</th>\n",
              "      <td>11651.821759</td>\n",
              "    </tr>\n",
              "    <tr>\n",
              "      <th>I10</th>\n",
              "      <td>7646.137891</td>\n",
              "    </tr>\n",
              "  </tbody>\n",
              "</table>\n",
              "</div>"
            ],
            "text/plain": [
              "                price\n",
              "model                \n",
              " Tucson  15805.441373\n",
              " I30     11651.821759\n",
              " I10      7646.137891"
            ]
          },
          "metadata": {},
          "execution_count": 52
        }
      ]
    },
    {
      "cell_type": "markdown",
      "metadata": {
        "id": "hXo2ls1nG3Wv"
      },
      "source": [
        "#작업형2"
      ]
    },
    {
      "cell_type": "markdown",
      "metadata": {
        "id": "qP_RZkwQHUSx"
      },
      "source": [
        "데이터 출처 :https://www.kaggle.com/mysarahmadbhat/hyundai-used-car-listing(참고, 데이터 수정)\n",
        "\n",
        "데이터 설명 : 현대차 스펙에 따른 가격 예측문제\n",
        "\n",
        "​평가지표 : r2_score\n",
        "\n",
        "trainData url : https://raw.githubusercontent.com/Datamanim/datarepo/main/hyundai/train.csv\n",
        "\n",
        "testData url : https://raw.githubusercontent.com/Datamanim/datarepo/main/hyundai/test.csv"
      ]
    },
    {
      "cell_type": "code",
      "metadata": {
        "id": "L4ib_GIGHVCt"
      },
      "source": [
        ""
      ],
      "execution_count": null,
      "outputs": []
    }
  ]
}