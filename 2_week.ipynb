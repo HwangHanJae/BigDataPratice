{
  "nbformat": 4,
  "nbformat_minor": 0,
  "metadata": {
    "colab": {
      "name": "2_week.ipynb",
      "provenance": [],
      "collapsed_sections": [],
      "authorship_tag": "ABX9TyNDhAaT++/V+nfhcSYT6Xgj",
      "include_colab_link": true
    },
    "kernelspec": {
      "name": "python3",
      "display_name": "Python 3"
    },
    "language_info": {
      "name": "python"
    }
  },
  "cells": [
    {
      "cell_type": "markdown",
      "metadata": {
        "id": "view-in-github",
        "colab_type": "text"
      },
      "source": [
        "<a href=\"https://colab.research.google.com/github/HwangHanJae/BigDataPratice/blob/main/2_week.ipynb\" target=\"_parent\"><img src=\"https://colab.research.google.com/assets/colab-badge.svg\" alt=\"Open In Colab\"/></a>"
      ]
    },
    {
      "cell_type": "markdown",
      "metadata": {
        "id": "MtMBoux4OSM1"
      },
      "source": [
        "#작업형1"
      ]
    },
    {
      "cell_type": "markdown",
      "metadata": {
        "id": "j1zn2usiOLc8"
      },
      "source": [
        "데이터 출처 :https://www.data.go.kr/data/15007122/fileData.do (참고, 데이터 수정)\n",
        "\n",
        "데이터 설명 : 2018년도 성인의 건강검 진데이터 (흡연상태 1- 흡연, 0-비흡연 )\n",
        "\n",
        "데이터 url : https://raw.githubusercontent.com/Datamanim/datarepo/main/smoke/train.csv\n",
        "\n",
        "데이터 상위 5개 컬럼\n"
      ]
    },
    {
      "cell_type": "code",
      "metadata": {
        "id": "4aRgEM2jOj1d"
      },
      "source": [
        "import pandas as pd\n",
        "df = pd.read_csv(\"https://raw.githubusercontent.com/Datamanim/datarepo/main/smoke/train.csv\")"
      ],
      "execution_count": 25,
      "outputs": []
    },
    {
      "cell_type": "markdown",
      "metadata": {
        "id": "DVxt6WZ1ORpE"
      },
      "source": [
        "##Q1. 시력(좌) 와 시력(우)의 값이 같은 남성의 허리둘레의 평균은?\n"
      ]
    },
    {
      "cell_type": "code",
      "metadata": {
        "colab": {
          "base_uri": "https://localhost:8080/"
        },
        "id": "dGFF_9hcOdAg",
        "outputId": "a48a6148-006e-4f74-e771-4faa6298161e"
      },
      "source": [
        "df.loc[(df[\"시력(좌)\"] == df[\"시력(우)\"]) & (df[\"성별코드\"] == \"M\"),\"허리둘레\" ].mean()"
      ],
      "execution_count": 26,
      "outputs": [
        {
          "output_type": "execute_result",
          "data": {
            "text/plain": [
              "84.97682662817974"
            ]
          },
          "metadata": {},
          "execution_count": 26
        }
      ]
    },
    {
      "cell_type": "markdown",
      "metadata": {
        "id": "J76ipU6COYD7"
      },
      "source": [
        "##Q2. 40대(연령대코드 40,45) 여성 중 '총콜레스테롤'값이 40대 여성의 '총콜레스테롤' 중간값 이상을  가지는 그룹과 50대(연령대코드 50,55) 여성 중 '총콜레스테롤'값이 50대 여성의 '총콜레스테롤' 중간값 이상을 가지는 두 그룹의 '수축기혈압'이 독립성,정규성,등분산성이 만족하는것을 확인했다. \n",
        "\n",
        "##두 그룹의 '수축기혈압'의 독립표본 t 검증 결과를 통계값, p-value 구분지어 구하여라."
      ]
    },
    {
      "cell_type": "code",
      "metadata": {
        "colab": {
          "base_uri": "https://localhost:8080/"
        },
        "id": "x57r2rcLPqBc",
        "outputId": "751b4276-fdfb-4ad1-f578-262871c97f0b"
      },
      "source": [
        "#독립표본 t 검증은 두 집단의 평균이 필요\n",
        "import numpy as np\n",
        "#독립표본 t 검증을 위한 라이브러리\n",
        "import scipy as sp\n",
        "\n",
        "#첫번째 그룹\n",
        "#40대 여성의 '총콜레스테롤' 중간값\n",
        "median_40 = df.loc[(df[\"연령대코드(5세단위)\"] >= 40) &\n",
        "                   (df[\"연령대코드(5세단위)\"] <= 45) &\n",
        "                   (df[\"성별코드\"] == \"F\"), \"총콜레스테롤\"].median()\n",
        "\n",
        "first_group = df.loc[(df[\"연령대코드(5세단위)\"] >= 40) &\n",
        "                     (df[\"연령대코드(5세단위)\"] <= 45) &\n",
        "                     (df[\"성별코드\"] == \"F\") &\n",
        "                     (df[\"총콜레스테롤\"] >= median_40), \"수축기혈압\"]\n",
        "\n",
        "\n",
        "#두번째 그룹\n",
        "median_50 = df.loc[(df[\"연령대코드(5세단위)\"] >= 50) &\n",
        "                   (df[\"연령대코드(5세단위)\"] <= 55) &\n",
        "                   (df[\"성별코드\"] == \"F\"), \"총콜레스테롤\"].median()\n",
        "\n",
        "second_group = df.loc[(df[\"연령대코드(5세단위)\"] >= 50) &\n",
        "                     (df[\"연령대코드(5세단위)\"] <= 50) &\n",
        "                     (df[\"성별코드\"] == \"F\") &\n",
        "                     (df[\"총콜레스테롤\"] >= median_50), \"수축기혈압\"]\n",
        "\n",
        "#독립표본 t 검정\n",
        "#평균은 모델에서 구해주니 그룹을 대입, 등분산성을 만족시에는 equal_var = True로\n",
        "sp.stats.ttest_ind(first_group, second_group, equal_var = True)"
      ],
      "execution_count": 28,
      "outputs": [
        {
          "output_type": "execute_result",
          "data": {
            "text/plain": [
              "Ttest_indResult(statistic=-6.080677350661194, pvalue=1.279051619685356e-09)"
            ]
          },
          "metadata": {},
          "execution_count": 28
        }
      ]
    },
    {
      "cell_type": "markdown",
      "metadata": {
        "id": "-afbYOSuQSeI"
      },
      "source": [
        "##작업형2"
      ]
    }
  ]
}