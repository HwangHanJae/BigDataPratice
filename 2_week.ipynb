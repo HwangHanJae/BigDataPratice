{
  "nbformat": 4,
  "nbformat_minor": 0,
  "metadata": {
    "colab": {
      "name": "2_week.ipynb",
      "provenance": [],
      "collapsed_sections": [],
      "authorship_tag": "ABX9TyORQmhBQ+Ocq7eVxuzMv2dq",
      "include_colab_link": true
    },
    "kernelspec": {
      "name": "python3",
      "display_name": "Python 3"
    },
    "language_info": {
      "name": "python"
    }
  },
  "cells": [
    {
      "cell_type": "markdown",
      "metadata": {
        "id": "view-in-github",
        "colab_type": "text"
      },
      "source": [
        "<a href=\"https://colab.research.google.com/github/HwangHanJae/BigDataPratice/blob/main/2_week.ipynb\" target=\"_parent\"><img src=\"https://colab.research.google.com/assets/colab-badge.svg\" alt=\"Open In Colab\"/></a>"
      ]
    },
    {
      "cell_type": "markdown",
      "metadata": {
        "id": "MtMBoux4OSM1"
      },
      "source": [
        "#작업형1"
      ]
    },
    {
      "cell_type": "markdown",
      "metadata": {
        "id": "j1zn2usiOLc8"
      },
      "source": [
        "데이터 출처 :https://www.data.go.kr/data/15007122/fileData.do (참고, 데이터 수정)\n",
        "\n",
        "데이터 설명 : 2018년도 성인의 건강검 진데이터 (흡연상태 1- 흡연, 0-비흡연 )\n",
        "\n",
        "데이터 url : https://raw.githubusercontent.com/Datamanim/datarepo/main/smoke/train.csv\n",
        "\n",
        "데이터 상위 5개 컬럼\n"
      ]
    },
    {
      "cell_type": "code",
      "metadata": {
        "id": "4aRgEM2jOj1d"
      },
      "source": [
        "import pandas as pd\n",
        "df = pd.read_csv(\"https://raw.githubusercontent.com/Datamanim/datarepo/main/smoke/train.csv\")"
      ],
      "execution_count": null,
      "outputs": []
    },
    {
      "cell_type": "markdown",
      "metadata": {
        "id": "DVxt6WZ1ORpE"
      },
      "source": [
        "##Q1. 시력(좌) 와 시력(우)의 값이 같은 남성의 허리둘레의 평균은?\n"
      ]
    },
    {
      "cell_type": "code",
      "metadata": {
        "colab": {
          "base_uri": "https://localhost:8080/"
        },
        "id": "dGFF_9hcOdAg",
        "outputId": "a48a6148-006e-4f74-e771-4faa6298161e"
      },
      "source": [
        "df.loc[(df[\"시력(좌)\"] == df[\"시력(우)\"]) & (df[\"성별코드\"] == \"M\"),\"허리둘레\" ].mean()"
      ],
      "execution_count": null,
      "outputs": [
        {
          "output_type": "execute_result",
          "data": {
            "text/plain": [
              "84.97682662817974"
            ]
          },
          "metadata": {},
          "execution_count": 26
        }
      ]
    },
    {
      "cell_type": "markdown",
      "metadata": {
        "id": "J76ipU6COYD7"
      },
      "source": [
        "##Q2. 40대(연령대코드 40,45) 여성 중 '총콜레스테롤'값이 40대 여성의 '총콜레스테롤' 중간값 이상을  가지는 그룹과 50대(연령대코드 50,55) 여성 중 '총콜레스테롤'값이 50대 여성의 '총콜레스테롤' 중간값 이상을 가지는 두 그룹의 '수축기혈압'이 독립성,정규성,등분산성이 만족하는것을 확인했다. \n",
        "\n",
        "##두 그룹의 '수축기혈압'의 독립표본 t 검증 결과를 통계값, p-value 구분지어 구하여라."
      ]
    },
    {
      "cell_type": "code",
      "metadata": {
        "colab": {
          "base_uri": "https://localhost:8080/"
        },
        "id": "x57r2rcLPqBc",
        "outputId": "751b4276-fdfb-4ad1-f578-262871c97f0b"
      },
      "source": [
        "#독립표본 t 검증은 두 집단의 평균이 필요\n",
        "import numpy as np\n",
        "#독립표본 t 검증을 위한 라이브러리\n",
        "import scipy as sp\n",
        "\n",
        "#첫번째 그룹\n",
        "#40대 여성의 '총콜레스테롤' 중간값\n",
        "median_40 = df.loc[(df[\"연령대코드(5세단위)\"] >= 40) &\n",
        "                   (df[\"연령대코드(5세단위)\"] <= 45) &\n",
        "                   (df[\"성별코드\"] == \"F\"), \"총콜레스테롤\"].median()\n",
        "\n",
        "first_group = df.loc[(df[\"연령대코드(5세단위)\"] >= 40) &\n",
        "                     (df[\"연령대코드(5세단위)\"] <= 45) &\n",
        "                     (df[\"성별코드\"] == \"F\") &\n",
        "                     (df[\"총콜레스테롤\"] >= median_40), \"수축기혈압\"]\n",
        "\n",
        "\n",
        "#두번째 그룹\n",
        "median_50 = df.loc[(df[\"연령대코드(5세단위)\"] >= 50) &\n",
        "                   (df[\"연령대코드(5세단위)\"] <= 55) &\n",
        "                   (df[\"성별코드\"] == \"F\"), \"총콜레스테롤\"].median()\n",
        "\n",
        "second_group = df.loc[(df[\"연령대코드(5세단위)\"] >= 50) &\n",
        "                     (df[\"연령대코드(5세단위)\"] <= 50) &\n",
        "                     (df[\"성별코드\"] == \"F\") &\n",
        "                     (df[\"총콜레스테롤\"] >= median_50), \"수축기혈압\"]\n",
        "\n",
        "#독립표본 t 검정\n",
        "#평균은 모델에서 구해주니 그룹을 대입, 등분산성을 만족시에는 equal_var = True로\n",
        "sp.stats.ttest_ind(first_group, second_group, equal_var = True)"
      ],
      "execution_count": null,
      "outputs": [
        {
          "output_type": "execute_result",
          "data": {
            "text/plain": [
              "Ttest_indResult(statistic=-6.080677350661194, pvalue=1.279051619685356e-09)"
            ]
          },
          "metadata": {},
          "execution_count": 28
        }
      ]
    },
    {
      "cell_type": "markdown",
      "metadata": {
        "id": "-afbYOSuQSeI"
      },
      "source": [
        "##작업형2"
      ]
    },
    {
      "cell_type": "markdown",
      "metadata": {
        "id": "ZiuqI6HsDT6a"
      },
      "source": [
        "데이터 출처 :https://www.data.go.kr/data/15007122/fileData.do (참고, 데이터 수정)\n",
        "\n",
        "데이터 설명 : 2018년도 성인의 건강검진 데이터로부터 흡연상태 예측 (흡연상태 1- 흡연, 0-비흡연 )\n",
        "\n",
        "문제타입 : 분류유형\n",
        "\n",
        "평가지표 : f1-score\n",
        "\n",
        "trainData url : https://raw.githubusercontent.com/Datamanim/datarepo/main/smoke/train.csv\n",
        "\n",
        "testData url : https://raw.githubusercontent.com/Datamanim/datarepo/main/smoke/test.csv\n",
        "\n",
        "subData url : https://raw.githubusercontent.com/Datamanim/datarepo/main/smoke/submission.csv\n"
      ]
    },
    {
      "cell_type": "code",
      "metadata": {
        "id": "U9FGXUZQDVUn"
      },
      "source": [
        "import pandas as pd\n",
        "trainData = \"https://raw.githubusercontent.com/Datamanim/datarepo/main/smoke/train.csv\"\n",
        "testData = \"https://raw.githubusercontent.com/Datamanim/datarepo/main/smoke/test.csv\"\n",
        "subData = \"https://raw.githubusercontent.com/Datamanim/datarepo/main/smoke/submission.csv\"\n",
        "\n",
        "train = pd.read_csv(trainData)\n",
        "test = pd.read_csv(testData)\n",
        "submission = pd.read_csv(subData)"
      ],
      "execution_count": 3,
      "outputs": []
    },
    {
      "cell_type": "code",
      "metadata": {
        "colab": {
          "base_uri": "https://localhost:8080/",
          "height": 470
        },
        "id": "0ezFkfREJE6t",
        "outputId": "807f82d3-4e5b-422b-e872-b0d422cad786"
      },
      "source": [
        "train"
      ],
      "execution_count": 18,
      "outputs": [
        {
          "output_type": "execute_result",
          "data": {
            "text/html": [
              "<div>\n",
              "<style scoped>\n",
              "    .dataframe tbody tr th:only-of-type {\n",
              "        vertical-align: middle;\n",
              "    }\n",
              "\n",
              "    .dataframe tbody tr th {\n",
              "        vertical-align: top;\n",
              "    }\n",
              "\n",
              "    .dataframe thead th {\n",
              "        text-align: right;\n",
              "    }\n",
              "</style>\n",
              "<table border=\"1\" class=\"dataframe\">\n",
              "  <thead>\n",
              "    <tr style=\"text-align: right;\">\n",
              "      <th></th>\n",
              "      <th>성별코드</th>\n",
              "      <th>연령대코드(5세단위)</th>\n",
              "      <th>신장(5Cm단위)</th>\n",
              "      <th>체중(5Kg단위)</th>\n",
              "      <th>허리둘레</th>\n",
              "      <th>시력(좌)</th>\n",
              "      <th>시력(우)</th>\n",
              "      <th>청력(좌)</th>\n",
              "      <th>청력(우)</th>\n",
              "      <th>수축기혈압</th>\n",
              "      <th>이완기혈압</th>\n",
              "      <th>식전혈당(공복혈당)</th>\n",
              "      <th>총콜레스테롤</th>\n",
              "      <th>트리글리세라이드</th>\n",
              "      <th>HDL콜레스테롤</th>\n",
              "      <th>LDL콜레스테롤</th>\n",
              "      <th>혈색소</th>\n",
              "      <th>요단백</th>\n",
              "      <th>혈청크레아티닌</th>\n",
              "      <th>(혈청지오티)AST</th>\n",
              "      <th>(혈청지오티)ALT</th>\n",
              "      <th>감마지티피</th>\n",
              "      <th>흡연상태</th>\n",
              "      <th>구강검진수검여부</th>\n",
              "      <th>치아우식증유무</th>\n",
              "      <th>치석</th>\n",
              "    </tr>\n",
              "  </thead>\n",
              "  <tbody>\n",
              "    <tr>\n",
              "      <th>0</th>\n",
              "      <td>F</td>\n",
              "      <td>55</td>\n",
              "      <td>145</td>\n",
              "      <td>55</td>\n",
              "      <td>73.0</td>\n",
              "      <td>0.7</td>\n",
              "      <td>0.5</td>\n",
              "      <td>1.0</td>\n",
              "      <td>1.0</td>\n",
              "      <td>129.0</td>\n",
              "      <td>84.0</td>\n",
              "      <td>93.0</td>\n",
              "      <td>185.0</td>\n",
              "      <td>50.0</td>\n",
              "      <td>98.0</td>\n",
              "      <td>77.0</td>\n",
              "      <td>12.9</td>\n",
              "      <td>1.0</td>\n",
              "      <td>0.9</td>\n",
              "      <td>172.0</td>\n",
              "      <td>209.0</td>\n",
              "      <td>15.0</td>\n",
              "      <td>0</td>\n",
              "      <td>Y</td>\n",
              "      <td>0.0</td>\n",
              "      <td>Y</td>\n",
              "    </tr>\n",
              "    <tr>\n",
              "      <th>1</th>\n",
              "      <td>M</td>\n",
              "      <td>40</td>\n",
              "      <td>180</td>\n",
              "      <td>55</td>\n",
              "      <td>74.0</td>\n",
              "      <td>1.5</td>\n",
              "      <td>1.5</td>\n",
              "      <td>1.0</td>\n",
              "      <td>1.0</td>\n",
              "      <td>102.0</td>\n",
              "      <td>70.0</td>\n",
              "      <td>95.0</td>\n",
              "      <td>176.0</td>\n",
              "      <td>60.0</td>\n",
              "      <td>53.0</td>\n",
              "      <td>111.0</td>\n",
              "      <td>15.6</td>\n",
              "      <td>1.0</td>\n",
              "      <td>0.8</td>\n",
              "      <td>30.0</td>\n",
              "      <td>19.0</td>\n",
              "      <td>23.0</td>\n",
              "      <td>1</td>\n",
              "      <td>Y</td>\n",
              "      <td>0.0</td>\n",
              "      <td>Y</td>\n",
              "    </tr>\n",
              "    <tr>\n",
              "      <th>2</th>\n",
              "      <td>F</td>\n",
              "      <td>55</td>\n",
              "      <td>150</td>\n",
              "      <td>50</td>\n",
              "      <td>72.0</td>\n",
              "      <td>1.0</td>\n",
              "      <td>0.2</td>\n",
              "      <td>1.0</td>\n",
              "      <td>1.0</td>\n",
              "      <td>116.0</td>\n",
              "      <td>72.0</td>\n",
              "      <td>86.0</td>\n",
              "      <td>168.0</td>\n",
              "      <td>49.0</td>\n",
              "      <td>53.0</td>\n",
              "      <td>105.0</td>\n",
              "      <td>14.1</td>\n",
              "      <td>1.0</td>\n",
              "      <td>1.0</td>\n",
              "      <td>31.0</td>\n",
              "      <td>19.0</td>\n",
              "      <td>10.0</td>\n",
              "      <td>0</td>\n",
              "      <td>Y</td>\n",
              "      <td>0.0</td>\n",
              "      <td>N</td>\n",
              "    </tr>\n",
              "    <tr>\n",
              "      <th>3</th>\n",
              "      <td>M</td>\n",
              "      <td>40</td>\n",
              "      <td>170</td>\n",
              "      <td>85</td>\n",
              "      <td>89.0</td>\n",
              "      <td>1.0</td>\n",
              "      <td>0.8</td>\n",
              "      <td>1.0</td>\n",
              "      <td>1.0</td>\n",
              "      <td>124.0</td>\n",
              "      <td>80.0</td>\n",
              "      <td>96.0</td>\n",
              "      <td>231.0</td>\n",
              "      <td>240.0</td>\n",
              "      <td>54.0</td>\n",
              "      <td>129.0</td>\n",
              "      <td>16.7</td>\n",
              "      <td>1.0</td>\n",
              "      <td>1.0</td>\n",
              "      <td>26.0</td>\n",
              "      <td>38.0</td>\n",
              "      <td>108.0</td>\n",
              "      <td>1</td>\n",
              "      <td>Y</td>\n",
              "      <td>1.0</td>\n",
              "      <td>Y</td>\n",
              "    </tr>\n",
              "    <tr>\n",
              "      <th>4</th>\n",
              "      <td>F</td>\n",
              "      <td>40</td>\n",
              "      <td>155</td>\n",
              "      <td>45</td>\n",
              "      <td>62.0</td>\n",
              "      <td>0.5</td>\n",
              "      <td>1.0</td>\n",
              "      <td>1.0</td>\n",
              "      <td>1.0</td>\n",
              "      <td>127.0</td>\n",
              "      <td>85.0</td>\n",
              "      <td>93.0</td>\n",
              "      <td>261.0</td>\n",
              "      <td>94.0</td>\n",
              "      <td>71.0</td>\n",
              "      <td>171.0</td>\n",
              "      <td>12.9</td>\n",
              "      <td>1.0</td>\n",
              "      <td>0.7</td>\n",
              "      <td>20.0</td>\n",
              "      <td>11.0</td>\n",
              "      <td>13.0</td>\n",
              "      <td>0</td>\n",
              "      <td>Y</td>\n",
              "      <td>0.0</td>\n",
              "      <td>N</td>\n",
              "    </tr>\n",
              "    <tr>\n",
              "      <th>...</th>\n",
              "      <td>...</td>\n",
              "      <td>...</td>\n",
              "      <td>...</td>\n",
              "      <td>...</td>\n",
              "      <td>...</td>\n",
              "      <td>...</td>\n",
              "      <td>...</td>\n",
              "      <td>...</td>\n",
              "      <td>...</td>\n",
              "      <td>...</td>\n",
              "      <td>...</td>\n",
              "      <td>...</td>\n",
              "      <td>...</td>\n",
              "      <td>...</td>\n",
              "      <td>...</td>\n",
              "      <td>...</td>\n",
              "      <td>...</td>\n",
              "      <td>...</td>\n",
              "      <td>...</td>\n",
              "      <td>...</td>\n",
              "      <td>...</td>\n",
              "      <td>...</td>\n",
              "      <td>...</td>\n",
              "      <td>...</td>\n",
              "      <td>...</td>\n",
              "      <td>...</td>\n",
              "    </tr>\n",
              "    <tr>\n",
              "      <th>44548</th>\n",
              "      <td>F</td>\n",
              "      <td>60</td>\n",
              "      <td>145</td>\n",
              "      <td>50</td>\n",
              "      <td>87.0</td>\n",
              "      <td>1.0</td>\n",
              "      <td>1.0</td>\n",
              "      <td>1.0</td>\n",
              "      <td>1.0</td>\n",
              "      <td>140.0</td>\n",
              "      <td>85.0</td>\n",
              "      <td>104.0</td>\n",
              "      <td>139.0</td>\n",
              "      <td>58.0</td>\n",
              "      <td>48.0</td>\n",
              "      <td>79.0</td>\n",
              "      <td>12.3</td>\n",
              "      <td>1.0</td>\n",
              "      <td>0.5</td>\n",
              "      <td>24.0</td>\n",
              "      <td>32.0</td>\n",
              "      <td>15.0</td>\n",
              "      <td>0</td>\n",
              "      <td>Y</td>\n",
              "      <td>1.0</td>\n",
              "      <td>Y</td>\n",
              "    </tr>\n",
              "    <tr>\n",
              "      <th>44549</th>\n",
              "      <td>M</td>\n",
              "      <td>40</td>\n",
              "      <td>175</td>\n",
              "      <td>75</td>\n",
              "      <td>88.0</td>\n",
              "      <td>1.5</td>\n",
              "      <td>1.2</td>\n",
              "      <td>1.0</td>\n",
              "      <td>1.0</td>\n",
              "      <td>139.0</td>\n",
              "      <td>86.0</td>\n",
              "      <td>154.0</td>\n",
              "      <td>111.0</td>\n",
              "      <td>123.0</td>\n",
              "      <td>39.0</td>\n",
              "      <td>46.0</td>\n",
              "      <td>15.3</td>\n",
              "      <td>1.0</td>\n",
              "      <td>0.8</td>\n",
              "      <td>62.0</td>\n",
              "      <td>106.0</td>\n",
              "      <td>49.0</td>\n",
              "      <td>1</td>\n",
              "      <td>Y</td>\n",
              "      <td>0.0</td>\n",
              "      <td>Y</td>\n",
              "    </tr>\n",
              "    <tr>\n",
              "      <th>44550</th>\n",
              "      <td>F</td>\n",
              "      <td>60</td>\n",
              "      <td>150</td>\n",
              "      <td>55</td>\n",
              "      <td>82.0</td>\n",
              "      <td>0.9</td>\n",
              "      <td>0.9</td>\n",
              "      <td>1.0</td>\n",
              "      <td>1.0</td>\n",
              "      <td>124.0</td>\n",
              "      <td>85.0</td>\n",
              "      <td>108.0</td>\n",
              "      <td>185.0</td>\n",
              "      <td>126.0</td>\n",
              "      <td>69.0</td>\n",
              "      <td>91.0</td>\n",
              "      <td>14.1</td>\n",
              "      <td>1.0</td>\n",
              "      <td>0.5</td>\n",
              "      <td>38.0</td>\n",
              "      <td>34.0</td>\n",
              "      <td>26.0</td>\n",
              "      <td>0</td>\n",
              "      <td>Y</td>\n",
              "      <td>0.0</td>\n",
              "      <td>Y</td>\n",
              "    </tr>\n",
              "    <tr>\n",
              "      <th>44551</th>\n",
              "      <td>M</td>\n",
              "      <td>40</td>\n",
              "      <td>170</td>\n",
              "      <td>50</td>\n",
              "      <td>69.0</td>\n",
              "      <td>0.4</td>\n",
              "      <td>1.2</td>\n",
              "      <td>1.0</td>\n",
              "      <td>1.0</td>\n",
              "      <td>117.0</td>\n",
              "      <td>73.0</td>\n",
              "      <td>96.0</td>\n",
              "      <td>213.0</td>\n",
              "      <td>141.0</td>\n",
              "      <td>67.0</td>\n",
              "      <td>118.0</td>\n",
              "      <td>14.2</td>\n",
              "      <td>1.0</td>\n",
              "      <td>0.9</td>\n",
              "      <td>22.0</td>\n",
              "      <td>17.0</td>\n",
              "      <td>55.0</td>\n",
              "      <td>1</td>\n",
              "      <td>Y</td>\n",
              "      <td>0.0</td>\n",
              "      <td>N</td>\n",
              "    </tr>\n",
              "    <tr>\n",
              "      <th>44552</th>\n",
              "      <td>F</td>\n",
              "      <td>40</td>\n",
              "      <td>155</td>\n",
              "      <td>50</td>\n",
              "      <td>72.5</td>\n",
              "      <td>1.0</td>\n",
              "      <td>1.0</td>\n",
              "      <td>1.0</td>\n",
              "      <td>1.0</td>\n",
              "      <td>109.0</td>\n",
              "      <td>68.0</td>\n",
              "      <td>86.0</td>\n",
              "      <td>200.0</td>\n",
              "      <td>58.0</td>\n",
              "      <td>61.0</td>\n",
              "      <td>127.0</td>\n",
              "      <td>11.7</td>\n",
              "      <td>1.0</td>\n",
              "      <td>0.6</td>\n",
              "      <td>16.0</td>\n",
              "      <td>10.0</td>\n",
              "      <td>7.0</td>\n",
              "      <td>0</td>\n",
              "      <td>Y</td>\n",
              "      <td>0.0</td>\n",
              "      <td>N</td>\n",
              "    </tr>\n",
              "  </tbody>\n",
              "</table>\n",
              "<p>44553 rows × 26 columns</p>\n",
              "</div>"
            ],
            "text/plain": [
              "      성별코드  연령대코드(5세단위)  신장(5Cm단위)  체중(5Kg단위)  ...  흡연상태  구강검진수검여부  치아우식증유무  치석\n",
              "0        F           55        145         55  ...     0         Y      0.0   Y\n",
              "1        M           40        180         55  ...     1         Y      0.0   Y\n",
              "2        F           55        150         50  ...     0         Y      0.0   N\n",
              "3        M           40        170         85  ...     1         Y      1.0   Y\n",
              "4        F           40        155         45  ...     0         Y      0.0   N\n",
              "...    ...          ...        ...        ...  ...   ...       ...      ...  ..\n",
              "44548    F           60        145         50  ...     0         Y      1.0   Y\n",
              "44549    M           40        175         75  ...     1         Y      0.0   Y\n",
              "44550    F           60        150         55  ...     0         Y      0.0   Y\n",
              "44551    M           40        170         50  ...     1         Y      0.0   N\n",
              "44552    F           40        155         50  ...     0         Y      0.0   N\n",
              "\n",
              "[44553 rows x 26 columns]"
            ]
          },
          "metadata": {},
          "execution_count": 18
        }
      ]
    },
    {
      "cell_type": "code",
      "metadata": {
        "colab": {
          "base_uri": "https://localhost:8080/"
        },
        "id": "9A9JxKVVHdP-",
        "outputId": "534521d5-6df6-4d26-cae9-362d4ce13354"
      },
      "source": [
        "#타겟은 흡연상태(흡연 : 1, 비흡연 : 0)\n",
        "#NULL 체크\n",
        "train.isnull().sum()"
      ],
      "execution_count": 7,
      "outputs": [
        {
          "output_type": "execute_result",
          "data": {
            "text/plain": [
              "성별코드           0\n",
              "연령대코드(5세단위)    0\n",
              "신장(5Cm단위)      0\n",
              "체중(5Kg단위)      0\n",
              "허리둘레           0\n",
              "시력(좌)          0\n",
              "시력(우)          0\n",
              "청력(좌)          0\n",
              "청력(우)          0\n",
              "수축기혈압          0\n",
              "이완기혈압          0\n",
              "식전혈당(공복혈당)     0\n",
              "총콜레스테롤         0\n",
              "트리글리세라이드       0\n",
              "HDL콜레스테롤       0\n",
              "LDL콜레스테롤       0\n",
              "혈색소            0\n",
              "요단백            0\n",
              "혈청크레아티닌        0\n",
              "(혈청지오티)AST     0\n",
              "(혈청지오티)ALT     0\n",
              "감마지티피          0\n",
              "흡연상태           0\n",
              "구강검진수검여부       0\n",
              "치아우식증유무        0\n",
              "치석             0\n",
              "dtype: int64"
            ]
          },
          "metadata": {},
          "execution_count": 7
        }
      ]
    },
    {
      "cell_type": "code",
      "metadata": {
        "colab": {
          "base_uri": "https://localhost:8080/"
        },
        "id": "YQgXe47cHedk",
        "outputId": "72c1557c-79cf-434f-8958-efff5fc80f19"
      },
      "source": [
        "test.isnull().sum()"
      ],
      "execution_count": 8,
      "outputs": [
        {
          "output_type": "execute_result",
          "data": {
            "text/plain": [
              "성별코드           0\n",
              "연령대코드(5세단위)    0\n",
              "신장(5Cm단위)      0\n",
              "체중(5Kg단위)      0\n",
              "허리둘레           0\n",
              "시력(좌)          0\n",
              "시력(우)          0\n",
              "청력(좌)          0\n",
              "청력(우)          0\n",
              "수축기혈압          0\n",
              "이완기혈압          0\n",
              "식전혈당(공복혈당)     0\n",
              "총콜레스테롤         0\n",
              "트리글리세라이드       0\n",
              "HDL콜레스테롤       0\n",
              "LDL콜레스테롤       0\n",
              "혈색소            0\n",
              "요단백            0\n",
              "혈청크레아티닌        0\n",
              "(혈청지오티)AST     0\n",
              "(혈청지오티)ALT     0\n",
              "감마지티피          0\n",
              "구강검진수검여부       0\n",
              "치아우식증유무        0\n",
              "치석             0\n",
              "dtype: int64"
            ]
          },
          "metadata": {},
          "execution_count": 8
        }
      ]
    },
    {
      "cell_type": "code",
      "metadata": {
        "colab": {
          "base_uri": "https://localhost:8080/"
        },
        "id": "xY_MWMGJH8va",
        "outputId": "d4a92055-08ee-46fb-a28e-af9630adee95"
      },
      "source": [
        "#데이터의 유형 파악\n",
        "train.info()"
      ],
      "execution_count": 9,
      "outputs": [
        {
          "output_type": "stream",
          "name": "stdout",
          "text": [
            "<class 'pandas.core.frame.DataFrame'>\n",
            "RangeIndex: 44553 entries, 0 to 44552\n",
            "Data columns (total 26 columns):\n",
            " #   Column       Non-Null Count  Dtype  \n",
            "---  ------       --------------  -----  \n",
            " 0   성별코드         44553 non-null  object \n",
            " 1   연령대코드(5세단위)  44553 non-null  int64  \n",
            " 2   신장(5Cm단위)    44553 non-null  int64  \n",
            " 3   체중(5Kg단위)    44553 non-null  int64  \n",
            " 4   허리둘레         44553 non-null  float64\n",
            " 5   시력(좌)        44553 non-null  float64\n",
            " 6   시력(우)        44553 non-null  float64\n",
            " 7   청력(좌)        44553 non-null  float64\n",
            " 8   청력(우)        44553 non-null  float64\n",
            " 9   수축기혈압        44553 non-null  float64\n",
            " 10  이완기혈압        44553 non-null  float64\n",
            " 11  식전혈당(공복혈당)   44553 non-null  float64\n",
            " 12  총콜레스테롤       44553 non-null  float64\n",
            " 13  트리글리세라이드     44553 non-null  float64\n",
            " 14  HDL콜레스테롤     44553 non-null  float64\n",
            " 15  LDL콜레스테롤     44553 non-null  float64\n",
            " 16  혈색소          44553 non-null  float64\n",
            " 17  요단백          44553 non-null  float64\n",
            " 18  혈청크레아티닌      44553 non-null  float64\n",
            " 19  (혈청지오티)AST   44553 non-null  float64\n",
            " 20  (혈청지오티)ALT   44553 non-null  float64\n",
            " 21  감마지티피        44553 non-null  float64\n",
            " 22  흡연상태         44553 non-null  int64  \n",
            " 23  구강검진수검여부     44553 non-null  object \n",
            " 24  치아우식증유무      44553 non-null  float64\n",
            " 25  치석           44553 non-null  object \n",
            "dtypes: float64(19), int64(4), object(3)\n",
            "memory usage: 8.8+ MB\n"
          ]
        }
      ]
    },
    {
      "cell_type": "code",
      "metadata": {
        "id": "i35U0mh1IB2j"
      },
      "source": [
        "#성별코드, 구강검진수검여부, 치석 오브젝트 형태\n",
        "train[[\"성별코드\", \"구강검진수검여부\",\"치석\"]]\n",
        "\n",
        "#성별코드(F = 1, M = 0)으로 바꾸기\n",
        "for df in [train, test]:\n",
        "  df.loc[df[\"성별코드\"] == \"F\", \"성별코드\"] = 1\n",
        "  df.loc[df[\"성별코드\"] == \"M\", \"성별코드\"] = 0\n",
        "\n",
        "#구강검진수검여부는  전부 \"Y\"이기 때문에 제거\n",
        "drop_col = [\"구강검진수검여부\"]\n",
        "train = train.drop(drop_col, axis=1)\n",
        "test = test.drop(drop_col, axis=1)\n",
        "\n",
        "#치석(Y=1, N=0)으로 변환\n",
        "for df in [train, test]:\n",
        "  df.loc[df[\"치석\"] == \"Y\", \"치석\"] =1\n",
        "  df.loc[df[\"치석\"] == \"N\", \"치석\"] =0"
      ],
      "execution_count": 35,
      "outputs": []
    },
    {
      "cell_type": "code",
      "metadata": {
        "id": "zgoW56dxLX46"
      },
      "source": [
        "#타겟데이터 훈련데이터 분리\n",
        "X = train.drop([\"흡연상태\"], axis=1)\n",
        "y = train[\"흡연상태\"]"
      ],
      "execution_count": 40,
      "outputs": []
    },
    {
      "cell_type": "code",
      "metadata": {
        "id": "eSUNb13zI2h6"
      },
      "source": [
        "#스케일링(MinMaxScaling)\n",
        "from sklearn.preprocessing import MinMaxScaler\n",
        "scaler = MinMaxScaler()\n",
        "\n",
        "X= scaler.fit_transform(X)\n",
        "test = scaler.fit_transform(test)"
      ],
      "execution_count": 41,
      "outputs": []
    },
    {
      "cell_type": "code",
      "metadata": {
        "colab": {
          "base_uri": "https://localhost:8080/"
        },
        "id": "Q2zq_6pIKdwO",
        "outputId": "c115f6b6-6501-4c4b-d40d-0630865fd505"
      },
      "source": [
        "#훈련, 테스트 데이터 분리\n",
        "from sklearn.model_selection import train_test_split\n",
        "\n",
        "X_train, X_test, y_train, y_test = train_test_split(X,y,test_size=0.33, random_state=42, stratify = y)\n",
        "\n",
        "\n",
        "#모델링\n",
        "from sklearn.ensemble import RandomForestClassifier\n",
        "\n",
        "rf = RandomForestClassifier()\n",
        "rf.fit(X_train, y_train)\n",
        "\n",
        "y_pred = rf.predict(X_test)\n",
        "\n",
        "#평가\n",
        "from sklearn.metrics import f1_score\n",
        "\n",
        "print(f1_score(y_test, y_pred))"
      ],
      "execution_count": 47,
      "outputs": [
        {
          "output_type": "stream",
          "name": "stdout",
          "text": [
            "0.6729746778408578\n"
          ]
        }
      ]
    },
    {
      "cell_type": "code",
      "metadata": {
        "id": "17zWs87sMLyR"
      },
      "source": [
        "#파일 제출\n",
        "pred = rf.predict(test)\n",
        "submission[\"0\"] = pred\n",
        "submission.to_csv(\"수험번호.csv\", index = False)"
      ],
      "execution_count": 51,
      "outputs": []
    },
    {
      "cell_type": "markdown",
      "metadata": {
        "id": "bbeaGrNONcLf"
      },
      "source": [
        "baseline 모델은 one-hot-encoding을 하여 진행.\n"
      ]
    }
  ]
}