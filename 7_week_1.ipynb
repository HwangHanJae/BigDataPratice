{
  "nbformat": 4,
  "nbformat_minor": 0,
  "metadata": {
    "colab": {
      "name": "7_week_1.ipynb",
      "provenance": [],
      "collapsed_sections": [],
      "authorship_tag": "ABX9TyO1XKDNAqmXoJOxIvIOgPa3",
      "include_colab_link": true
    },
    "kernelspec": {
      "name": "python3",
      "display_name": "Python 3"
    },
    "language_info": {
      "name": "python"
    }
  },
  "cells": [
    {
      "cell_type": "markdown",
      "metadata": {
        "id": "view-in-github",
        "colab_type": "text"
      },
      "source": [
        "<a href=\"https://colab.research.google.com/github/HwangHanJae/BigDataPratice/blob/main/7_week_1.ipynb\" target=\"_parent\"><img src=\"https://colab.research.google.com/assets/colab-badge.svg\" alt=\"Open In Colab\"/></a>"
      ]
    },
    {
      "cell_type": "markdown",
      "metadata": {
        "id": "X0_YdUVIdsM7"
      },
      "source": [
        "#작업형1"
      ]
    },
    {
      "cell_type": "markdown",
      "metadata": {
        "id": "YD0I8SGWdtaX"
      },
      "source": [
        "데이터 출처 :https://www.kaggle.com/sid321axn/audit-data(참고, 데이터 수정)\n",
        "\n",
        "데이터 설명 : 사기회사 분류\n",
        "\n",
        "Data url :https://raw.githubusercontent.com/Datamanim/datarepo/main/audit/train.csv\n"
      ]
    },
    {
      "cell_type": "markdown",
      "metadata": {
        "id": "4-KPkBp0dto6"
      },
      "source": [
        "##Q1. 데이터의 Risk 값에 따른 score_a와 score_b의 평균값을 구하여라\n"
      ]
    },
    {
      "cell_type": "code",
      "metadata": {
        "colab": {
          "base_uri": "https://localhost:8080/",
          "height": 178
        },
        "id": "DNQHT-J-dp2d",
        "outputId": "053e0bc6-fac1-466b-8d14-35eeccd7ad8d"
      },
      "source": [
        "import pandas as pd\n",
        "\n",
        "\n",
        "df = pd.read_csv(\"https://raw.githubusercontent.com/Datamanim/datarepo/main/audit/train.csv\")\n",
        "\n",
        "df.groupby(\"Risk\")[\"Score_A\", \"Score_B\"].mean()"
      ],
      "execution_count": 7,
      "outputs": [
        {
          "output_type": "stream",
          "name": "stderr",
          "text": [
            "/usr/local/lib/python3.7/dist-packages/ipykernel_launcher.py:6: FutureWarning: Indexing with multiple keys (implicitly converted to a tuple of keys) will be deprecated, use a list instead.\n",
            "  \n"
          ]
        },
        {
          "output_type": "execute_result",
          "data": {
            "text/html": [
              "<div>\n",
              "<style scoped>\n",
              "    .dataframe tbody tr th:only-of-type {\n",
              "        vertical-align: middle;\n",
              "    }\n",
              "\n",
              "    .dataframe tbody tr th {\n",
              "        vertical-align: top;\n",
              "    }\n",
              "\n",
              "    .dataframe thead th {\n",
              "        text-align: right;\n",
              "    }\n",
              "</style>\n",
              "<table border=\"1\" class=\"dataframe\">\n",
              "  <thead>\n",
              "    <tr style=\"text-align: right;\">\n",
              "      <th></th>\n",
              "      <th>Score_A</th>\n",
              "      <th>Score_B</th>\n",
              "    </tr>\n",
              "    <tr>\n",
              "      <th>Risk</th>\n",
              "      <th></th>\n",
              "      <th></th>\n",
              "    </tr>\n",
              "  </thead>\n",
              "  <tbody>\n",
              "    <tr>\n",
              "      <th>0</th>\n",
              "      <td>0.262234</td>\n",
              "      <td>0.225532</td>\n",
              "    </tr>\n",
              "    <tr>\n",
              "      <th>1</th>\n",
              "      <td>0.490164</td>\n",
              "      <td>0.444262</td>\n",
              "    </tr>\n",
              "  </tbody>\n",
              "</table>\n",
              "</div>"
            ],
            "text/plain": [
              "       Score_A   Score_B\n",
              "Risk                    \n",
              "0     0.262234  0.225532\n",
              "1     0.490164  0.444262"
            ]
          },
          "metadata": {},
          "execution_count": 7
        }
      ]
    },
    {
      "cell_type": "code",
      "metadata": {
        "colab": {
          "base_uri": "https://localhost:8080/",
          "height": 143
        },
        "id": "g-xJuolAdzB1",
        "outputId": "ca36d26a-30e6-46a0-8fcd-23c72d6369eb"
      },
      "source": [
        "#Answer\n",
        "\n",
        "import pandas as pd\n",
        "\n",
        "df = pd.read_csv(\"https://raw.githubusercontent.com/Datamanim/datarepo/main/audit/train.csv\")\n",
        "\n",
        "df.groupby(\"Risk\").mean()[[\"Score_A\", \"Score_B\"]]"
      ],
      "execution_count": 5,
      "outputs": [
        {
          "output_type": "execute_result",
          "data": {
            "text/html": [
              "<div>\n",
              "<style scoped>\n",
              "    .dataframe tbody tr th:only-of-type {\n",
              "        vertical-align: middle;\n",
              "    }\n",
              "\n",
              "    .dataframe tbody tr th {\n",
              "        vertical-align: top;\n",
              "    }\n",
              "\n",
              "    .dataframe thead th {\n",
              "        text-align: right;\n",
              "    }\n",
              "</style>\n",
              "<table border=\"1\" class=\"dataframe\">\n",
              "  <thead>\n",
              "    <tr style=\"text-align: right;\">\n",
              "      <th></th>\n",
              "      <th>Score_A</th>\n",
              "      <th>Score_B</th>\n",
              "    </tr>\n",
              "    <tr>\n",
              "      <th>Risk</th>\n",
              "      <th></th>\n",
              "      <th></th>\n",
              "    </tr>\n",
              "  </thead>\n",
              "  <tbody>\n",
              "    <tr>\n",
              "      <th>0</th>\n",
              "      <td>0.262234</td>\n",
              "      <td>0.225532</td>\n",
              "    </tr>\n",
              "    <tr>\n",
              "      <th>1</th>\n",
              "      <td>0.490164</td>\n",
              "      <td>0.444262</td>\n",
              "    </tr>\n",
              "  </tbody>\n",
              "</table>\n",
              "</div>"
            ],
            "text/plain": [
              "       Score_A   Score_B\n",
              "Risk                    \n",
              "0     0.262234  0.225532\n",
              "1     0.490164  0.444262"
            ]
          },
          "metadata": {},
          "execution_count": 5
        }
      ]
    },
    {
      "cell_type": "markdown",
      "metadata": {
        "id": "f4VtTeFnePfw"
      },
      "source": [
        "#작업형2"
      ]
    },
    {
      "cell_type": "markdown",
      "metadata": {
        "id": "e42vYKHGec_v"
      },
      "source": [
        "데이터 출처 : https://www.kaggle.com/sid321axn/audit-data (참고, 데이터 수정)\n",
        "데이터 설명 : 사기회사 분류\n",
        "\n",
        "평가지표 : f1_score\n",
        "\n",
        "trainData url : https://raw.githubusercontent.com/Datamanim/datarepo/main/audit/train.csv\n",
        "\n",
        "testData url : https://raw.githubusercontent.com/Datamanim/datarepo/main/audit/train.csv"
      ]
    },
    {
      "cell_type": "code",
      "metadata": {
        "id": "oLCSdI8Ae6ye"
      },
      "source": [
        ""
      ],
      "execution_count": null,
      "outputs": []
    }
  ]
}