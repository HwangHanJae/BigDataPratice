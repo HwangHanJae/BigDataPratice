{
  "nbformat": 4,
  "nbformat_minor": 0,
  "metadata": {
    "colab": {
      "name": "1_week.ipynb",
      "provenance": [],
      "collapsed_sections": [],
      "authorship_tag": "ABX9TyOvFo7xeCsmRKL5XADE/UdU",
      "include_colab_link": true
    },
    "kernelspec": {
      "name": "python3",
      "display_name": "Python 3"
    },
    "language_info": {
      "name": "python"
    }
  },
  "cells": [
    {
      "cell_type": "markdown",
      "metadata": {
        "id": "view-in-github",
        "colab_type": "text"
      },
      "source": [
        "<a href=\"https://colab.research.google.com/github/HwangHanJae/BigDataPratice/blob/main/1_week.ipynb\" target=\"_parent\"><img src=\"https://colab.research.google.com/assets/colab-badge.svg\" alt=\"Open In Colab\"/></a>"
      ]
    },
    {
      "cell_type": "markdown",
      "metadata": {
        "id": "mlDBkAK4kXXC"
      },
      "source": [
        "# 작업형1"
      ]
    },
    {
      "cell_type": "markdown",
      "metadata": {
        "id": "avvX87vJfccD"
      },
      "source": [
        "데이터 출처 : https://data.kma.go.kr/cmmn/static/staticPage.do?page=intro\n",
        "\n",
        "데이터 설명 : 2020년도 이화동(서울) , 수영동(부산)의 시간단위의 기온과 강수량\n",
        "\n",
        "데이터 URL : https://raw.githubusercontent.com/Datamanim/datarepo/main/weather/weather2.csv"
      ]
    },
    {
      "cell_type": "markdown",
      "metadata": {
        "id": "0aaQ0iMEfpqV"
      },
      "source": [
        "## Q1. 여름철(6월,7월,8월) 이화동이 수영동보다 높은 기온을 가진 시간대는 몇개인가?\n"
      ]
    },
    {
      "cell_type": "code",
      "metadata": {
        "colab": {
          "base_uri": "https://localhost:8080/"
        },
        "id": "XtxHZYsbfuf3",
        "outputId": "2b438917-0ea2-4681-8d98-469e02dee930"
      },
      "source": [
        "import pandas as pd\n",
        "df = pd.read_csv(\"https://raw.githubusercontent.com/Datamanim/datarepo/main/weather/weather2.csv\")\n",
        "\n",
        "#첫번째 여름철 분류하기\n",
        "df['time'] = pd.to_datetime(df['time'])\n",
        "#df['time'].dt.month\n",
        "df_summer = df.loc[(df['time'].dt.month >= 6) & (df['time'].dt.month <= 8)]\n",
        "\n",
        "#이화동 > 수영동 기온\n",
        "time = df_summer['이화동기온'] > df_summer['수영동기온']\n",
        "print(\"답 : \")\n",
        "print(time.sum())"
      ],
      "execution_count": 30,
      "outputs": [
        {
          "output_type": "stream",
          "name": "stdout",
          "text": [
            "답 : \n",
            "1415\n"
          ]
        }
      ]
    },
    {
      "cell_type": "markdown",
      "metadata": {
        "id": "iP6MJnZmhwJv"
      },
      "source": [
        "## Q2. 이화동과 수영동의 최대강수량의 시간대를 각각 구하여라"
      ]
    },
    {
      "cell_type": "code",
      "metadata": {
        "colab": {
          "base_uri": "https://localhost:8080/"
        },
        "id": "JTB31owUibQS",
        "outputId": "2704d3de-004e-425b-d99c-0011b2f80dab"
      },
      "source": [
        "import pandas as pd\n",
        "\n",
        "df = pd.read_csv(\"https://raw.githubusercontent.com/Datamanim/datarepo/main/weather/weather2.csv\")\n",
        "#최대 강수량\n",
        "max1 = df[\"이화동강수\"].max()\n",
        "max2 = df[\"수영동강수\"].max()\n",
        "\n",
        "#시간대를 구하기\n",
        "time1 = df.loc[df['이화동강수'] == df['이화동강수'].max(), 'time'].values\n",
        "time2 = df.loc[df['수영동강수'] == df['수영동강수'].max(), 'time'].values\n",
        "print(time1)\n",
        "print(time2)"
      ],
      "execution_count": 47,
      "outputs": [
        {
          "output_type": "stream",
          "name": "stdout",
          "text": [
            "['2020-09-30 09:00:00']\n",
            "['2020-07-23 12:00:00']\n"
          ]
        }
      ]
    },
    {
      "cell_type": "markdown",
      "metadata": {
        "id": "Qc-oDxe-ka-h"
      },
      "source": [
        "#작업형2"
      ]
    },
    {
      "cell_type": "markdown",
      "metadata": {
        "id": "sN3yfy3mkawx"
      },
      "source": [
        "데이터 출처 : https://www.kaggle.com/shubh0799/churn-modelling 에서 변형\n",
        "\n",
        "데이터 설명 :  고객의 신상정보 데이터를 통한 회사 서비스 이탈 예측 (종속변수 : Exited)\n",
        "\n",
        "문제타입 : 분류유형\n",
        "\n",
        "평가지표 : f1-score\n",
        "\n",
        "trainData url : https://raw.githubusercontent.com/Datamanim/datarepo/main/churn/train.csv\n",
        "\n",
        "testData url : https://raw.githubusercontent.com/Datamanim/datarepo/main/churn/test.csv\n",
        "\n",
        "subData url : https://raw.githubusercontent.com/Datamanim/datarepo/main/churn/submission.csv"
      ]
    },
    {
      "cell_type": "markdown",
      "metadata": {
        "id": "62y94x6Ykf0u"
      },
      "source": [
        "##Baseline"
      ]
    },
    {
      "cell_type": "code",
      "metadata": {
        "colab": {
          "base_uri": "https://localhost:8080/"
        },
        "id": "MSf022FEkjp4",
        "outputId": "1cbf714c-0f1c-4867-cf70-baf3ed1a8131"
      },
      "source": [
        "trainData = \"https://raw.githubusercontent.com/Datamanim/datarepo/main/churn/train.csv\"\n",
        "testData = \"https://raw.githubusercontent.com/Datamanim/datarepo/main/churn/test.csv\"\n",
        "subData = \"https://raw.githubusercontent.com/Datamanim/datarepo/main/churn/submission.csv\"\n",
        "\n",
        "#라이브러리로드\n",
        "import pandas as pd\n",
        "\n",
        "#데이터로드\n",
        "train = pd.read_csv(trainData)\n",
        "test = pd.read_csv(testData)\n",
        "submission = pd.read_csv(subData)\n",
        "\n",
        "#라벨인코더와 랜덤포레스트분류기\n",
        "from sklearn.preprocessing import LabelEncoder\n",
        "from sklearn.ensemble import RandomForestClassifier\n",
        "\n",
        "\n",
        "\n",
        "#전처리함수\n",
        "def preprocessing(df, target='train', encoderLst = None):\n",
        "\n",
        "  #모델성능에 영향을 주지 않는 컬럼을 제거\n",
        "  drop_col = ['RowNumber', \"CustomerId\", \"Surname\"]\n",
        "  df = df.drop(drop_col, axis=1)\n",
        "\n",
        "  #범주형 컬럼인 Geograpy와 Gender를 labelencoding을 해주고 인코더 testset에서 사용하기 위해 인코더리스트를 반환\n",
        "\n",
        "  #훈련과 테스트에 대해서 다르게 적용\n",
        "  if target == \"train\":\n",
        "    labelEncoder1 = LabelEncoder()\n",
        "    labelEncoder2 = LabelEncoder()\n",
        "\n",
        "    df['Geography'] = labelEncoder1.fit_transform(df['Geography'])\n",
        "    df['Gender'] = labelEncoder2.fit_transform(df['Gender'])\n",
        "    encoderLst = [labelEncoder1, labelEncoder2]\n",
        "    return df, encoderLst\n",
        "\n",
        "  elif target == \"test\" and encoderLst != None:\n",
        "    labelEncoder1 = encoderLst[0]\n",
        "    labelEncoder2 = encoderLst[1]\n",
        "\n",
        "    df['Geography'] = labelEncoder1.fit_transform(df['Geography'])\n",
        "    df['Gender'] = labelEncoder1.fit_transform(df['Gender'])\n",
        "    return df\n",
        "\n",
        "  return None;\n",
        "\n",
        "#전처리함수 실행\n",
        "preprocessing_df, encoder_list = preprocessing(train)\n",
        "\n",
        "#훈련데이터 분리\n",
        "from sklearn.model_selection import train_test_split\n",
        "\n",
        "X = preprocessing_df.drop('Exited',axis=1)\n",
        "y= preprocessing_df['Exited']\n",
        "\n",
        "#훈련진행 분류 모델이기 때문에 층화추출을 위해서 stratify 파라미터 설정\n",
        "X_train, X_test, y_train, y_test = train_test_split(X, y, test_size=0.33, random_state = 42, stratify = y)\n",
        "\n",
        "\n",
        "\n",
        "#모델학습 및 평가\n",
        "rf = RandomForestClassifier(random_state=42)\n",
        "rf.fit(X_train, y_train)\n",
        "y_pred = rf.predict(X_test)\n",
        "\n",
        "#f1score평가\n",
        "from sklearn.metrics import f1_score\n",
        "print(f1_score(y_test, y_pred))\n",
        "#비교적 낮은 모델 성능 추가적인 전처리가 필요할듯\n",
        "\n",
        "#제출 파일생성을 위해 test데이터에 대해서 전처리 진행\n",
        "preprocessing_test_df = preprocessing(test, 'test', encoderLst=encoder_list)\n",
        "\n",
        "test_pred = rf.predict(preprocessing_test_df)\n",
        "submission = test_pred\n",
        "print(submission)\n",
        "#submission.to_csv('submission_model.csv', index=False)"
      ],
      "execution_count": 96,
      "outputs": [
        {
          "output_type": "stream",
          "name": "stdout",
          "text": [
            "0.5504151838671412\n",
            "[0 0 0 ... 0 0 1]\n"
          ]
        }
      ]
    },
    {
      "cell_type": "markdown",
      "metadata": {
        "id": "HNVvz54alYrN"
      },
      "source": [
        "baseline을 정리하자면\n",
        "\n",
        "훈련에 필요없는 컬럼을 제거하여 정리하고\n",
        "\n",
        "범주형 컬럼을 단순하게 정수값으로 바꾸어서 전치리를 진행하였음\n",
        "\n",
        "랜덤포레스트분류기(RandomForestClassifier)을 사용하였고\n",
        "\n",
        "평가지표는 f1-score를 사용했음."
      ]
    },
    {
      "cell_type": "markdown",
      "metadata": {
        "id": "kFgixuLpsEsh"
      },
      "source": [
        "## Pratice"
      ]
    },
    {
      "cell_type": "code",
      "metadata": {
        "colab": {
          "base_uri": "https://localhost:8080/"
        },
        "id": "EeE6MiqqwHnd",
        "outputId": "68c92450-ab6a-4612-80ef-7960ab7e2780"
      },
      "source": [
        "trainData = \"https://raw.githubusercontent.com/Datamanim/datarepo/main/churn/train.csv\"\n",
        "testData = \"https://raw.githubusercontent.com/Datamanim/datarepo/main/churn/test.csv\"\n",
        "subData = \"https://raw.githubusercontent.com/Datamanim/datarepo/main/churn/submission.csv\"\n",
        "\n",
        "#라이브러리로드\n",
        "import pandas as pd\n",
        "\n",
        "#데이터로드\n",
        "train = pd.read_csv(trainData)\n",
        "test = pd.read_csv(testData)\n",
        "submission = pd.read_csv(subData)\n",
        "\n",
        "#훈련데이터 정보\n",
        "\n",
        "#print(train.info())\n",
        "\n",
        "#필요없는 데이터 제거\n",
        "drop_col = [\"RowNumber\",\"CustomerId\",\"Surname\"]\n",
        "train = train.drop(drop_col, axis=1)\n",
        "test = test.drop(drop_col, axis=1)\n",
        "\n",
        "#범주형 데이터 바꾸기\n",
        "#import sklearn.preprocessing\n",
        "#help(sklearn.preprocessing)\n",
        "from sklearn.preprocessing import LabelEncoder\n",
        "\n",
        "label_encoder = LabelEncoder()\n",
        "columns = [\"Geography\", \"Gender\"]\n",
        "\n",
        "for column in columns:\n",
        "  for df in [train, test]:\n",
        "    df[column] = label_encoder.fit_transform(df[column])\n",
        "\n",
        "#데이터 나누기\n",
        "from sklearn.model_selection import train_test_split\n",
        "\n",
        "X = train.drop(\"Exited\", axis=1)\n",
        "y = train[\"Exited\"]\n",
        "\n",
        "\n",
        "X_train, X_test, y_train, y_test = train_test_split(X,y,random_state=42,stratify=y)\n",
        "#모델링과 평가\n",
        "\n",
        "from sklearn.ensemble import RandomForestClassifier, GradientBoostingClassifier\n",
        "from sklearn.neighbors import KNeighborsClassifier\n",
        "from sklearn.linear_model import LogisticRegression\n",
        "from sklearn.metrics import f1_score\n",
        "from sklearn.tree import DecisionTreeClassifier\n",
        "\n",
        "rf = RandomForestClassifier(random_state=42)\n",
        "gb = GradientBoostingClassifier(random_state=42,)\n",
        "knn = KNeighborsClassifier()\n",
        "lr = LogisticRegression()\n",
        "tree = DecisionTreeClassifier()\n",
        "\n",
        "models = [rf, knn, lr, gb,tree]\n",
        "for model in models:\n",
        "  model.fit(X_train,y_train)\n",
        "  y_pred = model.predict(X_test)\n",
        "  f1=f1_score(y_test, y_pred)\n",
        "  print()\n",
        "  print(model.__class__.__name__)\n",
        "  print(f1)\n",
        "  if model.__class__.__name__ == \"GradientBoostingClassifier\":\n",
        "    y_pred = model.predict(test)\n",
        "    print(\"완료\")\n",
        "    print(submission)\n",
        "    submission[\"0\"] = y_pred\n",
        "    print()\n",
        "    submission.to_csv(\"수험번호.csv\",index=False)\n",
        "    break;\n"
      ],
      "execution_count": 168,
      "outputs": [
        {
          "output_type": "stream",
          "name": "stdout",
          "text": [
            "\n",
            "RandomForestClassifier\n",
            "0.5635528330781011\n",
            "\n",
            "KNeighborsClassifier\n",
            "0.09259259259259259\n",
            "\n",
            "LogisticRegression\n",
            "0.08315098468271334\n",
            "\n",
            "GradientBoostingClassifier\n",
            "0.5807453416149069\n",
            "완료\n",
            "        0\n",
            "0     0.0\n",
            "1     0.0\n",
            "2     0.0\n",
            "3     0.0\n",
            "4     0.0\n",
            "...   ...\n",
            "1996  0.0\n",
            "1997  0.0\n",
            "1998  0.0\n",
            "1999  0.0\n",
            "2000  0.0\n",
            "\n",
            "[2001 rows x 1 columns]\n",
            "\n"
          ]
        }
      ]
    }
  ]
}