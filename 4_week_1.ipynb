{
  "nbformat": 4,
  "nbformat_minor": 0,
  "metadata": {
    "colab": {
      "name": "4_week_1.ipynb",
      "provenance": [],
      "collapsed_sections": [],
      "authorship_tag": "ABX9TyMWzpoZp4vT/x4/xU0fMojx",
      "include_colab_link": true
    },
    "kernelspec": {
      "name": "python3",
      "display_name": "Python 3"
    },
    "language_info": {
      "name": "python"
    }
  },
  "cells": [
    {
      "cell_type": "markdown",
      "metadata": {
        "id": "view-in-github",
        "colab_type": "text"
      },
      "source": [
        "<a href=\"https://colab.research.google.com/github/HwangHanJae/BigDataPratice/blob/main/4_week_1.ipynb\" target=\"_parent\"><img src=\"https://colab.research.google.com/assets/colab-badge.svg\" alt=\"Open In Colab\"/></a>"
      ]
    },
    {
      "cell_type": "markdown",
      "metadata": {
        "id": "4acxQPOH-AFC"
      },
      "source": [
        "#작업형1"
      ]
    },
    {
      "cell_type": "markdown",
      "metadata": {
        "id": "VP03mQCa-PaN"
      },
      "source": [
        "데이터 출처 :https://www.kaggle.com/adityakadiwal/water-potability\n",
        "\n",
        "(참고, 데이터 수정)\n",
        "\n",
        "데이터 설명 : 수질 음용성 여부 (Potablillity 컬럼 : 0 ,1 )\n",
        "\n",
        "Data url :https://raw.githubusercontent.com/Datamanim/datarepo/main/waters/train.csv"
      ]
    },
    {
      "cell_type": "markdown",
      "metadata": {
        "id": "566K90bD97jz"
      },
      "source": [
        "##Q1. ph값은 상당히 많은 결측치를 포함한다. 결측치를 제외한 나머지 데이터들 중 하위 25%의 값들의 평균값은?"
      ]
    },
    {
      "cell_type": "code",
      "metadata": {
        "colab": {
          "base_uri": "https://localhost:8080/"
        },
        "id": "5D0QhyHt-N-d",
        "outputId": "1eef0d60-5399-41fb-b0da-8833807114ae"
      },
      "source": [
        "import pandas as pd\n",
        "\n",
        "df = pd.read_csv(\"https://raw.githubusercontent.com/Datamanim/datarepo/main/waters/train.csv\")\n",
        "\n",
        "df = df.loc[~df[\"ph\"].isnull()]\n",
        "\n",
        "df.loc[df[\"ph\"] <= df[\"ph\"].quantile(0.25), \"ph\"].mean()"
      ],
      "execution_count": 22,
      "outputs": [
        {
          "output_type": "execute_result",
          "data": {
            "text/plain": [
              "5.057093462441732"
            ]
          },
          "metadata": {},
          "execution_count": 22
        }
      ]
    },
    {
      "cell_type": "code",
      "metadata": {
        "colab": {
          "base_uri": "https://localhost:8080/"
        },
        "id": "_eErnegb-l8h",
        "outputId": "c3f016cc-ab21-4ed5-bf6e-2cae8fbf3cde"
      },
      "source": [
        "#Answer\n",
        "\n",
        "train = pd.read_csv(\"https://raw.githubusercontent.com/Datamanim/datarepo/main/waters/train.csv\")\n",
        "target = train['ph'].dropna()\n",
        "\n",
        "target.loc[target <= target.quantile(0.25)].mean()"
      ],
      "execution_count": 30,
      "outputs": [
        {
          "output_type": "execute_result",
          "data": {
            "text/plain": [
              "5.057093462441732"
            ]
          },
          "metadata": {},
          "execution_count": 30
        }
      ]
    },
    {
      "cell_type": "markdown",
      "metadata": {
        "id": "QwEk2nngA4Sb"
      },
      "source": [
        "#작업형2"
      ]
    },
    {
      "cell_type": "markdown",
      "metadata": {
        "id": "0DcyYvRLA6K4"
      },
      "source": [
        "데이터 출처 :https://www.kaggle.com/adityakadiwal/water-potability(참고, 데이터 수정)\n",
        "\n",
        "데이터 설명 : 수질 음용성 여부 (Potablillity 컬럼 : 0 ,1 )\n",
        "\n",
        "문제타입 : 분류유형\n",
        "\n",
        "평가지표 : accuracy\n",
        "\n",
        "trainData url : https://raw.githubusercontent.com/Datamanim/datarepo/main/waters/train.csv\n",
        "\n",
        "testData url : https://raw.githubusercontent.com/Datamanim/datarepo/main/waters/test.csv"
      ]
    },
    {
      "cell_type": "code",
      "metadata": {
        "id": "oM5RNNtSBKYz",
        "colab": {
          "base_uri": "https://localhost:8080/",
          "height": 423
        },
        "outputId": "2ce430ec-1634-47f8-e8d0-fa471d9c52f4"
      },
      "source": [
        "trainData = \"https://raw.githubusercontent.com/Datamanim/datarepo/main/waters/train.csv\"\n",
        "testData = \"https://raw.githubusercontent.com/Datamanim/datarepo/main/waters/test.csv\"\n",
        "\n",
        "import pandas as pd\n",
        "train = pd.read_csv(trainData)\n",
        "test = pd.read_csv(testData)\n",
        "\n",
        "train"
      ],
      "execution_count": 88,
      "outputs": [
        {
          "output_type": "execute_result",
          "data": {
            "text/html": [
              "<div>\n",
              "<style scoped>\n",
              "    .dataframe tbody tr th:only-of-type {\n",
              "        vertical-align: middle;\n",
              "    }\n",
              "\n",
              "    .dataframe tbody tr th {\n",
              "        vertical-align: top;\n",
              "    }\n",
              "\n",
              "    .dataframe thead th {\n",
              "        text-align: right;\n",
              "    }\n",
              "</style>\n",
              "<table border=\"1\" class=\"dataframe\">\n",
              "  <thead>\n",
              "    <tr style=\"text-align: right;\">\n",
              "      <th></th>\n",
              "      <th>ph</th>\n",
              "      <th>Hardness</th>\n",
              "      <th>Solids</th>\n",
              "      <th>Chloramines</th>\n",
              "      <th>Sulfate</th>\n",
              "      <th>Conductivity</th>\n",
              "      <th>Organic_carbon</th>\n",
              "      <th>Trihalomethanes</th>\n",
              "      <th>Turbidity</th>\n",
              "      <th>Potability</th>\n",
              "    </tr>\n",
              "  </thead>\n",
              "  <tbody>\n",
              "    <tr>\n",
              "      <th>0</th>\n",
              "      <td>7.918150</td>\n",
              "      <td>214.186611</td>\n",
              "      <td>23823.492888</td>\n",
              "      <td>7.290878</td>\n",
              "      <td>341.173322</td>\n",
              "      <td>411.424483</td>\n",
              "      <td>19.585002</td>\n",
              "      <td>25.057375</td>\n",
              "      <td>4.028958</td>\n",
              "      <td>0</td>\n",
              "    </tr>\n",
              "    <tr>\n",
              "      <th>1</th>\n",
              "      <td>5.422446</td>\n",
              "      <td>205.266080</td>\n",
              "      <td>18542.957451</td>\n",
              "      <td>5.491963</td>\n",
              "      <td>306.702227</td>\n",
              "      <td>382.080129</td>\n",
              "      <td>10.504023</td>\n",
              "      <td>67.493450</td>\n",
              "      <td>2.911751</td>\n",
              "      <td>1</td>\n",
              "    </tr>\n",
              "    <tr>\n",
              "      <th>2</th>\n",
              "      <td>7.341547</td>\n",
              "      <td>187.672402</td>\n",
              "      <td>21273.457066</td>\n",
              "      <td>7.784003</td>\n",
              "      <td>NaN</td>\n",
              "      <td>332.084293</td>\n",
              "      <td>16.842334</td>\n",
              "      <td>55.019151</td>\n",
              "      <td>4.025644</td>\n",
              "      <td>0</td>\n",
              "    </tr>\n",
              "    <tr>\n",
              "      <th>3</th>\n",
              "      <td>9.056245</td>\n",
              "      <td>197.666301</td>\n",
              "      <td>17403.532167</td>\n",
              "      <td>7.688917</td>\n",
              "      <td>337.460176</td>\n",
              "      <td>414.766631</td>\n",
              "      <td>15.349869</td>\n",
              "      <td>63.696746</td>\n",
              "      <td>3.319354</td>\n",
              "      <td>0</td>\n",
              "    </tr>\n",
              "    <tr>\n",
              "      <th>4</th>\n",
              "      <td>5.039374</td>\n",
              "      <td>142.860598</td>\n",
              "      <td>40829.353167</td>\n",
              "      <td>7.271543</td>\n",
              "      <td>NaN</td>\n",
              "      <td>386.803057</td>\n",
              "      <td>16.823773</td>\n",
              "      <td>52.297113</td>\n",
              "      <td>4.957420</td>\n",
              "      <td>0</td>\n",
              "    </tr>\n",
              "    <tr>\n",
              "      <th>...</th>\n",
              "      <td>...</td>\n",
              "      <td>...</td>\n",
              "      <td>...</td>\n",
              "      <td>...</td>\n",
              "      <td>...</td>\n",
              "      <td>...</td>\n",
              "      <td>...</td>\n",
              "      <td>...</td>\n",
              "      <td>...</td>\n",
              "      <td>...</td>\n",
              "    </tr>\n",
              "    <tr>\n",
              "      <th>2615</th>\n",
              "      <td>8.060610</td>\n",
              "      <td>208.042711</td>\n",
              "      <td>15489.325660</td>\n",
              "      <td>5.620299</td>\n",
              "      <td>361.970424</td>\n",
              "      <td>423.420838</td>\n",
              "      <td>15.371550</td>\n",
              "      <td>75.445589</td>\n",
              "      <td>3.600906</td>\n",
              "      <td>0</td>\n",
              "    </tr>\n",
              "    <tr>\n",
              "      <th>2616</th>\n",
              "      <td>8.238997</td>\n",
              "      <td>199.594539</td>\n",
              "      <td>25046.798640</td>\n",
              "      <td>9.288020</td>\n",
              "      <td>350.835986</td>\n",
              "      <td>328.363398</td>\n",
              "      <td>18.743231</td>\n",
              "      <td>54.416965</td>\n",
              "      <td>3.089924</td>\n",
              "      <td>1</td>\n",
              "    </tr>\n",
              "    <tr>\n",
              "      <th>2617</th>\n",
              "      <td>5.694694</td>\n",
              "      <td>240.712182</td>\n",
              "      <td>7998.674511</td>\n",
              "      <td>8.124265</td>\n",
              "      <td>NaN</td>\n",
              "      <td>477.047807</td>\n",
              "      <td>15.459307</td>\n",
              "      <td>68.895603</td>\n",
              "      <td>3.870611</td>\n",
              "      <td>1</td>\n",
              "    </tr>\n",
              "    <tr>\n",
              "      <th>2618</th>\n",
              "      <td>NaN</td>\n",
              "      <td>203.050244</td>\n",
              "      <td>28184.900527</td>\n",
              "      <td>7.076634</td>\n",
              "      <td>344.524179</td>\n",
              "      <td>445.700761</td>\n",
              "      <td>19.775367</td>\n",
              "      <td>53.270152</td>\n",
              "      <td>4.456104</td>\n",
              "      <td>0</td>\n",
              "    </tr>\n",
              "    <tr>\n",
              "      <th>2619</th>\n",
              "      <td>5.907078</td>\n",
              "      <td>213.471081</td>\n",
              "      <td>41839.456449</td>\n",
              "      <td>7.924762</td>\n",
              "      <td>312.329947</td>\n",
              "      <td>357.258970</td>\n",
              "      <td>15.598965</td>\n",
              "      <td>54.421879</td>\n",
              "      <td>4.296480</td>\n",
              "      <td>0</td>\n",
              "    </tr>\n",
              "  </tbody>\n",
              "</table>\n",
              "<p>2620 rows × 10 columns</p>\n",
              "</div>"
            ],
            "text/plain": [
              "            ph    Hardness  ...  Turbidity  Potability\n",
              "0     7.918150  214.186611  ...   4.028958           0\n",
              "1     5.422446  205.266080  ...   2.911751           1\n",
              "2     7.341547  187.672402  ...   4.025644           0\n",
              "3     9.056245  197.666301  ...   3.319354           0\n",
              "4     5.039374  142.860598  ...   4.957420           0\n",
              "...        ...         ...  ...        ...         ...\n",
              "2615  8.060610  208.042711  ...   3.600906           0\n",
              "2616  8.238997  199.594539  ...   3.089924           1\n",
              "2617  5.694694  240.712182  ...   3.870611           1\n",
              "2618       NaN  203.050244  ...   4.456104           0\n",
              "2619  5.907078  213.471081  ...   4.296480           0\n",
              "\n",
              "[2620 rows x 10 columns]"
            ]
          },
          "metadata": {},
          "execution_count": 88
        }
      ]
    },
    {
      "cell_type": "code",
      "metadata": {
        "colab": {
          "base_uri": "https://localhost:8080/",
          "height": 423
        },
        "id": "Rwz9BM3jBpD7",
        "outputId": "838896f4-65e4-41ec-8b89-8aea5d31a8ef"
      },
      "source": [
        "test"
      ],
      "execution_count": 89,
      "outputs": [
        {
          "output_type": "execute_result",
          "data": {
            "text/html": [
              "<div>\n",
              "<style scoped>\n",
              "    .dataframe tbody tr th:only-of-type {\n",
              "        vertical-align: middle;\n",
              "    }\n",
              "\n",
              "    .dataframe tbody tr th {\n",
              "        vertical-align: top;\n",
              "    }\n",
              "\n",
              "    .dataframe thead th {\n",
              "        text-align: right;\n",
              "    }\n",
              "</style>\n",
              "<table border=\"1\" class=\"dataframe\">\n",
              "  <thead>\n",
              "    <tr style=\"text-align: right;\">\n",
              "      <th></th>\n",
              "      <th>ph</th>\n",
              "      <th>Hardness</th>\n",
              "      <th>Solids</th>\n",
              "      <th>Chloramines</th>\n",
              "      <th>Sulfate</th>\n",
              "      <th>Conductivity</th>\n",
              "      <th>Organic_carbon</th>\n",
              "      <th>Trihalomethanes</th>\n",
              "      <th>Turbidity</th>\n",
              "    </tr>\n",
              "  </thead>\n",
              "  <tbody>\n",
              "    <tr>\n",
              "      <th>0</th>\n",
              "      <td>7.025822</td>\n",
              "      <td>147.968060</td>\n",
              "      <td>21226.665548</td>\n",
              "      <td>7.342381</td>\n",
              "      <td>387.402857</td>\n",
              "      <td>421.099917</td>\n",
              "      <td>13.996101</td>\n",
              "      <td>51.174058</td>\n",
              "      <td>4.746092</td>\n",
              "    </tr>\n",
              "    <tr>\n",
              "      <th>1</th>\n",
              "      <td>6.139494</td>\n",
              "      <td>236.674026</td>\n",
              "      <td>8081.466471</td>\n",
              "      <td>6.250808</td>\n",
              "      <td>NaN</td>\n",
              "      <td>416.238821</td>\n",
              "      <td>12.777014</td>\n",
              "      <td>106.037222</td>\n",
              "      <td>3.260907</td>\n",
              "    </tr>\n",
              "    <tr>\n",
              "      <th>2</th>\n",
              "      <td>8.520807</td>\n",
              "      <td>238.335112</td>\n",
              "      <td>28779.650011</td>\n",
              "      <td>8.282808</td>\n",
              "      <td>381.649323</td>\n",
              "      <td>481.318803</td>\n",
              "      <td>6.016337</td>\n",
              "      <td>39.091171</td>\n",
              "      <td>3.940605</td>\n",
              "    </tr>\n",
              "    <tr>\n",
              "      <th>3</th>\n",
              "      <td>7.617149</td>\n",
              "      <td>196.606942</td>\n",
              "      <td>27080.268722</td>\n",
              "      <td>7.382755</td>\n",
              "      <td>345.179887</td>\n",
              "      <td>329.016646</td>\n",
              "      <td>8.547283</td>\n",
              "      <td>60.144702</td>\n",
              "      <td>2.391540</td>\n",
              "    </tr>\n",
              "    <tr>\n",
              "      <th>4</th>\n",
              "      <td>7.146976</td>\n",
              "      <td>196.562685</td>\n",
              "      <td>16911.203773</td>\n",
              "      <td>6.890505</td>\n",
              "      <td>320.100875</td>\n",
              "      <td>520.111358</td>\n",
              "      <td>12.854239</td>\n",
              "      <td>66.814176</td>\n",
              "      <td>4.025762</td>\n",
              "    </tr>\n",
              "    <tr>\n",
              "      <th>...</th>\n",
              "      <td>...</td>\n",
              "      <td>...</td>\n",
              "      <td>...</td>\n",
              "      <td>...</td>\n",
              "      <td>...</td>\n",
              "      <td>...</td>\n",
              "      <td>...</td>\n",
              "      <td>...</td>\n",
              "      <td>...</td>\n",
              "    </tr>\n",
              "    <tr>\n",
              "      <th>651</th>\n",
              "      <td>8.000776</td>\n",
              "      <td>237.519250</td>\n",
              "      <td>18419.132883</td>\n",
              "      <td>8.323330</td>\n",
              "      <td>308.006321</td>\n",
              "      <td>396.376554</td>\n",
              "      <td>13.492536</td>\n",
              "      <td>82.753278</td>\n",
              "      <td>4.519210</td>\n",
              "    </tr>\n",
              "    <tr>\n",
              "      <th>652</th>\n",
              "      <td>7.736313</td>\n",
              "      <td>225.063103</td>\n",
              "      <td>19496.848592</td>\n",
              "      <td>7.158343</td>\n",
              "      <td>289.945985</td>\n",
              "      <td>433.974022</td>\n",
              "      <td>15.153817</td>\n",
              "      <td>74.765101</td>\n",
              "      <td>3.700917</td>\n",
              "    </tr>\n",
              "    <tr>\n",
              "      <th>653</th>\n",
              "      <td>7.330197</td>\n",
              "      <td>159.803720</td>\n",
              "      <td>14884.339958</td>\n",
              "      <td>9.194575</td>\n",
              "      <td>411.100692</td>\n",
              "      <td>404.195912</td>\n",
              "      <td>17.375739</td>\n",
              "      <td>51.153972</td>\n",
              "      <td>2.884715</td>\n",
              "    </tr>\n",
              "    <tr>\n",
              "      <th>654</th>\n",
              "      <td>NaN</td>\n",
              "      <td>241.066929</td>\n",
              "      <td>22656.714625</td>\n",
              "      <td>7.293823</td>\n",
              "      <td>NaN</td>\n",
              "      <td>315.604327</td>\n",
              "      <td>16.404805</td>\n",
              "      <td>46.139183</td>\n",
              "      <td>3.735204</td>\n",
              "    </tr>\n",
              "    <tr>\n",
              "      <th>655</th>\n",
              "      <td>NaN</td>\n",
              "      <td>247.164018</td>\n",
              "      <td>18939.616461</td>\n",
              "      <td>7.086375</td>\n",
              "      <td>305.040026</td>\n",
              "      <td>419.453088</td>\n",
              "      <td>12.758114</td>\n",
              "      <td>60.319203</td>\n",
              "      <td>4.287441</td>\n",
              "    </tr>\n",
              "  </tbody>\n",
              "</table>\n",
              "<p>656 rows × 9 columns</p>\n",
              "</div>"
            ],
            "text/plain": [
              "           ph    Hardness  ...  Trihalomethanes  Turbidity\n",
              "0    7.025822  147.968060  ...        51.174058   4.746092\n",
              "1    6.139494  236.674026  ...       106.037222   3.260907\n",
              "2    8.520807  238.335112  ...        39.091171   3.940605\n",
              "3    7.617149  196.606942  ...        60.144702   2.391540\n",
              "4    7.146976  196.562685  ...        66.814176   4.025762\n",
              "..        ...         ...  ...              ...        ...\n",
              "651  8.000776  237.519250  ...        82.753278   4.519210\n",
              "652  7.736313  225.063103  ...        74.765101   3.700917\n",
              "653  7.330197  159.803720  ...        51.153972   2.884715\n",
              "654       NaN  241.066929  ...        46.139183   3.735204\n",
              "655       NaN  247.164018  ...        60.319203   4.287441\n",
              "\n",
              "[656 rows x 9 columns]"
            ]
          },
          "metadata": {},
          "execution_count": 89
        }
      ]
    },
    {
      "cell_type": "code",
      "metadata": {
        "colab": {
          "base_uri": "https://localhost:8080/",
          "height": 300
        },
        "id": "VnsiYXL6CKYM",
        "outputId": "14aaece2-36ee-4aec-c9dd-12c053bad598"
      },
      "source": [
        "train.describe()"
      ],
      "execution_count": 90,
      "outputs": [
        {
          "output_type": "execute_result",
          "data": {
            "text/html": [
              "<div>\n",
              "<style scoped>\n",
              "    .dataframe tbody tr th:only-of-type {\n",
              "        vertical-align: middle;\n",
              "    }\n",
              "\n",
              "    .dataframe tbody tr th {\n",
              "        vertical-align: top;\n",
              "    }\n",
              "\n",
              "    .dataframe thead th {\n",
              "        text-align: right;\n",
              "    }\n",
              "</style>\n",
              "<table border=\"1\" class=\"dataframe\">\n",
              "  <thead>\n",
              "    <tr style=\"text-align: right;\">\n",
              "      <th></th>\n",
              "      <th>ph</th>\n",
              "      <th>Hardness</th>\n",
              "      <th>Solids</th>\n",
              "      <th>Chloramines</th>\n",
              "      <th>Sulfate</th>\n",
              "      <th>Conductivity</th>\n",
              "      <th>Organic_carbon</th>\n",
              "      <th>Trihalomethanes</th>\n",
              "      <th>Turbidity</th>\n",
              "      <th>Potability</th>\n",
              "    </tr>\n",
              "  </thead>\n",
              "  <tbody>\n",
              "    <tr>\n",
              "      <th>count</th>\n",
              "      <td>2225.000000</td>\n",
              "      <td>2620.000000</td>\n",
              "      <td>2620.000000</td>\n",
              "      <td>2620.000000</td>\n",
              "      <td>2003.000000</td>\n",
              "      <td>2620.000000</td>\n",
              "      <td>2620.000000</td>\n",
              "      <td>2488.000000</td>\n",
              "      <td>2620.000000</td>\n",
              "      <td>2620.000000</td>\n",
              "    </tr>\n",
              "    <tr>\n",
              "      <th>mean</th>\n",
              "      <td>7.059707</td>\n",
              "      <td>196.264418</td>\n",
              "      <td>22093.718726</td>\n",
              "      <td>7.128428</td>\n",
              "      <td>333.128452</td>\n",
              "      <td>426.860672</td>\n",
              "      <td>14.255754</td>\n",
              "      <td>66.362313</td>\n",
              "      <td>3.973541</td>\n",
              "      <td>0.390076</td>\n",
              "    </tr>\n",
              "    <tr>\n",
              "      <th>std</th>\n",
              "      <td>1.608470</td>\n",
              "      <td>33.367043</td>\n",
              "      <td>8840.992109</td>\n",
              "      <td>1.589347</td>\n",
              "      <td>41.675257</td>\n",
              "      <td>81.005322</td>\n",
              "      <td>3.335463</td>\n",
              "      <td>16.176955</td>\n",
              "      <td>0.776490</td>\n",
              "      <td>0.487860</td>\n",
              "    </tr>\n",
              "    <tr>\n",
              "      <th>min</th>\n",
              "      <td>0.000000</td>\n",
              "      <td>47.432000</td>\n",
              "      <td>728.750830</td>\n",
              "      <td>0.352000</td>\n",
              "      <td>129.000000</td>\n",
              "      <td>181.483754</td>\n",
              "      <td>2.200000</td>\n",
              "      <td>0.738000</td>\n",
              "      <td>1.450000</td>\n",
              "      <td>0.000000</td>\n",
              "    </tr>\n",
              "    <tr>\n",
              "      <th>25%</th>\n",
              "      <td>6.069364</td>\n",
              "      <td>176.676887</td>\n",
              "      <td>15675.546419</td>\n",
              "      <td>6.133588</td>\n",
              "      <td>307.592458</td>\n",
              "      <td>366.706407</td>\n",
              "      <td>12.053075</td>\n",
              "      <td>55.614198</td>\n",
              "      <td>3.439540</td>\n",
              "      <td>0.000000</td>\n",
              "    </tr>\n",
              "    <tr>\n",
              "      <th>50%</th>\n",
              "      <td>7.025504</td>\n",
              "      <td>197.103467</td>\n",
              "      <td>20972.316194</td>\n",
              "      <td>7.145240</td>\n",
              "      <td>332.239359</td>\n",
              "      <td>422.145751</td>\n",
              "      <td>14.207656</td>\n",
              "      <td>66.363580</td>\n",
              "      <td>3.969391</td>\n",
              "      <td>0.000000</td>\n",
              "    </tr>\n",
              "    <tr>\n",
              "      <th>75%</th>\n",
              "      <td>8.064653</td>\n",
              "      <td>217.024476</td>\n",
              "      <td>27410.099280</td>\n",
              "      <td>8.124300</td>\n",
              "      <td>358.967592</td>\n",
              "      <td>482.843561</td>\n",
              "      <td>16.509051</td>\n",
              "      <td>77.517441</td>\n",
              "      <td>4.514376</td>\n",
              "      <td>1.000000</td>\n",
              "    </tr>\n",
              "    <tr>\n",
              "      <th>max</th>\n",
              "      <td>14.000000</td>\n",
              "      <td>317.338124</td>\n",
              "      <td>61227.196008</td>\n",
              "      <td>13.043806</td>\n",
              "      <td>481.030642</td>\n",
              "      <td>753.342620</td>\n",
              "      <td>28.300000</td>\n",
              "      <td>120.030077</td>\n",
              "      <td>6.357439</td>\n",
              "      <td>1.000000</td>\n",
              "    </tr>\n",
              "  </tbody>\n",
              "</table>\n",
              "</div>"
            ],
            "text/plain": [
              "                ph     Hardness  ...    Turbidity   Potability\n",
              "count  2225.000000  2620.000000  ...  2620.000000  2620.000000\n",
              "mean      7.059707   196.264418  ...     3.973541     0.390076\n",
              "std       1.608470    33.367043  ...     0.776490     0.487860\n",
              "min       0.000000    47.432000  ...     1.450000     0.000000\n",
              "25%       6.069364   176.676887  ...     3.439540     0.000000\n",
              "50%       7.025504   197.103467  ...     3.969391     0.000000\n",
              "75%       8.064653   217.024476  ...     4.514376     1.000000\n",
              "max      14.000000   317.338124  ...     6.357439     1.000000\n",
              "\n",
              "[8 rows x 10 columns]"
            ]
          },
          "metadata": {},
          "execution_count": 90
        }
      ]
    },
    {
      "cell_type": "code",
      "metadata": {
        "colab": {
          "base_uri": "https://localhost:8080/"
        },
        "id": "N3fWtWSxByuB",
        "outputId": "879f814d-0c77-4b56-d62c-51947ed25bf6"
      },
      "source": [
        "#결측치 확인\n",
        "train.isnull().sum()"
      ],
      "execution_count": 91,
      "outputs": [
        {
          "output_type": "execute_result",
          "data": {
            "text/plain": [
              "ph                 395\n",
              "Hardness             0\n",
              "Solids               0\n",
              "Chloramines          0\n",
              "Sulfate            617\n",
              "Conductivity         0\n",
              "Organic_carbon       0\n",
              "Trihalomethanes    132\n",
              "Turbidity            0\n",
              "Potability           0\n",
              "dtype: int64"
            ]
          },
          "metadata": {},
          "execution_count": 91
        }
      ]
    },
    {
      "cell_type": "code",
      "metadata": {
        "colab": {
          "base_uri": "https://localhost:8080/"
        },
        "id": "i29vxg2fCEWI",
        "outputId": "8433b0c5-548f-4c16-9eb2-e2e2676f301c"
      },
      "source": [
        "test.isnull().sum()"
      ],
      "execution_count": 92,
      "outputs": [
        {
          "output_type": "execute_result",
          "data": {
            "text/plain": [
              "ph                 107\n",
              "Hardness             0\n",
              "Solids               0\n",
              "Chloramines          0\n",
              "Sulfate            152\n",
              "Conductivity         0\n",
              "Organic_carbon       0\n",
              "Trihalomethanes     38\n",
              "Turbidity            0\n",
              "dtype: int64"
            ]
          },
          "metadata": {},
          "execution_count": 92
        }
      ]
    },
    {
      "cell_type": "code",
      "metadata": {
        "id": "b0rbkVmvCHsB"
      },
      "source": [
        "#결측치는 중앙값으로 대체\n",
        "train = train.fillna(train.median())\n",
        "test = test.fillna(train.median())"
      ],
      "execution_count": 93,
      "outputs": []
    },
    {
      "cell_type": "code",
      "metadata": {
        "id": "hcBwg2OLCbV1"
      },
      "source": [
        "#타겟데이터 분리\n",
        "\n",
        "X = train.drop(\"Potability\", axis=1)\n",
        "y = train[\"Potability\"]"
      ],
      "execution_count": 94,
      "outputs": []
    },
    {
      "cell_type": "code",
      "metadata": {
        "id": "9E6SKTD_DFcD"
      },
      "source": [
        "#스케일링(MinMaxScaler)\n",
        "from sklearn.preprocessing import MinMaxScaler\n",
        "\n",
        "scaler = MinMaxScaler()\n",
        "X = scaler.fit_transform(X)\n",
        "test = scaler.fit_transform(test)"
      ],
      "execution_count": 95,
      "outputs": []
    },
    {
      "cell_type": "code",
      "metadata": {
        "id": "zbL1wuuXDbzl"
      },
      "source": [
        "#훈련데이터, 검증데이터 분리\n",
        "from sklearn.model_selection import train_test_split\n",
        "\n",
        "X_train, X_val, y_train, y_val = train_test_split(X,y,test_size=0.33,stratify=y, random_state=42)"
      ],
      "execution_count": 96,
      "outputs": []
    },
    {
      "cell_type": "code",
      "metadata": {
        "colab": {
          "base_uri": "https://localhost:8080/"
        },
        "id": "qfuu9A0YDyfY",
        "outputId": "2936c5cf-236e-453b-b0a6-959ccd877c0d"
      },
      "source": [
        "#모델링\n",
        "from sklearn.ensemble import RandomForestClassifier\n",
        "\n",
        "rf = RandomForestClassifier(random_state=42)\n",
        "\n",
        "rf.fit(X_train, y_train)\n",
        "\n",
        "y_pred = rf.predict(X_val)\n",
        "\n",
        "#평가\n",
        "from sklearn.metrics import accuracy_score,f1_score\n",
        "\n",
        "print(\"accuracy : \",accuracy_score(y_val, y_pred))\n",
        "print(\"f1-score : \", f1_score(y_val, y_pred))"
      ],
      "execution_count": 97,
      "outputs": [
        {
          "output_type": "stream",
          "name": "stdout",
          "text": [
            "accuracy :  0.669364161849711\n",
            "f1-score :  0.42800000000000005\n"
          ]
        }
      ]
    },
    {
      "cell_type": "code",
      "metadata": {
        "id": "44wEkcksEG1R"
      },
      "source": [
        "#제출\n",
        "import numpy as np\n",
        "pred = rf.predict(X_val)\n",
        "submission = {\"Potability\" : pred}\n",
        "\n",
        "submission = pd.DataFrame(submission)\n",
        "submission.to_csv(\"수험번호.csv\", index=False)"
      ],
      "execution_count": 114,
      "outputs": []
    }
  ]
}