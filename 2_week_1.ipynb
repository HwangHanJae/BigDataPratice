{
  "nbformat": 4,
  "nbformat_minor": 0,
  "metadata": {
    "colab": {
      "name": "2_week_1.ipynb",
      "provenance": [],
      "collapsed_sections": [],
      "authorship_tag": "ABX9TyOVBJbYZU+PSF48u82b/rwJ",
      "include_colab_link": true
    },
    "kernelspec": {
      "name": "python3",
      "display_name": "Python 3"
    },
    "language_info": {
      "name": "python"
    }
  },
  "cells": [
    {
      "cell_type": "markdown",
      "metadata": {
        "id": "view-in-github",
        "colab_type": "text"
      },
      "source": [
        "<a href=\"https://colab.research.google.com/github/HwangHanJae/BigDataPratice/blob/main/2_week_1.ipynb\" target=\"_parent\"><img src=\"https://colab.research.google.com/assets/colab-badge.svg\" alt=\"Open In Colab\"/></a>"
      ]
    },
    {
      "cell_type": "markdown",
      "metadata": {
        "id": "dmfdfhJpOMhM"
      },
      "source": [
        "#작업형1"
      ]
    },
    {
      "cell_type": "markdown",
      "metadata": {
        "id": "Y0vurTiaNugo"
      },
      "source": [
        "데이터 출처 :https://www.data.go.kr/data/15007122/fileData.do (참고, 데이터 수정)\n",
        "\n",
        "데이터 설명 : 2018년도 성인의 건강검 진데이터 (흡연상태 1- 흡연, 0-비흡연 )\n",
        "\n",
        "데이터 url : https://raw.githubusercontent.com/Datamanim/datarepo/main/smoke/train.csv"
      ]
    },
    {
      "cell_type": "markdown",
      "metadata": {
        "id": "_PbnNNOjOPQ0"
      },
      "source": [
        "## Q1. 수축기혈압과 이완기 혈압기 수치의 차이를 새로운 컬럼(\"혈압차\")으로 생성하고, 연령대 코드별 각 그룹 중 \"혈압차\"의 분산이 5번째로 큰 연령대 코드를 구하여라."
      ]
    },
    {
      "cell_type": "code",
      "metadata": {
        "colab": {
          "base_uri": "https://localhost:8080/"
        },
        "id": "YuD3CkgYPAtg",
        "outputId": "5e64a17f-2b85-43ed-a1e5-3e860df2bcb8"
      },
      "source": [
        "import pandas as pd\n",
        "import numpy as np\n",
        "import scipy as sp\n",
        "\n",
        "df = pd.read_csv(\"https://raw.githubusercontent.com/Datamanim/datarepo/main/smoke/train.csv\")\n",
        "\n",
        "df[\"혈압차\"] = df[\"수축기혈압\"] - df[\"이완기혈압\"]\n",
        "\n",
        "df.groupby(\"연령대코드(5세단위)\")[\"혈압차\"].var().sort_values(ascending=False)[4:5]\n"
      ],
      "execution_count": 18,
      "outputs": [
        {
          "output_type": "execute_result",
          "data": {
            "text/plain": [
              "연령대코드(5세단위)\n",
              "60    94.386922\n",
              "Name: 혈압차, dtype: float64"
            ]
          },
          "metadata": {},
          "execution_count": 18
        }
      ]
    },
    {
      "cell_type": "markdown",
      "metadata": {
        "id": "7pu1H0MbPMYX"
      },
      "source": [
        "## Q2. 비만도를 나타내는 지표인 WHtR는 허리둘레 / 키로 표현한다. 일반적으로 0.58이상이면 비만으로 분류한다. 데이터중 WHtR 지표상 비만인 인원의 남/여 비율을 구하여라"
      ]
    },
    {
      "cell_type": "code",
      "metadata": {
        "colab": {
          "base_uri": "https://localhost:8080/"
        },
        "id": "D_RBwlhDPZ8w",
        "outputId": "d7379d67-62ab-4481-daaf-205bd7798c6f"
      },
      "source": [
        "import pandas as pd\n",
        "import numpy as np\n",
        "\n",
        "df = pd.read_csv(\"https://raw.githubusercontent.com/Datamanim/datarepo/main/smoke/train.csv\")\n",
        "df[\"WHtR\"] = df[\"허리둘레\"] / df[\"신장(5Cm단위)\"]\n",
        "df_WHrR = df.loc[df[\"WHtR\"] >= 0.58]\n",
        "m_ratio =  df_WHrR.loc[df_WHrR[\"성별코드\"] == \"M\", \"성별코드\"].count() / df_WHrR[\"성별코드\"].count()\n",
        "f_ratio = df_WHrR.loc[df_WHrR[\"성별코드\"] == \"F\", \"성별코드\"].count() / df_WHrR[\"성별코드\"].count()\n",
        "\n",
        "#data =  df_WHrR[\"성별코드\"].value_counts()\n",
        "#data[\"M\"] / data[\"F]\n",
        "m_ratio / f_ratio"
      ],
      "execution_count": 39,
      "outputs": [
        {
          "output_type": "execute_result",
          "data": {
            "text/plain": [
              "1.1693877551020406"
            ]
          },
          "metadata": {},
          "execution_count": 39
        }
      ]
    },
    {
      "cell_type": "markdown",
      "metadata": {
        "id": "ANHr43E_SZc1"
      },
      "source": [
        "#작업형2"
      ]
    },
    {
      "cell_type": "markdown",
      "metadata": {
        "id": "UMoF2lpKSaL7"
      },
      "source": [
        "데이터 출처 :https://www.kaggle.com/anmolkumar/health-insurance-cross-sell-prediction\n",
        "\n",
        " (참고, 데이터 수정)\n",
        "\n",
        "데이터 설명 : 자동차 보험 가입 예측\n",
        "\n",
        "문제타입 : 분류유형\n",
        "\n",
        "평가지표 : f1-score\n",
        "\n",
        "trainData url : https://raw.githubusercontent.com/Datamanim/datarepo/main/insurance/train.csv\n",
        "\n",
        "testData url : https://raw.githubusercontent.com/Datamanim/datarepo/main/insurance/test.csv\n",
        "\n",
        "subData url : https://raw.githubusercontent.com/Datamanim/datarepo/main/insurance/submission.csv"
      ]
    },
    {
      "cell_type": "code",
      "metadata": {
        "id": "nRV9QrvwSgtN"
      },
      "source": [
        "trainData = \"https://raw.githubusercontent.com/Datamanim/datarepo/main/insurance/train.csv\"\n",
        "testData = \"https://raw.githubusercontent.com/Datamanim/datarepo/main/insurance/test.csv\"\n",
        "subData = \"https://raw.githubusercontent.com/Datamanim/datarepo/main/insurance/submission.csv\"\n",
        "\n",
        "import pandas as pd\n",
        "import numpy as np\n",
        "\n",
        "train = pd.read_csv(trainData)\n",
        "test = pd.read_csv(testData)\n",
        "submission = pd.read_csv(subData)\n"
      ],
      "execution_count": 55,
      "outputs": []
    },
    {
      "cell_type": "code",
      "metadata": {
        "colab": {
          "base_uri": "https://localhost:8080/"
        },
        "id": "wcnghAmuV0h7",
        "outputId": "f93a86d4-e62e-4315-9de6-7a472bcdc18d"
      },
      "source": [
        "#타겟데이터는 Response 분리\n",
        "target = [\"Response\"]\n",
        "X = train.drop(target, axis=1)\n",
        "y = train[target]\n",
        "\n",
        "X.info()"
      ],
      "execution_count": 56,
      "outputs": [
        {
          "output_type": "stream",
          "name": "stdout",
          "text": [
            "<class 'pandas.core.frame.DataFrame'>\n",
            "RangeIndex: 304887 entries, 0 to 304886\n",
            "Data columns (total 11 columns):\n",
            " #   Column                Non-Null Count   Dtype  \n",
            "---  ------                --------------   -----  \n",
            " 0   id                    304887 non-null  int64  \n",
            " 1   Gender                304887 non-null  object \n",
            " 2   Age                   304887 non-null  int64  \n",
            " 3   Driving_License       304887 non-null  int64  \n",
            " 4   Region_Code           304887 non-null  float64\n",
            " 5   Previously_Insured    304887 non-null  int64  \n",
            " 6   Vehicle_Age           304887 non-null  object \n",
            " 7   Vehicle_Damage        304887 non-null  object \n",
            " 8   Annual_Premium        304887 non-null  float64\n",
            " 9   Policy_Sales_Channel  304887 non-null  float64\n",
            " 10  Vintage               304887 non-null  int64  \n",
            "dtypes: float64(3), int64(5), object(3)\n",
            "memory usage: 25.6+ MB\n"
          ]
        }
      ]
    },
    {
      "cell_type": "code",
      "metadata": {
        "colab": {
          "base_uri": "https://localhost:8080/",
          "height": 526
        },
        "id": "9fph2rycV1Bg",
        "outputId": "0ffc10a5-8e73-4432-d744-750cf014f269"
      },
      "source": [
        "#범주형 자료 : Gender, Vehicle_Age, Vehicle_Damage\n",
        "\n",
        "print(\"Gender : \",X[\"Gender\"].unique())\n",
        "print()\n",
        "print(\"Vehicle_Age : \", X[\"Vehicle_Age\"].unique())\n",
        "print()\n",
        "print(\"Vehicle_Damage : \", X[\"Vehicle_Damage\"].unique())\n",
        "\n",
        "#범주형 자료를 one-hot-encoding으로 변환\n",
        "columns = [\"Gender\", \"Vehicle_Age\", \"Vehicle_Damage\"]\n",
        "X = pd.get_dummies(data=X, columns = columns)\n",
        "test = pd.get_dummies(data=test, columns=columns)\n",
        "\n",
        "X"
      ],
      "execution_count": 57,
      "outputs": [
        {
          "output_type": "stream",
          "name": "stdout",
          "text": [
            "Gender :  ['Female' 'Male']\n",
            "\n",
            "Vehicle_Age :  ['< 1 Year' '1-2 Year' '> 2 Years']\n",
            "\n",
            "Vehicle_Damage :  ['No' 'Yes']\n"
          ]
        },
        {
          "output_type": "execute_result",
          "data": {
            "text/html": [
              "<div>\n",
              "<style scoped>\n",
              "    .dataframe tbody tr th:only-of-type {\n",
              "        vertical-align: middle;\n",
              "    }\n",
              "\n",
              "    .dataframe tbody tr th {\n",
              "        vertical-align: top;\n",
              "    }\n",
              "\n",
              "    .dataframe thead th {\n",
              "        text-align: right;\n",
              "    }\n",
              "</style>\n",
              "<table border=\"1\" class=\"dataframe\">\n",
              "  <thead>\n",
              "    <tr style=\"text-align: right;\">\n",
              "      <th></th>\n",
              "      <th>id</th>\n",
              "      <th>Age</th>\n",
              "      <th>Driving_License</th>\n",
              "      <th>Region_Code</th>\n",
              "      <th>Previously_Insured</th>\n",
              "      <th>Annual_Premium</th>\n",
              "      <th>Policy_Sales_Channel</th>\n",
              "      <th>Vintage</th>\n",
              "      <th>Gender_Female</th>\n",
              "      <th>Gender_Male</th>\n",
              "      <th>Vehicle_Age_1-2 Year</th>\n",
              "      <th>Vehicle_Age_&lt; 1 Year</th>\n",
              "      <th>Vehicle_Age_&gt; 2 Years</th>\n",
              "      <th>Vehicle_Damage_No</th>\n",
              "      <th>Vehicle_Damage_Yes</th>\n",
              "    </tr>\n",
              "  </thead>\n",
              "  <tbody>\n",
              "    <tr>\n",
              "      <th>0</th>\n",
              "      <td>188957</td>\n",
              "      <td>25</td>\n",
              "      <td>1</td>\n",
              "      <td>17.0</td>\n",
              "      <td>1</td>\n",
              "      <td>38785.0</td>\n",
              "      <td>152.0</td>\n",
              "      <td>59</td>\n",
              "      <td>1</td>\n",
              "      <td>0</td>\n",
              "      <td>0</td>\n",
              "      <td>1</td>\n",
              "      <td>0</td>\n",
              "      <td>1</td>\n",
              "      <td>0</td>\n",
              "    </tr>\n",
              "    <tr>\n",
              "      <th>1</th>\n",
              "      <td>275631</td>\n",
              "      <td>20</td>\n",
              "      <td>1</td>\n",
              "      <td>22.0</td>\n",
              "      <td>0</td>\n",
              "      <td>2630.0</td>\n",
              "      <td>160.0</td>\n",
              "      <td>113</td>\n",
              "      <td>0</td>\n",
              "      <td>1</td>\n",
              "      <td>0</td>\n",
              "      <td>1</td>\n",
              "      <td>0</td>\n",
              "      <td>1</td>\n",
              "      <td>0</td>\n",
              "    </tr>\n",
              "    <tr>\n",
              "      <th>2</th>\n",
              "      <td>329036</td>\n",
              "      <td>40</td>\n",
              "      <td>1</td>\n",
              "      <td>41.0</td>\n",
              "      <td>0</td>\n",
              "      <td>33165.0</td>\n",
              "      <td>124.0</td>\n",
              "      <td>188</td>\n",
              "      <td>1</td>\n",
              "      <td>0</td>\n",
              "      <td>1</td>\n",
              "      <td>0</td>\n",
              "      <td>0</td>\n",
              "      <td>0</td>\n",
              "      <td>1</td>\n",
              "    </tr>\n",
              "    <tr>\n",
              "      <th>3</th>\n",
              "      <td>227288</td>\n",
              "      <td>28</td>\n",
              "      <td>1</td>\n",
              "      <td>30.0</td>\n",
              "      <td>1</td>\n",
              "      <td>29038.0</td>\n",
              "      <td>152.0</td>\n",
              "      <td>233</td>\n",
              "      <td>1</td>\n",
              "      <td>0</td>\n",
              "      <td>0</td>\n",
              "      <td>1</td>\n",
              "      <td>0</td>\n",
              "      <td>1</td>\n",
              "      <td>0</td>\n",
              "    </tr>\n",
              "    <tr>\n",
              "      <th>4</th>\n",
              "      <td>300441</td>\n",
              "      <td>50</td>\n",
              "      <td>1</td>\n",
              "      <td>28.0</td>\n",
              "      <td>0</td>\n",
              "      <td>31325.0</td>\n",
              "      <td>124.0</td>\n",
              "      <td>258</td>\n",
              "      <td>1</td>\n",
              "      <td>0</td>\n",
              "      <td>1</td>\n",
              "      <td>0</td>\n",
              "      <td>0</td>\n",
              "      <td>0</td>\n",
              "      <td>1</td>\n",
              "    </tr>\n",
              "    <tr>\n",
              "      <th>...</th>\n",
              "      <td>...</td>\n",
              "      <td>...</td>\n",
              "      <td>...</td>\n",
              "      <td>...</td>\n",
              "      <td>...</td>\n",
              "      <td>...</td>\n",
              "      <td>...</td>\n",
              "      <td>...</td>\n",
              "      <td>...</td>\n",
              "      <td>...</td>\n",
              "      <td>...</td>\n",
              "      <td>...</td>\n",
              "      <td>...</td>\n",
              "      <td>...</td>\n",
              "      <td>...</td>\n",
              "    </tr>\n",
              "    <tr>\n",
              "      <th>304882</th>\n",
              "      <td>351529</td>\n",
              "      <td>75</td>\n",
              "      <td>1</td>\n",
              "      <td>33.0</td>\n",
              "      <td>0</td>\n",
              "      <td>32412.0</td>\n",
              "      <td>26.0</td>\n",
              "      <td>296</td>\n",
              "      <td>0</td>\n",
              "      <td>1</td>\n",
              "      <td>1</td>\n",
              "      <td>0</td>\n",
              "      <td>0</td>\n",
              "      <td>0</td>\n",
              "      <td>1</td>\n",
              "    </tr>\n",
              "    <tr>\n",
              "      <th>304883</th>\n",
              "      <td>287917</td>\n",
              "      <td>57</td>\n",
              "      <td>1</td>\n",
              "      <td>28.0</td>\n",
              "      <td>1</td>\n",
              "      <td>44602.0</td>\n",
              "      <td>52.0</td>\n",
              "      <td>135</td>\n",
              "      <td>0</td>\n",
              "      <td>1</td>\n",
              "      <td>1</td>\n",
              "      <td>0</td>\n",
              "      <td>0</td>\n",
              "      <td>1</td>\n",
              "      <td>0</td>\n",
              "    </tr>\n",
              "    <tr>\n",
              "      <th>304884</th>\n",
              "      <td>21023</td>\n",
              "      <td>40</td>\n",
              "      <td>1</td>\n",
              "      <td>35.0</td>\n",
              "      <td>0</td>\n",
              "      <td>38779.0</td>\n",
              "      <td>26.0</td>\n",
              "      <td>293</td>\n",
              "      <td>1</td>\n",
              "      <td>0</td>\n",
              "      <td>1</td>\n",
              "      <td>0</td>\n",
              "      <td>0</td>\n",
              "      <td>0</td>\n",
              "      <td>1</td>\n",
              "    </tr>\n",
              "    <tr>\n",
              "      <th>304885</th>\n",
              "      <td>67340</td>\n",
              "      <td>24</td>\n",
              "      <td>1</td>\n",
              "      <td>41.0</td>\n",
              "      <td>0</td>\n",
              "      <td>26669.0</td>\n",
              "      <td>152.0</td>\n",
              "      <td>29</td>\n",
              "      <td>0</td>\n",
              "      <td>1</td>\n",
              "      <td>0</td>\n",
              "      <td>1</td>\n",
              "      <td>0</td>\n",
              "      <td>0</td>\n",
              "      <td>1</td>\n",
              "    </tr>\n",
              "    <tr>\n",
              "      <th>304886</th>\n",
              "      <td>127164</td>\n",
              "      <td>22</td>\n",
              "      <td>1</td>\n",
              "      <td>50.0</td>\n",
              "      <td>1</td>\n",
              "      <td>35063.0</td>\n",
              "      <td>152.0</td>\n",
              "      <td>184</td>\n",
              "      <td>1</td>\n",
              "      <td>0</td>\n",
              "      <td>0</td>\n",
              "      <td>1</td>\n",
              "      <td>0</td>\n",
              "      <td>1</td>\n",
              "      <td>0</td>\n",
              "    </tr>\n",
              "  </tbody>\n",
              "</table>\n",
              "<p>304887 rows × 15 columns</p>\n",
              "</div>"
            ],
            "text/plain": [
              "            id  Age  ...  Vehicle_Damage_No  Vehicle_Damage_Yes\n",
              "0       188957   25  ...                  1                   0\n",
              "1       275631   20  ...                  1                   0\n",
              "2       329036   40  ...                  0                   1\n",
              "3       227288   28  ...                  1                   0\n",
              "4       300441   50  ...                  0                   1\n",
              "...        ...  ...  ...                ...                 ...\n",
              "304882  351529   75  ...                  0                   1\n",
              "304883  287917   57  ...                  1                   0\n",
              "304884   21023   40  ...                  0                   1\n",
              "304885   67340   24  ...                  0                   1\n",
              "304886  127164   22  ...                  1                   0\n",
              "\n",
              "[304887 rows x 15 columns]"
            ]
          },
          "metadata": {},
          "execution_count": 57
        }
      ]
    },
    {
      "cell_type": "code",
      "metadata": {
        "id": "c1nBsE83Wlht"
      },
      "source": [
        "#필요없는 컬럼 제거 후에 스케일링(MinMaxScaler)\n",
        "\n",
        "drop_col = [\"id\"]\n",
        "X = X.drop(drop_col, axis=1)\n",
        "test = test.drop(drop_col, axis=1)\n",
        "\n",
        "from sklearn.preprocessing import MinMaxScaler\n",
        "\n",
        "scaler = MinMaxScaler()\n",
        "\n",
        "X = scaler.fit_transform(X)\n",
        "test = scaler.fit_transform(test)"
      ],
      "execution_count": 58,
      "outputs": []
    },
    {
      "cell_type": "code",
      "metadata": {
        "colab": {
          "base_uri": "https://localhost:8080/"
        },
        "id": "wb6aIsTiXxSJ",
        "outputId": "4998d2c5-7106-4f50-ace3-d2f1320f69a3"
      },
      "source": [
        "#훈련데이터, 테스트데이터 분리\n",
        "from sklearn.model_selection import train_test_split\n",
        "\n",
        "X_train, X_test, y_train, y_test = train_test_split(X, y, test_size=0.33, random_state=42, stratify=y)\n",
        "\n",
        "#모델링\n",
        "from sklearn.ensemble import RandomForestClassifier\n",
        "\n",
        "rf = RandomForestClassifier()\n",
        "\n",
        "rf.fit(X_train,y_train)\n",
        "\n",
        "y_pred = rf.predict(X_test)\n",
        "\n",
        "#평가\n",
        "from sklearn.metrics import f1_score\n",
        "\n",
        "print(f1_score(y_test, y_pred))"
      ],
      "execution_count": 59,
      "outputs": [
        {
          "output_type": "stream",
          "name": "stderr",
          "text": [
            "/usr/local/lib/python3.7/dist-packages/ipykernel_launcher.py:11: DataConversionWarning: A column-vector y was passed when a 1d array was expected. Please change the shape of y to (n_samples,), for example using ravel().\n",
            "  # This is added back by InteractiveShellApp.init_path()\n"
          ]
        },
        {
          "output_type": "stream",
          "name": "stdout",
          "text": [
            "0.1822818628939219\n"
          ]
        }
      ]
    },
    {
      "cell_type": "code",
      "metadata": {
        "id": "vgGZ-UpqYcS5"
      },
      "source": [
        "#제출\n",
        "pred = rf.predict(test)\n",
        "\n",
        "submission[\"0\"] = pred\n",
        "\n",
        "submission.to_csv(\"수험번호.csv\", index=False)"
      ],
      "execution_count": 63,
      "outputs": []
    }
  ]
}