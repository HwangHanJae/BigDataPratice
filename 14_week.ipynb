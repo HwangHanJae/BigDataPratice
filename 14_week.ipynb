{
  "nbformat": 4,
  "nbformat_minor": 0,
  "metadata": {
    "colab": {
      "name": "14_week.ipynb",
      "provenance": [],
      "collapsed_sections": [],
      "authorship_tag": "ABX9TyN5P/ouC+40RyKDrr26gBNi",
      "include_colab_link": true
    },
    "kernelspec": {
      "name": "python3",
      "display_name": "Python 3"
    },
    "language_info": {
      "name": "python"
    }
  },
  "cells": [
    {
      "cell_type": "markdown",
      "metadata": {
        "id": "view-in-github",
        "colab_type": "text"
      },
      "source": [
        "<a href=\"https://colab.research.google.com/github/HwangHanJae/BigDataPratice/blob/main/14_week.ipynb\" target=\"_parent\"><img src=\"https://colab.research.google.com/assets/colab-badge.svg\" alt=\"Open In Colab\"/></a>"
      ]
    },
    {
      "cell_type": "markdown",
      "metadata": {
        "id": "GAwbUFBrnwy4"
      },
      "source": [
        "#작업형1"
      ]
    },
    {
      "cell_type": "markdown",
      "metadata": {
        "id": "k0qGZgQYn0oh"
      },
      "source": [
        "데이터 출처 : https://www.kaggle.com/unsdsn/world-happiness\n",
        "\n",
        "(참고, 데이터 수정)\n",
        "\n",
        "데이터 설명 : 전세계 행복도 지표 조사\n",
        "\n",
        "data url = \"https://raw.githubusercontent.com/Datamanim/datarepo/main/happy2/happiness.csv\""
      ]
    },
    {
      "cell_type": "code",
      "metadata": {
        "colab": {
          "base_uri": "https://localhost:8080/",
          "height": 206
        },
        "id": "kOZ6A9RTGByI",
        "outputId": "e640d365-67f0-4efd-e0f1-f481780ee019"
      },
      "source": [
        "import pandas as pd\n",
        "\n",
        "df = pd.read_csv(\"https://raw.githubusercontent.com/Datamanim/datarepo/main/happy2/happiness.csv\")\n",
        "\n",
        "df.head()"
      ],
      "execution_count": 3,
      "outputs": [
        {
          "output_type": "execute_result",
          "data": {
            "text/html": [
              "<div>\n",
              "<style scoped>\n",
              "    .dataframe tbody tr th:only-of-type {\n",
              "        vertical-align: middle;\n",
              "    }\n",
              "\n",
              "    .dataframe tbody tr th {\n",
              "        vertical-align: top;\n",
              "    }\n",
              "\n",
              "    .dataframe thead th {\n",
              "        text-align: right;\n",
              "    }\n",
              "</style>\n",
              "<table border=\"1\" class=\"dataframe\">\n",
              "  <thead>\n",
              "    <tr style=\"text-align: right;\">\n",
              "      <th></th>\n",
              "      <th>행복랭킹</th>\n",
              "      <th>나라명</th>\n",
              "      <th>점수</th>\n",
              "      <th>상대GDP</th>\n",
              "      <th>사회적지원</th>\n",
              "      <th>행복기대치</th>\n",
              "      <th>선택의 자유도</th>\n",
              "      <th>관대함</th>\n",
              "      <th>부패에 대한인식</th>\n",
              "      <th>년도</th>\n",
              "    </tr>\n",
              "  </thead>\n",
              "  <tbody>\n",
              "    <tr>\n",
              "      <th>0</th>\n",
              "      <td>1</td>\n",
              "      <td>Finland</td>\n",
              "      <td>7.769</td>\n",
              "      <td>1.340</td>\n",
              "      <td>1.587</td>\n",
              "      <td>0.986</td>\n",
              "      <td>0.596</td>\n",
              "      <td>0.153</td>\n",
              "      <td>0.393</td>\n",
              "      <td>2019</td>\n",
              "    </tr>\n",
              "    <tr>\n",
              "      <th>1</th>\n",
              "      <td>2</td>\n",
              "      <td>Denmark</td>\n",
              "      <td>7.600</td>\n",
              "      <td>1.383</td>\n",
              "      <td>1.573</td>\n",
              "      <td>0.996</td>\n",
              "      <td>0.592</td>\n",
              "      <td>0.252</td>\n",
              "      <td>0.410</td>\n",
              "      <td>2019</td>\n",
              "    </tr>\n",
              "    <tr>\n",
              "      <th>2</th>\n",
              "      <td>3</td>\n",
              "      <td>Norway</td>\n",
              "      <td>7.554</td>\n",
              "      <td>1.488</td>\n",
              "      <td>1.582</td>\n",
              "      <td>1.028</td>\n",
              "      <td>0.603</td>\n",
              "      <td>0.271</td>\n",
              "      <td>0.341</td>\n",
              "      <td>2019</td>\n",
              "    </tr>\n",
              "    <tr>\n",
              "      <th>3</th>\n",
              "      <td>4</td>\n",
              "      <td>Iceland</td>\n",
              "      <td>7.494</td>\n",
              "      <td>1.380</td>\n",
              "      <td>1.624</td>\n",
              "      <td>1.026</td>\n",
              "      <td>0.591</td>\n",
              "      <td>0.354</td>\n",
              "      <td>0.118</td>\n",
              "      <td>2019</td>\n",
              "    </tr>\n",
              "    <tr>\n",
              "      <th>4</th>\n",
              "      <td>5</td>\n",
              "      <td>Netherlands</td>\n",
              "      <td>7.488</td>\n",
              "      <td>1.396</td>\n",
              "      <td>1.522</td>\n",
              "      <td>0.999</td>\n",
              "      <td>0.557</td>\n",
              "      <td>0.322</td>\n",
              "      <td>0.298</td>\n",
              "      <td>2019</td>\n",
              "    </tr>\n",
              "  </tbody>\n",
              "</table>\n",
              "</div>"
            ],
            "text/plain": [
              "   행복랭킹          나라명     점수  상대GDP  ...  선택의 자유도    관대함  부패에 대한인식    년도\n",
              "0     1      Finland  7.769  1.340  ...    0.596  0.153     0.393  2019\n",
              "1     2      Denmark  7.600  1.383  ...    0.592  0.252     0.410  2019\n",
              "2     3       Norway  7.554  1.488  ...    0.603  0.271     0.341  2019\n",
              "3     4      Iceland  7.494  1.380  ...    0.591  0.354     0.118  2019\n",
              "4     5  Netherlands  7.488  1.396  ...    0.557  0.322     0.298  2019\n",
              "\n",
              "[5 rows x 10 columns]"
            ]
          },
          "metadata": {},
          "execution_count": 3
        }
      ]
    },
    {
      "cell_type": "markdown",
      "metadata": {
        "id": "O-YtySftnzmj"
      },
      "source": [
        "##Q1.데이터는 2018년도와 2019년도의 전세계 행복 지수를 표현한다.\n",
        "##각년도의 행복랭킹 10위를 차지한 나라의 행복점수의 평균을 구하여라"
      ]
    },
    {
      "cell_type": "code",
      "metadata": {
        "colab": {
          "base_uri": "https://localhost:8080/"
        },
        "id": "NUESbDZeF2_h",
        "outputId": "d28cea9e-9e5e-41e7-afa7-2adcea50ed70"
      },
      "source": [
        "target = df[[\"년도\",\"나라명\",\"행복랭킹\",\"점수\"]].groupby([\"년도\",\"나라명\"]).head()\n",
        "target.loc[target[\"행복랭킹\"] == 10][\"점수\"].mean()"
      ],
      "execution_count": 16,
      "outputs": [
        {
          "output_type": "execute_result",
          "data": {
            "text/plain": [
              "7.259"
            ]
          },
          "metadata": {},
          "execution_count": 16
        }
      ]
    },
    {
      "cell_type": "code",
      "metadata": {
        "colab": {
          "base_uri": "https://localhost:8080/"
        },
        "id": "mdQKq_c4J9ct",
        "outputId": "8987c7f8-d841-489b-db1c-f11a29554b08"
      },
      "source": [
        "result = df[df[\"행복랭킹\"]==10][\"점수\"].mean()\n",
        "result"
      ],
      "execution_count": 19,
      "outputs": [
        {
          "output_type": "execute_result",
          "data": {
            "text/plain": [
              "7.259"
            ]
          },
          "metadata": {},
          "execution_count": 19
        }
      ]
    },
    {
      "cell_type": "markdown",
      "metadata": {
        "id": "72q313Ranzhz"
      },
      "source": [
        "##Q2.데이터는 2018년도와 2019년도의 전세계 행복 지수를 표현한다.\n",
        "##각년도의 행복랭킹 50위이내의 나라들의 각각의 행복점수 평균을 데이터프레임으로 표시하라 "
      ]
    },
    {
      "cell_type": "code",
      "metadata": {
        "colab": {
          "base_uri": "https://localhost:8080/",
          "height": 143
        },
        "id": "5vhhjwAkKPu0",
        "outputId": "6c39486c-3786-48cc-8683-4a2a0a82d0c4"
      },
      "source": [
        "result = df.loc[df[\"행복랭킹\"] <= 50].groupby([\"년도\"])[\"점수\"].mean().to_frame()\n",
        "result.head()"
      ],
      "execution_count": 25,
      "outputs": [
        {
          "output_type": "execute_result",
          "data": {
            "text/html": [
              "<div>\n",
              "<style scoped>\n",
              "    .dataframe tbody tr th:only-of-type {\n",
              "        vertical-align: middle;\n",
              "    }\n",
              "\n",
              "    .dataframe tbody tr th {\n",
              "        vertical-align: top;\n",
              "    }\n",
              "\n",
              "    .dataframe thead th {\n",
              "        text-align: right;\n",
              "    }\n",
              "</style>\n",
              "<table border=\"1\" class=\"dataframe\">\n",
              "  <thead>\n",
              "    <tr style=\"text-align: right;\">\n",
              "      <th></th>\n",
              "      <th>점수</th>\n",
              "    </tr>\n",
              "    <tr>\n",
              "      <th>년도</th>\n",
              "      <th></th>\n",
              "    </tr>\n",
              "  </thead>\n",
              "  <tbody>\n",
              "    <tr>\n",
              "      <th>2018</th>\n",
              "      <td>6.64678</td>\n",
              "    </tr>\n",
              "    <tr>\n",
              "      <th>2019</th>\n",
              "      <td>6.67002</td>\n",
              "    </tr>\n",
              "  </tbody>\n",
              "</table>\n",
              "</div>"
            ],
            "text/plain": [
              "           점수\n",
              "년도           \n",
              "2018  6.64678\n",
              "2019  6.67002"
            ]
          },
          "metadata": {},
          "execution_count": 25
        }
      ]
    },
    {
      "cell_type": "markdown",
      "metadata": {
        "id": "3-2g2_AYnzcC"
      },
      "source": [
        "##Q3. 2018년도 데이터들만 추출하여 행복점수와 부패에 대한 상관계수를 구하여라"
      ]
    },
    {
      "cell_type": "code",
      "metadata": {
        "colab": {
          "base_uri": "https://localhost:8080/",
          "height": 423
        },
        "id": "-JC0lSxVMEdS",
        "outputId": "f4346116-2b54-402b-e7e1-2c258dceebbf"
      },
      "source": [
        ""
      ],
      "execution_count": 38,
      "outputs": [
        {
          "output_type": "execute_result",
          "data": {
            "text/html": [
              "<div>\n",
              "<style scoped>\n",
              "    .dataframe tbody tr th:only-of-type {\n",
              "        vertical-align: middle;\n",
              "    }\n",
              "\n",
              "    .dataframe tbody tr th {\n",
              "        vertical-align: top;\n",
              "    }\n",
              "\n",
              "    .dataframe thead th {\n",
              "        text-align: right;\n",
              "    }\n",
              "</style>\n",
              "<table border=\"1\" class=\"dataframe\">\n",
              "  <thead>\n",
              "    <tr style=\"text-align: right;\">\n",
              "      <th></th>\n",
              "      <th>행복랭킹</th>\n",
              "      <th>나라명</th>\n",
              "      <th>점수</th>\n",
              "      <th>상대GDP</th>\n",
              "      <th>사회적지원</th>\n",
              "      <th>행복기대치</th>\n",
              "      <th>선택의 자유도</th>\n",
              "      <th>관대함</th>\n",
              "      <th>부패에 대한인식</th>\n",
              "      <th>년도</th>\n",
              "    </tr>\n",
              "  </thead>\n",
              "  <tbody>\n",
              "    <tr>\n",
              "      <th>156</th>\n",
              "      <td>1</td>\n",
              "      <td>Finland</td>\n",
              "      <td>7.632</td>\n",
              "      <td>1.305</td>\n",
              "      <td>1.592</td>\n",
              "      <td>0.874</td>\n",
              "      <td>0.681</td>\n",
              "      <td>0.202</td>\n",
              "      <td>0.393</td>\n",
              "      <td>2018</td>\n",
              "    </tr>\n",
              "    <tr>\n",
              "      <th>157</th>\n",
              "      <td>2</td>\n",
              "      <td>Norway</td>\n",
              "      <td>7.594</td>\n",
              "      <td>1.456</td>\n",
              "      <td>1.582</td>\n",
              "      <td>0.861</td>\n",
              "      <td>0.686</td>\n",
              "      <td>0.286</td>\n",
              "      <td>0.340</td>\n",
              "      <td>2018</td>\n",
              "    </tr>\n",
              "    <tr>\n",
              "      <th>158</th>\n",
              "      <td>3</td>\n",
              "      <td>Denmark</td>\n",
              "      <td>7.555</td>\n",
              "      <td>1.351</td>\n",
              "      <td>1.590</td>\n",
              "      <td>0.868</td>\n",
              "      <td>0.683</td>\n",
              "      <td>0.284</td>\n",
              "      <td>0.408</td>\n",
              "      <td>2018</td>\n",
              "    </tr>\n",
              "    <tr>\n",
              "      <th>159</th>\n",
              "      <td>4</td>\n",
              "      <td>Iceland</td>\n",
              "      <td>7.495</td>\n",
              "      <td>1.343</td>\n",
              "      <td>1.644</td>\n",
              "      <td>0.914</td>\n",
              "      <td>0.677</td>\n",
              "      <td>0.353</td>\n",
              "      <td>0.138</td>\n",
              "      <td>2018</td>\n",
              "    </tr>\n",
              "    <tr>\n",
              "      <th>160</th>\n",
              "      <td>5</td>\n",
              "      <td>Switzerland</td>\n",
              "      <td>7.487</td>\n",
              "      <td>1.420</td>\n",
              "      <td>1.549</td>\n",
              "      <td>0.927</td>\n",
              "      <td>0.660</td>\n",
              "      <td>0.256</td>\n",
              "      <td>0.357</td>\n",
              "      <td>2018</td>\n",
              "    </tr>\n",
              "    <tr>\n",
              "      <th>...</th>\n",
              "      <td>...</td>\n",
              "      <td>...</td>\n",
              "      <td>...</td>\n",
              "      <td>...</td>\n",
              "      <td>...</td>\n",
              "      <td>...</td>\n",
              "      <td>...</td>\n",
              "      <td>...</td>\n",
              "      <td>...</td>\n",
              "      <td>...</td>\n",
              "    </tr>\n",
              "    <tr>\n",
              "      <th>307</th>\n",
              "      <td>152</td>\n",
              "      <td>Yemen</td>\n",
              "      <td>3.355</td>\n",
              "      <td>0.442</td>\n",
              "      <td>1.073</td>\n",
              "      <td>0.343</td>\n",
              "      <td>0.244</td>\n",
              "      <td>0.083</td>\n",
              "      <td>0.064</td>\n",
              "      <td>2018</td>\n",
              "    </tr>\n",
              "    <tr>\n",
              "      <th>308</th>\n",
              "      <td>153</td>\n",
              "      <td>Tanzania</td>\n",
              "      <td>3.303</td>\n",
              "      <td>0.455</td>\n",
              "      <td>0.991</td>\n",
              "      <td>0.381</td>\n",
              "      <td>0.481</td>\n",
              "      <td>0.270</td>\n",
              "      <td>0.097</td>\n",
              "      <td>2018</td>\n",
              "    </tr>\n",
              "    <tr>\n",
              "      <th>309</th>\n",
              "      <td>154</td>\n",
              "      <td>South Sudan</td>\n",
              "      <td>3.254</td>\n",
              "      <td>0.337</td>\n",
              "      <td>0.608</td>\n",
              "      <td>0.177</td>\n",
              "      <td>0.112</td>\n",
              "      <td>0.224</td>\n",
              "      <td>0.106</td>\n",
              "      <td>2018</td>\n",
              "    </tr>\n",
              "    <tr>\n",
              "      <th>310</th>\n",
              "      <td>155</td>\n",
              "      <td>Central African Republic</td>\n",
              "      <td>3.083</td>\n",
              "      <td>0.024</td>\n",
              "      <td>0.000</td>\n",
              "      <td>0.010</td>\n",
              "      <td>0.305</td>\n",
              "      <td>0.218</td>\n",
              "      <td>0.038</td>\n",
              "      <td>2018</td>\n",
              "    </tr>\n",
              "    <tr>\n",
              "      <th>311</th>\n",
              "      <td>156</td>\n",
              "      <td>Burundi</td>\n",
              "      <td>2.905</td>\n",
              "      <td>0.091</td>\n",
              "      <td>0.627</td>\n",
              "      <td>0.145</td>\n",
              "      <td>0.065</td>\n",
              "      <td>0.149</td>\n",
              "      <td>0.076</td>\n",
              "      <td>2018</td>\n",
              "    </tr>\n",
              "  </tbody>\n",
              "</table>\n",
              "<p>156 rows × 10 columns</p>\n",
              "</div>"
            ],
            "text/plain": [
              "     행복랭킹                       나라명     점수  ...    관대함  부패에 대한인식    년도\n",
              "156     1                   Finland  7.632  ...  0.202     0.393  2018\n",
              "157     2                    Norway  7.594  ...  0.286     0.340  2018\n",
              "158     3                   Denmark  7.555  ...  0.284     0.408  2018\n",
              "159     4                   Iceland  7.495  ...  0.353     0.138  2018\n",
              "160     5               Switzerland  7.487  ...  0.256     0.357  2018\n",
              "..    ...                       ...    ...  ...    ...       ...   ...\n",
              "307   152                     Yemen  3.355  ...  0.083     0.064  2018\n",
              "308   153                  Tanzania  3.303  ...  0.270     0.097  2018\n",
              "309   154               South Sudan  3.254  ...  0.224     0.106  2018\n",
              "310   155  Central African Republic  3.083  ...  0.218     0.038  2018\n",
              "311   156                   Burundi  2.905  ...  0.149     0.076  2018\n",
              "\n",
              "[156 rows x 10 columns]"
            ]
          },
          "metadata": {},
          "execution_count": 38
        }
      ]
    },
    {
      "cell_type": "code",
      "metadata": {
        "colab": {
          "base_uri": "https://localhost:8080/",
          "height": 81
        },
        "id": "ndJDtgNML9q8",
        "outputId": "a64cf729-4273-4628-816a-d61f4311f5f5"
      },
      "source": [
        "target.loc[target[\"부패에 대한인식\"].isnull()]"
      ],
      "execution_count": 37,
      "outputs": [
        {
          "output_type": "execute_result",
          "data": {
            "text/html": [
              "<div>\n",
              "<style scoped>\n",
              "    .dataframe tbody tr th:only-of-type {\n",
              "        vertical-align: middle;\n",
              "    }\n",
              "\n",
              "    .dataframe tbody tr th {\n",
              "        vertical-align: top;\n",
              "    }\n",
              "\n",
              "    .dataframe thead th {\n",
              "        text-align: right;\n",
              "    }\n",
              "</style>\n",
              "<table border=\"1\" class=\"dataframe\">\n",
              "  <thead>\n",
              "    <tr style=\"text-align: right;\">\n",
              "      <th></th>\n",
              "      <th>행복랭킹</th>\n",
              "      <th>나라명</th>\n",
              "      <th>점수</th>\n",
              "      <th>상대GDP</th>\n",
              "      <th>사회적지원</th>\n",
              "      <th>행복기대치</th>\n",
              "      <th>선택의 자유도</th>\n",
              "      <th>관대함</th>\n",
              "      <th>부패에 대한인식</th>\n",
              "      <th>년도</th>\n",
              "    </tr>\n",
              "  </thead>\n",
              "  <tbody>\n",
              "    <tr>\n",
              "      <th>175</th>\n",
              "      <td>20</td>\n",
              "      <td>United Arab Emirates</td>\n",
              "      <td>6.774</td>\n",
              "      <td>2.096</td>\n",
              "      <td>0.776</td>\n",
              "      <td>0.67</td>\n",
              "      <td>0.284</td>\n",
              "      <td>0.186</td>\n",
              "      <td>NaN</td>\n",
              "      <td>2018</td>\n",
              "    </tr>\n",
              "  </tbody>\n",
              "</table>\n",
              "</div>"
            ],
            "text/plain": [
              "     행복랭킹                   나라명     점수  상대GDP  ...  선택의 자유도    관대함  부패에 대한인식    년도\n",
              "175    20  United Arab Emirates  6.774  2.096  ...    0.284  0.186       NaN  2018\n",
              "\n",
              "[1 rows x 10 columns]"
            ]
          },
          "metadata": {},
          "execution_count": 37
        }
      ]
    },
    {
      "cell_type": "code",
      "metadata": {
        "colab": {
          "base_uri": "https://localhost:8080/"
        },
        "id": "W8ZDKr90LScs",
        "outputId": "d8c4ff5d-a76c-4f3c-da65-bcb289453b83"
      },
      "source": [
        "target = df.loc[df[\"년도\"]==2018]\n",
        "\n",
        "target[[\"점수\",\"부패에 대한인식\"]].corr().iloc[0,1]\n",
        "\n",
        "#import scipy.stats as stats\n",
        "\n",
        "#stats.pearsonr(target[\"점수\"], target[\"부패에 대한인식\"].fillna(target[\"부패에 대한인식\"].mean()))"
      ],
      "execution_count": 42,
      "outputs": [
        {
          "output_type": "execute_result",
          "data": {
            "text/plain": [
              "0.4052915227150998"
            ]
          },
          "metadata": {},
          "execution_count": 42
        }
      ]
    },
    {
      "cell_type": "markdown",
      "metadata": {
        "id": "hl05GDy0nzX3"
      },
      "source": [
        "##Q4. 2018년도와 2019년도의 행복랭킹이 변화하지 않은 나라명의 수를 구하여라"
      ]
    },
    {
      "cell_type": "code",
      "metadata": {
        "colab": {
          "base_uri": "https://localhost:8080/"
        },
        "id": "pbsnkL2OMWTS",
        "outputId": "e9afc38f-7bed-49b4-fcf4-dffac564bce0"
      },
      "source": [
        "df_2018 = df.loc[df[\"년도\"] == 2018][[\"행복랭킹\",\"나라명\"]].reset_index(drop=True)\n",
        "df_2019 = df.loc[df[\"년도\"] == 2019][[\"행복랭킹\",\"나라명\"]].reset_index(drop=True)\n",
        "\n",
        "#display(df_2018)\n",
        "#display(df_2019)\n",
        "check = []\n",
        "for i in range(len(df_2019)):\n",
        "  if df_2018[\"행복랭킹\"].iloc[i] == df_2019[\"행복랭킹\"].iloc[i]:\n",
        "    if df_2018[\"나라명\"].iloc[i] == df_2019[\"나라명\"].iloc[i]:\n",
        "      check.append(df_2019[\"나라명\"].iloc[i])\n",
        "\n",
        "len(check)"
      ],
      "execution_count": 77,
      "outputs": [
        {
          "output_type": "execute_result",
          "data": {
            "text/plain": [
              "15"
            ]
          },
          "metadata": {},
          "execution_count": 77
        }
      ]
    },
    {
      "cell_type": "code",
      "metadata": {
        "colab": {
          "base_uri": "https://localhost:8080/"
        },
        "id": "S7kNQAEeQWGh",
        "outputId": "545d28d7-d79b-47b1-a87b-fe35b2ccdceb"
      },
      "source": [
        "#Answer\n",
        "#전체길이 - 중복을 제거한 길이(중복된 행이 2018 == 2019) == 중복된 행의 길이\n",
        "result = len(df[[\"행복랭킹\",\"나라명\"]]) - len(df[[\"행복랭킹\",\"나라명\"]].drop_duplicates())\n",
        "\n",
        "print(result)"
      ],
      "execution_count": 81,
      "outputs": [
        {
          "output_type": "stream",
          "name": "stdout",
          "text": [
            "15\n"
          ]
        }
      ]
    },
    {
      "cell_type": "markdown",
      "metadata": {
        "id": "UbkkWzmcnzSG"
      },
      "source": [
        "##Q5. 2019년도 데이터들만 추출하여 각변수간 상관계수를 구하고 내림차순으로 정렬한 후 상위 5개를 데이터 프레임으로 출력하라, 컬럼명은 v1,v2,corr으로 표시하라"
      ]
    },
    {
      "cell_type": "code",
      "metadata": {
        "colab": {
          "base_uri": "https://localhost:8080/",
          "height": 206
        },
        "id": "PI31gbD9REHO",
        "outputId": "9785e090-729d-4d0c-9ea6-cb5b9d748de8"
      },
      "source": [
        "#2018년도 데이터들만 추출\n",
        "df_2019 = df.loc[df[\"년도\"] == 2019]\n",
        "#각변수간 상관관계 \n",
        "target_corr = df_2019.corr()\n",
        "#내림차순으로 정렬 후 상위 5개를 데이터 프레임으로 출력\n",
        "target = target_corr.unstack().dropna().to_frame().reset_index().sort_values(0, ascending=False)\n",
        "target = target.loc[target[0] != 1.0].drop_duplicates(0).head(5)\n",
        "result = target.rename(columns={\"level_0\" : \"v1\", \"level_1\" : \"v2\", 0 : \"corr\"})\n",
        "\n",
        "result"
      ],
      "execution_count": 125,
      "outputs": [
        {
          "output_type": "execute_result",
          "data": {
            "text/html": [
              "<div>\n",
              "<style scoped>\n",
              "    .dataframe tbody tr th:only-of-type {\n",
              "        vertical-align: middle;\n",
              "    }\n",
              "\n",
              "    .dataframe tbody tr th {\n",
              "        vertical-align: top;\n",
              "    }\n",
              "\n",
              "    .dataframe thead th {\n",
              "        text-align: right;\n",
              "    }\n",
              "</style>\n",
              "<table border=\"1\" class=\"dataframe\">\n",
              "  <thead>\n",
              "    <tr style=\"text-align: right;\">\n",
              "      <th></th>\n",
              "      <th>v1</th>\n",
              "      <th>v2</th>\n",
              "      <th>corr</th>\n",
              "    </tr>\n",
              "  </thead>\n",
              "  <tbody>\n",
              "    <tr>\n",
              "      <th>34</th>\n",
              "      <td>행복기대치</td>\n",
              "      <td>상대GDP</td>\n",
              "      <td>0.835462</td>\n",
              "    </tr>\n",
              "    <tr>\n",
              "      <th>10</th>\n",
              "      <td>점수</td>\n",
              "      <td>상대GDP</td>\n",
              "      <td>0.793883</td>\n",
              "    </tr>\n",
              "    <tr>\n",
              "      <th>33</th>\n",
              "      <td>행복기대치</td>\n",
              "      <td>점수</td>\n",
              "      <td>0.779883</td>\n",
              "    </tr>\n",
              "    <tr>\n",
              "      <th>11</th>\n",
              "      <td>점수</td>\n",
              "      <td>사회적지원</td>\n",
              "      <td>0.777058</td>\n",
              "    </tr>\n",
              "    <tr>\n",
              "      <th>19</th>\n",
              "      <td>상대GDP</td>\n",
              "      <td>사회적지원</td>\n",
              "      <td>0.754906</td>\n",
              "    </tr>\n",
              "  </tbody>\n",
              "</table>\n",
              "</div>"
            ],
            "text/plain": [
              "       v1     v2      corr\n",
              "34  행복기대치  상대GDP  0.835462\n",
              "10     점수  상대GDP  0.793883\n",
              "33  행복기대치     점수  0.779883\n",
              "11     점수  사회적지원  0.777058\n",
              "19  상대GDP  사회적지원  0.754906"
            ]
          },
          "metadata": {},
          "execution_count": 125
        }
      ]
    },
    {
      "cell_type": "markdown",
      "metadata": {
        "id": "Kq_cO3dOnzNw"
      },
      "source": [
        "##Q6. 각 년도별 하위 행복점수의 하위 5개 국가의 평균 행복점수를 구하여라"
      ]
    },
    {
      "cell_type": "code",
      "metadata": {
        "colab": {
          "base_uri": "https://localhost:8080/"
        },
        "id": "Hqzfg3kPUnSU",
        "outputId": "be318d58-e64b-4729-bd94-0e555823f507"
      },
      "source": [
        "df_2018 = df.loc[df[\"년도\"] == 2018]\n",
        "df_2019 = df.loc[df[\"년도\"] == 2019]\n",
        "\n",
        "mean_2018 = df_2018.sort_values(\"점수\").head(5)[\"점수\"].mean()\n",
        "mean_2019 = df_2019.sort_values(\"점수\").head(5)[\"점수\"].mean()\n",
        "\n",
        "print(\"2018 : \", mean_2018)\n",
        "print(\"2019 : \", mean_2019)"
      ],
      "execution_count": 143,
      "outputs": [
        {
          "output_type": "stream",
          "name": "stdout",
          "text": [
            "2018 :  3.1799999999999997\n",
            "2019 :  3.1407999999999996\n"
          ]
        }
      ]
    },
    {
      "cell_type": "code",
      "metadata": {
        "colab": {
          "base_uri": "https://localhost:8080/",
          "height": 143
        },
        "id": "HjluVCYKW05S",
        "outputId": "3032b78b-9f21-498f-b9ea-cad2d8c74217"
      },
      "source": [
        "#Answer\n",
        "result = df.groupby(\"년도\").tail(5).groupby(\"년도\").mean()[[\"점수\"]]\n",
        "\n",
        "result\n"
      ],
      "execution_count": 146,
      "outputs": [
        {
          "output_type": "execute_result",
          "data": {
            "text/html": [
              "<div>\n",
              "<style scoped>\n",
              "    .dataframe tbody tr th:only-of-type {\n",
              "        vertical-align: middle;\n",
              "    }\n",
              "\n",
              "    .dataframe tbody tr th {\n",
              "        vertical-align: top;\n",
              "    }\n",
              "\n",
              "    .dataframe thead th {\n",
              "        text-align: right;\n",
              "    }\n",
              "</style>\n",
              "<table border=\"1\" class=\"dataframe\">\n",
              "  <thead>\n",
              "    <tr style=\"text-align: right;\">\n",
              "      <th></th>\n",
              "      <th>점수</th>\n",
              "    </tr>\n",
              "    <tr>\n",
              "      <th>년도</th>\n",
              "      <th></th>\n",
              "    </tr>\n",
              "  </thead>\n",
              "  <tbody>\n",
              "    <tr>\n",
              "      <th>2018</th>\n",
              "      <td>3.1800</td>\n",
              "    </tr>\n",
              "    <tr>\n",
              "      <th>2019</th>\n",
              "      <td>3.1408</td>\n",
              "    </tr>\n",
              "  </tbody>\n",
              "</table>\n",
              "</div>"
            ],
            "text/plain": [
              "          점수\n",
              "년도          \n",
              "2018  3.1800\n",
              "2019  3.1408"
            ]
          },
          "metadata": {},
          "execution_count": 146
        }
      ]
    },
    {
      "cell_type": "markdown",
      "metadata": {
        "id": "stAWMSK2nzHN"
      },
      "source": [
        "##Q7. 2019년 데이터를 추출하고 해당데이터의 상대 GDP 평균 이상의 나라들과 평균 이하의 나라들의 행복점수 평균을 각각 구하고 그 차이값을 출력하라"
      ]
    },
    {
      "cell_type": "code",
      "metadata": {
        "colab": {
          "base_uri": "https://localhost:8080/"
        },
        "id": "Cr3a8hkdXM7C",
        "outputId": "6948254b-78ea-4686-dde8-96f1fe0531b1"
      },
      "source": [
        "#2019년 데이터 추출\n",
        "df_2019 = df.loc[df[\"년도\"] == 2019]\n",
        "#상대 GDP 평균 이상의 나라들 평균\n",
        "df_2019_high = df_2019.loc[df_2019[\"상대GDP\"] >= df_2019[\"상대GDP\"].mean()][\"점수\"].mean()\n",
        "#상대 GDP 평균 이하의 나라들 평균\n",
        "df_2019_low = df_2019.loc[df_2019[\"상대GDP\"] <= df_2019[\"상대GDP\"].mean()][\"점수\"].mean()\n",
        "\n",
        "print(\"상대 GDP 평균 이상의 나라들 행복점수 평균 : \", df_2019_high)\n",
        "print(\"상대 GDP 평균 이하의 나라들 행복점수 평균 : \", df_2019_low)\n",
        "print(\"차이값 : \", df_2019_high-df_2019_low)"
      ],
      "execution_count": 151,
      "outputs": [
        {
          "output_type": "stream",
          "name": "stdout",
          "text": [
            "상대 GDP 평균 이상의 나라들 행복점수 평균 :  6.013204545454547\n",
            "상대 GDP 평균 이하의 나라들 행복점수 평균 :  4.622720588235293\n",
            "차이값 :  1.3904839572192547\n"
          ]
        }
      ]
    },
    {
      "cell_type": "markdown",
      "metadata": {
        "id": "9FIxG7FCnzAy"
      },
      "source": [
        "##Q8. 각 년도의 부패에 대한 인식을 내림차순으로 정렬했을 때 상위 20개 국가의 부패에 대한 인식의 평균을 구하여라"
      ]
    },
    {
      "cell_type": "code",
      "metadata": {
        "colab": {
          "base_uri": "https://localhost:8080/",
          "height": 143
        },
        "id": "bgfXgPD9YSXu",
        "outputId": "58ea5de6-fbcd-458e-c1d7-8dab1c245678"
      },
      "source": [
        "df.sort_values(\"부패에 대한인식\", ascending=False).groupby(\"년도\").head(20).groupby([\"년도\"]).mean()[[\"부패에 대한인식\"]]"
      ],
      "execution_count": 174,
      "outputs": [
        {
          "output_type": "execute_result",
          "data": {
            "text/html": [
              "<div>\n",
              "<style scoped>\n",
              "    .dataframe tbody tr th:only-of-type {\n",
              "        vertical-align: middle;\n",
              "    }\n",
              "\n",
              "    .dataframe tbody tr th {\n",
              "        vertical-align: top;\n",
              "    }\n",
              "\n",
              "    .dataframe thead th {\n",
              "        text-align: right;\n",
              "    }\n",
              "</style>\n",
              "<table border=\"1\" class=\"dataframe\">\n",
              "  <thead>\n",
              "    <tr style=\"text-align: right;\">\n",
              "      <th></th>\n",
              "      <th>부패에 대한인식</th>\n",
              "    </tr>\n",
              "    <tr>\n",
              "      <th>년도</th>\n",
              "      <th></th>\n",
              "    </tr>\n",
              "  </thead>\n",
              "  <tbody>\n",
              "    <tr>\n",
              "      <th>2018</th>\n",
              "      <td>0.3267</td>\n",
              "    </tr>\n",
              "    <tr>\n",
              "      <th>2019</th>\n",
              "      <td>0.3201</td>\n",
              "    </tr>\n",
              "  </tbody>\n",
              "</table>\n",
              "</div>"
            ],
            "text/plain": [
              "      부패에 대한인식\n",
              "년도            \n",
              "2018    0.3267\n",
              "2019    0.3201"
            ]
          },
          "metadata": {},
          "execution_count": 174
        }
      ]
    },
    {
      "cell_type": "markdown",
      "metadata": {
        "id": "3VjivnXpnylY"
      },
      "source": [
        "##Q9. 2018년도 행복랭킹 50위 이내에 포함됐다가 2019년 50위 밖으로 밀려난 국가의 숫자를 구하여라"
      ]
    },
    {
      "cell_type": "code",
      "metadata": {
        "colab": {
          "base_uri": "https://localhost:8080/"
        },
        "id": "pH7UhPvobYv7",
        "outputId": "ed14d8eb-78a5-4415-81e4-432d883bb3c2"
      },
      "source": [
        "#2018년도 행복랭킹 50위권 이내 포함된 나라\n",
        "df_2018 = df.loc[(df[\"년도\"] == 2018) & (df[\"행복랭킹\"] <= 50)]\n",
        "#2019년도 행복랭킹 50귀권 밖 나라\n",
        "df_2019 = df.loc[(df[\"년도\"] == 2019) & (df[\"행복랭킹\"] >= 50)]\n",
        "check = []\n",
        "for value1 in df_2018[\"나라명\"].values:\n",
        "  for value2 in df_2019[\"나라명\"].values:\n",
        "    if value1 == value2:\n",
        "      check.append(value1)\n",
        "\n",
        "check"
      ],
      "execution_count": 198,
      "outputs": [
        {
          "output_type": "execute_result",
          "data": {
            "text/plain": [
              "['Malaysia', 'Kuwait', 'Thailand', 'Ecuador']"
            ]
          },
          "metadata": {},
          "execution_count": 198
        }
      ]
    },
    {
      "cell_type": "code",
      "metadata": {
        "colab": {
          "base_uri": "https://localhost:8080/"
        },
        "id": "FIw7AeuNc9xp",
        "outputId": "7745dbe1-db1a-4dcf-fc22-1e2918455ae1"
      },
      "source": [
        "#Answer\n",
        "#2018년도 행복랭킹 50위권 이내 포함된 나라\n",
        "df_2018 = set(df.loc[(df[\"년도\"] == 2018) & (df[\"행복랭킹\"] <= 50)][\"나라명\"])\n",
        "#2019년도 행복랭킹 50위권 이내 포함된 나라\n",
        "df_2019 = set(df.loc[(df[\"년도\"] == 2019) & (df[\"행복랭킹\"] <= 50)][\"나라명\"])\n",
        "#둘의 차집합이 50위권 밖으로 밀려난 나라\n",
        "df_2018-df_2019\n"
      ],
      "execution_count": 195,
      "outputs": [
        {
          "output_type": "execute_result",
          "data": {
            "text/plain": [
              "{'Belize', 'Kuwait', 'Malaysia', 'Thailand'}"
            ]
          },
          "metadata": {},
          "execution_count": 195
        }
      ]
    },
    {
      "cell_type": "markdown",
      "metadata": {
        "id": "Jh7nC7r2ntv3"
      },
      "source": [
        "##Q10. 2018년, 2019년 모두 기록이 있는 나라들 중 년도별 행복점수가 가장 증가한 나라와 그 증가 수치는?"
      ]
    },
    {
      "cell_type": "code",
      "metadata": {
        "colab": {
          "base_uri": "https://localhost:8080/",
          "height": 81
        },
        "id": "n4YIyRDifSLH",
        "outputId": "b24e9352-ad8d-41ca-eda3-1511aa14841e"
      },
      "source": [
        "#2018, 2019년 모두 기록이 있는 나라\n",
        "df_2018 = set(df.loc[df[\"년도\"] == 2018][\"나라명\"])\n",
        "df_2019 = set(df.loc[df[\"년도\"] == 2019][\"나라명\"])\n",
        "target = df.loc[df[\"나라명\"].isin(df_2018.intersection(df_2019))]\n",
        "# lst = []\n",
        "# for value1 in df_2018:\n",
        "#   for value2 in df_2019:\n",
        "#     if value1 == value2:\n",
        "#       lst.append(value1)\n",
        "# target=df.loc[df[\"나라명\"].isin(lst)]\n",
        "target_2018 = target.loc[target[\"년도\"] == 2018].sort_values(\"나라명\").reset_index(drop=True)\n",
        "target_2019 = target.loc[target[\"년도\"] == 2019].sort_values(\"나라명\").reset_index(drop=True)\n",
        "\n",
        "columns= {\"나라명\" : target_2019[\"나라명\"].values, \"점수차이\" : target_2019[\"점수\"] - target_2018[\"점수\"]}\n",
        "pd.DataFrame(columns).sort_values(\"점수차이\", ascending=False).head(1)"
      ],
      "execution_count": 234,
      "outputs": [
        {
          "output_type": "execute_result",
          "data": {
            "text/html": [
              "<div>\n",
              "<style scoped>\n",
              "    .dataframe tbody tr th:only-of-type {\n",
              "        vertical-align: middle;\n",
              "    }\n",
              "\n",
              "    .dataframe tbody tr th {\n",
              "        vertical-align: top;\n",
              "    }\n",
              "\n",
              "    .dataframe thead th {\n",
              "        text-align: right;\n",
              "    }\n",
              "</style>\n",
              "<table border=\"1\" class=\"dataframe\">\n",
              "  <thead>\n",
              "    <tr style=\"text-align: right;\">\n",
              "      <th></th>\n",
              "      <th>나라명</th>\n",
              "      <th>점수차이</th>\n",
              "    </tr>\n",
              "  </thead>\n",
              "  <tbody>\n",
              "    <tr>\n",
              "      <th>20</th>\n",
              "      <td>Burundi</td>\n",
              "      <td>0.87</td>\n",
              "    </tr>\n",
              "  </tbody>\n",
              "</table>\n",
              "</div>"
            ],
            "text/plain": [
              "        나라명  점수차이\n",
              "20  Burundi  0.87"
            ]
          },
          "metadata": {},
          "execution_count": 234
        }
      ]
    },
    {
      "cell_type": "code",
      "metadata": {
        "colab": {
          "base_uri": "https://localhost:8080/"
        },
        "id": "lwWtIsmEjA61",
        "outputId": "d734d257-2ae4-474c-9f83-a92c7dd9bdb4"
      },
      "source": [
        "#Answer\n",
        "count = df[\"나라명\"].value_counts()\n",
        "target = count[count>=2].index\n",
        "\n",
        "df2 = df.copy()\n",
        "\n",
        "multiple = df2[df2[\"나라명\"].isin(target)].reset_index(drop=True)\n",
        "multiple.loc[multiple['년도']==2018,'점수'] = multiple[multiple[\"년도\"] ==2018]['점수'].values * (-1)\n",
        "result = multiple.groupby('나라명').sum()[\"점수\"].sort_values().to_frame().iloc[-1]\n",
        "result"
      ],
      "execution_count": 248,
      "outputs": [
        {
          "output_type": "execute_result",
          "data": {
            "text/plain": [
              "점수    0.87\n",
              "Name: Burundi, dtype: float64"
            ]
          },
          "metadata": {},
          "execution_count": 248
        }
      ]
    }
  ]
}