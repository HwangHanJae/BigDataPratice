{
  "nbformat": 4,
  "nbformat_minor": 0,
  "metadata": {
    "colab": {
      "name": "8_week.ipynb",
      "provenance": [],
      "collapsed_sections": [],
      "authorship_tag": "ABX9TyNpvvTfG6Xbx7EkOZAZEmvj",
      "include_colab_link": true
    },
    "kernelspec": {
      "name": "python3",
      "display_name": "Python 3"
    },
    "language_info": {
      "name": "python"
    }
  },
  "cells": [
    {
      "cell_type": "markdown",
      "metadata": {
        "id": "view-in-github",
        "colab_type": "text"
      },
      "source": [
        "<a href=\"https://colab.research.google.com/github/HwangHanJae/BigDataPratice/blob/main/8_week.ipynb\" target=\"_parent\"><img src=\"https://colab.research.google.com/assets/colab-badge.svg\" alt=\"Open In Colab\"/></a>"
      ]
    },
    {
      "cell_type": "markdown",
      "metadata": {
        "id": "sGBdaOty6AD0"
      },
      "source": [
        "#작업형1"
      ]
    },
    {
      "cell_type": "markdown",
      "metadata": {
        "id": "x4-5QTFV6Btw"
      },
      "source": [
        "데이터 출처 :https://www.kaggle.com/kyr7plus/emg-4(참고, 데이터 수정)\n",
        "\n",
        "데이터 설명 : 센서데이터로 동작 유형 분류\n",
        "\n",
        "Data url :https://raw.githubusercontent.com/Datamanim/datarepo/main/muscletrain.csv"
      ]
    },
    {
      "cell_type": "markdown",
      "metadata": {
        "id": "4ST_x3wL8DTH"
      },
      "source": [
        "##Q1. pose값에 따른 각 motion컬럼의 중간값의 가장 큰 차이를 보이는 motion컬럼은 어디이며 그값은?"
      ]
    },
    {
      "cell_type": "code",
      "metadata": {
        "colab": {
          "base_uri": "https://localhost:8080/"
        },
        "id": "WuIwHK3q5u8k",
        "outputId": "18a95a37-cd7d-45c6-ead4-3787d9b1f10e"
      },
      "source": [
        "import pandas as pd\n",
        "\n",
        "df = pd.read_csv(\"https://raw.githubusercontent.com/Datamanim/datarepo/main/muscle/train.csv\")\n",
        "\n",
        "df_t = df.groupby(\"pose\").median().T\n",
        "\n",
        "abs(df_t[0] - df_t[1]).sort_values(ascending=False)\n",
        "\n",
        "#motion_52, motion_62"
      ],
      "execution_count": 14,
      "outputs": [
        {
          "output_type": "execute_result",
          "data": {
            "text/plain": [
              "motion_62    4.0\n",
              "motion_54    4.0\n",
              "motion_46    3.5\n",
              "motion_38    3.0\n",
              "motion_30    3.0\n",
              "            ... \n",
              "motion_32    0.0\n",
              "motion_26    0.0\n",
              "motion_25    0.0\n",
              "motion_24    0.0\n",
              "motion_0     0.0\n",
              "Length: 64, dtype: float64"
            ]
          },
          "metadata": {},
          "execution_count": 14
        }
      ]
    },
    {
      "cell_type": "markdown",
      "metadata": {
        "id": "fMe310N4DZ2k"
      },
      "source": [
        "#작업형2"
      ]
    },
    {
      "cell_type": "markdown",
      "metadata": {
        "id": "PTka7AFHELDj"
      },
      "source": [
        "데이터 출처 :https://www.kaggle.com/kyr7plus/emg-4(참고, 데이터 수정)\n",
        "\n",
        "데이터 설명 : 센서데이터로 동작 유형 분류\n",
        "\n",
        "​평가지표 : f1_scoe\n",
        "\n",
        "trainData url : https://raw.githubusercontent.com/Datamanim/datarepo/main/muscle/train.csv\n",
        "\n",
        "testData url : https://raw.githubusercontent.com/Datamanim/datarepo/main/muscle/test.csv"
      ]
    },
    {
      "cell_type": "code",
      "metadata": {
        "id": "esAcm_igEMPk"
      },
      "source": [
        ""
      ],
      "execution_count": null,
      "outputs": []
    }
  ]
}